{
 "cells": [
  {
   "cell_type": "code",
   "id": "671eacc5e760918f",
   "metadata": {
    "ExecuteTime": {
     "end_time": "2025-05-03T06:10:52.874714Z",
     "start_time": "2025-05-03T06:10:52.867331Z"
    }
   },
   "source": [
    "class Step:\n",
    "    def __init__(self, func):\n",
    "        self.func = func\n",
    "        self.name = func.__name__\n",
    "\n",
    "    def __call__(self, data):\n",
    "        print(f\"[CALL] {self.name}({data})\")\n",
    "        return self.func(data)\n",
    "\n",
    "    def __or__(self, other):\n",
    "        print(f\"[OR] {self.name} | {other.name}\")\n",
    "        return Step(lambda data: other(self(data)))\n",
    "\n",
    "    def __ror__(self, other):\n",
    "        print(f\"[ROR] {other} | {self.name}\")\n",
    "        return self(other)\n",
    "\n",
    "# 예시 함수들\n",
    "@Step\n",
    "def double(x):\n",
    "    return x * 2\n",
    "\n",
    "@Step\n",
    "def increment(x):\n",
    "    return x + 1\n",
    "\n",
    "@Step\n",
    "def to_str(x):\n",
    "    return f\"결과: {x}\""
   ],
   "outputs": [],
   "execution_count": 4
  },
  {
   "metadata": {
    "ExecuteTime": {
     "end_time": "2025-05-03T06:10:53.380371Z",
     "start_time": "2025-05-03T06:10:53.373038Z"
    }
   },
   "cell_type": "code",
   "source": [
    "# 파이프라인 사용 예시\n",
    "result = 3 | double | increment | to_str\n",
    "print(result)  # 출력: 결과: 7"
   ],
   "id": "119b2a6d8a208066",
   "outputs": [
    {
     "name": "stdout",
     "output_type": "stream",
     "text": [
      "[ROR] 3 | double\n",
      "[CALL] double(3)\n",
      "[ROR] 6 | increment\n",
      "[CALL] increment(6)\n",
      "[ROR] 7 | to_str\n",
      "[CALL] to_str(7)\n",
      "결과: 7\n"
     ]
    }
   ],
   "execution_count": 5
  },
  {
   "metadata": {
    "ExecuteTime": {
     "end_time": "2025-05-03T06:11:10.523519Z",
     "start_time": "2025-05-03T06:11:10.518507Z"
    }
   },
   "cell_type": "code",
   "source": [
    "# 파이프라인 구성 시 __or__ 호출 로그 확인\n",
    "pipeline = double | increment\n",
    "# 파이프라인 실행 시 __ror__, __call__ 호출 로그 확인\n",
    "result = 3 | pipeline | to_str\n",
    "print(result)"
   ],
   "id": "b32a85b12b2c32a",
   "outputs": [
    {
     "name": "stdout",
     "output_type": "stream",
     "text": [
      "[OR] double | increment\n",
      "[ROR] 3 | <lambda>\n",
      "[CALL] <lambda>(3)\n",
      "[CALL] double(3)\n",
      "[CALL] increment(6)\n",
      "[ROR] 7 | to_str\n",
      "[CALL] to_str(7)\n",
      "결과: 7\n"
     ]
    }
   ],
   "execution_count": 6
  },
  {
   "metadata": {
    "ExecuteTime": {
     "end_time": "2025-05-03T06:09:32.686115Z",
     "start_time": "2025-05-03T06:09:32.682704Z"
    }
   },
   "cell_type": "code",
   "source": "",
   "id": "c05ba9c78a35dc7a",
   "outputs": [],
   "execution_count": null
  }
 ],
 "metadata": {
  "kernelspec": {
   "display_name": "Python 3",
   "language": "python",
   "name": "python3"
  },
  "language_info": {
   "codemirror_mode": {
    "name": "ipython",
    "version": 2
   },
   "file_extension": ".py",
   "mimetype": "text/x-python",
   "name": "python",
   "nbconvert_exporter": "python",
   "pygments_lexer": "ipython2",
   "version": "2.7.6"
  }
 },
 "nbformat": 4,
 "nbformat_minor": 5
}
