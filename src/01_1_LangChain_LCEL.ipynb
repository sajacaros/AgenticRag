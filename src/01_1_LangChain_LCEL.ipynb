{
 "cells": [
  {
   "cell_type": "code",
   "id": "671eacc5e760918f",
   "metadata": {
    "ExecuteTime": {
     "end_time": "2025-05-17T07:43:38.460834Z",
     "start_time": "2025-05-17T07:43:38.454381Z"
    }
   },
   "source": [
    "class Step:\n",
    "    def __init__(self, func):\n",
    "        self.func = func\n",
    "        self.name = func.__name__\n",
    "\n",
    "    def __call__(self, data):\n",
    "        print(f\"[CALL] {self.name}({data})\")\n",
    "        return self.func(data)\n",
    "\n",
    "    def __or__(self, other):\n",
    "        print(f\"[OR] {self.name} | {other.name}\")\n",
    "        return Step(lambda data: other(self(data)))\n",
    "\n",
    "    def __ror__(self, other):\n",
    "        print(f\"[ROR] {other} | {self.name}\")\n",
    "        return self(other)\n",
    "\n",
    "# 예시 함수들\n",
    "@Step\n",
    "def double(x):\n",
    "    return x * 2\n",
    "\n",
    "@Step\n",
    "def increment(x):\n",
    "    return x + 1\n",
    "\n",
    "@Step\n",
    "def to_str(x):\n",
    "    return f\"결과: {x}\""
   ],
   "outputs": [],
   "execution_count": 1
  },
  {
   "metadata": {
    "ExecuteTime": {
     "end_time": "2025-05-17T07:43:38.490151Z",
     "start_time": "2025-05-17T07:43:38.485264Z"
    }
   },
   "cell_type": "code",
   "source": [
    "# 파이프라인 사용 예시\n",
    "result = 3 | double | increment | to_str\n",
    "print(result)  # 출력: 결과: 7"
   ],
   "id": "119b2a6d8a208066",
   "outputs": [
    {
     "name": "stdout",
     "output_type": "stream",
     "text": [
      "[ROR] 3 | double\n",
      "[CALL] double(3)\n",
      "[ROR] 6 | increment\n",
      "[CALL] increment(6)\n",
      "[ROR] 7 | to_str\n",
      "[CALL] to_str(7)\n",
      "결과: 7\n"
     ]
    }
   ],
   "execution_count": 2
  },
  {
   "metadata": {
    "ExecuteTime": {
     "end_time": "2025-05-17T07:43:38.915603Z",
     "start_time": "2025-05-17T07:43:38.910283Z"
    }
   },
   "cell_type": "code",
   "source": [
    "# 파이프라인 구성 시 __or__ 호출 로그 확인\n",
    "pipeline = double | increment\n",
    "# 파이프라인 실행 시 __ror__, __call__ 호출 로그 확인\n",
    "result = 3 | pipeline | to_str\n",
    "print(result)"
   ],
   "id": "b32a85b12b2c32a",
   "outputs": [
    {
     "name": "stdout",
     "output_type": "stream",
     "text": [
      "[OR] double | increment\n",
      "[ROR] 3 | <lambda>\n",
      "[CALL] <lambda>(3)\n",
      "[CALL] double(3)\n",
      "[CALL] increment(6)\n",
      "[ROR] 7 | to_str\n",
      "[CALL] to_str(7)\n",
      "결과: 7\n"
     ]
    }
   ],
   "execution_count": 3
  },
  {
   "metadata": {
    "ExecuteTime": {
     "end_time": "2025-05-17T07:43:38.925119Z",
     "start_time": "2025-05-17T07:43:38.917355Z"
    }
   },
   "cell_type": "code",
   "source": [
    "class Step2:\n",
    "    def __init__(self, func, name=None):\n",
    "        self.steps = [(func, name or func.__name__)]\n",
    "\n",
    "    def __or__(self, other):\n",
    "        combined = Step2(lambda x: x)  # identity\n",
    "        combined.steps = self.steps + other.steps\n",
    "        return combined\n",
    "\n",
    "    def __ror__(self, other):\n",
    "        data = other\n",
    "        for func, name in self.steps:\n",
    "            print(f\"[CALL] {name}({data})\")\n",
    "            data = func(data)\n",
    "        return data\n",
    "\n",
    "    def __call__(self, data):\n",
    "        return self.__ror__(data)\n",
    "\n",
    "# 예시 함수들\n",
    "@Step2\n",
    "def double2(x):\n",
    "    return x * 2\n",
    "\n",
    "@Step2\n",
    "def increment2(x):\n",
    "    return x + 1\n",
    "\n",
    "@Step2\n",
    "def to_str2(x):\n",
    "    return f\"결과: {x}\""
   ],
   "id": "959aca7d9a7aa20",
   "outputs": [],
   "execution_count": 4
  },
  {
   "metadata": {
    "ExecuteTime": {
     "end_time": "2025-05-17T07:43:38.939379Z",
     "start_time": "2025-05-17T07:43:38.936433Z"
    }
   },
   "cell_type": "code",
   "source": [
    "# 파이프라인 사용 예시\n",
    "result2 = 3 | double2 | increment2 | to_str2\n",
    "print(result2)  # 출력: 결과: 7"
   ],
   "id": "c05ba9c78a35dc7a",
   "outputs": [
    {
     "name": "stdout",
     "output_type": "stream",
     "text": [
      "[CALL] double2(3)\n",
      "[CALL] increment2(6)\n",
      "[CALL] to_str2(7)\n",
      "결과: 7\n"
     ]
    }
   ],
   "execution_count": 5
  },
  {
   "metadata": {
    "ExecuteTime": {
     "end_time": "2025-05-17T07:43:38.960047Z",
     "start_time": "2025-05-17T07:43:38.955611Z"
    }
   },
   "cell_type": "code",
   "source": [
    "# 파이프라인 구성 시 __or__ 호출 로그 확인\n",
    "pipeline2 = double2 | increment2\n",
    "# 파이프라인 실행 시 __ror__, __call__ 호출 로그 확인\n",
    "result2 = 3 | pipeline2 | to_str2\n",
    "print(result2)"
   ],
   "id": "6ce63fabc2a82bf",
   "outputs": [
    {
     "name": "stdout",
     "output_type": "stream",
     "text": [
      "[CALL] double2(3)\n",
      "[CALL] increment2(6)\n",
      "[CALL] to_str2(7)\n",
      "결과: 7\n"
     ]
    }
   ],
   "execution_count": 6
  },
  {
   "metadata": {
    "ExecuteTime": {
     "end_time": "2025-05-17T07:43:39.008305Z",
     "start_time": "2025-05-17T07:43:39.004732Z"
    }
   },
   "cell_type": "code",
   "source": "",
   "id": "ba1fe6a9b8b5efec",
   "outputs": [],
   "execution_count": null
  },
  {
   "metadata": {
    "ExecuteTime": {
     "end_time": "2025-05-17T07:43:39.051054Z",
     "start_time": "2025-05-17T07:43:39.047452Z"
    }
   },
   "cell_type": "code",
   "source": "",
   "id": "f6df743afe0dac33",
   "outputs": [],
   "execution_count": null
  }
 ],
 "metadata": {
  "kernelspec": {
   "display_name": "Python 3",
   "language": "python",
   "name": "python3"
  },
  "language_info": {
   "codemirror_mode": {
    "name": "ipython",
    "version": 2
   },
   "file_extension": ".py",
   "mimetype": "text/x-python",
   "name": "python",
   "nbconvert_exporter": "python",
   "pygments_lexer": "ipython2",
   "version": "2.7.6"
  }
 },
 "nbformat": 4,
 "nbformat_minor": 5
}
