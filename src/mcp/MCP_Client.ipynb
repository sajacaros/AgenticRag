{
 "cells": [
  {
   "metadata": {
    "ExecuteTime": {
     "end_time": "2025-05-17T16:52:30.470751Z",
     "start_time": "2025-05-17T16:52:30.460553Z"
    }
   },
   "cell_type": "code",
   "source": [
    "import dotenv\n",
    "\n",
    "dotenv.load_dotenv()"
   ],
   "id": "ee5a216fe26a5f5f",
   "outputs": [
    {
     "data": {
      "text/plain": [
       "True"
      ]
     },
     "execution_count": 1,
     "metadata": {},
     "output_type": "execute_result"
    }
   ],
   "execution_count": 1
  },
  {
   "metadata": {
    "ExecuteTime": {
     "end_time": "2025-05-17T16:52:34.361557Z",
     "start_time": "2025-05-17T16:52:32.685735Z"
    }
   },
   "cell_type": "code",
   "source": [
    "from langchain_mcp_adapters.client import MultiServerMCPClient\n",
    "from langgraph.prebuilt import create_react_agent\n",
    "\n",
    "client = MultiServerMCPClient(\n",
    "    {\n",
    "        \"search\": {\n",
    "            \"url\": \"http://localhost:8123/sse\",\n",
    "            \"transport\": \"sse\",\n",
    "        }\n",
    "    }\n",
    ")\n",
    "tools = await client.get_tools()\n",
    "for tool in tools:\n",
    "    print(tool)"
   ],
   "id": "5983c37791045e4",
   "outputs": [
    {
     "name": "stdout",
     "output_type": "stream",
     "text": [
      "name='add' description='Add two numbers' args_schema={'properties': {'a': {'title': 'A', 'type': 'integer'}, 'b': {'title': 'B', 'type': 'integer'}}, 'required': ['a', 'b'], 'title': 'addArguments', 'type': 'object'} response_format='content_and_artifact' coroutine=<function convert_mcp_tool_to_langchain_tool.<locals>.call_tool at 0x000001F798CED760>\n",
      "name='web_search' description='\\n    웹 검색 API에 검색 요청을 보냅니다.\\n    ' args_schema={'properties': {'query': {'title': 'Query', 'type': 'string'}}, 'required': ['query'], 'title': 'web_searchArguments', 'type': 'object'} response_format='content_and_artifact' coroutine=<function convert_mcp_tool_to_langchain_tool.<locals>.call_tool at 0x000001F798CEE020>\n",
      "name='blog_search' description='\\n    네이버 블로그 API에 검색 요청을 보냅니다.\\n    ' args_schema={'properties': {'query': {'title': 'Query', 'type': 'string'}}, 'required': ['query'], 'title': 'blog_searchArguments', 'type': 'object'} response_format='content_and_artifact' coroutine=<function convert_mcp_tool_to_langchain_tool.<locals>.call_tool at 0x000001F798CEDB20>\n"
     ]
    }
   ],
   "execution_count": 2
  },
  {
   "metadata": {
    "ExecuteTime": {
     "end_time": "2025-05-17T16:52:38.829196Z",
     "start_time": "2025-05-17T16:52:37.656884Z"
    }
   },
   "cell_type": "code",
   "source": [
    "agent = create_react_agent(\n",
    "    model=\"gpt-4o-mini\",\n",
    "    tools=tools,\n",
    ")"
   ],
   "id": "1858ac4b5afe023d",
   "outputs": [],
   "execution_count": 3
  },
  {
   "metadata": {
    "collapsed": true,
    "ExecuteTime": {
     "end_time": "2025-05-17T16:54:58.933322Z",
     "start_time": "2025-05-17T16:54:46.133179Z"
    }
   },
   "cell_type": "code",
   "source": [
    "results = await agent.ainvoke(\n",
    "    {\"messages\": [{\"role\": \"user\", \"content\": \"IT Trends가 궁금해\"}]}\n",
    ")\n",
    "results"
   ],
   "id": "initial_id",
   "outputs": [
    {
     "data": {
      "text/plain": [
       "{'messages': [HumanMessage(content='IT Trends가 궁금해', additional_kwargs={}, response_metadata={}, id='d85cd782-adc9-40c7-bc97-ef122a04396a'),\n",
       "  AIMessage(content='', additional_kwargs={'tool_calls': [{'id': 'call_kbg8rdqi0C4dDIQyYXs7ozJs', 'function': {'arguments': '{\"query\":\"IT Trends 2024\"}', 'name': 'web_search'}, 'type': 'function'}], 'refusal': None}, response_metadata={'token_usage': {'completion_tokens': 18, 'prompt_tokens': 102, 'total_tokens': 120, 'completion_tokens_details': {'accepted_prediction_tokens': 0, 'audio_tokens': 0, 'reasoning_tokens': 0, 'rejected_prediction_tokens': 0}, 'prompt_tokens_details': {'audio_tokens': 0, 'cached_tokens': 0}}, 'model_name': 'gpt-4o-mini-2024-07-18', 'system_fingerprint': 'fp_54eb4bd693', 'id': 'chatcmpl-BYF65450ui3e3MojiJqPE9F0T1z5I', 'service_tier': 'default', 'finish_reason': 'tool_calls', 'logprobs': None}, id='run--8d02fe50-9f8f-4a31-b6cf-612dfdf2d548-0', tool_calls=[{'name': 'web_search', 'args': {'query': 'IT Trends 2024'}, 'id': 'call_kbg8rdqi0C4dDIQyYXs7ozJs', 'type': 'tool_call'}], usage_metadata={'input_tokens': 102, 'output_tokens': 18, 'total_tokens': 120, 'input_token_details': {'audio': 0, 'cache_read': 0}, 'output_token_details': {'audio': 0, 'reasoning': 0}}),\n",
       "  ToolMessage(content='[\"{\\\\n  \\\\\"title\\\\\": \\\\\"Gartner Top 10 Strategic Technology Trends 2024\\\\\",\\\\n  \\\\\"url\\\\\": \\\\\"https://www.gartner.com/en/articles/gartner-top-10-strategic-technology-trends-for-2024\\\\\",\\\\n  \\\\\"content\\\\\": \\\\\"Facilitating controlled access to quickly evolving digital tools, whether they relate to generative AI, workforce skilling and migration, or other opportunities for augmentation and automation.\\\\\\\\n\\\\\\\\n\\\\\\\\n\\\\\\\\n\\\\\\\\nThe IT trends that fall into this theme are:\\\\\\\\n\\\\\\\\n\\\\\\\\nMachine Customers\\\\\\\\n\\\\\\\\n\\\\\\\\nAugmented Connected Workforce\\\\\\\\n\\\\\\\\n\\\\\\\\nIntelligent Applications\\\\\\\\n\\\\\\\\n\\\\\\\\nSustainable Technology\\\\\\\\n\\\\\\\\n\\\\\\\\nDemocratized Generative AI\\\\\\\\n\\\\\\\\n\\\\\\\\n\\\\\\\\n\\\\\\\\n\\\\\\\\n Share on Facebook Share on X Share on LinkedIn Share by Email [...] Forward-looking. Tailor innovations with reuse in mind while securing your rights (i.e., intellectual property and ownership of creations) and a durable position in the future.\\\\\\\\n\\\\\\\\n\\\\\\\\n\\\\\\\\n\\\\\\\\nThe IT trends that fall into this category are:\\\\\\\\n\\\\\\\\n\\\\\\\\nAI Trust, Risk and Security Management (AI TRiSM)\\\\\\\\n\\\\\\\\n\\\\\\\\nContinuous Threat Exposure Management (CTEM)\\\\\\\\n\\\\\\\\n\\\\\\\\nIndustry Cloud Platforms\\\\\\\\n\\\\\\\\n\\\\\\\\nSustainable Technology\\\\\\\\n\\\\\\\\n\\\\\\\\nDemocratized Generative AI [...] Working closely with business stakeholders to determine software delivery and portfolio life cycle management.\\\\\\\\n\\\\\\\\n\\\\\\\\n\\\\\\\\n\\\\\\\\nThe IT trends that fall into this theme are:\\\\\\\\n\\\\\\\\n\\\\\\\\nPlatform Engineering\\\\\\\\n\\\\\\\\n\\\\\\\\nAI-Augmented Development\\\\\\\\n\\\\\\\\n\\\\\\\\nIndustry Cloud Platforms\\\\\\\\n\\\\\\\\n\\\\\\\\nIntelligent Applications\\\\\\\\n\\\\\\\\n\\\\\\\\nSustainable Technology\\\\\\\\n\\\\\\\\n\\\\\\\\nDemocratized Generative AI\\\\\\\\n\\\\\\\\n\\\\\\\\n\\\\\\\\n\\\\\\\\nBy 2027, 80% of CIOs will have performance metrics tied to the sustainability of the IT organization.\\\\\\\\nSource: Gartner\\\\\\\\nTheme 3: Deliver the value\\\\\"\\\\n}\", \"{\\\\n  \\\\\"title\\\\\": \\\\\"Top 10: Technology Trends of 2024\\\\\",\\\\n  \\\\\"url\\\\\": \\\\\"https://technologymagazine.com/top10/top-10-technology-trends-of-2024\\\\\",\\\\n  \\\\\"content\\\\\": \\\\\"Sustainable technology has moved from a nice-to-have to a must-have in enterprise IT strategy. HPE’s GreenLake platform, for instance, represents a new approach to cloud services that prioritises energy efficiency through optimised hardware utilisation and intelligent power management. The platform allows organisations to monitor and reduce their carbon footprint while maintaining high performance levels. [...] The trend extends beyond energy efficiency to encompass the entire IT lifecycle, including sustainable procurement, responsible disposal of hardware and the use of renewable energy sources for data centres.\\\\\\\\n3. Edge Computing & 5G Enterprise Applications\\\\\\\\nCisco has developed private 5G networks for manufacturing facilities [...] Organisations are moving computing resources closer to data sources to reduce processing delays. Dell Technologies, for instance, markets ruggedised servers for industrial settings where data processing must occur on-site.\\\\\\\\nMeanwhile networking equipment company Cisco has developed private 5G networks for manufacturing facilities. These networks operate independently from public mobile infrastructure and provide dedicated bandwidth for industrial applications.\\\\\"\\\\n}\", \"{\\\\n  \\\\\"title\\\\\": \\\\\"Top 10: Technology trends for 2024 | Technology Magazine\\\\\",\\\\n  \\\\\"url\\\\\": \\\\\"https://technologymagazine.com/top10/top-10-technology-trends-for-2024\\\\\",\\\\n  \\\\\"content\\\\\": \\\\\"“As a result, IT spending on legacy infrastructure will shift to spending on next generation technology and grow rapidly in the next five to 10 years as customers modernise or revamp their IT stack end to end. This includes moving from legacy IT systems to hybrid cloud, adopting more virtualised and interconnected IT environments and eschewing traditional software licences for highly personalised tech on demand.”\\\\\\\\n5: Quantum progress but not quantum leaps [...] In today’s hybrid work environment, people rely on more devices, apps, and services than ever, many of them hosted in the cloud on systems that are physically outside the control of corporate IT. This new landscape requires a zero-trust model.\\\\\\\\nIn the coming year, Chris Peake, CISO and SVP of Security at Smartsheet, predicts that we’ll see organisations add extra layers to their models. [...] “Businesses will also be focused on ensuring IT deployment directly supports or drives business outcomes. We will see more customers adopt IT based on business outcomes that they want to achieve whether it’s top line, bottom line, or to hit specific customer experience, sustainability, throughput, customer acquisition, type of metrics. More businesses will tie their technology adoption to these metrics rather than deploy and maintain technology in a vacuum.\\\\\"\\\\n}\"]', name='web_search', id='76783d51-3669-4c53-a206-21dcf42f1c70', tool_call_id='call_kbg8rdqi0C4dDIQyYXs7ozJs'),\n",
       "  AIMessage(content=\"Here are some key IT trends for 2024 based on recent articles:\\n\\n1. **Gartner's Top 10 Strategic Technology Trends**:\\n   - **Machine Customers**: Utilizing machines to interface and make transactions.\\n   - **Augmented Connected Workforce**: Enhancing collaboration and productivity through technology.\\n   - **Intelligent Applications**: Applications that leverage AI and machine learning for smarter operations.\\n   - **Sustainable Technology**: Emphasizing eco-friendly practices in IT operations.\\n   - **Democratized Generative AI**: Making generative AI tools widely accessible.\\n\\n   For more details, you can read the full article [here](https://www.gartner.com/en/articles/gartner-top-10-strategic-technology-trends-for-2024).\\n\\n2. **Technology Magazine's Top Technology Trends**:\\n   - **Sustainable Technology**: A necessity in enterprise strategy, focusing on energy efficiency and eco-friendly practices.\\n   - **Edge Computing & 5G Applications**: Moving computing closer to data sources to enhance processing speeds, especially in manufacturing.\\n   - **Hybrid Cloud Systems**: Transitioning from legacy systems to hybrid cloud setups, adopting more virtualized environments.\\n\\n   You can find more information in this article [here](https://technologymagazine.com/top10/top-10-technology-trends-of-2024).\\n\\n3. **Focus on Business Outcomes**:\\n   - IT investments are increasingly tied to business objectives, with more companies aiming to directly support their key metrics through technology deployment.\\n\\n   Read further about these insights [here](https://technologymagazine.com/top10/top-10-technology-trends-for-2024).\\n\\nThese trends highlight the shift towards sustainability, advanced applications, and a stronger alignment between IT strategies and business goals.\", additional_kwargs={'refusal': None}, response_metadata={'token_usage': {'completion_tokens': 363, 'prompt_tokens': 1134, 'total_tokens': 1497, 'completion_tokens_details': {'accepted_prediction_tokens': 0, 'audio_tokens': 0, 'reasoning_tokens': 0, 'rejected_prediction_tokens': 0}, 'prompt_tokens_details': {'audio_tokens': 0, 'cached_tokens': 0}}, 'model_name': 'gpt-4o-mini-2024-07-18', 'system_fingerprint': 'fp_54eb4bd693', 'id': 'chatcmpl-BYF6CId84kE66aRYEJ657qEb382O4', 'service_tier': 'default', 'finish_reason': 'stop', 'logprobs': None}, id='run--fd9fe536-7c0b-43c3-b4ac-baa29318ae6a-0', usage_metadata={'input_tokens': 1134, 'output_tokens': 363, 'total_tokens': 1497, 'input_token_details': {'audio': 0, 'cache_read': 0}, 'output_token_details': {'audio': 0, 'reasoning': 0}})]}"
      ]
     },
     "execution_count": 6,
     "metadata": {},
     "output_type": "execute_result"
    }
   ],
   "execution_count": 6
  },
  {
   "metadata": {
    "ExecuteTime": {
     "end_time": "2025-05-17T16:55:33.292905Z",
     "start_time": "2025-05-17T16:55:23.204355Z"
    }
   },
   "cell_type": "code",
   "source": [
    "results = await agent.ainvoke(\n",
    "    {\"messages\": [{\"role\": \"user\", \"content\": \"문래역 맛집 알려줘\"}]}\n",
    ")\n",
    "results"
   ],
   "id": "df8573b45339d369",
   "outputs": [
    {
     "data": {
      "text/plain": [
       "{'messages': [HumanMessage(content='문래역 맛집 알려줘', additional_kwargs={}, response_metadata={}, id='ef05d347-7d57-4c69-8b15-89c0adf1a07d'),\n",
       "  AIMessage(content='', additional_kwargs={'tool_calls': [{'id': 'call_A4dwsw7F18rClW4euHEd9CpD', 'function': {'arguments': '{\"query\":\"문래역 맛집\"}', 'name': 'blog_search'}, 'type': 'function'}], 'refusal': None}, response_metadata={'token_usage': {'completion_tokens': 18, 'prompt_tokens': 103, 'total_tokens': 121, 'completion_tokens_details': {'accepted_prediction_tokens': 0, 'audio_tokens': 0, 'reasoning_tokens': 0, 'rejected_prediction_tokens': 0}, 'prompt_tokens_details': {'audio_tokens': 0, 'cached_tokens': 0}}, 'model_name': 'gpt-4o-mini-2024-07-18', 'system_fingerprint': 'fp_54eb4bd693', 'id': 'chatcmpl-BYF6glE0rOFKvXlZNH4A2PjX7HSYf', 'service_tier': 'default', 'finish_reason': 'tool_calls', 'logprobs': None}, id='run--c5348eae-f548-4eae-a4a3-7eeee2aee723-0', tool_calls=[{'name': 'blog_search', 'args': {'query': '문래역 맛집'}, 'id': 'call_A4dwsw7F18rClW4euHEd9CpD', 'type': 'tool_call'}], usage_metadata={'input_tokens': 103, 'output_tokens': 18, 'total_tokens': 121, 'input_token_details': {'audio': 0, 'cache_read': 0}, 'output_token_details': {'audio': 0, 'reasoning': 0}}),\n",
       "  ToolMessage(content='[\"{\\\\n  \\\\\"title\\\\\": \\\\\"<b>문래역 맛집</b> 1인 샤브샤브 봄담아 문래점 방문 리뷰\\\\\",\\\\n  \\\\\"url\\\\\": \\\\\"https://blog.naver.com/rami_c/223868885346\\\\\",\\\\n  \\\\\"content\\\\\": \\\\\"성인이 되고 나서 입맛이 바뀌며 샤브샤브를 좋아하게 되었는데 집 근처에 1인 샤브샤브 봄담아 문래점이 새로 오픈해서 주리보씨와 한 번 다녀와봤다 <b>문래역 맛집</b> 봄담아 샤브샤브는 문래역 3번 출구에서 도보... \\\\\"\\\\n}\", \"{\\\\n  \\\\\"title\\\\\": \\\\\"<b>문래역 맛집</b>, 옥된장 문래역점 정성스러운 한끼\\\\\",\\\\n  \\\\\"url\\\\\": \\\\\"https://blog.naver.com/south_bin/223865551064\\\\\",\\\\n  \\\\\"content\\\\\": \\\\\"ㅎㅎㅎㅎ 아이들도 너무 잘먹어서 정말 진지하게 김을 사올까 고민했어요 옥된장 문래역점에서 정성스럽고 맛있는 한끼 야무지게 먹고 문래근린공원에 놀러갔습니다 <b>문래역 맛집</b> 가족나들이 계획있으시면... \\\\\"\\\\n}\", \"{\\\\n  \\\\\"title\\\\\": \\\\\"<b>문래역 맛집</b> 추천 마스터비엣 하노이식 정통 쌀국수 본점\\\\\",\\\\n  \\\\\"url\\\\\": \\\\\"https://blog.naver.com/withth_1/223845535320\\\\\",\\\\n  \\\\\"content\\\\\": \\\\\"<b>문래역 맛집</b> 추천 마스터비엣 하노이식 정통 쌀국수 본점 문래역 근처에는 맛집들이 많은데, 하노이식 쌀국수를 먹을 수 있는 곳을 아는 사람은 많지 않아 보여요. 근처 직장인들에게 또는 퇴근 후 간단히... \\\\\"\\\\n}\"]', name='blog_search', id='31a8d9e7-bbde-44dd-a7fa-d6bd5ca4ce5e', tool_call_id='call_A4dwsw7F18rClW4euHEd9CpD'),\n",
       "  AIMessage(content='문래역 근처에 괜찮은 맛집 몇 곳을 소개할게요!\\n\\n1. **봄담아 문래점 (1인 샤브샤브)**\\n   - [블로그 링크](https://blog.naver.com/rami_c/223868885346)\\n   - 1인 샤브샤브 전문점으로, 입맛이 바뀐 후 좋아하게 된 곳입니다. 문래역 3번 출구에서 도보로 접근 가능하며, 혼자서도 부담 없이 즐길 수 있습니다.\\n\\n2. **옥된장 문래역점**\\n   - [블로그 링크](https://blog.naver.com/south_bin/223865551064)\\n   - 정성스럽고 맛있는 한 끼를 제공하는 곳으로, 가족 나들이에도 적합합니다. 아이들에게도 인기가 많아 가족 단위 손님에게 추천합니다.\\n\\n3. **마스터비엣 (하노이식 쌀국수)**\\n   - [블로그 링크](https://blog.naver.com/withth_1/223845535320)\\n   - 하노이식 정통 쌀국수를 맛볼 수 있는 곳으로, 맛집이 많은 문래역에서도 특별한 장소입니다. 퇴근 후 간단하게 방문하기 좋은 곳입니다.\\n\\n이 외에도 많은 맛집이 있으니, 참고해서 방문해 보세요!', additional_kwargs={'refusal': None}, response_metadata={'token_usage': {'completion_tokens': 299, 'prompt_tokens': 585, 'total_tokens': 884, 'completion_tokens_details': {'accepted_prediction_tokens': 0, 'audio_tokens': 0, 'reasoning_tokens': 0, 'rejected_prediction_tokens': 0}, 'prompt_tokens_details': {'audio_tokens': 0, 'cached_tokens': 0}}, 'model_name': 'gpt-4o-mini-2024-07-18', 'system_fingerprint': 'fp_54eb4bd693', 'id': 'chatcmpl-BYF6jp1kae5M6dK9V5fIiR9vtLZP4', 'service_tier': 'default', 'finish_reason': 'stop', 'logprobs': None}, id='run--f03ce86b-4808-48bd-a65a-c79684450658-0', usage_metadata={'input_tokens': 585, 'output_tokens': 299, 'total_tokens': 884, 'input_token_details': {'audio': 0, 'cache_read': 0}, 'output_token_details': {'audio': 0, 'reasoning': 0}})]}"
      ]
     },
     "execution_count": 7,
     "metadata": {},
     "output_type": "execute_result"
    }
   ],
   "execution_count": 7
  },
  {
   "metadata": {},
   "cell_type": "code",
   "outputs": [],
   "execution_count": null,
   "source": "",
   "id": "e0de7fd2abebbf91"
  },
  {
   "metadata": {},
   "cell_type": "code",
   "outputs": [],
   "execution_count": null,
   "source": "",
   "id": "aa446ee26b0ab487"
  }
 ],
 "metadata": {
  "kernelspec": {
   "display_name": "Python 3",
   "language": "python",
   "name": "python3"
  },
  "language_info": {
   "codemirror_mode": {
    "name": "ipython",
    "version": 2
   },
   "file_extension": ".py",
   "mimetype": "text/x-python",
   "name": "python",
   "nbconvert_exporter": "python",
   "pygments_lexer": "ipython2",
   "version": "2.7.6"
  }
 },
 "nbformat": 4,
 "nbformat_minor": 5
}
