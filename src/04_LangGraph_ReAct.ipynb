{
 "cells": [
  {
   "metadata": {},
   "cell_type": "markdown",
   "source": [
    "# ReAct(Reasoning + Acting)\n",
    "* 추론과 행동을 결합한 접근 방식"
   ],
   "id": "bd41e6fa32f56ff2"
  },
  {
   "metadata": {
    "ExecuteTime": {
     "end_time": "2025-05-24T02:43:35.183397Z",
     "start_time": "2025-05-24T02:43:35.176370Z"
    }
   },
   "cell_type": "code",
   "source": [
    "from dotenv import load_dotenv\n",
    "\n",
    "load_dotenv()"
   ],
   "id": "8e614382695ecbc9",
   "outputs": [
    {
     "data": {
      "text/plain": [
       "True"
      ]
     },
     "execution_count": 26,
     "metadata": {},
     "output_type": "execute_result"
    }
   ],
   "execution_count": 26
  },
  {
   "metadata": {
    "ExecuteTime": {
     "end_time": "2025-05-24T02:43:35.216755Z",
     "start_time": "2025-05-24T02:43:35.212315Z"
    }
   },
   "cell_type": "code",
   "source": [
    "import re\n",
    "import os, json\n",
    "\n",
    "from textwrap import dedent\n",
    "from pprint import pprint\n",
    "\n",
    "import uuid\n",
    "\n",
    "import warnings\n",
    "warnings.filterwarnings(\"ignore\")"
   ],
   "id": "a75b9039463259a7",
   "outputs": [],
   "execution_count": 27
  },
  {
   "metadata": {
    "ExecuteTime": {
     "end_time": "2025-05-24T02:43:35.780411Z",
     "start_time": "2025-05-24T02:43:35.235132Z"
    }
   },
   "cell_type": "code",
   "source": [
    "from langchain_openai import OpenAIEmbeddings\n",
    "from langchain_chroma import Chroma\n",
    "from langchain_core.tools import tool\n",
    "from typing import List\n",
    "\n",
    "embeddings_model = OpenAIEmbeddings(model=\"text-embedding-3-small\")\n",
    "\n",
    "# Chroma 인덱스 로드\n",
    "vector_db = Chroma(\n",
    "    embedding_function=embeddings_model,\n",
    "    collection_name=\"restaurant_menu\",\n",
    "    persist_directory=\"./chroma_db\",\n",
    ")\n",
    "\n",
    "# Tool 정의\n",
    "@tool\n",
    "def search_menu(query: str) -> List[str]:\n",
    "    \"\"\"레스토랑 메뉴에서 정보를 검색합니다.\"\"\"\n",
    "    docs = vector_db.similarity_search(query, k=2)\n",
    "\n",
    "    formatted_docs = \"\\n\\n---\\n\\n\".join(\n",
    "        [\n",
    "            f'<Document source=\"{doc.metadata[\"source\"]}\"/>\\n{doc.page_content}\\n</Document>'\n",
    "            for doc in docs\n",
    "        ]\n",
    "    )\n",
    "\n",
    "    if len(docs) > 0:\n",
    "        return formatted_docs\n",
    "\n",
    "    return \"관련 메뉴 정보를 찾을 수 없습니다.\""
   ],
   "id": "69b3220ec786087f",
   "outputs": [],
   "execution_count": 28
  },
  {
   "metadata": {
    "ExecuteTime": {
     "end_time": "2025-05-24T02:43:35.792479Z",
     "start_time": "2025-05-24T02:43:35.784299Z"
    }
   },
   "cell_type": "code",
   "source": [
    "from langchain_community.tools import TavilySearchResults\n",
    "\n",
    "\n",
    "# Tool 정의\n",
    "@tool\n",
    "def search_web(query: str) -> List[str]:\n",
    "    \"\"\"데이터베이스에 존재하지 않는 정보 또는 최신 정보를 인터넷에서 검색합니다.\"\"\"\n",
    "\n",
    "    tavily_search = TavilySearchResults(max_results=3)\n",
    "    docs = tavily_search.invoke(query)\n",
    "\n",
    "    formatted_docs = \"\\n\\n---\\n\\n\".join(\n",
    "        [\n",
    "            f'<Document href=\"{doc[\"url\"]}\"/>\\n{doc[\"content\"]}\\n</Document>'\n",
    "            for doc in docs\n",
    "        ]\n",
    "    )\n",
    "\n",
    "    if len(docs) > 0:\n",
    "        return formatted_docs\n",
    "\n",
    "    return \"관련 정보를 찾을 수 없습니다.\""
   ],
   "id": "805e7af698cf43d5",
   "outputs": [],
   "execution_count": 29
  },
  {
   "metadata": {
    "ExecuteTime": {
     "end_time": "2025-05-24T02:43:36.239204Z",
     "start_time": "2025-05-24T02:43:35.802452Z"
    }
   },
   "cell_type": "code",
   "source": [
    "from langchain_openai import ChatOpenAI\n",
    "\n",
    "# LLM 모델\n",
    "llm = ChatOpenAI(model=\"gpt-4o-mini\", streaming=True)\n",
    "\n",
    "# 도구 목록\n",
    "tools = [search_menu, search_web]\n",
    "\n",
    "# 모델에 도구를 바인딩\n",
    "llm_with_tools = llm.bind_tools(tools=tools)"
   ],
   "id": "b8002c7bd35c24ba",
   "outputs": [],
   "execution_count": 30
  },
  {
   "metadata": {
    "ExecuteTime": {
     "end_time": "2025-05-24T02:43:37.580587Z",
     "start_time": "2025-05-24T02:43:36.248085Z"
    }
   },
   "cell_type": "code",
   "source": [
    "from langchain_core.messages import HumanMessage\n",
    "\n",
    "# 도구 호출\n",
    "tool_call = llm_with_tools.invoke([HumanMessage(content=f\"스테이크 메뉴의 가격은 얼마인가요?\")])\n",
    "\n",
    "# 결과 출력\n",
    "print(tool_call.additional_kwargs)"
   ],
   "id": "441b1e6b5e87d4d4",
   "outputs": [
    {
     "name": "stdout",
     "output_type": "stream",
     "text": [
      "{'tool_calls': [{'index': 0, 'id': 'call_OsJZCKlLFJmgWjWDtbvyjJOG', 'function': {'arguments': '{\"query\":\"스테이크\"}', 'name': 'search_menu'}, 'type': 'function'}]}\n"
     ]
    }
   ],
   "execution_count": 31
  },
  {
   "metadata": {
    "ExecuteTime": {
     "end_time": "2025-05-24T02:43:38.657006Z",
     "start_time": "2025-05-24T02:43:37.590579Z"
    }
   },
   "cell_type": "code",
   "source": [
    "# 도구 호출\n",
    "ai_msg = llm_with_tools.invoke([HumanMessage(content=f\"3+3은 얼마인가요?\")])\n",
    "\n",
    "# 결과 출력\n",
    "print(ai_msg.additional_kwargs)"
   ],
   "id": "99ddb372c61bcb22",
   "outputs": [
    {
     "name": "stdout",
     "output_type": "stream",
     "text": [
      "{}\n"
     ]
    }
   ],
   "execution_count": 32
  },
  {
   "metadata": {
    "ExecuteTime": {
     "end_time": "2025-05-24T02:43:39.510232Z",
     "start_time": "2025-05-24T02:43:38.664959Z"
    }
   },
   "cell_type": "code",
   "source": [
    "# 도구 호출\n",
    "ai_msg = llm_with_tools.invoke([HumanMessage(content=f\"LangGraph는 무엇인가요?\")])\n",
    "\n",
    "# 결과 출력\n",
    "print(ai_msg)\n"
   ],
   "id": "b75bfe7c3682452",
   "outputs": [
    {
     "name": "stdout",
     "output_type": "stream",
     "text": [
      "content='' additional_kwargs={'tool_calls': [{'index': 0, 'id': 'call_WBOioSySOIojLjYiR0OtkGk6', 'function': {'arguments': '{\"query\":\"LangGraph\"}', 'name': 'search_web'}, 'type': 'function'}]} response_metadata={'finish_reason': 'tool_calls', 'model_name': 'gpt-4o-mini-2024-07-18', 'system_fingerprint': 'fp_34a54ae93c', 'service_tier': 'default'} id='run--1637a336-cc84-40ac-8c36-082fc96ceb35-0' tool_calls=[{'name': 'search_web', 'args': {'query': 'LangGraph'}, 'id': 'call_WBOioSySOIojLjYiR0OtkGk6', 'type': 'tool_call'}]\n"
     ]
    }
   ],
   "execution_count": 33
  },
  {
   "metadata": {
    "ExecuteTime": {
     "end_time": "2025-05-24T02:43:41.462792Z",
     "start_time": "2025-05-24T02:43:39.518068Z"
    }
   },
   "cell_type": "code",
   "source": [
    "for tool_call in ai_msg.tool_calls:\n",
    "    print(f\"{tool_call['name']}: \\n{tool_call}\")\n",
    "    print(\"-\"*100)\n",
    "\n",
    "    tool_message = None\n",
    "    if tool_call[\"name\"] == \"search_menu\":\n",
    "        tool_message = search_menu.invoke(tool_call)\n",
    "    if tool_call[\"name\"] == \"search_web\":\n",
    "        tool_message = search_web.invoke(tool_call)\n",
    "    print(tool_message.content)\n"
   ],
   "id": "89e94587e219630b",
   "outputs": [
    {
     "name": "stdout",
     "output_type": "stream",
     "text": [
      "search_web: \n",
      "{'name': 'search_web', 'args': {'query': 'LangGraph'}, 'id': 'call_WBOioSySOIojLjYiR0OtkGk6', 'type': 'tool_call'}\n",
      "----------------------------------------------------------------------------------------------------\n",
      "<Document href=\"https://www.ibm.com/think/topics/langgraph\"/>\n",
      "LangGraph, created by LangChain, is an open source AI agent framework designed to build, deploy and manage complex generative AI agent workflows. It provides a set of tools and libraries that enable users to create, run and optimize large language models (LLMs) in a scalable and efficient manner. At its core, LangGraph uses the power of graph-based architectures to model and manage the intricate relationships between various components of an AI agent workflow. [...] Agent systems: LangGraph provides a framework for building agent-based systems, which can be used in applications such as robotics, autonomous vehicles or video games.\n",
      "\n",
      "LLM applications: By using LangGraph’s capabilities, developers can build more sophisticated AI models that learn and improve over time. Norwegian Cruise Line uses LangGraph to compile, construct and refine guest-facing AI solutions. This capability allows for improved and personalized guest experiences. [...] By using a graph-based architecture, LangGraph enables users to scale artificial intelligence workflows without slowing down or sacrificing efficiency. LangGraph uses enhanced decision-making by modeling complex relationships between nodes, which means it uses AI agents to analyze their past actions and feedback. In the world of LLMs, this process is referred to as reflection.\n",
      "</Document>\n",
      "\n",
      "---\n",
      "\n",
      "<Document href=\"https://github.com/langchain-ai/langgraph\"/>\n",
      "LangGraph — used by Replit, Uber, LinkedIn, GitLab and more — is a low-level orchestration framework for building controllable agents. While langchain provides integrations and composable components to streamline LLM application development, the LangGraph library enables agent orchestration — offering customizable architectures, long-term memory, and human-in-the-loop to reliably handle complex tasks.\n",
      "\n",
      "```\n",
      "pip install -U langgraph\n",
      "``` [...] - **First-class streaming support.** With token-by-token streaming and streaming of intermediate steps, LangGraph gives users clear visibility into agent reasoning and actions as they unfold in real time. [...] ## Acknowledgements\n",
      "\n",
      "LangGraph is inspired by [Pregel](https://research.google/pubs/pub37252/) and [Apache Beam](https://beam.apache.org/). The public interface draws inspiration from [NetworkX](https://networkx.org/documentation/latest/). LangGraph is built by LangChain Inc, the creators of LangChain, but can be used without LangChain.\n",
      "\n",
      "## About\n",
      "\n",
      "Build resilient language agents as graphs.\n",
      "</Document>\n",
      "\n",
      "---\n",
      "\n",
      "<Document href=\"https://www.youtube.com/watch?v=1w5cCXlh7JQ\"/>\n",
      "In this video, you're going to learn how to build AI agents using LangGraph. LangGraph is a much more professional and in-depth framework compared to something like LangChain or LlamaIndex, which allows you to build a really complicated and well thought out AI agents. If you're looking to push something into production, you want to have scalability features, and overall you just want more control, then LangGraph is what you should be using.\n",
      "</Document>\n"
     ]
    }
   ],
   "execution_count": 34
  },
  {
   "metadata": {
    "ExecuteTime": {
     "end_time": "2025-05-24T02:43:41.475997Z",
     "start_time": "2025-05-24T02:43:41.470945Z"
    }
   },
   "cell_type": "code",
   "source": "ai_msg",
   "id": "3f0b8f2a2fc36ebe",
   "outputs": [
    {
     "data": {
      "text/plain": [
       "AIMessage(content='', additional_kwargs={'tool_calls': [{'index': 0, 'id': 'call_WBOioSySOIojLjYiR0OtkGk6', 'function': {'arguments': '{\"query\":\"LangGraph\"}', 'name': 'search_web'}, 'type': 'function'}]}, response_metadata={'finish_reason': 'tool_calls', 'model_name': 'gpt-4o-mini-2024-07-18', 'system_fingerprint': 'fp_34a54ae93c', 'service_tier': 'default'}, id='run--1637a336-cc84-40ac-8c36-082fc96ceb35-0', tool_calls=[{'name': 'search_web', 'args': {'query': 'LangGraph'}, 'id': 'call_WBOioSySOIojLjYiR0OtkGk6', 'type': 'tool_call'}])"
      ]
     },
     "execution_count": 35,
     "metadata": {},
     "output_type": "execute_result"
    }
   ],
   "execution_count": 35
  },
  {
   "metadata": {},
   "cell_type": "markdown",
   "source": [
    "## 도구 노드\n",
    "- LLM이 요청한 도구들을 병렬로 실행"
   ],
   "id": "3ebab945aac8134a"
  },
  {
   "metadata": {
    "ExecuteTime": {
     "end_time": "2025-05-24T02:43:41.493900Z",
     "start_time": "2025-05-24T02:43:41.489983Z"
    }
   },
   "cell_type": "code",
   "source": [
    "from langgraph.prebuilt import ToolNode\n",
    "\n",
    "# 도구 노드 정의\n",
    "tool_node = ToolNode(tools=tools)"
   ],
   "id": "dafa243fe7118c29",
   "outputs": [],
   "execution_count": 36
  },
  {
   "metadata": {
    "ExecuteTime": {
     "end_time": "2025-05-24T02:43:42.306312Z",
     "start_time": "2025-05-24T02:43:41.520714Z"
    }
   },
   "cell_type": "code",
   "source": [
    "# 도구 호출\n",
    "ai_msg = llm_with_tools.invoke([HumanMessage(content=f\"LangGraph는 무엇인가요?\")])\n",
    "\n",
    "ai_msg"
   ],
   "id": "5172fdeaf92a0a8d",
   "outputs": [
    {
     "data": {
      "text/plain": [
       "AIMessage(content='', additional_kwargs={'tool_calls': [{'index': 0, 'id': 'call_A9756yhY4H4R6Vy552UeKGNS', 'function': {'arguments': '{\"query\":\"LangGraph\"}', 'name': 'search_web'}, 'type': 'function'}]}, response_metadata={'finish_reason': 'tool_calls', 'model_name': 'gpt-4o-mini-2024-07-18', 'system_fingerprint': 'fp_34a54ae93c', 'service_tier': 'default'}, id='run--63b279a9-f0a6-498b-99cd-7654adaf2460-0', tool_calls=[{'name': 'search_web', 'args': {'query': 'LangGraph'}, 'id': 'call_A9756yhY4H4R6Vy552UeKGNS', 'type': 'tool_call'}])"
      ]
     },
     "execution_count": 37,
     "metadata": {},
     "output_type": "execute_result"
    }
   ],
   "execution_count": 37
  },
  {
   "metadata": {
    "ExecuteTime": {
     "end_time": "2025-05-24T02:43:44.388491Z",
     "start_time": "2025-05-24T02:43:42.321615Z"
    }
   },
   "cell_type": "code",
   "source": [
    "# 도구 호출 결과를 메시지로 추가하여 실행\n",
    "results = tool_node.invoke({\"messages\": [ai_msg]})\n",
    "\n",
    "# 실행 결과 출력하여 확인\n",
    "for result in results['messages']:\n",
    "    print(result.content)\n",
    "    print()"
   ],
   "id": "d383bc048bf2c1e1",
   "outputs": [
    {
     "name": "stdout",
     "output_type": "stream",
     "text": [
      "<Document href=\"https://www.ibm.com/think/topics/langgraph\"/>\n",
      "LangGraph, created by LangChain, is an open source AI agent framework designed to build, deploy and manage complex generative AI agent workflows. It provides a set of tools and libraries that enable users to create, run and optimize large language models (LLMs) in a scalable and efficient manner. At its core, LangGraph uses the power of graph-based architectures to model and manage the intricate relationships between various components of an AI agent workflow. [...] Agent systems: LangGraph provides a framework for building agent-based systems, which can be used in applications such as robotics, autonomous vehicles or video games.\n",
      "\n",
      "LLM applications: By using LangGraph’s capabilities, developers can build more sophisticated AI models that learn and improve over time. Norwegian Cruise Line uses LangGraph to compile, construct and refine guest-facing AI solutions. This capability allows for improved and personalized guest experiences. [...] By using a graph-based architecture, LangGraph enables users to scale artificial intelligence workflows without slowing down or sacrificing efficiency. LangGraph uses enhanced decision-making by modeling complex relationships between nodes, which means it uses AI agents to analyze their past actions and feedback. In the world of LLMs, this process is referred to as reflection.\n",
      "</Document>\n",
      "\n",
      "---\n",
      "\n",
      "<Document href=\"https://github.com/langchain-ai/langgraph\"/>\n",
      "LangGraph — used by Replit, Uber, LinkedIn, GitLab and more — is a low-level orchestration framework for building controllable agents. While langchain provides integrations and composable components to streamline LLM application development, the LangGraph library enables agent orchestration — offering customizable architectures, long-term memory, and human-in-the-loop to reliably handle complex tasks.\n",
      "\n",
      "```\n",
      "pip install -U langgraph\n",
      "``` [...] - **First-class streaming support.** With token-by-token streaming and streaming of intermediate steps, LangGraph gives users clear visibility into agent reasoning and actions as they unfold in real time. [...] ## Acknowledgements\n",
      "\n",
      "LangGraph is inspired by [Pregel](https://research.google/pubs/pub37252/) and [Apache Beam](https://beam.apache.org/). The public interface draws inspiration from [NetworkX](https://networkx.org/documentation/latest/). LangGraph is built by LangChain Inc, the creators of LangChain, but can be used without LangChain.\n",
      "\n",
      "## About\n",
      "\n",
      "Build resilient language agents as graphs.\n",
      "</Document>\n",
      "\n",
      "---\n",
      "\n",
      "<Document href=\"https://www.youtube.com/watch?v=1w5cCXlh7JQ\"/>\n",
      "In this video, you're going to learn how to build AI agents using LangGraph. LangGraph is a much more professional and in-depth framework compared to something like LangChain or LlamaIndex, which allows you to build a really complicated and well thought out AI agents. If you're looking to push something into production, you want to have scalability features, and overall you just want more control, then LangGraph is what you should be using.\n",
      "</Document>\n",
      "\n"
     ]
    }
   ],
   "execution_count": 38
  },
  {
   "metadata": {},
   "cell_type": "markdown",
   "source": [
    "## 랭그래프에 내장된 ReAct 에이전트 사용\n",
    "- create_react_agent\n",
    "    - v0.1 이후 AgentExecutor로 감사지 않아도 됨\n",
    "- AgentExecutor는 왜 남아있을까?\n",
    "| 경우                 | 설명                                          |\n",
    "| ------------------ | ------------------------------------------- |\n",
    "| 🔧 **커스텀 에이전트**    | 직접 만든 Agent 클래스를 실행할 때 (예: ZeroShotAgent 등) |\n",
    "| 🔄 **호환성**         | 구버전 LangChain 코드와의 호환성                      |\n",
    "| 🔍 **디버깅 및 세부 제어** | 중간 단계 추적, 로깅, callback 설정 등                 |\n",
    "| 🧩 **유연한 도구 처리**   | 여러 Agent나 chain을 묶어 실행하는 복잡한 구조 만들 때        |\n",
    "\n",
    "![](images/create_react_agent.png)"
   ],
   "id": "4bc8fb8b8bd25de0"
  },
  {
   "metadata": {
    "ExecuteTime": {
     "end_time": "2025-05-24T02:43:44.638968Z",
     "start_time": "2025-05-24T02:43:44.404488Z"
    }
   },
   "cell_type": "code",
   "source": [
    "from IPython.display import Image, display\n",
    "from langgraph.prebuilt import create_react_agent\n",
    "agent_graph = create_react_agent(\n",
    "    llm,\n",
    "    tools=tools,\n",
    ")\n",
    "\n",
    "# 그래프 출력\n",
    "agent_graph"
   ],
   "id": "ef882b8473e1ac0",
   "outputs": [
    {
     "data": {
      "text/plain": [
       "<langgraph.graph.state.CompiledStateGraph object at 0x000001B6F6327170>"
      ],
      "image/png": "[encoded data removed]"
     },
     "execution_count": 39,
     "metadata": {},
     "output_type": "execute_result"
    }
   ],
   "execution_count": 39
  },
  {
   "metadata": {
    "ExecuteTime": {
     "end_time": "2025-05-24T02:43:48.622379Z",
     "start_time": "2025-05-24T02:43:44.651223Z"
    }
   },
   "cell_type": "code",
   "source": [
    "# 그래프 실행\n",
    "inputs = {\"messages\": [HumanMessage(content=\"스테이크 메뉴의 가격은 얼마인가요?\")]}\n",
    "messages = agent_graph.invoke(inputs)\n",
    "for m in messages['messages']:\n",
    "    m.pretty_print()"
   ],
   "id": "c7454b508c6e2815",
   "outputs": [
    {
     "name": "stdout",
     "output_type": "stream",
     "text": [
      "================================\u001B[1m Human Message \u001B[0m=================================\n",
      "\n",
      "스테이크 메뉴의 가격은 얼마인가요?\n",
      "==================================\u001B[1m Ai Message \u001B[0m==================================\n",
      "Tool Calls:\n",
      "  search_menu (call_YkbQN4bCW3vf0K3kzRrZFzYc)\n",
      " Call ID: call_YkbQN4bCW3vf0K3kzRrZFzYc\n",
      "  Args:\n",
      "    query: 스테이크\n",
      "=================================\u001B[1m Tool Message \u001B[0m=================================\n",
      "Name: search_menu\n",
      "\n",
      "<Document source=\"./data/restaurant_menu.txt\"/>\n",
      "8. 안심 스테이크 샐러드\n",
      "   • 가격: ₩26,000\n",
      "   • 주요 식재료: 소고기 안심, 루꼴라, 체리 토마토, 발사믹 글레이즈\n",
      "   • 설명: 부드러운 안심 스테이크를 얇게 슬라이스하여 신선한 루꼴라 위에 올린 메인 요리 샐러드입니다. 체리 토마토와 파마산 치즈 플레이크로 풍미를 더하고, 발사믹 글레이즈로 마무리하여 고기의 풍미를 한층 끌어올렸습니다.\n",
      "</Document>\n",
      "\n",
      "---\n",
      "\n",
      "<Document source=\"./data/restaurant_menu.txt\"/>\n",
      "7. 랍스터 비스크\n",
      "   • 가격: ₩28,000\n",
      "   • 주요 식재료: 랍스터, 생크림, 브랜디, 파프리카\n",
      "   • 설명: 랍스터 껍질과 육수로 오랜 시간 우려낸 진한 비스크 수프입니다. 생크림으로 부드러운 질감을 더하고 브랜디로 깊은 풍미를 살렸습니다. 작은 랍스터 살을 토핑으로 올려 고급스러움을 더했습니다.\n",
      "</Document>\n",
      "==================================\u001B[1m Ai Message \u001B[0m==================================\n",
      "\n",
      "스테이크 메뉴는 다음과 같습니다:\n",
      "\n",
      "1. **안심 스테이크 샐러드**\n",
      "   - 가격: **₩26,000**\n",
      "   - 주요 식재료: 소고기 안심, 루꼴라, 체리 토마토, 발사믹 글레이즈\n",
      "   - 설명: 부드러운 안심 스테이크를 얇게 슬라이스하여 신선한 루꼴라 위에 올린 샐러드입니다. 체리 토마토와 파마산 치즈 플레이크로 풍미를 더하고, 발사믹 글레이즈로 마무리하여 고기의 풍미를 한층 끌어올렸습니다. \n",
      "\n",
      "더 궁금한 점이 있으시면 말씀해 주세요!\n"
     ]
    }
   ],
   "execution_count": 40
  },
  {
   "metadata": {
    "ExecuteTime": {
     "end_time": "2025-05-24T02:43:48.879096Z",
     "start_time": "2025-05-24T02:43:48.640250Z"
    }
   },
   "cell_type": "code",
   "source": [
    "from langgraph.prebuilt import create_react_agent\n",
    "\n",
    "# 시스템 프롬프트\n",
    "system_prompt = dedent(\"\"\"\n",
    "You are an AI assistant designed to answer human questions.\n",
    "You can use the provided tools to help generate your responses.\n",
    "\n",
    "Follow these steps to answer questions:\n",
    "    1. Carefully read and understand the question.\n",
    "    2. Use the provided tools to obtain necessary information.\n",
    "    3. Immediately after using a tool, cite the source using the format below.\n",
    "    4. Construct an accurate and helpful answer using the tool outputs and citations.\n",
    "    5. Provide the final answer when you determine it's complete.\n",
    "\n",
    "When using tools, follow this format:\n",
    "    Action: tool_name\n",
    "    Action Input: input for the tool\n",
    "\n",
    "Immediately after receiving tool output, cite the source as follows:\n",
    "    [Source: tool_name | document_title/item_name | url/file_path]\n",
    "\n",
    "For example:\n",
    "    Action: search_menu\n",
    "    Action Input: 스테이크\n",
    "\n",
    "    (After receiving tool output)\n",
    "    [Source: search_menu | 스테이크 | ./data/data.txt]\n",
    "    스테이크에 대한 정보는 다음과 같습니다...\n",
    "\n",
    "    Action: search_web\n",
    "    Action Input: History of AI\n",
    "\n",
    "    (After receiving tool output)\n",
    "    [Source: search_web | AI History | https://en.wikipedia.org/wiki/History_of_artificial_intelligence]\n",
    "    AI의 역사는 다음과 같이 요약됩니다...\n",
    "\n",
    "If tool use is not necessary, answer directly.\n",
    "\n",
    "Your final answer should be clear, concise, and directly related to the user's question.\n",
    "Ensure that every piece of factual information in your response is accompanied by a citation.\n",
    "\n",
    "Remember: ALWAYS include these citations for all factual information, tool outputs, and referenced documents in your response.\n",
    "Do not provide any information without a corresponding citation.\n",
    "\"\"\")\n",
    "\n",
    "# 그래프 생성\n",
    "agent_graph_with_prompt = create_react_agent(\n",
    "    llm,\n",
    "    tools=tools,\n",
    "    state_modifier=system_prompt,\n",
    "    )\n",
    "\n",
    "# 그래프 출력\n",
    "agent_graph_with_prompt\n"
   ],
   "id": "ae936408a618bc64",
   "outputs": [
    {
     "data": {
      "text/plain": [
       "<langgraph.graph.state.CompiledStateGraph object at 0x000001B6F628BEF0>"
      ],
      "image/png": "[encoded data removed]"
     },
     "execution_count": 41,
     "metadata": {},
     "output_type": "execute_result"
    }
   ],
   "execution_count": 41
  },
  {
   "metadata": {
    "ExecuteTime": {
     "end_time": "2025-05-24T02:43:53.838929Z",
     "start_time": "2025-05-24T02:43:48.888482Z"
    }
   },
   "cell_type": "code",
   "source": [
    "# 그래프 실행\n",
    "inputs = {\"messages\": [HumanMessage(content=\"스테이크 메뉴의 가격은 얼마인가요?\")]}\n",
    "messages = agent_graph_with_prompt.invoke(inputs)\n",
    "for m in messages['messages']:\n",
    "    m.pretty_print()"
   ],
   "id": "2550ab035bde0e38",
   "outputs": [
    {
     "name": "stdout",
     "output_type": "stream",
     "text": [
      "================================\u001B[1m Human Message \u001B[0m=================================\n",
      "\n",
      "스테이크 메뉴의 가격은 얼마인가요?\n",
      "==================================\u001B[1m Ai Message \u001B[0m==================================\n",
      "Tool Calls:\n",
      "  search_menu (call_RDSizDeeB86tRFTmmyGpOloF)\n",
      " Call ID: call_RDSizDeeB86tRFTmmyGpOloF\n",
      "  Args:\n",
      "    query: 스테이크\n",
      "=================================\u001B[1m Tool Message \u001B[0m=================================\n",
      "Name: search_menu\n",
      "\n",
      "<Document source=\"./data/restaurant_menu.txt\"/>\n",
      "8. 안심 스테이크 샐러드\n",
      "   • 가격: ₩26,000\n",
      "   • 주요 식재료: 소고기 안심, 루꼴라, 체리 토마토, 발사믹 글레이즈\n",
      "   • 설명: 부드러운 안심 스테이크를 얇게 슬라이스하여 신선한 루꼴라 위에 올린 메인 요리 샐러드입니다. 체리 토마토와 파마산 치즈 플레이크로 풍미를 더하고, 발사믹 글레이즈로 마무리하여 고기의 풍미를 한층 끌어올렸습니다.\n",
      "</Document>\n",
      "\n",
      "---\n",
      "\n",
      "<Document source=\"./data/restaurant_menu.txt\"/>\n",
      "7. 랍스터 비스크\n",
      "   • 가격: ₩28,000\n",
      "   • 주요 식재료: 랍스터, 생크림, 브랜디, 파프리카\n",
      "   • 설명: 랍스터 껍질과 육수로 오랜 시간 우려낸 진한 비스크 수프입니다. 생크림으로 부드러운 질감을 더하고 브랜디로 깊은 풍미를 살렸습니다. 작은 랍스터 살을 토핑으로 올려 고급스러움을 더했습니다.\n",
      "</Document>\n",
      "==================================\u001B[1m Ai Message \u001B[0m==================================\n",
      "\n",
      "스테이크 메뉴의 가격은 다음과 같습니다:\n",
      "\n",
      "- 안심 스테이크 샐러드: ₩26,000\n",
      "  - 주요 식재료: 소고기 안심, 루꼴라, 체리 토마토, 발사믹 글레이즈\n",
      "  - 설명: 부드러운 안심 스테이크를 얇게 슬라이스하여 신선한 루꼴라 위에 올린 메인 요리 샐러드입니다. 체리 토마토와 파마산 치즈 플레이크로 풍미를 더하고, 발사믹 글레이즈로 마무리하여 고기의 풍미를 한층 끌어올렸습니다. [Source: search_menu | 스테이크 | ./data/restaurant_menu.txt]\n",
      "\n",
      "궁금한 점이 더 있으신가요?\n"
     ]
    }
   ],
   "execution_count": 42
  },
  {
   "metadata": {},
   "cell_type": "markdown",
   "source": [
    "## StateGraph 구조를 사용하여 ReAct 에이전트 만들기\n",
    "### StateGraph를 이용해서 create_react_agent와 같은 구조 만들기\n",
    "- ![](images/custom_react_agent.png)"
   ],
   "id": "35aed9e7f1b29dde"
  },
  {
   "metadata": {
    "ExecuteTime": {
     "end_time": "2025-05-24T02:43:54.148143Z",
     "start_time": "2025-05-24T02:43:53.875165Z"
    }
   },
   "cell_type": "code",
   "source": [
    "from langgraph.graph import MessagesState, StateGraph, START, END\n",
    "from langchain_core.messages import HumanMessage, SystemMessage\n",
    "from langgraph.prebuilt import ToolNode\n",
    "from IPython.display import Image, display\n",
    "\n",
    "# LangGraph MessagesState 사용\n",
    "class GraphState(MessagesState):\n",
    "    pass\n",
    "\n",
    "# 노드 구성\n",
    "def call_model(state: GraphState):\n",
    "    system_message = SystemMessage(content=system_prompt)\n",
    "    messages = [system_message] + state['messages']\n",
    "    response = llm_with_tools.invoke(messages)\n",
    "    return {\"messages\": [response]}\n",
    "\n",
    "def should_continue(state: GraphState):\n",
    "    last_message = state[\"messages\"][-1]\n",
    "    # 도구 호출이 있으면 도구 실행 노드로 이동\n",
    "    if last_message.tool_calls:\n",
    "        return \"execute_tools\"\n",
    "    # 도구 호출이 없으면 답변 생성하고 종료\n",
    "    return END\n",
    "\n",
    "# 그래프 구성\n",
    "builder = StateGraph(GraphState)\n",
    "builder.add_node(\"call_model\", call_model)\n",
    "builder.add_node(\"execute_tools\", ToolNode(tools))\n",
    "\n",
    "builder.add_edge(START, \"call_model\")\n",
    "builder.add_conditional_edges(\n",
    "    \"call_model\",\n",
    "    should_continue,\n",
    "    {\n",
    "        \"execute_tools\": \"execute_tools\",\n",
    "        END: END\n",
    "    }\n",
    ")\n",
    "builder.add_edge(\"execute_tools\", \"call_model\")\n",
    "\n",
    "compiled_graph = builder.compile()\n",
    "\n",
    "# 그래프 출력\n",
    "compiled_graph"
   ],
   "id": "dcc3105d58c2299b",
   "outputs": [
    {
     "data": {
      "text/plain": [
       "<langgraph.graph.state.CompiledStateGraph object at 0x000001B6F6A58FB0>"
      ],
      "image/png": "[encoded data removed]"
     },
     "execution_count": 43,
     "metadata": {},
     "output_type": "execute_result"
    }
   ],
   "execution_count": 43
  },
  {
   "metadata": {
    "ExecuteTime": {
     "end_time": "2025-05-24T02:43:54.427120Z",
     "start_time": "2025-05-24T02:43:54.155739Z"
    }
   },
   "cell_type": "code",
   "source": "display(Image(compiled_graph.get_graph().draw_mermaid_png()))",
   "id": "b62167c35817f52c",
   "outputs": [
    {
     "data": {
      "image/png": "[encoded data removed]",
      "text/plain": [
       "<IPython.core.display.Image object>"
      ]
     },
     "metadata": {},
     "output_type": "display_data"
    }
   ],
   "execution_count": 44
  },
  {
   "metadata": {
    "ExecuteTime": {
     "end_time": "2025-05-24T02:43:54.443593Z",
     "start_time": "2025-05-24T02:43:54.437623Z"
    }
   },
   "cell_type": "code",
   "source": "compiled_graph.get_graph().draw_mermaid()",
   "id": "2ed5c860d4f68ea8",
   "outputs": [
    {
     "data": {
      "text/plain": [
       "'---\\nconfig:\\n  flowchart:\\n    curve: linear\\n---\\ngraph TD;\\n\\t__start__([<p>__start__</p>]):::first\\n\\tcall_model(call_model)\\n\\texecute_tools(execute_tools)\\n\\t__end__([<p>__end__</p>]):::last\\n\\t__start__ --> call_model;\\n\\tcall_model -.-> __end__;\\n\\tcall_model -.-> execute_tools;\\n\\texecute_tools --> call_model;\\n\\tclassDef default fill:#f2f0ff,line-height:1.2\\n\\tclassDef first fill-opacity:0\\n\\tclassDef last fill:#bfb6fc\\n'"
      ]
     },
     "execution_count": 45,
     "metadata": {},
     "output_type": "execute_result"
    }
   ],
   "execution_count": 45
  },
  {
   "metadata": {
    "ExecuteTime": {
     "end_time": "2025-05-24T03:28:48.134151Z",
     "start_time": "2025-05-24T03:28:48.117150Z"
    }
   },
   "cell_type": "code",
   "source": [
    "def graph_to_mermaid(graph) -> str:\n",
    "    \"\"\"\n",
    "    주어진 graph 객체를 Mermaid 형식 문자열로 변환합니다.\n",
    "    LangGraph 0.4.5 버전에 맞춰 작성되었습니다.\n",
    "    Parameters:\n",
    "        graph: 노드와 엣지를 포함한 그래프 객체.\n",
    "               graph.nodes와 graph.edges를 가져올 수 있어야 하며,\n",
    "               각 edge는 source, target 속성을 가져야 합니다.\n",
    "    Returns:\n",
    "        Mermaid 형식 문자열\n",
    "    \"\"\"\n",
    "    nodes = graph.nodes\n",
    "    edges = graph.edges\n",
    "    mermaid = [\"graph TD\"]\n",
    "\n",
    "    # 조건부 엣지 그룹핑을 위한 딕셔너리\n",
    "    conditional_groups = {}\n",
    "    normal_edges = []\n",
    "\n",
    "    # 엣지를 분류\n",
    "    for edge in edges:\n",
    "        source = edge.source\n",
    "        target = edge.target\n",
    "\n",
    "        # LangGraph 0.4.5에서 조건부 엣지 확인\n",
    "        has_condition = False\n",
    "        condition_name = None\n",
    "\n",
    "        # 조건부 엣지는 보통 같은 source에서 여러 target으로 가는 패턴\n",
    "        # 또는 edge.data에 조건 정보가 포함됨\n",
    "        if hasattr(edge, 'data') and edge.data:\n",
    "            if isinstance(edge.data, dict):\n",
    "                # 조건 함수나 조건 정보 확인\n",
    "                if 'condition' in edge.data and callable(edge.data['condition']):\n",
    "                    has_condition = True\n",
    "                    condition_name = getattr(edge.data['condition'], '__name__', 'condition')\n",
    "                elif 'branch' in edge.data:\n",
    "                    # branch 정보에서 조건 함수 이름 추출\n",
    "                    branch_info = edge.data['branch']\n",
    "                    if callable(branch_info):\n",
    "                        has_condition = True\n",
    "                        condition_name = getattr(branch_info, '__name__', 'condition')\n",
    "                    elif isinstance(branch_info, str):\n",
    "                        has_condition = True\n",
    "                        condition_name = branch_info\n",
    "                # add_additional_edge도 조건부 엣지로 처리\n",
    "                elif edge.data.get('langgraph_node') == '__interrupt':\n",
    "                    has_condition = True\n",
    "                    condition_name = 'additional_condition'\n",
    "\n",
    "        # edge 자체에 조건 정보가 있는지 확인\n",
    "        if not has_condition:\n",
    "            # 같은 source에서 나가는 여러 엣지가 있는지 확인하여 조건부 엣지 추정\n",
    "            source_edges = [e for e in edges if e.source == source]\n",
    "            if len(source_edges) > 1:\n",
    "                # 여러 엣지가 있고 특별한 패턴(예: __end__나 특정 노드로 가는)이 있으면 조건부로 간주\n",
    "                targets = [e.target for e in source_edges]\n",
    "                if '__end__' in targets or len(set(targets)) > 1:\n",
    "                    has_condition = True\n",
    "                    # 기본 조건 이름을 source 기반으로 추정 (예: call_model -> should_continue)\n",
    "                    if source == 'call_model':\n",
    "                        condition_name = 'should_continue'\n",
    "                    else:\n",
    "                        condition_name = f\"{source}_condition\"\n",
    "\n",
    "        # 조건부 엣지 그룹핑\n",
    "        if has_condition:\n",
    "            group_key = f\"{source}_{condition_name}\"\n",
    "            if group_key not in conditional_groups:\n",
    "                conditional_groups[group_key] = {\n",
    "                    'source': source,\n",
    "                    'condition_name': condition_name,\n",
    "                    'targets': []\n",
    "                }\n",
    "\n",
    "            # 라벨 정보 추출 (조건 결과 키 값)\n",
    "            label = None\n",
    "            if hasattr(edge, 'data') and edge.data and isinstance(edge.data, dict):\n",
    "                # 조건 매핑에서 키 값을 찾아서 라벨로 사용\n",
    "                for key, value in edge.data.items():\n",
    "                    if value == target or (isinstance(value, str) and value == target):\n",
    "                        label = key\n",
    "                        break\n",
    "                # 또는 직접 label 속성이 있는 경우\n",
    "                if not label:\n",
    "                    label = edge.data.get('label', None)\n",
    "\n",
    "            # 특별한 경우 처리 (END 노드)\n",
    "            if target in ['__end__', 'END'] and not label:\n",
    "                label = \"END\"\n",
    "            elif not label:\n",
    "                # 기본적으로 타겟 노드 이름을 라벨로 사용\n",
    "                label = target.replace('__', '').upper() if target.startswith('__') else target\n",
    "\n",
    "            conditional_groups[group_key]['targets'].append({\n",
    "                'target': target,\n",
    "                'label': label\n",
    "            })\n",
    "        else:\n",
    "            normal_edges.append(edge)\n",
    "    # 헬퍼 함수: 노드 이름 변환\n",
    "    def get_node_name(node):\n",
    "        if node == '__start__':\n",
    "            return 'START'\n",
    "        elif node == '__end__':\n",
    "            return 'END'\n",
    "        return node\n",
    "    # 일반 노드 추가\n",
    "    for node in nodes:\n",
    "        if node not in ['__start__', '__end__']:  # 특수 노드 제외\n",
    "            mermaid.append(f'{node}[\"{node}\"]')\n",
    "        else:\n",
    "            # START, END 노드는 특별한 모양으로\n",
    "            if node == '__start__':\n",
    "                mermaid.append(f'START((\"START\"))')\n",
    "            elif node == '__end__':\n",
    "                mermaid.append(f'END((\"END\"))')\n",
    "\n",
    "    # 조건부 엣지 노드들 추가\n",
    "    for group_key, group_info in conditional_groups.items():\n",
    "        condition_id = f\"cond_{group_info['source']}_{group_info['condition_name']}\"\n",
    "        # 조건 함수 이름을 다이아몬드 노드에 표시\n",
    "        mermaid.append(f'{condition_id}([{group_info[\"condition_name\"]}])')\n",
    "        mermaid.append(f'classDef conditionalNode fill:#e1f5fe,stroke:#01579b,stroke-width:2px')\n",
    "        mermaid.append(f'class {condition_id} conditionalNode')\n",
    "\n",
    "        # 소스 노드에서 조건 노드로\n",
    "        source_node = get_node_name(group_info['source'])\n",
    "        mermaid.append(f\"{source_node} --> {condition_id}\")\n",
    "\n",
    "        # 조건 노드에서 각 타겟으로 분기 (점선으로 표시)\n",
    "        for target_info in group_info['targets']:\n",
    "            target_node = get_node_name(target_info['target'])\n",
    "            edge_label = target_info['label'] if target_info['label'] else (\"END\" if target_node == 'END' else target_node)\n",
    "            mermaid.append(f\"{condition_id} -.->|{edge_label}| {target_node}\")\n",
    "\n",
    "    # 일반 엣지 추가\n",
    "    for edge in normal_edges:\n",
    "        source = edge.source\n",
    "        target = edge.target\n",
    "\n",
    "        # 특수 노드 변환\n",
    "        source_node = source if source not in ['__start__', '__end__'] else ('START' if source == '__start__' else 'END')\n",
    "        target_node = target if target not in ['__start__', '__end__'] else ('START' if target == '__start__' else 'END')\n",
    "\n",
    "        # 라벨 확인\n",
    "        label = None\n",
    "        if hasattr(edge, 'data') and edge.data and isinstance(edge.data, dict):\n",
    "            label = edge.data.get('label', None)\n",
    "\n",
    "        if label and label != target:\n",
    "            mermaid.append(f\"{source_node} -->|{label}| {target_node}\")\n",
    "        else:\n",
    "            mermaid.append(f\"{source_node} --> {target_node}\")\n",
    "\n",
    "    return \"\\n\".join(mermaid)\n",
    "\n",
    "# 사용 예시\n",
    "graph = compiled_graph.get_graph()\n",
    "graph_mermaid_str = graph_to_mermaid(graph)\n",
    "print(graph_mermaid_str)"
   ],
   "id": "73da3b5f62862413",
   "outputs": [
    {
     "name": "stdout",
     "output_type": "stream",
     "text": [
      "graph TD\n",
      "START((\"START\"))\n",
      "call_model[\"call_model\"]\n",
      "execute_tools[\"execute_tools\"]\n",
      "END((\"END\"))\n",
      "cond_call_model_should_continue([should_continue])\n",
      "classDef conditionalNode fill:#e1f5fe,stroke:#01579b,stroke-width:2px\n",
      "class cond_call_model_should_continue conditionalNode\n",
      "call_model --> cond_call_model_should_continue\n",
      "cond_call_model_should_continue -.->|END| END\n",
      "cond_call_model_should_continue -.->|execute_tools| execute_tools\n",
      "START --> call_model\n",
      "execute_tools --> call_model\n"
     ]
    }
   ],
   "execution_count": 72
  },
  {
   "metadata": {
    "ExecuteTime": {
     "end_time": "2025-05-24T03:28:49.005693Z",
     "start_time": "2025-05-24T03:28:48.999287Z"
    }
   },
   "cell_type": "code",
   "source": [
    "from IPython.display import HTML\n",
    "import uuid\n",
    "\n",
    "def simple_mermaid_render(mermaid_code):\n",
    "    \"\"\"외부 패키지 없이 Mermaid 렌더링\"\"\"\n",
    "    chart_id = f\"chart-{uuid.uuid4().hex[:8]}\"\n",
    "    html = f\"\"\"\n",
    "    <div id=\"{chart_id}\" class=\"mermaid\">\n",
    "    {mermaid_code}\n",
    "    </div>\n",
    "    <script type=\"module\">\n",
    "        import mermaid from 'https://cdn.jsdelivr.net/npm/mermaid@10/dist/mermaid.esm.min.mjs';\n",
    "        mermaid.initialize({{\n",
    "            startOnLoad: true,\n",
    "            theme: 'default',\n",
    "            flowchart: {{\n",
    "                useMaxWidth: true,\n",
    "                htmlLabels: true\n",
    "            }}\n",
    "        }});\n",
    "        mermaid.init(undefined, document.getElementById('{chart_id}'));\n",
    "    </script>\n",
    "    \"\"\"\n",
    "    return HTML(html)\n",
    "simple_mermaid_render(graph_mermaid_str)"
   ],
   "id": "5b83c6f5949d8142",
   "outputs": [
    {
     "data": {
      "text/plain": [
       "<IPython.core.display.HTML object>"
      ],
      "text/html": [
       "\n",
       "    <div id=\"chart-2a064270\" class=\"mermaid\">\n",
       "    graph TD\n",
       "START((\"START\"))\n",
       "call_model[\"call_model\"]\n",
       "execute_tools[\"execute_tools\"]\n",
       "END((\"END\"))\n",
       "cond_call_model_should_continue([should_continue])\n",
       "classDef conditionalNode fill:#e1f5fe,stroke:#01579b,stroke-width:2px\n",
       "class cond_call_model_should_continue conditionalNode\n",
       "call_model --> cond_call_model_should_continue\n",
       "cond_call_model_should_continue -.->|END| END\n",
       "cond_call_model_should_continue -.->|execute_tools| execute_tools\n",
       "START --> call_model\n",
       "execute_tools --> call_model\n",
       "    </div>\n",
       "    <script type=\"module\">\n",
       "        import mermaid from 'https://cdn.jsdelivr.net/npm/mermaid@10/dist/mermaid.esm.min.mjs';\n",
       "        mermaid.initialize({\n",
       "            startOnLoad: true,\n",
       "            theme: 'default',\n",
       "            flowchart: {\n",
       "                useMaxWidth: true,\n",
       "                htmlLabels: true\n",
       "            }\n",
       "        });\n",
       "        mermaid.init(undefined, document.getElementById('chart-2a064270'));\n",
       "    </script>\n",
       "    "
      ]
     },
     "execution_count": 73,
     "metadata": {},
     "output_type": "execute_result"
    }
   ],
   "execution_count": 73
  },
  {
   "metadata": {
    "ExecuteTime": {
     "end_time": "2025-05-24T02:43:54.549066Z",
     "start_time": "2025-05-24T02:43:54.544033Z"
    }
   },
   "cell_type": "code",
   "source": [
    "def render_graph(graph):\n",
    "    \"\"\"\n",
    "    그래프 객체를 받아 Mermaid로 렌더링합니다.\n",
    "    \"\"\"\n",
    "    mermaid_code = graph_to_mermaid(graph)\n",
    "    return simple_mermaid_render(mermaid_code)\n",
    "graph = compiled_graph.get_graph()\n",
    "render_graph(graph)"
   ],
   "id": "afd6d20321b4f9f6",
   "outputs": [
    {
     "data": {
      "text/plain": [
       "<IPython.core.display.HTML object>"
      ],
      "text/html": [
       "\n",
       "    <div id=\"chart-4e4f1b9c\" class=\"mermaid\">\n",
       "    graph TD\n",
       "__start__[\"__start__\"]\n",
       "call_model[\"call_model\"]\n",
       "execute_tools[\"execute_tools\"]\n",
       "__end__[\"__end__\"]\n",
       "__start__ --> call_model\n",
       "call_model -.->|__end__| __end__\n",
       "call_model -.->|execute_tools| execute_tools\n",
       "execute_tools --> call_model\n",
       "    </div>\n",
       "    <script type=\"module\">\n",
       "        import mermaid from 'https://cdn.jsdelivr.net/npm/mermaid@10/dist/mermaid.esm.min.mjs';\n",
       "        mermaid.initialize({\n",
       "            startOnLoad: true,\n",
       "            theme: 'default',\n",
       "            flowchart: {\n",
       "                useMaxWidth: true,\n",
       "                htmlLabels: true\n",
       "            }\n",
       "        });\n",
       "        mermaid.init(undefined, document.getElementById('chart-4e4f1b9c'));\n",
       "    </script>\n",
       "    "
      ]
     },
     "execution_count": 48,
     "metadata": {},
     "output_type": "execute_result"
    }
   ],
   "execution_count": 48
  },
  {
   "metadata": {
    "ExecuteTime": {
     "end_time": "2025-05-19T15:20:15.569479Z",
     "start_time": "2025-05-19T15:20:10.644788Z"
    }
   },
   "cell_type": "code",
   "source": [
    "# 그래프 실행\n",
    "inputs = {\"messages\": [HumanMessage(content=\"스테이크 메뉴의 가격은 얼마인가요?\")]}\n",
    "messages = graph.invoke(inputs)\n",
    "for m in messages['messages']:\n",
    "    m.pretty_print()"
   ],
   "id": "18e4e2939b64f1c5",
   "outputs": [
    {
     "name": "stdout",
     "output_type": "stream",
     "text": [
      "================================\u001B[1m Human Message \u001B[0m=================================\n",
      "\n",
      "스테이크 메뉴의 가격은 얼마인가요?\n",
      "==================================\u001B[1m Ai Message \u001B[0m==================================\n",
      "Tool Calls:\n",
      "  search_menu (call_bOI9L14dR1Op3aaIUnHKL5UF)\n",
      " Call ID: call_bOI9L14dR1Op3aaIUnHKL5UF\n",
      "  Args:\n",
      "    query: 스테이크\n",
      "=================================\u001B[1m Tool Message \u001B[0m=================================\n",
      "Name: search_menu\n",
      "\n",
      "<Document source=\"./data/restaurant_menu.txt\"/>\n",
      "8. 안심 스테이크 샐러드\n",
      "   • 가격: ₩26,000\n",
      "   • 주요 식재료: 소고기 안심, 루꼴라, 체리 토마토, 발사믹 글레이즈\n",
      "   • 설명: 부드러운 안심 스테이크를 얇게 슬라이스하여 신선한 루꼴라 위에 올린 메인 요리 샐러드입니다. 체리 토마토와 파마산 치즈 플레이크로 풍미를 더하고, 발사믹 글레이즈로 마무리하여 고기의 풍미를 한층 끌어올렸습니다.\n",
      "</Document>\n",
      "\n",
      "---\n",
      "\n",
      "<Document source=\"./data/restaurant_menu.txt\"/>\n",
      "7. 랍스터 비스크\n",
      "   • 가격: ₩28,000\n",
      "   • 주요 식재료: 랍스터, 생크림, 브랜디, 파프리카\n",
      "   • 설명: 랍스터 껍질과 육수로 오랜 시간 우려낸 진한 비스크 수프입니다. 생크림으로 부드러운 질감을 더하고 브랜디로 깊은 풍미를 살렸습니다. 작은 랍스터 살을 토핑으로 올려 고급스러움을 더했습니다.\n",
      "</Document>\n",
      "==================================\u001B[1m Ai Message \u001B[0m==================================\n",
      "\n",
      "스테이크 메뉴의 가격은 다음과 같습니다:\n",
      "\n",
      "1. **안심 스테이크 샐러드**: ₩26,000\n",
      "\n",
      "이 메뉴는 부드러운 안심 스테이크를 신선한 루꼴라 위에 올린 샐러드로, 체리 토마토와 발사믹 글레이즈로 풍미를 더했습니다 [Source: search_menu | 스테이크 | ./data/restaurant_menu.txt].\n"
     ]
    }
   ],
   "execution_count": 19
  },
  {
   "metadata": {},
   "cell_type": "markdown",
   "source": [
    "### tools_condiction 함수 이용하여 create_react_agent와 같은 구조 만들기\n",
    "- ![](images/tools_condition.png)"
   ],
   "id": "7dac756a67a19b51"
  },
  {
   "metadata": {
    "ExecuteTime": {
     "end_time": "2025-05-19T15:20:15.854797Z",
     "start_time": "2025-05-19T15:20:15.583392Z"
    }
   },
   "cell_type": "code",
   "source": [
    "from langgraph.prebuilt import tools_condition\n",
    "\n",
    "# 노드 함수 정의\n",
    "def call_model(state: GraphState):\n",
    "    system_message = SystemMessage(content=system_prompt)\n",
    "    messages = [system_message] + state['messages']\n",
    "    response = llm_with_tools.invoke(messages)\n",
    "    return {\"messages\": [response]}\n",
    "\n",
    "# 그래프 구성\n",
    "builder = StateGraph(GraphState)\n",
    "\n",
    "builder.add_node(\"agent\", call_model)\n",
    "builder.add_node(\"tools\", ToolNode(tools))\n",
    "\n",
    "builder.add_edge(START, \"agent\")\n",
    "\n",
    "# tools_condition을 사용한 조건부 엣지 추가\n",
    "builder.add_conditional_edges(\n",
    "    \"agent\",\n",
    "    tools_condition,\n",
    ")\n",
    "\n",
    "builder.add_edge(\"tools\", \"agent\")\n",
    "\n",
    "graph = builder.compile()\n",
    "\n",
    "# 그래프 출력\n",
    "graph"
   ],
   "id": "fb1d4f77c4984af4",
   "outputs": [
    {
     "data": {
      "text/plain": [
       "<langgraph.graph.state.CompiledStateGraph object at 0x0000020CEEABD400>"
      ],
      "image/png": "[encoded data removed]"
     },
     "execution_count": 20,
     "metadata": {},
     "output_type": "execute_result"
    }
   ],
   "execution_count": 20
  },
  {
   "metadata": {
    "ExecuteTime": {
     "end_time": "2025-05-19T15:20:28.332243Z",
     "start_time": "2025-05-19T15:20:15.859686Z"
    }
   },
   "cell_type": "code",
   "source": [
    "# 그래프 실행\n",
    "inputs = {\"messages\": [HumanMessage(content=\"파스타에 어울리는 음료는 무엇인가요?\")]}\n",
    "messages = graph.invoke(inputs)\n",
    "for m in messages['messages']:\n",
    "    m.pretty_print()"
   ],
   "id": "b9db3827b003536f",
   "outputs": [
    {
     "name": "stdout",
     "output_type": "stream",
     "text": [
      "================================\u001B[1m Human Message \u001B[0m=================================\n",
      "\n",
      "파스타에 어울리는 음료는 무엇인가요?\n",
      "==================================\u001B[1m Ai Message \u001B[0m==================================\n",
      "Tool Calls:\n",
      "  search_menu (call_rgJM4LFMFpvAtIapN5pd31Kk)\n",
      " Call ID: call_rgJM4LFMFpvAtIapN5pd31Kk\n",
      "  Args:\n",
      "    query: 파스타 음료 추천\n",
      "  search_web (call_2L2XoXAlMXCTPbaH7qsy0Efe)\n",
      " Call ID: call_2L2XoXAlMXCTPbaH7qsy0Efe\n",
      "  Args:\n",
      "    query: 음식과 어울리는 음료 추천\n",
      "=================================\u001B[1m Tool Message \u001B[0m=================================\n",
      "Name: search_menu\n",
      "\n",
      "<Document source=\"./data/restaurant_menu.txt\"/>\n",
      "6. 해산물 파스타\n",
      "   • 가격: ₩24,000\n",
      "   • 주요 식재료: 링귀네 파스타, 새우, 홍합, 오징어, 토마토 소스\n",
      "   • 설명: 알 덴테로 삶은 링귀네 파스타에 신선한 해산물을 듬뿍 올린 메뉴입니다. 토마토 소스의 산미와 해산물의 감칠맛이 조화를 이루며, 마늘과 올리브 오일로 풍미를 더했습니다. 파슬리를 뿌려 향긋한 맛을 더합니다.\n",
      "</Document>\n",
      "\n",
      "---\n",
      "\n",
      "<Document source=\"./data/restaurant_menu.txt\"/>\n",
      "4. 버섯 크림 수프\n",
      "   • 가격: ₩10,000\n",
      "   • 주요 식재료: 양송이버섯, 표고버섯, 생크림, 트러플 오일\n",
      "   • 설명: 양송이버섯과 표고버섯을 오랜 시간 정성스레 끓여 만든 크림 수프입니다. 부드러운 텍스처와 깊은 버섯 향이 특징이며, 최상급 트러플 오일을 살짝 뿌려 고급스러운 향을 더했습니다. 파슬리를 곱게 다져 고명으로 올려 제공됩니다.\n",
      "</Document>\n",
      "=================================\u001B[1m Tool Message \u001B[0m=================================\n",
      "Name: search_web\n",
      "\n",
      "<Document href=\"https://m.facebook.com/story.php?story_fbid=930455562569634&id=100068155975329\"/>\n",
      "어떤 음식에도 잘 어울리는 음료, #플로리다오렌지주스 ! 샐러드, 튀김과 같은 기름진 음식, 빵 등 무엇과 함께 해도 상큼 달콤한 맛이 잘 어우러진답니다.\n",
      "</Document>\n",
      "\n",
      "---\n",
      "\n",
      "<Document href=\"http://www.kfdn.co.kr/9601\"/>\n",
      "아니라 갈비찜 등 고기가 들어가는 각종 요리 레시피에 활용될 정도로 다양한 음식에 어울리는 음료. 단맛을 내야하는 요리에 콜라를 넣으면 따로 단 맛을 추가하지 않아도 되며, 많은 양념을 가지고 가지 못하는 캠핑장에서 다방면으로 쓰일 수 있다. 또한, 각종 고기를 활용한 음식에 넣으면 고기의 육질이 부드러워질 뿐만 아니라 특유의 누린내도 없앨 수 있다는 장점이 있다.요리뿐만 아니라 콜라는 특유의 짜릿한 청량감으로 인해 고기를 비롯한 구이 음식들의 느끼함을 잡아주고 텁텁함을 해소해 남녀노소 누구나 다 맛있게 즐길 수 있어 캠핑 궁합 음료로 으뜸이다.업계 관계자는 “콜라는 상쾌함과 짜릿함으로 다양한 캠핑 음식에 잘 어울리는 대표적인 청량음료”라며 “요리에 넣으면 요리의 맛도 강화시켜 줄 뿐 아니라 누구나 함께 즐길 수 있어 가족 식사에 함께 곁들이면 맛있고 행복한 캠핑 식사시간을 만들어줄 것”이라고 밝혔다.스테이크에는 로맨틱한 분위기 만들어주는 와인과 무알콜 음료 추천캠핑 그릴로 맛있게 [...] 어울린다. 코카-콜라의 프리미엄 스파클링 음료 ‘슈웹스’, 해태음료의 칵테일 콘셉의 무알콜 과즙음료 ‘썬키스트 블루하와이’, 화이트진로의 무알콜맥주 ‘화이트 제로’ 등이 있다.아이들이 좋아하는 소시지 요리엔 달콤하면서 소화에 도움 주는 과일 음료캠핑장에서 고기류 다음으로 많이 찾는 음식이 소시지다. 소시지를 그냥 구워먹기도 하고 꼬치에 끼워 꼬치구이로도 먹을 수 있어 아이들도 쉽게 즐길 수 있는 캠핑 대표 음식 중 하나다. 이런 소시지 구이에 잘 어울리는 음료는 아이들이 마시기 좋은 달콤하면서도 소화에 도움 주는 과일 음료들이다.파인애플 주스는 특유의 상큼함과 달콤함과 더불어 브로멜린 단백질 분해효소가 함유되어 기름진 음식으로 소화가 안 될 때 많은 도움이 된다.돌(Dole)코리아의 ‘스위티오 파인애플 과즙 100% 주스’는 설탕이나 시럽 등의 식품 첨가물이 전혀 들어가지 않은 100% 파인애플 주스로 설탕이나 시럽으로 인한 칼로리 걱정을 덜 뿐만 아니라 소화에도 탁월한 효능이 [...] 으레 바비큐 요리 등 음식들만 떠올리지만 맛있는 음식과 더불어 중요한 것이 바로 치킨의 맥주와 같이 맛있는 음식과 함께 따라오는 궁합 음료들. 캠핑 음식과의 궁합이 맞는 음료는 음식의 맛을 배가시키는가 하면, 음료 자체만으로도 분위기를 형성해 조금 더 특별한 캠핑을 만들어준다.사랑하는 사람들과의 특별하면서도 행복한 식사시간을 위해 캠핑장 대표 음식별 궁합 음료를 소개한다.콜라닭, 콜라찜닭… 닭요리엔 콜라가 궁합음료남녀노소 누구나 좋아하는 음식 중 하나가 바로 닭요리다. 캠핑에서도 마찬가지로 찜닭부터 훈제요리까지 닭은 많은 이들에게 사랑 받고 있다. 최근 들어서는 캠핑장에서 닭요리를 간편하게 먹을 수 있는 간편 제품과 레시피들이 인기다.그 중 가장 대표적인 것이 바로 콜라닭이다. MBC 예능프로그램 ‘아빠 어디가’에서 윤민수가 요리해서 큰 인기를 얻고 있는 콜라닭은 콜라와 닭 한 마리, 간장만 있어도 쉽게 만들 수 있어 캠핑에서 편리하게 먹을 수 있는 요리 레시피다.콜라는 닭요리뿐만\n",
      "</Document>\n",
      "\n",
      "---\n",
      "\n",
      "<Document href=\"https://post.naver.com/viewer/postView.nhn?volumeNo=11000408&memberNo=25041664\"/>\n",
      "세계 각지의 음식과 곁들이면 더 맛있게 즐길 수 있는 궁합 음료를 소개한다. 01. 스테이크·생선요리 + 와인. '와인 페어링' 하면 보통 레드와인은\n",
      "</Document>\n",
      "==================================\u001B[1m Ai Message \u001B[0m==================================\n",
      "\n",
      "파스타에 어울리는 음료로는 주로 다음과 같은 옵션이 추천됩니다:\n",
      "\n",
      "1. **레드 와인**: 특히 토마토 소스가 사용된 파스타에는 풀바디의 레드 와인이 잘 어울립니다. 일반적으로 이탈리안 와인이 좋습니다.\n",
      "2. **화이트 와인**: 크림 소스나 해산물이 포함된 파스타에는 드라이한 화이트 와인이 가장 적합합니다.\n",
      "3. **맥주**: 상큼한 라거나 IPA도 알콜을 포함한 옵션으로 인기가 있습니다. 특히 고소한 소스와 잘 어울립니다.\n",
      "4. **스파클링 워터**: 위산을 중화 시켜주고, 식사를 가볍게 해 주는 효과가 있어 좋은 선택이 됩니다.\n",
      "5. **허브 티**: 차가운 음료를 원할 때는 민트티 또는 레몬그래스 차와 같은 허브 차가 상큼한 맛을 추가해 줄 수 있습니다.\n",
      "\n",
      "이 중에서 개인의 취향에 맞는 음료를 선택하면 됩니다. 파스타의 소스와 재료에 따라서도 적절한 음료는 달라질 수 있으니, 음료의 선택 시 참고하시면 좋습니다[Source: search_web | 음식을 곁들이는 음료 추천 | https://m.facebook.com/story.php?story_fbid=930455562569634&id=100068155975329].\n"
     ]
    }
   ],
   "execution_count": 21
  },
  {
   "metadata": {},
   "cell_type": "markdown",
   "source": [
    "## MemorySaver\n",
    "### MemorySaver와 MessageState와의 차이점\n",
    "* MemorySaver\n",
    "- MemorySaver는 대화 기록을 외부 저장소에 영구적으로 저장하는 역할을 합니다.\n",
    "- **주요 용도**: 대화 이력의 영구 저장 및 검색\n",
    "- **특징**:\n",
    "  - 다양한 백엔드 저장소(데이터베이스, 파일 시스템 등)와 통합 가능\n",
    "  - 대화 히스토리를 세션 간에도 유지할 수 있음\n",
    "  - 대화 이력을 장기간 보존하여 나중에 분석하거나 재사용할 수 있음\n",
    "  - 일반적으로 시스템 수준의 저장소와 연결됨\n",
    "\n",
    "* MessageState\n",
    "- MessageState는 현재 실행 중인 대화 그래프의 컨텍스트 내에서 메시지를 관리합니다.\n",
    "- **주요 용도**: 대화 흐름 내 메시지 상태 관리\n",
    "- **특징**:\n",
    "  - 그래프 실행 컨텍스트 내에서 메시지 상태를 관리\n",
    "  - 주로 단일 세션 또는 대화 흐름 내에서 작동\n",
    "  - 대화 컨텍스트를 유지하면서 노드 간에 메시지를 전달\n",
    "  - 주로 메모리에 존재하며 대화 그래프 실행 중에만 유효함\n",
    "\n",
    "* 주요 차이점\n",
    "1. **범위**: MessageState는 현재 실행 중인 그래프 내에서 작동하는 반면, MemorySaver는 그래프 실행을 넘어서 데이터를 유지합니다.\n",
    "2. **지속성**: MessageState는 임시적(in-memory)인 반면, MemorySaver는 영구적 저장을 목적으로 합니다.\n",
    "3. **사용 목적**: MessageState는 대화 흐름 제어에 초점을 맞춘 반면, MemorySaver는 대화 이력의 보존과 검색에 중점을 둡니다.\n",
    "\n",
    "> 실제 애플리케이션에서는 두 가지를 함께 사용하는 경우가 많습니다. MessageState로 현재 대화 흐름을 관리하면서, MemorySaver를 통해 중요한 대화 내용을 영구적으로 저장하는 방식입니다."
   ],
   "id": "f2b879979736bcca"
  },
  {
   "metadata": {
    "ExecuteTime": {
     "end_time": "2025-05-19T15:20:30.090457Z",
     "start_time": "2025-05-19T15:20:28.351Z"
    }
   },
   "cell_type": "code",
   "source": [
    "# 그래프 실행 - 이전 대화 내용을 기억하는지 못하는 문제가 있음\n",
    "inputs = {\"messages\": [HumanMessage(content=\"이 중에 하나만 추천해주세요.\")]}\n",
    "messages = graph.invoke(inputs)\n",
    "for m in messages['messages']:\n",
    "    m.pretty_print()"
   ],
   "id": "af8d43022417046e",
   "outputs": [
    {
     "name": "stdout",
     "output_type": "stream",
     "text": [
      "================================\u001B[1m Human Message \u001B[0m=================================\n",
      "\n",
      "이 중에 하나만 추천해주세요.\n",
      "==================================\u001B[1m Ai Message \u001B[0m==================================\n",
      "\n",
      "추천할 항목을 알려주시면, 해당 정보에 대해 조사하거나 추천할 수 있도록 도와드리겠습니다. 어떤 목록에서 하나를 추천받고 싶으신가요?\n"
     ]
    }
   ],
   "execution_count": 22
  },
  {
   "metadata": {
    "ExecuteTime": {
     "end_time": "2025-05-19T15:20:30.126580Z",
     "start_time": "2025-05-19T15:20:30.098656Z"
    }
   },
   "cell_type": "code",
   "source": [
    "from langgraph.checkpoint.memory import MemorySaver\n",
    "\n",
    "# 메모리 초기화\n",
    "memory = MemorySaver()\n",
    "\n",
    "# 체크포인터 지정하여 그래프 컴파일\n",
    "graph_memory = builder.compile(checkpointer=memory)"
   ],
   "id": "c35e97cc34ea286f",
   "outputs": [],
   "execution_count": 23
  },
  {
   "metadata": {
    "ExecuteTime": {
     "end_time": "2025-05-19T15:20:34.651875Z",
     "start_time": "2025-05-19T15:20:30.134034Z"
    }
   },
   "cell_type": "code",
   "source": [
    "config = {\"configurable\": {\"thread_id\": \"1\"}}\n",
    "messages = [HumanMessage(content=\"스테이크 메뉴의 가격은 얼마인가요?\")]\n",
    "messages = graph_memory.invoke({\"messages\": messages}, config)\n",
    "for m in messages['messages']:\n",
    "    m.pretty_print()"
   ],
   "id": "e3393cc4288ac677",
   "outputs": [
    {
     "name": "stdout",
     "output_type": "stream",
     "text": [
      "================================\u001B[1m Human Message \u001B[0m=================================\n",
      "\n",
      "스테이크 메뉴의 가격은 얼마인가요?\n",
      "==================================\u001B[1m Ai Message \u001B[0m==================================\n",
      "Tool Calls:\n",
      "  search_menu (call_jNG54pLVPJjK2uBPF5p3iyyr)\n",
      " Call ID: call_jNG54pLVPJjK2uBPF5p3iyyr\n",
      "  Args:\n",
      "    query: 스테이크\n",
      "=================================\u001B[1m Tool Message \u001B[0m=================================\n",
      "Name: search_menu\n",
      "\n",
      "<Document source=\"./data/restaurant_menu.txt\"/>\n",
      "8. 안심 스테이크 샐러드\n",
      "   • 가격: ₩26,000\n",
      "   • 주요 식재료: 소고기 안심, 루꼴라, 체리 토마토, 발사믹 글레이즈\n",
      "   • 설명: 부드러운 안심 스테이크를 얇게 슬라이스하여 신선한 루꼴라 위에 올린 메인 요리 샐러드입니다. 체리 토마토와 파마산 치즈 플레이크로 풍미를 더하고, 발사믹 글레이즈로 마무리하여 고기의 풍미를 한층 끌어올렸습니다.\n",
      "</Document>\n",
      "\n",
      "---\n",
      "\n",
      "<Document source=\"./data/restaurant_menu.txt\"/>\n",
      "7. 랍스터 비스크\n",
      "   • 가격: ₩28,000\n",
      "   • 주요 식재료: 랍스터, 생크림, 브랜디, 파프리카\n",
      "   • 설명: 랍스터 껍질과 육수로 오랜 시간 우려낸 진한 비스크 수프입니다. 생크림으로 부드러운 질감을 더하고 브랜디로 깊은 풍미를 살렸습니다. 작은 랍스터 살을 토핑으로 올려 고급스러움을 더했습니다.\n",
      "</Document>\n",
      "==================================\u001B[1m Ai Message \u001B[0m==================================\n",
      "\n",
      "스테이크 메뉴 중 하나인 안심 스테이크 샐러드의 가격은 ₩26,000입니다. 이 요리는 소고기 안심을 얇게 슬라이스하여 신선한 루꼴라와 체리 토마토 위에 올리고, 발사믹 글레이즈로 풍미를 더한 샐러드입니다. \n",
      "\n",
      "다른 스테이크 메뉴가 필요한 경우, 추가로 정보를 제공해 드릴 수 있습니다. [Source: search_menu | 스테이크 메뉴 | ./data/restaurant_menu.txt]\n"
     ]
    }
   ],
   "execution_count": 24
  },
  {
   "metadata": {
    "ExecuteTime": {
     "end_time": "2025-05-19T15:20:36.344597Z",
     "start_time": "2025-05-19T15:20:34.667134Z"
    }
   },
   "cell_type": "code",
   "source": [
    "config = {\"configurable\": {\"thread_id\": \"1\"}}\n",
    "messages = [HumanMessage(content=\"둘 중에 더 저렴한 메뉴는 무엇인가요?\")]\n",
    "messages = graph_memory.invoke({\"messages\": messages}, config)\n",
    "for m in messages['messages']:\n",
    "    m.pretty_print()"
   ],
   "id": "5e43e907d4b61743",
   "outputs": [
    {
     "name": "stdout",
     "output_type": "stream",
     "text": [
      "================================\u001B[1m Human Message \u001B[0m=================================\n",
      "\n",
      "스테이크 메뉴의 가격은 얼마인가요?\n",
      "==================================\u001B[1m Ai Message \u001B[0m==================================\n",
      "Tool Calls:\n",
      "  search_menu (call_jNG54pLVPJjK2uBPF5p3iyyr)\n",
      " Call ID: call_jNG54pLVPJjK2uBPF5p3iyyr\n",
      "  Args:\n",
      "    query: 스테이크\n",
      "=================================\u001B[1m Tool Message \u001B[0m=================================\n",
      "Name: search_menu\n",
      "\n",
      "<Document source=\"./data/restaurant_menu.txt\"/>\n",
      "8. 안심 스테이크 샐러드\n",
      "   • 가격: ₩26,000\n",
      "   • 주요 식재료: 소고기 안심, 루꼴라, 체리 토마토, 발사믹 글레이즈\n",
      "   • 설명: 부드러운 안심 스테이크를 얇게 슬라이스하여 신선한 루꼴라 위에 올린 메인 요리 샐러드입니다. 체리 토마토와 파마산 치즈 플레이크로 풍미를 더하고, 발사믹 글레이즈로 마무리하여 고기의 풍미를 한층 끌어올렸습니다.\n",
      "</Document>\n",
      "\n",
      "---\n",
      "\n",
      "<Document source=\"./data/restaurant_menu.txt\"/>\n",
      "7. 랍스터 비스크\n",
      "   • 가격: ₩28,000\n",
      "   • 주요 식재료: 랍스터, 생크림, 브랜디, 파프리카\n",
      "   • 설명: 랍스터 껍질과 육수로 오랜 시간 우려낸 진한 비스크 수프입니다. 생크림으로 부드러운 질감을 더하고 브랜디로 깊은 풍미를 살렸습니다. 작은 랍스터 살을 토핑으로 올려 고급스러움을 더했습니다.\n",
      "</Document>\n",
      "==================================\u001B[1m Ai Message \u001B[0m==================================\n",
      "\n",
      "스테이크 메뉴 중 하나인 안심 스테이크 샐러드의 가격은 ₩26,000입니다. 이 요리는 소고기 안심을 얇게 슬라이스하여 신선한 루꼴라와 체리 토마토 위에 올리고, 발사믹 글레이즈로 풍미를 더한 샐러드입니다. \n",
      "\n",
      "다른 스테이크 메뉴가 필요한 경우, 추가로 정보를 제공해 드릴 수 있습니다. [Source: search_menu | 스테이크 메뉴 | ./data/restaurant_menu.txt]\n",
      "================================\u001B[1m Human Message \u001B[0m=================================\n",
      "\n",
      "둘 중에 더 저렴한 메뉴는 무엇인가요?\n",
      "==================================\u001B[1m Ai Message \u001B[0m==================================\n",
      "\n",
      "스테이크 메뉴인 안심 스테이크 샐러드는 ₩26,000이고, 다른 메뉴인 랍스터 비스크는 ₩28,000입니다. 따라서 더 저렴한 메뉴는 안심 스테이크 샐러드입니다. \n",
      "\n",
      "[Source: search_menu | 스테이크 메뉴 | ./data/restaurant_menu.txt]\n"
     ]
    }
   ],
   "execution_count": 25
  },
  {
   "metadata": {},
   "cell_type": "markdown",
   "source": "### 내장 ReAct에 반영",
   "id": "4ac962d32d7d5956"
  },
  {
   "metadata": {
    "ExecuteTime": {
     "end_time": "2025-05-19T15:20:36.614162Z",
     "start_time": "2025-05-19T15:20:36.356356Z"
    }
   },
   "cell_type": "code",
   "source": [
    "from langgraph.prebuilt import create_react_agent\n",
    "from langgraph.checkpoint.memory import MemorySaver\n",
    "from IPython.display import Image, display\n",
    "\n",
    "# 메모리 초기화\n",
    "memory = MemorySaver()\n",
    "\n",
    "# 그래프 생성\n",
    "graph = create_react_agent(\n",
    "    llm,\n",
    "    tools=tools,\n",
    "    state_modifier=system_prompt,\n",
    "    checkpointer=memory,\n",
    "    )\n",
    "\n",
    "# 그래프 출력\n",
    "graph"
   ],
   "id": "1b635c059f6dd3a8",
   "outputs": [
    {
     "data": {
      "text/plain": [
       "<langgraph.graph.state.CompiledStateGraph object at 0x0000020CBD0C67B0>"
      ],
      "image/png": "[encoded data removed]"
     },
     "execution_count": 26,
     "metadata": {},
     "output_type": "execute_result"
    }
   ],
   "execution_count": 26
  },
  {
   "metadata": {
    "ExecuteTime": {
     "end_time": "2025-05-19T15:20:40.402164Z",
     "start_time": "2025-05-19T15:20:36.622806Z"
    }
   },
   "cell_type": "code",
   "source": [
    "config = {\"configurable\": {\"thread_id\": \"2\"}}\n",
    "messages = [HumanMessage(content=\"채식주의자를 위한 메뉴가 있나요?\")]\n",
    "messages = graph.invoke({\"messages\": messages}, config)\n",
    "for m in messages['messages']:\n",
    "    m.pretty_print()"
   ],
   "id": "401b49feda193e1e",
   "outputs": [
    {
     "name": "stdout",
     "output_type": "stream",
     "text": [
      "================================\u001B[1m Human Message \u001B[0m=================================\n",
      "\n",
      "채식주의자를 위한 메뉴가 있나요?\n",
      "==================================\u001B[1m Ai Message \u001B[0m==================================\n",
      "Tool Calls:\n",
      "  search_menu (call_hE5miGxccONuTXK1dfdgxdMb)\n",
      " Call ID: call_hE5miGxccONuTXK1dfdgxdMb\n",
      "  Args:\n",
      "    query: 채식주의자 메뉴\n",
      "=================================\u001B[1m Tool Message \u001B[0m=================================\n",
      "Name: search_menu\n",
      "\n",
      "<Document source=\"./data/restaurant_menu.txt\"/>\n",
      "9. 치킨 콘피\n",
      "   • 가격: ₩23,000\n",
      "   • 주요 식재료: 닭다리살, 허브, 마늘, 올리브 오일\n",
      "   • 설명: 닭다리살을 허브와 마늘을 넣은 올리브 오일에 저온에서 장시간 조리한 프랑스 요리입니다. 부드럽고 촉촉한 육질이 특징이며, 로즈메리 감자와 제철 채소를 곁들여 제공합니다. 레몬 제스트를 뿌려 상큼한 향을 더했습니다.\n",
      "</Document>\n",
      "\n",
      "---\n",
      "\n",
      "<Document source=\"./data/restaurant_menu.txt\"/>\n",
      "3. 연어 타르타르\n",
      "   • 가격: ₩18,000\n",
      "   • 주요 식재료: 노르웨이산 생연어, 아보카도, 케이퍼, 적양파\n",
      "   • 설명: 신선한 노르웨이산 생연어를 곱게 다져 아보카도, 케이퍼, 적양파와 함께 섞어 만든 타르타르입니다. 레몬 드레싱으로 상큼한 맛을 더했으며, 바삭한 브리오쉬 토스트와 함께 제공됩니다. 전채요리로 완벽한 메뉴입니다.\n",
      "</Document>\n",
      "==================================\u001B[1m Ai Message \u001B[0m==================================\n",
      "\n",
      "현재 제공된 메뉴에는 채식주의자를 위한 특별한 메뉴 항목이 포함되어 있지 않습니다. 메뉴에 있는 요리는 모두 육류나 해산물이 포함되어 있습니다. \n",
      "\n",
      "채식주의자를 위한 메뉴를 원하신다면 레스토랑에 직접 문의하여 특별 요청을 하거나, 별도의 채식 메뉴가 제공되는지 확인하는 것이 좋습니다.\n"
     ]
    }
   ],
   "execution_count": 27
  },
  {
   "metadata": {
    "ExecuteTime": {
     "end_time": "2025-05-19T15:20:42.629410Z",
     "start_time": "2025-05-19T15:20:40.412459Z"
    }
   },
   "cell_type": "code",
   "source": [
    "config = {\"configurable\": {\"thread_id\": \"2\"}}\n",
    "messages = [HumanMessage(content=\"방금 답변에 대한 출처가 있나요?\")]\n",
    "messages = graph.invoke({\"messages\": messages}, config)\n",
    "for m in messages['messages']:\n",
    "    m.pretty_print()"
   ],
   "id": "dceb210e17a4e15f",
   "outputs": [
    {
     "name": "stdout",
     "output_type": "stream",
     "text": [
      "================================\u001B[1m Human Message \u001B[0m=================================\n",
      "\n",
      "채식주의자를 위한 메뉴가 있나요?\n",
      "==================================\u001B[1m Ai Message \u001B[0m==================================\n",
      "Tool Calls:\n",
      "  search_menu (call_hE5miGxccONuTXK1dfdgxdMb)\n",
      " Call ID: call_hE5miGxccONuTXK1dfdgxdMb\n",
      "  Args:\n",
      "    query: 채식주의자 메뉴\n",
      "=================================\u001B[1m Tool Message \u001B[0m=================================\n",
      "Name: search_menu\n",
      "\n",
      "<Document source=\"./data/restaurant_menu.txt\"/>\n",
      "9. 치킨 콘피\n",
      "   • 가격: ₩23,000\n",
      "   • 주요 식재료: 닭다리살, 허브, 마늘, 올리브 오일\n",
      "   • 설명: 닭다리살을 허브와 마늘을 넣은 올리브 오일에 저온에서 장시간 조리한 프랑스 요리입니다. 부드럽고 촉촉한 육질이 특징이며, 로즈메리 감자와 제철 채소를 곁들여 제공합니다. 레몬 제스트를 뿌려 상큼한 향을 더했습니다.\n",
      "</Document>\n",
      "\n",
      "---\n",
      "\n",
      "<Document source=\"./data/restaurant_menu.txt\"/>\n",
      "3. 연어 타르타르\n",
      "   • 가격: ₩18,000\n",
      "   • 주요 식재료: 노르웨이산 생연어, 아보카도, 케이퍼, 적양파\n",
      "   • 설명: 신선한 노르웨이산 생연어를 곱게 다져 아보카도, 케이퍼, 적양파와 함께 섞어 만든 타르타르입니다. 레몬 드레싱으로 상큼한 맛을 더했으며, 바삭한 브리오쉬 토스트와 함께 제공됩니다. 전채요리로 완벽한 메뉴입니다.\n",
      "</Document>\n",
      "==================================\u001B[1m Ai Message \u001B[0m==================================\n",
      "\n",
      "현재 제공된 메뉴에는 채식주의자를 위한 특별한 메뉴 항목이 포함되어 있지 않습니다. 메뉴에 있는 요리는 모두 육류나 해산물이 포함되어 있습니다. \n",
      "\n",
      "채식주의자를 위한 메뉴를 원하신다면 레스토랑에 직접 문의하여 특별 요청을 하거나, 별도의 채식 메뉴가 제공되는지 확인하는 것이 좋습니다.\n",
      "================================\u001B[1m Human Message \u001B[0m=================================\n",
      "\n",
      "방금 답변에 대한 출처가 있나요?\n",
      "==================================\u001B[1m Ai Message \u001B[0m==================================\n",
      "\n",
      "네, 제가 제공한 정보는 다음과 같은 출처를 기반으로 하고 있습니다:\n",
      "\n",
      "- 메뉴 정보가 포함된 문서에서 채식주의자에 적합한 메뉴가 없다는 내용을 확인했습니다. 확인된 메뉴 항목으로는 치킨 콘피와 연어 타르타르 등이 있으며, 모두 육류나 해산물이 포함되어 있습니다. \n",
      "\n",
      "출처: [Source: search_menu | 채식주의자 메뉴 | ./data/restaurant_menu.txt] \n",
      "\n",
      "이로 인해 채식주의자를 위한 메뉴가 현재 제공되지 않음을 안내드렸습니다.\n"
     ]
    }
   ],
   "execution_count": 28
  },
  {
   "metadata": {
    "ExecuteTime": {
     "end_time": "2025-05-19T15:20:42.665291Z",
     "start_time": "2025-05-19T15:20:42.662445Z"
    }
   },
   "cell_type": "code",
   "source": "",
   "id": "9c57a9f29ed376f9",
   "outputs": [],
   "execution_count": null
  }
 ],
 "metadata": {
  "kernelspec": {
   "display_name": "Python 3",
   "language": "python",
   "name": "python3"
  },
  "language_info": {
   "codemirror_mode": {
    "name": "ipython",
    "version": 2
   },
   "file_extension": ".py",
   "mimetype": "text/x-python",
   "name": "python",
   "nbconvert_exporter": "python",
   "pygments_lexer": "ipython2",
   "version": "2.7.6"
  }
 },
 "nbformat": 4,
 "nbformat_minor": 5
}
