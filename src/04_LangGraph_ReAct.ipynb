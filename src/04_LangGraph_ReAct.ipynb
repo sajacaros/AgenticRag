{
 "cells": [
  {
   "metadata": {},
   "cell_type": "markdown",
   "source": [
    "# ReAct(Reasoning + Acting)\n",
    "* 추론과 행동을 결합한 접근 방식"
   ],
   "id": "bd41e6fa32f56ff2"
  },
  {
   "metadata": {
    "ExecuteTime": {
     "end_time": "2025-05-18T10:40:12.264390Z",
     "start_time": "2025-05-18T10:40:12.256446Z"
    }
   },
   "cell_type": "code",
   "source": [
    "from dotenv import load_dotenv\n",
    "\n",
    "load_dotenv()"
   ],
   "id": "8e614382695ecbc9",
   "outputs": [
    {
     "data": {
      "text/plain": [
       "True"
      ]
     },
     "execution_count": 62,
     "metadata": {},
     "output_type": "execute_result"
    }
   ],
   "execution_count": 62
  },
  {
   "metadata": {
    "ExecuteTime": {
     "end_time": "2025-05-18T10:40:12.285397Z",
     "start_time": "2025-05-18T10:40:12.281396Z"
    }
   },
   "cell_type": "code",
   "source": [
    "import re\n",
    "import os, json\n",
    "\n",
    "from textwrap import dedent\n",
    "from pprint import pprint\n",
    "\n",
    "import uuid\n",
    "\n",
    "import warnings\n",
    "warnings.filterwarnings(\"ignore\")"
   ],
   "id": "a75b9039463259a7",
   "outputs": [],
   "execution_count": 63
  },
  {
   "metadata": {
    "ExecuteTime": {
     "end_time": "2025-05-18T10:40:12.923636Z",
     "start_time": "2025-05-18T10:40:12.298163Z"
    }
   },
   "cell_type": "code",
   "source": [
    "from langchain_openai import OpenAIEmbeddings\n",
    "from langchain_chroma import Chroma\n",
    "from langchain_core.tools import tool\n",
    "from typing import List\n",
    "\n",
    "embeddings_model = OpenAIEmbeddings(model=\"text-embedding-3-small\")\n",
    "\n",
    "# Chroma 인덱스 로드\n",
    "vector_db = Chroma(\n",
    "    embedding_function=embeddings_model,\n",
    "    collection_name=\"restaurant_menu\",\n",
    "    persist_directory=\"./chroma_db\",\n",
    ")\n",
    "\n",
    "# Tool 정의\n",
    "@tool\n",
    "def search_menu(query: str) -> List[str]:\n",
    "    \"\"\"레스토랑 메뉴에서 정보를 검색합니다.\"\"\"\n",
    "    docs = vector_db.similarity_search(query, k=2)\n",
    "\n",
    "    formatted_docs = \"\\n\\n---\\n\\n\".join(\n",
    "        [\n",
    "            f'<Document source=\"{doc.metadata[\"source\"]}\"/>\\n{doc.page_content}\\n</Document>'\n",
    "            for doc in docs\n",
    "        ]\n",
    "    )\n",
    "\n",
    "    if len(docs) > 0:\n",
    "        return formatted_docs\n",
    "\n",
    "    return \"관련 메뉴 정보를 찾을 수 없습니다.\""
   ],
   "id": "69b3220ec786087f",
   "outputs": [],
   "execution_count": 64
  },
  {
   "metadata": {
    "ExecuteTime": {
     "end_time": "2025-05-18T10:40:12.936755Z",
     "start_time": "2025-05-18T10:40:12.931081Z"
    }
   },
   "cell_type": "code",
   "source": [
    "from langchain_community.tools import TavilySearchResults\n",
    "\n",
    "\n",
    "# Tool 정의\n",
    "@tool\n",
    "def search_web(query: str) -> List[str]:\n",
    "    \"\"\"데이터베이스에 존재하지 않는 정보 또는 최신 정보를 인터넷에서 검색합니다.\"\"\"\n",
    "\n",
    "    tavily_search = TavilySearchResults(max_results=3)\n",
    "    docs = tavily_search.invoke(query)\n",
    "\n",
    "    formatted_docs = \"\\n\\n---\\n\\n\".join(\n",
    "        [\n",
    "            f'<Document href=\"{doc[\"url\"]}\"/>\\n{doc[\"content\"]}\\n</Document>'\n",
    "            for doc in docs\n",
    "        ]\n",
    "    )\n",
    "\n",
    "    if len(docs) > 0:\n",
    "        return formatted_docs\n",
    "\n",
    "    return \"관련 정보를 찾을 수 없습니다.\""
   ],
   "id": "805e7af698cf43d5",
   "outputs": [],
   "execution_count": 65
  },
  {
   "metadata": {
    "ExecuteTime": {
     "end_time": "2025-05-18T10:40:13.322408Z",
     "start_time": "2025-05-18T10:40:12.944068Z"
    }
   },
   "cell_type": "code",
   "source": [
    "from langchain_openai import ChatOpenAI\n",
    "\n",
    "# LLM 모델\n",
    "llm = ChatOpenAI(model=\"gpt-4o-mini\", streaming=True)\n",
    "\n",
    "# 도구 목록\n",
    "tools = [search_menu, search_web]\n",
    "\n",
    "# 모델에 도구를 바인딩\n",
    "llm_with_tools = llm.bind_tools(tools=tools)"
   ],
   "id": "b8002c7bd35c24ba",
   "outputs": [],
   "execution_count": 66
  },
  {
   "metadata": {
    "ExecuteTime": {
     "end_time": "2025-05-18T10:40:14.905364Z",
     "start_time": "2025-05-18T10:40:13.328811Z"
    }
   },
   "cell_type": "code",
   "source": [
    "from langchain_core.messages import HumanMessage\n",
    "\n",
    "# 도구 호출\n",
    "tool_call = llm_with_tools.invoke([HumanMessage(content=f\"스테이크 메뉴의 가격은 얼마인가요?\")])\n",
    "\n",
    "# 결과 출력\n",
    "print(tool_call.additional_kwargs)"
   ],
   "id": "441b1e6b5e87d4d4",
   "outputs": [
    {
     "name": "stdout",
     "output_type": "stream",
     "text": [
      "{'tool_calls': [{'index': 0, 'id': 'call_kpZC6mKZXz6oNVsIxlp68bZH', 'function': {'arguments': '{\"query\":\"스테이크\"}', 'name': 'search_menu'}, 'type': 'function'}]}\n"
     ]
    }
   ],
   "execution_count": 67
  },
  {
   "metadata": {
    "ExecuteTime": {
     "end_time": "2025-05-18T10:40:15.890315Z",
     "start_time": "2025-05-18T10:40:14.912461Z"
    }
   },
   "cell_type": "code",
   "source": [
    "# 도구 호출\n",
    "ai_msg = llm_with_tools.invoke([HumanMessage(content=f\"3+3은 얼마인가요?\")])\n",
    "\n",
    "# 결과 출력\n",
    "print(ai_msg.additional_kwargs)"
   ],
   "id": "99ddb372c61bcb22",
   "outputs": [
    {
     "name": "stdout",
     "output_type": "stream",
     "text": [
      "{}\n"
     ]
    }
   ],
   "execution_count": 68
  },
  {
   "metadata": {
    "ExecuteTime": {
     "end_time": "2025-05-18T10:40:16.756319Z",
     "start_time": "2025-05-18T10:40:15.898723Z"
    }
   },
   "cell_type": "code",
   "source": [
    "# 도구 호출\n",
    "ai_msg = llm_with_tools.invoke([HumanMessage(content=f\"LangGraph는 무엇인가요?\")])\n",
    "\n",
    "# 결과 출력\n",
    "print(ai_msg)\n"
   ],
   "id": "b75bfe7c3682452",
   "outputs": [
    {
     "name": "stdout",
     "output_type": "stream",
     "text": [
      "content='' additional_kwargs={'tool_calls': [{'index': 0, 'id': 'call_dgn0st6mZRSnJ7RYApAZMUIJ', 'function': {'arguments': '{\"query\":\"LangGraph\"}', 'name': 'search_web'}, 'type': 'function'}]} response_metadata={'finish_reason': 'tool_calls', 'model_name': 'gpt-4o-mini-2024-07-18', 'system_fingerprint': 'fp_0392822090', 'service_tier': 'default'} id='run--b37047fd-96d6-4c42-b1b7-5eea8be5f24d-0' tool_calls=[{'name': 'search_web', 'args': {'query': 'LangGraph'}, 'id': 'call_dgn0st6mZRSnJ7RYApAZMUIJ', 'type': 'tool_call'}]\n"
     ]
    }
   ],
   "execution_count": 69
  },
  {
   "metadata": {
    "ExecuteTime": {
     "end_time": "2025-05-18T10:40:19.500637Z",
     "start_time": "2025-05-18T10:40:16.768408Z"
    }
   },
   "cell_type": "code",
   "source": [
    "for tool_call in ai_msg.tool_calls:\n",
    "    print(f\"{tool_call['name']}: \\n{tool_call}\")\n",
    "    print(\"-\"*100)\n",
    "\n",
    "    tool_message = None\n",
    "    if tool_call[\"name\"] == \"search_menu\":\n",
    "        tool_message = search_menu.invoke(tool_call)\n",
    "    if tool_call[\"name\"] == \"search_web\":\n",
    "        tool_message = search_web.invoke(tool_call)\n",
    "    print(tool_message.content)\n"
   ],
   "id": "89e94587e219630b",
   "outputs": [
    {
     "name": "stdout",
     "output_type": "stream",
     "text": [
      "search_web: \n",
      "{'name': 'search_web', 'args': {'query': 'LangGraph'}, 'id': 'call_dgn0st6mZRSnJ7RYApAZMUIJ', 'type': 'tool_call'}\n",
      "----------------------------------------------------------------------------------------------------\n",
      "<Document href=\"https://www.ibm.com/think/topics/langgraph\"/>\n",
      "LangGraph, created by LangChain, is an open source AI agent framework designed to build, deploy and manage complex generative AI agent workflows. It provides a set of tools and libraries that enable users to create, run and optimize large language models (LLMs) in a scalable and efficient manner. At its core, LangGraph uses the power of graph-based architectures to model and manage the intricate relationships between various components of an AI agent workflow. [...] Agent systems: LangGraph provides a framework for building agent-based systems, which can be used in applications such as robotics, autonomous vehicles or video games.\n",
      "\n",
      "LLM applications: By using LangGraph’s capabilities, developers can build more sophisticated AI models that learn and improve over time. Norwegian Cruise Line uses LangGraph to compile, construct and refine guest-facing AI solutions. This capability allows for improved and personalized guest experiences. [...] By using a graph-based architecture, LangGraph enables users to scale artificial intelligence workflows without slowing down or sacrificing efficiency. LangGraph uses enhanced decision-making by modeling complex relationships between nodes, which means it uses AI agents to analyze their past actions and feedback. In the world of LLMs, this process is referred to as reflection.\n",
      "</Document>\n",
      "\n",
      "---\n",
      "\n",
      "<Document href=\"https://langchain-ai.github.io/langgraph/tutorials/introduction/\"/>\n",
      "[](https://langchain-ai.github.io/langgraph/tutorials/introduction/#__codelineno-9-1)Assistant: LangGraph is a library designed to help build stateful multi-agent applications using language models. It provides tools for creating workflows and state machines to coordinate multiple AI agents or language model interactions. LangGraph is built on top of LangChain, leveraging its components while adding graph-based coordination capabilities. It's particularly useful for developing more complex, [...] [](https://langchain-ai.github.io/langgraph/tutorials/introduction/#__codelineno-21-6)   LangGraph is a library designed for building stateful, multi-actor applications with Large Language Models (LLMs). It's particularly useful for creating agent and multi-agent workflows.\n",
      "[](https://langchain-ai.github.io/langgraph/tutorials/introduction/#__codelineno-21-7)\n",
      "[](https://langchain-ai.github.io/langgraph/tutorials/introduction/#__codelineno-21-8)2. Developer: [...] [](https://langchain-ai.github.io/langgraph/tutorials/introduction/#__codelineno-48-19)LangGraph is likely a framework or library designed specifically for creating AI agents with advanced capabilities. Here are a few points to consider based on this recommendation:\n",
      "[](https://langchain-ai.github.io/langgraph/tutorials/introduction/#__codelineno-48-20)\n",
      "</Document>\n",
      "\n",
      "---\n",
      "\n",
      "<Document href=\"https://github.com/langchain-ai/langgraph\"/>\n",
      "LangGraph — used by Replit, Uber, LinkedIn, GitLab and more — is a low-level orchestration framework for building controllable agents. While langchain provides integrations and composable components to streamline LLM application development, the LangGraph library enables agent orchestration — offering customizable architectures, long-term memory, and human-in-the-loop to reliably handle complex tasks.\n",
      "\n",
      "```\n",
      "pip install -U langgraph\n",
      "```\n",
      "</Document>\n"
     ]
    }
   ],
   "execution_count": 70
  },
  {
   "metadata": {
    "ExecuteTime": {
     "end_time": "2025-05-18T10:40:19.514089Z",
     "start_time": "2025-05-18T10:40:19.510646Z"
    }
   },
   "cell_type": "code",
   "source": "ai_msg",
   "id": "3f0b8f2a2fc36ebe",
   "outputs": [
    {
     "data": {
      "text/plain": [
       "AIMessage(content='', additional_kwargs={'tool_calls': [{'index': 0, 'id': 'call_dgn0st6mZRSnJ7RYApAZMUIJ', 'function': {'arguments': '{\"query\":\"LangGraph\"}', 'name': 'search_web'}, 'type': 'function'}]}, response_metadata={'finish_reason': 'tool_calls', 'model_name': 'gpt-4o-mini-2024-07-18', 'system_fingerprint': 'fp_0392822090', 'service_tier': 'default'}, id='run--b37047fd-96d6-4c42-b1b7-5eea8be5f24d-0', tool_calls=[{'name': 'search_web', 'args': {'query': 'LangGraph'}, 'id': 'call_dgn0st6mZRSnJ7RYApAZMUIJ', 'type': 'tool_call'}])"
      ]
     },
     "execution_count": 71,
     "metadata": {},
     "output_type": "execute_result"
    }
   ],
   "execution_count": 71
  },
  {
   "metadata": {},
   "cell_type": "markdown",
   "source": [
    "## 도구 노드\n",
    "- LLM이 요청한 도구들을 병렬로 실행"
   ],
   "id": "3ebab945aac8134a"
  },
  {
   "metadata": {
    "ExecuteTime": {
     "end_time": "2025-05-18T10:40:19.527677Z",
     "start_time": "2025-05-18T10:40:19.521671Z"
    }
   },
   "cell_type": "code",
   "source": [
    "from langgraph.prebuilt import ToolNode\n",
    "\n",
    "# 도구 노드 정의\n",
    "tool_node = ToolNode(tools=tools)"
   ],
   "id": "dafa243fe7118c29",
   "outputs": [],
   "execution_count": 72
  },
  {
   "metadata": {
    "ExecuteTime": {
     "end_time": "2025-05-18T10:40:20.581030Z",
     "start_time": "2025-05-18T10:40:19.538163Z"
    }
   },
   "cell_type": "code",
   "source": [
    "# 도구 호출\n",
    "ai_msg = llm_with_tools.invoke([HumanMessage(content=f\"LangGraph는 무엇인가요?\")])\n",
    "\n",
    "ai_msg"
   ],
   "id": "5172fdeaf92a0a8d",
   "outputs": [
    {
     "data": {
      "text/plain": [
       "AIMessage(content='', additional_kwargs={'tool_calls': [{'index': 0, 'id': 'call_SlD8wkyBRusCzGqr6KaUln3t', 'function': {'arguments': '{\"query\":\"LangGraph\"}', 'name': 'search_web'}, 'type': 'function'}]}, response_metadata={'finish_reason': 'tool_calls', 'model_name': 'gpt-4o-mini-2024-07-18', 'system_fingerprint': 'fp_0392822090', 'service_tier': 'default'}, id='run--7f279997-e6f3-4829-80c9-283178a952be-0', tool_calls=[{'name': 'search_web', 'args': {'query': 'LangGraph'}, 'id': 'call_SlD8wkyBRusCzGqr6KaUln3t', 'type': 'tool_call'}])"
      ]
     },
     "execution_count": 73,
     "metadata": {},
     "output_type": "execute_result"
    }
   ],
   "execution_count": 73
  },
  {
   "metadata": {
    "ExecuteTime": {
     "end_time": "2025-05-18T10:40:22.406806Z",
     "start_time": "2025-05-18T10:40:20.587056Z"
    }
   },
   "cell_type": "code",
   "source": [
    "# 도구 호출 결과를 메시지로 추가하여 실행\n",
    "results = tool_node.invoke({\"messages\": [ai_msg]})\n",
    "\n",
    "# 실행 결과 출력하여 확인\n",
    "for result in results['messages']:\n",
    "    print(result.content)\n",
    "    print()"
   ],
   "id": "d383bc048bf2c1e1",
   "outputs": [
    {
     "name": "stdout",
     "output_type": "stream",
     "text": [
      "<Document href=\"https://www.ibm.com/think/topics/langgraph\"/>\n",
      "LangGraph, created by LangChain, is an open source AI agent framework designed to build, deploy and manage complex generative AI agent workflows. It provides a set of tools and libraries that enable users to create, run and optimize large language models (LLMs) in a scalable and efficient manner. At its core, LangGraph uses the power of graph-based architectures to model and manage the intricate relationships between various components of an AI agent workflow. [...] Agent systems: LangGraph provides a framework for building agent-based systems, which can be used in applications such as robotics, autonomous vehicles or video games.\n",
      "\n",
      "LLM applications: By using LangGraph’s capabilities, developers can build more sophisticated AI models that learn and improve over time. Norwegian Cruise Line uses LangGraph to compile, construct and refine guest-facing AI solutions. This capability allows for improved and personalized guest experiences. [...] By using a graph-based architecture, LangGraph enables users to scale artificial intelligence workflows without slowing down or sacrificing efficiency. LangGraph uses enhanced decision-making by modeling complex relationships between nodes, which means it uses AI agents to analyze their past actions and feedback. In the world of LLMs, this process is referred to as reflection.\n",
      "</Document>\n",
      "\n",
      "---\n",
      "\n",
      "<Document href=\"https://langchain-ai.github.io/langgraph/tutorials/introduction/\"/>\n",
      "[](https://langchain-ai.github.io/langgraph/tutorials/introduction/#__codelineno-9-1)Assistant: LangGraph is a library designed to help build stateful multi-agent applications using language models. It provides tools for creating workflows and state machines to coordinate multiple AI agents or language model interactions. LangGraph is built on top of LangChain, leveraging its components while adding graph-based coordination capabilities. It's particularly useful for developing more complex, [...] [](https://langchain-ai.github.io/langgraph/tutorials/introduction/#__codelineno-21-6)   LangGraph is a library designed for building stateful, multi-actor applications with Large Language Models (LLMs). It's particularly useful for creating agent and multi-agent workflows.\n",
      "[](https://langchain-ai.github.io/langgraph/tutorials/introduction/#__codelineno-21-7)\n",
      "[](https://langchain-ai.github.io/langgraph/tutorials/introduction/#__codelineno-21-8)2. Developer: [...] [](https://langchain-ai.github.io/langgraph/tutorials/introduction/#__codelineno-48-19)LangGraph is likely a framework or library designed specifically for creating AI agents with advanced capabilities. Here are a few points to consider based on this recommendation:\n",
      "[](https://langchain-ai.github.io/langgraph/tutorials/introduction/#__codelineno-48-20)\n",
      "</Document>\n",
      "\n",
      "---\n",
      "\n",
      "<Document href=\"https://github.com/langchain-ai/langgraph\"/>\n",
      "LangGraph — used by Replit, Uber, LinkedIn, GitLab and more — is a low-level orchestration framework for building controllable agents. While langchain provides integrations and composable components to streamline LLM application development, the LangGraph library enables agent orchestration — offering customizable architectures, long-term memory, and human-in-the-loop to reliably handle complex tasks.\n",
      "\n",
      "```\n",
      "pip install -U langgraph\n",
      "```\n",
      "</Document>\n",
      "\n"
     ]
    }
   ],
   "execution_count": 74
  },
  {
   "metadata": {},
   "cell_type": "markdown",
   "source": [
    "## 랭그래프에 내장된 ReAct 에이전트 사용\n",
    "- create_react_agent\n",
    "    - v0.1 이후 AgentExecutor로 감사지 않아도 됨\n",
    "- AgentExecutor는 왜 남아있을까?\n",
    "| 경우                 | 설명                                          |\n",
    "| ------------------ | ------------------------------------------- |\n",
    "| 🔧 **커스텀 에이전트**    | 직접 만든 Agent 클래스를 실행할 때 (예: ZeroShotAgent 등) |\n",
    "| 🔄 **호환성**         | 구버전 LangChain 코드와의 호환성                      |\n",
    "| 🔍 **디버깅 및 세부 제어** | 중간 단계 추적, 로깅, callback 설정 등                 |\n",
    "| 🧩 **유연한 도구 처리**   | 여러 Agent나 chain을 묶어 실행하는 복잡한 구조 만들 때        |\n",
    "\n",
    "![](images/create_react_agent.png)"
   ],
   "id": "4bc8fb8b8bd25de0"
  },
  {
   "metadata": {
    "ExecuteTime": {
     "end_time": "2025-05-18T10:40:22.767907Z",
     "start_time": "2025-05-18T10:40:22.415334Z"
    }
   },
   "cell_type": "code",
   "source": [
    "from IPython.display import Image, display\n",
    "from langgraph.prebuilt import create_react_agent\n",
    "agent_graph = create_react_agent(\n",
    "    llm,\n",
    "    tools=tools,\n",
    ")\n",
    "\n",
    "# 그래프 출력\n",
    "agent_graph"
   ],
   "id": "ef882b8473e1ac0",
   "outputs": [
    {
     "data": {
      "text/plain": [
       "<langgraph.graph.state.CompiledStateGraph object at 0x0000023A2D2AAD50>"
      ],
      "image/png": "[encoded data removed]"
     },
     "execution_count": 75,
     "metadata": {},
     "output_type": "execute_result"
    }
   ],
   "execution_count": 75
  },
  {
   "metadata": {
    "ExecuteTime": {
     "end_time": "2025-05-18T10:40:28.670259Z",
     "start_time": "2025-05-18T10:40:22.779649Z"
    }
   },
   "cell_type": "code",
   "source": [
    "# 그래프 실행\n",
    "inputs = {\"messages\": [HumanMessage(content=\"스테이크 메뉴의 가격은 얼마인가요?\")]}\n",
    "messages = agent_graph.invoke(inputs)\n",
    "for m in messages['messages']:\n",
    "    m.pretty_print()"
   ],
   "id": "c7454b508c6e2815",
   "outputs": [
    {
     "name": "stdout",
     "output_type": "stream",
     "text": [
      "================================\u001B[1m Human Message \u001B[0m=================================\n",
      "\n",
      "스테이크 메뉴의 가격은 얼마인가요?\n",
      "==================================\u001B[1m Ai Message \u001B[0m==================================\n",
      "Tool Calls:\n",
      "  search_menu (call_1kaBdkm41GrZOQM4RJ2P7Ko2)\n",
      " Call ID: call_1kaBdkm41GrZOQM4RJ2P7Ko2\n",
      "  Args:\n",
      "    query: steak\n",
      "=================================\u001B[1m Tool Message \u001B[0m=================================\n",
      "Name: search_menu\n",
      "\n",
      "<Document source=\"./data/restaurant_menu.txt\"/>\n",
      "8. 안심 스테이크 샐러드\n",
      "   • 가격: ₩26,000\n",
      "   • 주요 식재료: 소고기 안심, 루꼴라, 체리 토마토, 발사믹 글레이즈\n",
      "   • 설명: 부드러운 안심 스테이크를 얇게 슬라이스하여 신선한 루꼴라 위에 올린 메인 요리 샐러드입니다. 체리 토마토와 파마산 치즈 플레이크로 풍미를 더하고, 발사믹 글레이즈로 마무리하여 고기의 풍미를 한층 끌어올렸습니다.\n",
      "</Document>\n",
      "\n",
      "---\n",
      "\n",
      "<Document source=\"./data/restaurant_menu.txt\"/>\n",
      "1. 시그니처 스테이크\n",
      "   • 가격: ₩35,000\n",
      "   • 주요 식재료: 최상급 한우 등심, 로즈메리 감자, 그릴드 아스파라거스\n",
      "   • 설명: 셰프의 특제 시그니처 메뉴로, 21일간 건조 숙성한 최상급 한우 등심을 사용합니다. 미디엄 레어로 조리하여 육즙을 최대한 보존하며, 로즈메리 향의 감자와 아삭한 그릴드 아스파라거스가 곁들여집니다. 레드와인 소스와 함께 제공되어 풍부한 맛을 더합니다.\n",
      "</Document>\n",
      "==================================\u001B[1m Ai Message \u001B[0m==================================\n",
      "\n",
      "스테이크 메뉴의 가격은 다음과 같습니다:\n",
      "\n",
      "1. **시그니처 스테이크**: ₩35,000\n",
      "   - 주요 식재료: 최상급 한우 등심, 로즈메리 감자, 그릴드 아스파라거스\n",
      "   - 설명: 21일간 건조 숙성한 한우 등심으로 미디엄 레어로 조리합니다.\n",
      "\n",
      "2. **안심 스테이크 샐러드**: ₩26,000\n",
      "   - 주요 식재료: 소고기 안심, 루꼴라, 체리 토마토, 발사믹 글레이즈\n",
      "   - 설명: 부드러운 안심 스테이크를 얇게 슬라이스하여 신선한 루꼴라 위에 올린 샐러드입니다.\n"
     ]
    }
   ],
   "execution_count": 76
  },
  {
   "metadata": {
    "ExecuteTime": {
     "end_time": "2025-05-18T10:40:28.959261Z",
     "start_time": "2025-05-18T10:40:28.679627Z"
    }
   },
   "cell_type": "code",
   "source": [
    "from langgraph.prebuilt import create_react_agent\n",
    "\n",
    "# 시스템 프롬프트\n",
    "system_prompt = dedent(\"\"\"\n",
    "You are an AI assistant designed to answer human questions.\n",
    "You can use the provided tools to help generate your responses.\n",
    "\n",
    "Follow these steps to answer questions:\n",
    "    1. Carefully read and understand the question.\n",
    "    2. Use the provided tools to obtain necessary information.\n",
    "    3. Immediately after using a tool, cite the source using the format below.\n",
    "    4. Construct an accurate and helpful answer using the tool outputs and citations.\n",
    "    5. Provide the final answer when you determine it's complete.\n",
    "\n",
    "When using tools, follow this format:\n",
    "    Action: tool_name\n",
    "    Action Input: input for the tool\n",
    "\n",
    "Immediately after receiving tool output, cite the source as follows:\n",
    "    [Source: tool_name | document_title/item_name | url/file_path]\n",
    "\n",
    "For example:\n",
    "    Action: search_menu\n",
    "    Action Input: 스테이크\n",
    "\n",
    "    (After receiving tool output)\n",
    "    [Source: search_menu | 스테이크 | ./data/data.txt]\n",
    "    스테이크에 대한 정보는 다음과 같습니다...\n",
    "\n",
    "    Action: search_web\n",
    "    Action Input: History of AI\n",
    "\n",
    "    (After receiving tool output)\n",
    "    [Source: search_web | AI History | https://en.wikipedia.org/wiki/History_of_artificial_intelligence]\n",
    "    AI의 역사는 다음과 같이 요약됩니다...\n",
    "\n",
    "If tool use is not necessary, answer directly.\n",
    "\n",
    "Your final answer should be clear, concise, and directly related to the user's question.\n",
    "Ensure that every piece of factual information in your response is accompanied by a citation.\n",
    "\n",
    "Remember: ALWAYS include these citations for all factual information, tool outputs, and referenced documents in your response.\n",
    "Do not provide any information without a corresponding citation.\n",
    "\"\"\")\n",
    "\n",
    "# 그래프 생성\n",
    "agent_graph_with_prompt = create_react_agent(\n",
    "    llm,\n",
    "    tools=tools,\n",
    "    state_modifier=system_prompt,\n",
    "    )\n",
    "\n",
    "# 그래프 출력\n",
    "agent_graph_with_prompt\n"
   ],
   "id": "ae936408a618bc64",
   "outputs": [
    {
     "data": {
      "text/plain": [
       "<langgraph.graph.state.CompiledStateGraph object at 0x0000023A2D2AB4D0>"
      ],
      "image/png": "[encoded data removed]"
     },
     "execution_count": 77,
     "metadata": {},
     "output_type": "execute_result"
    }
   ],
   "execution_count": 77
  },
  {
   "metadata": {
    "ExecuteTime": {
     "end_time": "2025-05-18T10:40:32.978274Z",
     "start_time": "2025-05-18T10:40:28.966044Z"
    }
   },
   "cell_type": "code",
   "source": [
    "# 그래프 실행\n",
    "inputs = {\"messages\": [HumanMessage(content=\"스테이크 메뉴의 가격은 얼마인가요?\")]}\n",
    "messages = agent_graph_with_prompt.invoke(inputs)\n",
    "for m in messages['messages']:\n",
    "    m.pretty_print()"
   ],
   "id": "2550ab035bde0e38",
   "outputs": [
    {
     "name": "stdout",
     "output_type": "stream",
     "text": [
      "================================\u001B[1m Human Message \u001B[0m=================================\n",
      "\n",
      "스테이크 메뉴의 가격은 얼마인가요?\n",
      "==================================\u001B[1m Ai Message \u001B[0m==================================\n",
      "Tool Calls:\n",
      "  search_menu (call_73F5Cet0FyjPhcz4iUlkRW6D)\n",
      " Call ID: call_73F5Cet0FyjPhcz4iUlkRW6D\n",
      "  Args:\n",
      "    query: 스테이크\n",
      "=================================\u001B[1m Tool Message \u001B[0m=================================\n",
      "Name: search_menu\n",
      "\n",
      "<Document source=\"./data/restaurant_menu.txt\"/>\n",
      "8. 안심 스테이크 샐러드\n",
      "   • 가격: ₩26,000\n",
      "   • 주요 식재료: 소고기 안심, 루꼴라, 체리 토마토, 발사믹 글레이즈\n",
      "   • 설명: 부드러운 안심 스테이크를 얇게 슬라이스하여 신선한 루꼴라 위에 올린 메인 요리 샐러드입니다. 체리 토마토와 파마산 치즈 플레이크로 풍미를 더하고, 발사믹 글레이즈로 마무리하여 고기의 풍미를 한층 끌어올렸습니다.\n",
      "</Document>\n",
      "\n",
      "---\n",
      "\n",
      "<Document source=\"./data/restaurant_menu.txt\"/>\n",
      "7. 랍스터 비스크\n",
      "   • 가격: ₩28,000\n",
      "   • 주요 식재료: 랍스터, 생크림, 브랜디, 파프리카\n",
      "   • 설명: 랍스터 껍질과 육수로 오랜 시간 우려낸 진한 비스크 수프입니다. 생크림으로 부드러운 질감을 더하고 브랜디로 깊은 풍미를 살렸습니다. 작은 랍스터 살을 토핑으로 올려 고급스러움을 더했습니다.\n",
      "</Document>\n",
      "==================================\u001B[1m Ai Message \u001B[0m==================================\n",
      "\n",
      "스테이크 메뉴의 가격은 다음과 같습니다:\n",
      "\n",
      "- **안심 스테이크 샐러드**: ₩26,000\n",
      "\n",
      "이 메뉴는 소고기 안심, 루꼴라, 체리 토마토, 발사믹 글레이즈 등의 주요 식재료로 만들어지며, 부드러운 안심 스테이크를 얇게 슬라이스하여 신선한 루꼴라 위에 올린 샐러드입니다 [Source: search_menu | 스테이크 | ./data/restaurant_menu.txt].\n"
     ]
    }
   ],
   "execution_count": 78
  },
  {
   "metadata": {},
   "cell_type": "markdown",
   "source": [
    "## StateGraph 구조를 사용하여 ReAct 에이전트 만들기\n",
    "### StateGraph를 이용해서 create_react_agent와 같은 구조 만들기\n",
    "- ![](images/custom_react_agent.png)"
   ],
   "id": "35aed9e7f1b29dde"
  },
  {
   "metadata": {
    "ExecuteTime": {
     "end_time": "2025-05-18T10:40:33.318584Z",
     "start_time": "2025-05-18T10:40:32.988268Z"
    }
   },
   "cell_type": "code",
   "source": [
    "from langgraph.graph import MessagesState, StateGraph, START, END\n",
    "from langchain_core.messages import HumanMessage, SystemMessage\n",
    "from langgraph.prebuilt import ToolNode\n",
    "from IPython.display import Image, display\n",
    "\n",
    "# LangGraph MessagesState 사용\n",
    "class GraphState(MessagesState):\n",
    "    pass\n",
    "\n",
    "# 노드 구성\n",
    "def call_model(state: GraphState):\n",
    "    system_message = SystemMessage(content=system_prompt)\n",
    "    messages = [system_message] + state['messages']\n",
    "    response = llm_with_tools.invoke(messages)\n",
    "    return {\"messages\": [response]}\n",
    "\n",
    "def should_continue(state: GraphState):\n",
    "    last_message = state[\"messages\"][-1]\n",
    "    # 도구 호출이 있으면 도구 실행 노드로 이동\n",
    "    if last_message.tool_calls:\n",
    "        return \"execute_tools\"\n",
    "    # 도구 호출이 없으면 답변 생성하고 종료\n",
    "    return END\n",
    "\n",
    "# 그래프 구성\n",
    "builder = StateGraph(GraphState)\n",
    "builder.add_node(\"call_model\", call_model)\n",
    "builder.add_node(\"execute_tools\", ToolNode(tools))\n",
    "\n",
    "builder.add_edge(START, \"call_model\")\n",
    "builder.add_conditional_edges(\n",
    "    \"call_model\",\n",
    "    should_continue,\n",
    "    {\n",
    "        \"execute_tools\": \"execute_tools\",\n",
    "        END: END\n",
    "    }\n",
    ")\n",
    "builder.add_edge(\"execute_tools\", \"call_model\")\n",
    "\n",
    "graph = builder.compile()\n",
    "\n",
    "# 그래프 출력\n",
    "graph"
   ],
   "id": "dcc3105d58c2299b",
   "outputs": [
    {
     "data": {
      "text/plain": [
       "<langgraph.graph.state.CompiledStateGraph object at 0x0000023A2D3D4E90>"
      ],
      "image/png": "[encoded data removed]"
     },
     "execution_count": 79,
     "metadata": {},
     "output_type": "execute_result"
    }
   ],
   "execution_count": 79
  },
  {
   "metadata": {
    "ExecuteTime": {
     "end_time": "2025-05-18T10:40:36.879160Z",
     "start_time": "2025-05-18T10:40:33.329512Z"
    }
   },
   "cell_type": "code",
   "source": [
    "# 그래프 실행\n",
    "inputs = {\"messages\": [HumanMessage(content=\"스테이크 메뉴의 가격은 얼마인가요?\")]}\n",
    "messages = graph.invoke(inputs)\n",
    "for m in messages['messages']:\n",
    "    m.pretty_print()"
   ],
   "id": "18e4e2939b64f1c5",
   "outputs": [
    {
     "name": "stdout",
     "output_type": "stream",
     "text": [
      "================================\u001B[1m Human Message \u001B[0m=================================\n",
      "\n",
      "스테이크 메뉴의 가격은 얼마인가요?\n",
      "==================================\u001B[1m Ai Message \u001B[0m==================================\n",
      "Tool Calls:\n",
      "  search_menu (call_mkZJeM2xsN2FIvmOOAXR1eTD)\n",
      " Call ID: call_mkZJeM2xsN2FIvmOOAXR1eTD\n",
      "  Args:\n",
      "    query: 스테이크\n",
      "=================================\u001B[1m Tool Message \u001B[0m=================================\n",
      "Name: search_menu\n",
      "\n",
      "<Document source=\"./data/restaurant_menu.txt\"/>\n",
      "8. 안심 스테이크 샐러드\n",
      "   • 가격: ₩26,000\n",
      "   • 주요 식재료: 소고기 안심, 루꼴라, 체리 토마토, 발사믹 글레이즈\n",
      "   • 설명: 부드러운 안심 스테이크를 얇게 슬라이스하여 신선한 루꼴라 위에 올린 메인 요리 샐러드입니다. 체리 토마토와 파마산 치즈 플레이크로 풍미를 더하고, 발사믹 글레이즈로 마무리하여 고기의 풍미를 한층 끌어올렸습니다.\n",
      "</Document>\n",
      "\n",
      "---\n",
      "\n",
      "<Document source=\"./data/restaurant_menu.txt\"/>\n",
      "7. 랍스터 비스크\n",
      "   • 가격: ₩28,000\n",
      "   • 주요 식재료: 랍스터, 생크림, 브랜디, 파프리카\n",
      "   • 설명: 랍스터 껍질과 육수로 오랜 시간 우려낸 진한 비스크 수프입니다. 생크림으로 부드러운 질감을 더하고 브랜디로 깊은 풍미를 살렸습니다. 작은 랍스터 살을 토핑으로 올려 고급스러움을 더했습니다.\n",
      "</Document>\n",
      "==================================\u001B[1m Ai Message \u001B[0m==================================\n",
      "\n",
      "스테이크 메뉴 중 하나인 안심 스테이크 샐러드는 가격이 ₩26,000입니다. 이 요리는 부드러운 안심 스테이크를 얇게 슬라이스하여 루꼴라와 체리 토마토, 발사믹 글레이즈와 함께 제공됩니다. [Source: search_menu | 스테이크 | ./data/restaurant_menu.txt]\n"
     ]
    }
   ],
   "execution_count": 80
  },
  {
   "metadata": {},
   "cell_type": "markdown",
   "source": [
    "### tools_condiction 함수 이용하여 create_react_agent와 같은 구조 만들기\n",
    "- ![](images/tools_condition.png)"
   ],
   "id": "7dac756a67a19b51"
  },
  {
   "metadata": {
    "ExecuteTime": {
     "end_time": "2025-05-18T10:40:37.176878Z",
     "start_time": "2025-05-18T10:40:36.885670Z"
    }
   },
   "cell_type": "code",
   "source": [
    "from langgraph.prebuilt import tools_condition\n",
    "\n",
    "# 노드 함수 정의\n",
    "def call_model(state: GraphState):\n",
    "    system_message = SystemMessage(content=system_prompt)\n",
    "    messages = [system_message] + state['messages']\n",
    "    response = llm_with_tools.invoke(messages)\n",
    "    return {\"messages\": [response]}\n",
    "\n",
    "# 그래프 구성\n",
    "builder = StateGraph(GraphState)\n",
    "\n",
    "builder.add_node(\"agent\", call_model)\n",
    "builder.add_node(\"tools\", ToolNode(tools))\n",
    "\n",
    "builder.add_edge(START, \"agent\")\n",
    "\n",
    "# tools_condition을 사용한 조건부 엣지 추가\n",
    "builder.add_conditional_edges(\n",
    "    \"agent\",\n",
    "    tools_condition,\n",
    ")\n",
    "\n",
    "builder.add_edge(\"tools\", \"agent\")\n",
    "\n",
    "graph = builder.compile()\n",
    "\n",
    "# 그래프 출력\n",
    "graph"
   ],
   "id": "fb1d4f77c4984af4",
   "outputs": [
    {
     "data": {
      "text/plain": [
       "<langgraph.graph.state.CompiledStateGraph object at 0x0000023A2D3CE900>"
      ],
      "image/png": "[encoded data removed]"
     },
     "execution_count": 81,
     "metadata": {},
     "output_type": "execute_result"
    }
   ],
   "execution_count": 81
  },
  {
   "metadata": {
    "ExecuteTime": {
     "end_time": "2025-05-18T10:40:49.141463Z",
     "start_time": "2025-05-18T10:40:37.188213Z"
    }
   },
   "cell_type": "code",
   "source": [
    "# 그래프 실행\n",
    "inputs = {\"messages\": [HumanMessage(content=\"파스타에 어울리는 음료는 무엇인가요?\")]}\n",
    "messages = graph.invoke(inputs)\n",
    "for m in messages['messages']:\n",
    "    m.pretty_print()"
   ],
   "id": "b9db3827b003536f",
   "outputs": [
    {
     "name": "stdout",
     "output_type": "stream",
     "text": [
      "================================\u001B[1m Human Message \u001B[0m=================================\n",
      "\n",
      "파스타에 어울리는 음료는 무엇인가요?\n",
      "==================================\u001B[1m Ai Message \u001B[0m==================================\n",
      "Tool Calls:\n",
      "  search_menu (call_cDRI163VcaBSsEEYDimpIjwK)\n",
      " Call ID: call_cDRI163VcaBSsEEYDimpIjwK\n",
      "  Args:\n",
      "    query: 파스타 음료\n",
      "  search_web (call_V0nn1A8CO5BEuo1b1wb0r2DY)\n",
      " Call ID: call_V0nn1A8CO5BEuo1b1wb0r2DY\n",
      "  Args:\n",
      "    query: What drinks pair well with pasta?\n",
      "=================================\u001B[1m Tool Message \u001B[0m=================================\n",
      "Name: search_menu\n",
      "\n",
      "<Document source=\"./data/restaurant_menu.txt\"/>\n",
      "6. 해산물 파스타\n",
      "   • 가격: ₩24,000\n",
      "   • 주요 식재료: 링귀네 파스타, 새우, 홍합, 오징어, 토마토 소스\n",
      "   • 설명: 알 덴테로 삶은 링귀네 파스타에 신선한 해산물을 듬뿍 올린 메뉴입니다. 토마토 소스의 산미와 해산물의 감칠맛이 조화를 이루며, 마늘과 올리브 오일로 풍미를 더했습니다. 파슬리를 뿌려 향긋한 맛을 더합니다.\n",
      "</Document>\n",
      "\n",
      "---\n",
      "\n",
      "<Document source=\"./data/restaurant_menu.txt\"/>\n",
      "4. 버섯 크림 수프\n",
      "   • 가격: ₩10,000\n",
      "   • 주요 식재료: 양송이버섯, 표고버섯, 생크림, 트러플 오일\n",
      "   • 설명: 양송이버섯과 표고버섯을 오랜 시간 정성스레 끓여 만든 크림 수프입니다. 부드러운 텍스처와 깊은 버섯 향이 특징이며, 최상급 트러플 오일을 살짝 뿌려 고급스러운 향을 더했습니다. 파슬리를 곱게 다져 고명으로 올려 제공됩니다.\n",
      "</Document>\n",
      "=================================\u001B[1m Tool Message \u001B[0m=================================\n",
      "Name: search_web\n",
      "\n",
      "<Document href=\"https://www.quora.com/What-drinks-match-perfectly-with-pasta-dishes\"/>\n",
      "White wine, such as Pinot Grigio, or sparkling water pairs well with pasta dishes. For tomato-based pasta, red wine like Chianti is a great\n",
      "</Document>\n",
      "\n",
      "---\n",
      "\n",
      "<Document href=\"https://njpizzaone.com/blog/pairing-pasta-specials-beverages\"/>\n",
      "While wine is a perennial favorite, pasta can pair beautifully with a variety of beverages. Explore how a crisp lager can complement spicy Arrabbiata or how a refreshing cocktail can highlight a pesto dish. The key to beer pairings is selecting varieties that balance and enhance the pasta's ingredients. For instance, a pilsner's clean bitterness can balance a rich carbonara sauce, while the malt sweetness of a Vienna lager marries well with a bolder osso buco pasta. Consider regional beers that [...] Wine and pasta are a timeless duo. Discover the classic pairings, such as Chianti with tomato-based sauces or a nice Chardonnay with creamy Alfredo dishes. Knowing these staples can enhance your dining experience. For instance, the legendary spaghetti with marinara sauce can find its match in a medium-bodied Sangiovese, whose fresh cherry notes and earthy undertones complement the umami in tomatoes. Meanwhile, a robust, meaty lasagna pairs excellently with Barolo, whose structured tannins [...] Shifting gears to cocktails, the zesty punch of a gin and tonic can be a delightful match for seafood linguine, as the botanicals in gin highlight the freshness of the dish. Even a well-made Aperol Spritz, with its citrusy notes, aligns beautifully with a light and herby pasta primavera. Don't forget about spirits like whiskey, which can complement smoked meats in pasta dishes, adding depth and warmth. Ultimately, venturing beyond wine opens a world of possibilities in flavors and textures—a\n",
      "</Document>\n",
      "\n",
      "---\n",
      "\n",
      "<Document href=\"https://makemeacocktail.com/level-up/791/the-best-cocktails-to-enjoy-with-pasta\"/>\n",
      "This pairing works well because of the contrast in temperature and texture, as well as the complementary interplay of flavors. The cold, bubbly Moscow Mule with its sharp ginger and lime flavors refreshes the palate after each rich, savory bite of the sausage fettuccine, making each forkful as enjoyable as the first. This combination is a testament to the principle that opposites attract, offering a dining experience that is both varied and harmonious. [...] When pairing sangria with a pasta dish, the choice of wine can significantly influence the harmony between the drink and the meal. For a versatile pairing that complements a wide range of pasta dishes, from light and zesty to rich and savory, a medium-bodied red wine is an excellent choice. Specifically, a Tempranillo from Spain or a Sangiovese from Italy offer the right balance of fruitiness and acidity, with enough body to stand up to hearty ingredients without overwhelming delicate flavors. [...] This pairing is about balance—the warmth and creaminess of the Spaghetti Carbonara are beautifully offset by the cool, crisp notes of the Pisco Sour, making each bite and sip a delightful experience. The contrasting flavors and textures highlight the best qualities of both the meal and the beverage, proving that opposites do indeed attract and can complement each other in unexpected and delicious ways.\n",
      "\n",
      "Sangria\n",
      "</Document>\n",
      "==================================\u001B[1m Ai Message \u001B[0m==================================\n",
      "\n",
      "파스타에 어울리는 음료는 여러 가지가 있습니다. 일반적으로:\n",
      "\n",
      "1. **와인**: 파스타와 잘 어울리는 대표적인 음료로, 화이트 와인 (예: 피노 그리 지오)이 특히 추천됩니다. 토마토 기반의 파스타에는 레드 와인 (예: 키안티)이 잘 어울립니다. 크림 소스 파스타는 샤르도네와 같은 화이트 와인이 잘 맞습니다. [Source: search_web | What drinks match perfectly with pasta dishes | https://www.quora.com/What-drinks-match-perfectly-with-pasta-dishes]\n",
      "\n",
      "2. **맥주**: 라거와 같은 크리스프한 맥주가 매운 아라비아타 소스와 잘 어울리며, 필스너와 같은 맥주는 탄탄한 카르보나라 소스의 맛을 균형 있게 해줍니다. 지역 맥주를 선택하는 것도 좋은 아이디어입니다. [Source: search_web | Pairing Pasta with Beverages | https://njpizzaone.com/blog/pairing-pasta-specials-beverages]\n",
      "\n",
      "3. **칵테일**: 진과 토닉처럼 상큼한 맛의 칵테일은 해산물 링귀니와 잘 어울리며, 아페롤 스프리츠는 가벼운 허브 파스타와 잘 맞습니다. 다양한 칵테일을 시도해 보는 것도 좋습니다. [Source: search_web | Cocktails to Enjoy with Pasta | https://makemeacocktail.com/level-up/791/the-best-cocktails-to-enjoy-with-pasta]\n",
      "\n",
      "이 외에도 탄산수와 같은 음료도 파스타와 잘 어울립니다. [Source: search_web | What drinks match perfectly with pasta dishes | https://www.quora.com/What-drinks-match-perfectly-with-pasta-dishes]\n",
      "\n",
      "결론적으로, 파스타의 소스와 재료에 따라 적절한 음료를 선택하면 좋습니다.\n"
     ]
    }
   ],
   "execution_count": 82
  },
  {
   "metadata": {},
   "cell_type": "markdown",
   "source": [
    "## MemorySaver\n",
    "### MemorySaver와 MessageState와의 차이점\n",
    "* MemorySaver\n",
    "- MemorySaver는 대화 기록을 외부 저장소에 영구적으로 저장하는 역할을 합니다.\n",
    "- **주요 용도**: 대화 이력의 영구 저장 및 검색\n",
    "- **특징**:\n",
    "  - 다양한 백엔드 저장소(데이터베이스, 파일 시스템 등)와 통합 가능\n",
    "  - 대화 히스토리를 세션 간에도 유지할 수 있음\n",
    "  - 대화 이력을 장기간 보존하여 나중에 분석하거나 재사용할 수 있음\n",
    "  - 일반적으로 시스템 수준의 저장소와 연결됨\n",
    "\n",
    "* MessageState\n",
    "- MessageState는 현재 실행 중인 대화 그래프의 컨텍스트 내에서 메시지를 관리합니다.\n",
    "- **주요 용도**: 대화 흐름 내 메시지 상태 관리\n",
    "- **특징**:\n",
    "  - 그래프 실행 컨텍스트 내에서 메시지 상태를 관리\n",
    "  - 주로 단일 세션 또는 대화 흐름 내에서 작동\n",
    "  - 대화 컨텍스트를 유지하면서 노드 간에 메시지를 전달\n",
    "  - 주로 메모리에 존재하며 대화 그래프 실행 중에만 유효함\n",
    "\n",
    "* 주요 차이점\n",
    "1. **범위**: MessageState는 현재 실행 중인 그래프 내에서 작동하는 반면, MemorySaver는 그래프 실행을 넘어서 데이터를 유지합니다.\n",
    "2. **지속성**: MessageState는 임시적(in-memory)인 반면, MemorySaver는 영구적 저장을 목적으로 합니다.\n",
    "3. **사용 목적**: MessageState는 대화 흐름 제어에 초점을 맞춘 반면, MemorySaver는 대화 이력의 보존과 검색에 중점을 둡니다.\n",
    "\n",
    "> 실제 애플리케이션에서는 두 가지를 함께 사용하는 경우가 많습니다. MessageState로 현재 대화 흐름을 관리하면서, MemorySaver를 통해 중요한 대화 내용을 영구적으로 저장하는 방식입니다."
   ],
   "id": "f2b879979736bcca"
  },
  {
   "metadata": {
    "ExecuteTime": {
     "end_time": "2025-05-18T10:40:50.152931Z",
     "start_time": "2025-05-18T10:40:49.149056Z"
    }
   },
   "cell_type": "code",
   "source": [
    "# 그래프 실행 - 이전 대화 내용을 기억하는지 못하는 문제가 있음\n",
    "inputs = {\"messages\": [HumanMessage(content=\"이 중에 하나만 추천해주세요.\")]}\n",
    "messages = graph.invoke(inputs)\n",
    "for m in messages['messages']:\n",
    "    m.pretty_print()"
   ],
   "id": "af8d43022417046e",
   "outputs": [
    {
     "name": "stdout",
     "output_type": "stream",
     "text": [
      "================================\u001B[1m Human Message \u001B[0m=================================\n",
      "\n",
      "이 중에 하나만 추천해주세요.\n",
      "==================================\u001B[1m Ai Message \u001B[0m==================================\n",
      "\n",
      "추천할 항목을 알려주시면, 그 중에서 하나를 추천해드리겠습니다. 어떤 항목들이 있는지 알려주세요!\n"
     ]
    }
   ],
   "execution_count": 83
  },
  {
   "metadata": {
    "ExecuteTime": {
     "end_time": "2025-05-18T10:40:50.170079Z",
     "start_time": "2025-05-18T10:40:50.160391Z"
    }
   },
   "cell_type": "code",
   "source": [
    "from langgraph.checkpoint.memory import MemorySaver\n",
    "\n",
    "# 메모리 초기화\n",
    "memory = MemorySaver()\n",
    "\n",
    "# 체크포인터 지정하여 그래프 컴파일\n",
    "graph_memory = builder.compile(checkpointer=memory)"
   ],
   "id": "c35e97cc34ea286f",
   "outputs": [],
   "execution_count": 84
  },
  {
   "metadata": {
    "ExecuteTime": {
     "end_time": "2025-05-18T10:40:54.586380Z",
     "start_time": "2025-05-18T10:40:50.179991Z"
    }
   },
   "cell_type": "code",
   "source": [
    "config = {\"configurable\": {\"thread_id\": \"1\"}}\n",
    "messages = [HumanMessage(content=\"스테이크 메뉴의 가격은 얼마인가요?\")]\n",
    "messages = graph_memory.invoke({\"messages\": messages}, config)\n",
    "for m in messages['messages']:\n",
    "    m.pretty_print()"
   ],
   "id": "e3393cc4288ac677",
   "outputs": [
    {
     "name": "stdout",
     "output_type": "stream",
     "text": [
      "================================\u001B[1m Human Message \u001B[0m=================================\n",
      "\n",
      "스테이크 메뉴의 가격은 얼마인가요?\n",
      "==================================\u001B[1m Ai Message \u001B[0m==================================\n",
      "Tool Calls:\n",
      "  search_menu (call_5qJLfTFgrzzRgUMKo8GGNklW)\n",
      " Call ID: call_5qJLfTFgrzzRgUMKo8GGNklW\n",
      "  Args:\n",
      "    query: 스테이크\n",
      "=================================\u001B[1m Tool Message \u001B[0m=================================\n",
      "Name: search_menu\n",
      "\n",
      "<Document source=\"./data/restaurant_menu.txt\"/>\n",
      "8. 안심 스테이크 샐러드\n",
      "   • 가격: ₩26,000\n",
      "   • 주요 식재료: 소고기 안심, 루꼴라, 체리 토마토, 발사믹 글레이즈\n",
      "   • 설명: 부드러운 안심 스테이크를 얇게 슬라이스하여 신선한 루꼴라 위에 올린 메인 요리 샐러드입니다. 체리 토마토와 파마산 치즈 플레이크로 풍미를 더하고, 발사믹 글레이즈로 마무리하여 고기의 풍미를 한층 끌어올렸습니다.\n",
      "</Document>\n",
      "\n",
      "---\n",
      "\n",
      "<Document source=\"./data/restaurant_menu.txt\"/>\n",
      "7. 랍스터 비스크\n",
      "   • 가격: ₩28,000\n",
      "   • 주요 식재료: 랍스터, 생크림, 브랜디, 파프리카\n",
      "   • 설명: 랍스터 껍질과 육수로 오랜 시간 우려낸 진한 비스크 수프입니다. 생크림으로 부드러운 질감을 더하고 브랜디로 깊은 풍미를 살렸습니다. 작은 랍스터 살을 토핑으로 올려 고급스러움을 더했습니다.\n",
      "</Document>\n",
      "==================================\u001B[1m Ai Message \u001B[0m==================================\n",
      "\n",
      "스테이크 메뉴의 가격은 다음과 같습니다:\n",
      "\n",
      "- **안심 스테이크 샐러드**: ₩26,000\n",
      "  - 주요 식재료: 소고기 안심, 루꼴라, 체리 토마토, 발사믹 글레이즈\n",
      "  - 설명: 부드러운 안심 스테이크를 얇게 슬라이스하여 신선한 루꼴라 위에 올린 샐러드로, 체리 토마토와 파마산 치즈 플레이크로 풍미를 더했습니다.\n",
      "\n",
      "[Source: search_menu | 스테이크 | ./data/restaurant_menu.txt]\n"
     ]
    }
   ],
   "execution_count": 85
  },
  {
   "metadata": {
    "ExecuteTime": {
     "end_time": "2025-05-18T10:40:56.567732Z",
     "start_time": "2025-05-18T10:40:54.593894Z"
    }
   },
   "cell_type": "code",
   "source": [
    "config = {\"configurable\": {\"thread_id\": \"1\"}}\n",
    "messages = [HumanMessage(content=\"둘 중에 더 저렴한 메뉴는 무엇인가요?\")]\n",
    "messages = graph_memory.invoke({\"messages\": messages}, config)\n",
    "for m in messages['messages']:\n",
    "    m.pretty_print()"
   ],
   "id": "5e43e907d4b61743",
   "outputs": [
    {
     "name": "stdout",
     "output_type": "stream",
     "text": [
      "================================\u001B[1m Human Message \u001B[0m=================================\n",
      "\n",
      "스테이크 메뉴의 가격은 얼마인가요?\n",
      "==================================\u001B[1m Ai Message \u001B[0m==================================\n",
      "Tool Calls:\n",
      "  search_menu (call_5qJLfTFgrzzRgUMKo8GGNklW)\n",
      " Call ID: call_5qJLfTFgrzzRgUMKo8GGNklW\n",
      "  Args:\n",
      "    query: 스테이크\n",
      "=================================\u001B[1m Tool Message \u001B[0m=================================\n",
      "Name: search_menu\n",
      "\n",
      "<Document source=\"./data/restaurant_menu.txt\"/>\n",
      "8. 안심 스테이크 샐러드\n",
      "   • 가격: ₩26,000\n",
      "   • 주요 식재료: 소고기 안심, 루꼴라, 체리 토마토, 발사믹 글레이즈\n",
      "   • 설명: 부드러운 안심 스테이크를 얇게 슬라이스하여 신선한 루꼴라 위에 올린 메인 요리 샐러드입니다. 체리 토마토와 파마산 치즈 플레이크로 풍미를 더하고, 발사믹 글레이즈로 마무리하여 고기의 풍미를 한층 끌어올렸습니다.\n",
      "</Document>\n",
      "\n",
      "---\n",
      "\n",
      "<Document source=\"./data/restaurant_menu.txt\"/>\n",
      "7. 랍스터 비스크\n",
      "   • 가격: ₩28,000\n",
      "   • 주요 식재료: 랍스터, 생크림, 브랜디, 파프리카\n",
      "   • 설명: 랍스터 껍질과 육수로 오랜 시간 우려낸 진한 비스크 수프입니다. 생크림으로 부드러운 질감을 더하고 브랜디로 깊은 풍미를 살렸습니다. 작은 랍스터 살을 토핑으로 올려 고급스러움을 더했습니다.\n",
      "</Document>\n",
      "==================================\u001B[1m Ai Message \u001B[0m==================================\n",
      "\n",
      "스테이크 메뉴의 가격은 다음과 같습니다:\n",
      "\n",
      "- **안심 스테이크 샐러드**: ₩26,000\n",
      "  - 주요 식재료: 소고기 안심, 루꼴라, 체리 토마토, 발사믹 글레이즈\n",
      "  - 설명: 부드러운 안심 스테이크를 얇게 슬라이스하여 신선한 루꼴라 위에 올린 샐러드로, 체리 토마토와 파마산 치즈 플레이크로 풍미를 더했습니다.\n",
      "\n",
      "[Source: search_menu | 스테이크 | ./data/restaurant_menu.txt]\n",
      "================================\u001B[1m Human Message \u001B[0m=================================\n",
      "\n",
      "둘 중에 더 저렴한 메뉴는 무엇인가요?\n",
      "==================================\u001B[1m Ai Message \u001B[0m==================================\n",
      "\n",
      "비교하고 있는 두 메뉴의 가격은 다음과 같습니다:\n",
      "\n",
      "1. **안심 스테이크 샐러드**: ₩26,000\n",
      "2. **랍스터 비스크**: ₩28,000\n",
      "\n",
      "따라서, 더 저렴한 메뉴는 **안심 스테이크 샐러드**입니다. [Source: search_menu | 스테이크 | ./data/restaurant_menu.txt]\n"
     ]
    }
   ],
   "execution_count": 86
  },
  {
   "metadata": {},
   "cell_type": "markdown",
   "source": "### 내장 ReAct에 반영",
   "id": "4ac962d32d7d5956"
  },
  {
   "metadata": {
    "ExecuteTime": {
     "end_time": "2025-05-18T10:40:56.846722Z",
     "start_time": "2025-05-18T10:40:56.575747Z"
    }
   },
   "cell_type": "code",
   "source": [
    "from langgraph.prebuilt import create_react_agent\n",
    "from langgraph.checkpoint.memory import MemorySaver\n",
    "from IPython.display import Image, display\n",
    "\n",
    "# 메모리 초기화\n",
    "memory = MemorySaver()\n",
    "\n",
    "# 그래프 생성\n",
    "graph = create_react_agent(\n",
    "    llm,\n",
    "    tools=tools,\n",
    "    state_modifier=system_prompt,\n",
    "    checkpointer=memory,\n",
    "    )\n",
    "\n",
    "# 그래프 출력\n",
    "graph"
   ],
   "id": "1b635c059f6dd3a8",
   "outputs": [
    {
     "data": {
      "text/plain": [
       "<langgraph.graph.state.CompiledStateGraph object at 0x0000023A2D3DCFE0>"
      ],
      "image/png": "[encoded data removed]"
     },
     "execution_count": 87,
     "metadata": {},
     "output_type": "execute_result"
    }
   ],
   "execution_count": 87
  },
  {
   "metadata": {
    "ExecuteTime": {
     "end_time": "2025-05-18T10:41:00.755294Z",
     "start_time": "2025-05-18T10:40:56.854687Z"
    }
   },
   "cell_type": "code",
   "source": [
    "config = {\"configurable\": {\"thread_id\": \"2\"}}\n",
    "messages = [HumanMessage(content=\"채식주의자를 위한 메뉴가 있나요?\")]\n",
    "messages = graph.invoke({\"messages\": messages}, config)\n",
    "for m in messages['messages']:\n",
    "    m.pretty_print()"
   ],
   "id": "401b49feda193e1e",
   "outputs": [
    {
     "name": "stdout",
     "output_type": "stream",
     "text": [
      "================================\u001B[1m Human Message \u001B[0m=================================\n",
      "\n",
      "채식주의자를 위한 메뉴가 있나요?\n",
      "==================================\u001B[1m Ai Message \u001B[0m==================================\n",
      "Tool Calls:\n",
      "  search_menu (call_wsJ0SX6uU5rBvoxT30GxBjsp)\n",
      " Call ID: call_wsJ0SX6uU5rBvoxT30GxBjsp\n",
      "  Args:\n",
      "    query: 채식주의자 메뉴\n",
      "=================================\u001B[1m Tool Message \u001B[0m=================================\n",
      "Name: search_menu\n",
      "\n",
      "<Document source=\"./data/restaurant_menu.txt\"/>\n",
      "9. 치킨 콘피\n",
      "   • 가격: ₩23,000\n",
      "   • 주요 식재료: 닭다리살, 허브, 마늘, 올리브 오일\n",
      "   • 설명: 닭다리살을 허브와 마늘을 넣은 올리브 오일에 저온에서 장시간 조리한 프랑스 요리입니다. 부드럽고 촉촉한 육질이 특징이며, 로즈메리 감자와 제철 채소를 곁들여 제공합니다. 레몬 제스트를 뿌려 상큼한 향을 더했습니다.\n",
      "</Document>\n",
      "\n",
      "---\n",
      "\n",
      "<Document source=\"./data/restaurant_menu.txt\"/>\n",
      "3. 연어 타르타르\n",
      "   • 가격: ₩18,000\n",
      "   • 주요 식재료: 노르웨이산 생연어, 아보카도, 케이퍼, 적양파\n",
      "   • 설명: 신선한 노르웨이산 생연어를 곱게 다져 아보카도, 케이퍼, 적양파와 함께 섞어 만든 타르타르입니다. 레몬 드레싱으로 상큼한 맛을 더했으며, 바삭한 브리오쉬 토스트와 함께 제공됩니다. 전채요리로 완벽한 메뉴입니다.\n",
      "</Document>\n",
      "==================================\u001B[1m Ai Message \u001B[0m==================================\n",
      "\n",
      "현재 제공된 메뉴에는 채식주의자를 위한 옵션이 포함되어 있지 않은 것으로 보입니다. 메뉴에 있는 요리들은 모두 육류나 해산물을 사용하고 있습니다.\n",
      "\n",
      "특히, \"치킨 콘피\"는 닭고기를 사용하고, \"연어 타르타르\"는 생연어가 포함되어 있습니다. 채식 메뉴가 필요하다면, 다른 맛있는 채식 옵션이 있는 레스토랑을 찾는 것이 좋겠습니다. 추가적으로 다른 레스토랑의 메뉴를 확인하거나, 특정 요리를 요청할 수도 있습니다.\n"
     ]
    }
   ],
   "execution_count": 88
  },
  {
   "metadata": {
    "ExecuteTime": {
     "end_time": "2025-05-18T10:41:02.724650Z",
     "start_time": "2025-05-18T10:41:00.762155Z"
    }
   },
   "cell_type": "code",
   "source": [
    "config = {\"configurable\": {\"thread_id\": \"2\"}}\n",
    "messages = [HumanMessage(content=\"방금 답변에 대한 출처가 있나요?\")]\n",
    "messages = graph.invoke({\"messages\": messages}, config)\n",
    "for m in messages['messages']:\n",
    "    m.pretty_print()"
   ],
   "id": "dceb210e17a4e15f",
   "outputs": [
    {
     "name": "stdout",
     "output_type": "stream",
     "text": [
      "================================\u001B[1m Human Message \u001B[0m=================================\n",
      "\n",
      "채식주의자를 위한 메뉴가 있나요?\n",
      "==================================\u001B[1m Ai Message \u001B[0m==================================\n",
      "Tool Calls:\n",
      "  search_menu (call_wsJ0SX6uU5rBvoxT30GxBjsp)\n",
      " Call ID: call_wsJ0SX6uU5rBvoxT30GxBjsp\n",
      "  Args:\n",
      "    query: 채식주의자 메뉴\n",
      "=================================\u001B[1m Tool Message \u001B[0m=================================\n",
      "Name: search_menu\n",
      "\n",
      "<Document source=\"./data/restaurant_menu.txt\"/>\n",
      "9. 치킨 콘피\n",
      "   • 가격: ₩23,000\n",
      "   • 주요 식재료: 닭다리살, 허브, 마늘, 올리브 오일\n",
      "   • 설명: 닭다리살을 허브와 마늘을 넣은 올리브 오일에 저온에서 장시간 조리한 프랑스 요리입니다. 부드럽고 촉촉한 육질이 특징이며, 로즈메리 감자와 제철 채소를 곁들여 제공합니다. 레몬 제스트를 뿌려 상큼한 향을 더했습니다.\n",
      "</Document>\n",
      "\n",
      "---\n",
      "\n",
      "<Document source=\"./data/restaurant_menu.txt\"/>\n",
      "3. 연어 타르타르\n",
      "   • 가격: ₩18,000\n",
      "   • 주요 식재료: 노르웨이산 생연어, 아보카도, 케이퍼, 적양파\n",
      "   • 설명: 신선한 노르웨이산 생연어를 곱게 다져 아보카도, 케이퍼, 적양파와 함께 섞어 만든 타르타르입니다. 레몬 드레싱으로 상큼한 맛을 더했으며, 바삭한 브리오쉬 토스트와 함께 제공됩니다. 전채요리로 완벽한 메뉴입니다.\n",
      "</Document>\n",
      "==================================\u001B[1m Ai Message \u001B[0m==================================\n",
      "\n",
      "현재 제공된 메뉴에는 채식주의자를 위한 옵션이 포함되어 있지 않은 것으로 보입니다. 메뉴에 있는 요리들은 모두 육류나 해산물을 사용하고 있습니다.\n",
      "\n",
      "특히, \"치킨 콘피\"는 닭고기를 사용하고, \"연어 타르타르\"는 생연어가 포함되어 있습니다. 채식 메뉴가 필요하다면, 다른 맛있는 채식 옵션이 있는 레스토랑을 찾는 것이 좋겠습니다. 추가적으로 다른 레스토랑의 메뉴를 확인하거나, 특정 요리를 요청할 수도 있습니다.\n",
      "================================\u001B[1m Human Message \u001B[0m=================================\n",
      "\n",
      "방금 답변에 대한 출처가 있나요?\n",
      "==================================\u001B[1m Ai Message \u001B[0m==================================\n",
      "\n",
      "네, 방금 답변은 다음 문서에서 확인한 정보에 기반하고 있습니다:\n",
      "\n",
      "- 메뉴에서의 \"치킨 콘피\"와 \"연어 타르타르\"는 각각 닭고기와 생연어를 포함하고 있어 채식 메뉴가 아님을 확인하였습니다. \n",
      "- 출처: [Source: search_menu | 레스토랑 메뉴 | ./data/restaurant_menu.txt]\n",
      "\n",
      "따라서 현재 확인된 메뉴에는 채식주의자를 위한 옵션이 없습니다.\n"
     ]
    }
   ],
   "execution_count": 89
  },
  {
   "metadata": {
    "ExecuteTime": {
     "end_time": "2025-05-18T10:41:02.736251Z",
     "start_time": "2025-05-18T10:41:02.733974Z"
    }
   },
   "cell_type": "code",
   "source": "",
   "id": "9c57a9f29ed376f9",
   "outputs": [],
   "execution_count": null
  }
 ],
 "metadata": {
  "kernelspec": {
   "display_name": "Python 3",
   "language": "python",
   "name": "python3"
  },
  "language_info": {
   "codemirror_mode": {
    "name": "ipython",
    "version": 2
   },
   "file_extension": ".py",
   "mimetype": "text/x-python",
   "name": "python",
   "nbconvert_exporter": "python",
   "pygments_lexer": "ipython2",
   "version": "2.7.6"
  }
 },
 "nbformat": 4,
 "nbformat_minor": 5
}
