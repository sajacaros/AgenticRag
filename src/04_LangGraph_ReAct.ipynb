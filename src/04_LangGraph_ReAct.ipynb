{
 "cells": [
  {
   "metadata": {},
   "cell_type": "markdown",
   "source": [
    "# ReAct(Reasoning + Acting)\n",
    "* 추론과 행동을 결합한 접근 방식"
   ],
   "id": "bd41e6fa32f56ff2"
  },
  {
   "metadata": {
    "ExecuteTime": {
     "end_time": "2025-05-24T03:50:28.411296Z",
     "start_time": "2025-05-24T03:50:28.403880Z"
    }
   },
   "cell_type": "code",
   "source": [
    "from dotenv import load_dotenv\n",
    "\n",
    "load_dotenv()"
   ],
   "id": "8e614382695ecbc9",
   "outputs": [
    {
     "data": {
      "text/plain": [
       "True"
      ]
     },
     "execution_count": 25,
     "metadata": {},
     "output_type": "execute_result"
    }
   ],
   "execution_count": 25
  },
  {
   "metadata": {
    "ExecuteTime": {
     "end_time": "2025-05-24T03:50:28.446163Z",
     "start_time": "2025-05-24T03:50:28.427362Z"
    }
   },
   "cell_type": "code",
   "source": [
    "import re\n",
    "import os, json\n",
    "\n",
    "from textwrap import dedent\n",
    "from pprint import pprint\n",
    "\n",
    "import uuid\n",
    "\n",
    "import warnings\n",
    "warnings.filterwarnings(\"ignore\")"
   ],
   "id": "a75b9039463259a7",
   "outputs": [],
   "execution_count": 26
  },
  {
   "metadata": {
    "ExecuteTime": {
     "end_time": "2025-05-24T03:50:29.008842Z",
     "start_time": "2025-05-24T03:50:28.461757Z"
    }
   },
   "cell_type": "code",
   "source": [
    "from langchain_openai import OpenAIEmbeddings\n",
    "from langchain_chroma import Chroma\n",
    "from langchain_core.tools import tool\n",
    "from typing import List\n",
    "\n",
    "embeddings_model = OpenAIEmbeddings(model=\"text-embedding-3-small\")\n",
    "\n",
    "# Chroma 인덱스 로드\n",
    "vector_db = Chroma(\n",
    "    embedding_function=embeddings_model,\n",
    "    collection_name=\"restaurant_menu\",\n",
    "    persist_directory=\"./chroma_db\",\n",
    ")\n",
    "\n",
    "# Tool 정의\n",
    "@tool\n",
    "def search_menu(query: str) -> List[str]:\n",
    "    \"\"\"레스토랑 메뉴에서 정보를 검색합니다.\"\"\"\n",
    "    docs = vector_db.similarity_search(query, k=2)\n",
    "\n",
    "    formatted_docs = \"\\n\\n---\\n\\n\".join(\n",
    "        [\n",
    "            f'<Document source=\"{doc.metadata[\"source\"]}\"/>\\n{doc.page_content}\\n</Document>'\n",
    "            for doc in docs\n",
    "        ]\n",
    "    )\n",
    "\n",
    "    if len(docs) > 0:\n",
    "        return formatted_docs\n",
    "\n",
    "    return \"관련 메뉴 정보를 찾을 수 없습니다.\""
   ],
   "id": "69b3220ec786087f",
   "outputs": [],
   "execution_count": 27
  },
  {
   "metadata": {
    "ExecuteTime": {
     "end_time": "2025-05-24T03:50:29.017457Z",
     "start_time": "2025-05-24T03:50:29.008842Z"
    }
   },
   "cell_type": "code",
   "source": [
    "from langchain_community.tools import TavilySearchResults\n",
    "\n",
    "\n",
    "# Tool 정의\n",
    "@tool\n",
    "def search_web(query: str) -> List[str]:\n",
    "    \"\"\"데이터베이스에 존재하지 않는 정보 또는 최신 정보를 인터넷에서 검색합니다.\"\"\"\n",
    "\n",
    "    tavily_search = TavilySearchResults(max_results=3)\n",
    "    docs = tavily_search.invoke(query)\n",
    "\n",
    "    formatted_docs = \"\\n\\n---\\n\\n\".join(\n",
    "        [\n",
    "            f'<Document href=\"{doc[\"url\"]}\"/>\\n{doc[\"content\"]}\\n</Document>'\n",
    "            for doc in docs\n",
    "        ]\n",
    "    )\n",
    "\n",
    "    if len(docs) > 0:\n",
    "        return formatted_docs\n",
    "\n",
    "    return \"관련 정보를 찾을 수 없습니다.\""
   ],
   "id": "805e7af698cf43d5",
   "outputs": [],
   "execution_count": 28
  },
  {
   "metadata": {
    "ExecuteTime": {
     "end_time": "2025-05-24T03:50:29.401621Z",
     "start_time": "2025-05-24T03:50:29.025207Z"
    }
   },
   "cell_type": "code",
   "source": [
    "from langchain_openai import ChatOpenAI\n",
    "\n",
    "# LLM 모델\n",
    "llm = ChatOpenAI(model=\"gpt-4o-mini\", streaming=True)\n",
    "\n",
    "# 도구 목록\n",
    "tools = [search_menu, search_web]\n",
    "\n",
    "# 모델에 도구를 바인딩\n",
    "llm_with_tools = llm.bind_tools(tools=tools)"
   ],
   "id": "b8002c7bd35c24ba",
   "outputs": [],
   "execution_count": 29
  },
  {
   "metadata": {
    "ExecuteTime": {
     "end_time": "2025-05-24T03:50:30.398881Z",
     "start_time": "2025-05-24T03:50:29.408076Z"
    }
   },
   "cell_type": "code",
   "source": [
    "from langchain_core.messages import HumanMessage\n",
    "\n",
    "# 도구 호출\n",
    "tool_call = llm_with_tools.invoke([HumanMessage(content=f\"스테이크 메뉴의 가격은 얼마인가요?\")])\n",
    "\n",
    "# 결과 출력\n",
    "print(tool_call.additional_kwargs)"
   ],
   "id": "441b1e6b5e87d4d4",
   "outputs": [
    {
     "name": "stdout",
     "output_type": "stream",
     "text": [
      "{'tool_calls': [{'index': 0, 'id': 'call_7AYRzRInjwuBKhfG6WKGheOy', 'function': {'arguments': '{\"query\":\"스테이크\"}', 'name': 'search_menu'}, 'type': 'function'}]}\n"
     ]
    }
   ],
   "execution_count": 30
  },
  {
   "metadata": {
    "ExecuteTime": {
     "end_time": "2025-05-24T03:50:31.440286Z",
     "start_time": "2025-05-24T03:50:30.419910Z"
    }
   },
   "cell_type": "code",
   "source": [
    "# 도구 호출\n",
    "ai_msg = llm_with_tools.invoke([HumanMessage(content=f\"3+3은 얼마인가요?\")])\n",
    "\n",
    "# 결과 출력\n",
    "print(ai_msg.additional_kwargs)"
   ],
   "id": "99ddb372c61bcb22",
   "outputs": [
    {
     "name": "stdout",
     "output_type": "stream",
     "text": [
      "{}\n"
     ]
    }
   ],
   "execution_count": 31
  },
  {
   "metadata": {
    "ExecuteTime": {
     "end_time": "2025-05-24T03:50:32.544883Z",
     "start_time": "2025-05-24T03:50:31.445304Z"
    }
   },
   "cell_type": "code",
   "source": [
    "# 도구 호출\n",
    "ai_msg = llm_with_tools.invoke([HumanMessage(content=f\"LangGraph는 무엇인가요?\")])\n",
    "\n",
    "# 결과 출력\n",
    "print(ai_msg)\n"
   ],
   "id": "b75bfe7c3682452",
   "outputs": [
    {
     "name": "stdout",
     "output_type": "stream",
     "text": [
      "content='' additional_kwargs={'tool_calls': [{'index': 0, 'id': 'call_Gyll3F4fFmxLb5cFVG4TJ9jo', 'function': {'arguments': '{\"query\":\"LangGraph\"}', 'name': 'search_web'}, 'type': 'function'}]} response_metadata={'finish_reason': 'tool_calls', 'model_name': 'gpt-4o-mini-2024-07-18', 'system_fingerprint': 'fp_34a54ae93c', 'service_tier': 'default'} id='run--2d529d19-f2f4-44b5-944c-5f8da34d247a-0' tool_calls=[{'name': 'search_web', 'args': {'query': 'LangGraph'}, 'id': 'call_Gyll3F4fFmxLb5cFVG4TJ9jo', 'type': 'tool_call'}]\n"
     ]
    }
   ],
   "execution_count": 32
  },
  {
   "metadata": {
    "ExecuteTime": {
     "end_time": "2025-05-24T03:50:35.171654Z",
     "start_time": "2025-05-24T03:50:32.558426Z"
    }
   },
   "cell_type": "code",
   "source": [
    "for tool_call in ai_msg.tool_calls:\n",
    "    print(f\"{tool_call['name']}: \\n{tool_call}\")\n",
    "    print(\"-\"*100)\n",
    "\n",
    "    tool_message = None\n",
    "    if tool_call[\"name\"] == \"search_menu\":\n",
    "        tool_message = search_menu.invoke(tool_call)\n",
    "    if tool_call[\"name\"] == \"search_web\":\n",
    "        tool_message = search_web.invoke(tool_call)\n",
    "    print(tool_message.content)\n"
   ],
   "id": "89e94587e219630b",
   "outputs": [
    {
     "name": "stdout",
     "output_type": "stream",
     "text": [
      "search_web: \n",
      "{'name': 'search_web', 'args': {'query': 'LangGraph'}, 'id': 'call_Gyll3F4fFmxLb5cFVG4TJ9jo', 'type': 'tool_call'}\n",
      "----------------------------------------------------------------------------------------------------\n",
      "<Document href=\"https://www.ibm.com/think/topics/langgraph\"/>\n",
      "LangGraph, created by LangChain, is an open source AI agent framework designed to build, deploy and manage complex generative AI agent workflows. It provides a set of tools and libraries that enable users to create, run and optimize large language models (LLMs) in a scalable and efficient manner. At its core, LangGraph uses the power of graph-based architectures to model and manage the intricate relationships between various components of an AI agent workflow. [...] Agent systems: LangGraph provides a framework for building agent-based systems, which can be used in applications such as robotics, autonomous vehicles or video games.\n",
      "\n",
      "LLM applications: By using LangGraph’s capabilities, developers can build more sophisticated AI models that learn and improve over time. Norwegian Cruise Line uses LangGraph to compile, construct and refine guest-facing AI solutions. This capability allows for improved and personalized guest experiences. [...] By using a graph-based architecture, LangGraph enables users to scale artificial intelligence workflows without slowing down or sacrificing efficiency. LangGraph uses enhanced decision-making by modeling complex relationships between nodes, which means it uses AI agents to analyze their past actions and feedback. In the world of LLMs, this process is referred to as reflection.\n",
      "</Document>\n",
      "\n",
      "---\n",
      "\n",
      "<Document href=\"https://github.com/langchain-ai/langgraph\"/>\n",
      "LangGraph — used by Replit, Uber, LinkedIn, GitLab and more — is a low-level orchestration framework for building controllable agents. While langchain provides integrations and composable components to streamline LLM application development, the LangGraph library enables agent orchestration — offering customizable architectures, long-term memory, and human-in-the-loop to reliably handle complex tasks.\n",
      "\n",
      "```\n",
      "pip install -U langgraph\n",
      "``` [...] - **First-class streaming support.** With token-by-token streaming and streaming of intermediate steps, LangGraph gives users clear visibility into agent reasoning and actions as they unfold in real time. [...] ## Acknowledgements\n",
      "\n",
      "LangGraph is inspired by [Pregel](https://research.google/pubs/pub37252/) and [Apache Beam](https://beam.apache.org/). The public interface draws inspiration from [NetworkX](https://networkx.org/documentation/latest/). LangGraph is built by LangChain Inc, the creators of LangChain, but can be used without LangChain.\n",
      "\n",
      "## About\n",
      "\n",
      "Build resilient language agents as graphs.\n",
      "</Document>\n",
      "\n",
      "---\n",
      "\n",
      "<Document href=\"https://langchain-ai.github.io/langgraph/concepts/\"/>\n",
      "LangGraph is an MIT-licensed open-source library, which we are committed to maintaining and growing for the community.\n",
      "You can always deploy LangGraph applications on your own infrastructure using the open-source LangGraph project without using LangGraph Platform.\n",
      "\n",
      "High Level¶ [...] LangGraph Platform¶\n",
      "LangGraph Platform is a commercial solution for deploying agentic applications in production, built on the open-source LangGraph framework.\n",
      "The LangGraph Platform offers a few different deployment options described in the deployment options guide.\n",
      "Tip\n",
      "</Document>\n"
     ]
    }
   ],
   "execution_count": 33
  },
  {
   "metadata": {
    "ExecuteTime": {
     "end_time": "2025-05-24T03:50:35.186367Z",
     "start_time": "2025-05-24T03:50:35.181202Z"
    }
   },
   "cell_type": "code",
   "source": "ai_msg",
   "id": "3f0b8f2a2fc36ebe",
   "outputs": [
    {
     "data": {
      "text/plain": [
       "AIMessage(content='', additional_kwargs={'tool_calls': [{'index': 0, 'id': 'call_Gyll3F4fFmxLb5cFVG4TJ9jo', 'function': {'arguments': '{\"query\":\"LangGraph\"}', 'name': 'search_web'}, 'type': 'function'}]}, response_metadata={'finish_reason': 'tool_calls', 'model_name': 'gpt-4o-mini-2024-07-18', 'system_fingerprint': 'fp_34a54ae93c', 'service_tier': 'default'}, id='run--2d529d19-f2f4-44b5-944c-5f8da34d247a-0', tool_calls=[{'name': 'search_web', 'args': {'query': 'LangGraph'}, 'id': 'call_Gyll3F4fFmxLb5cFVG4TJ9jo', 'type': 'tool_call'}])"
      ]
     },
     "execution_count": 34,
     "metadata": {},
     "output_type": "execute_result"
    }
   ],
   "execution_count": 34
  },
  {
   "metadata": {},
   "cell_type": "markdown",
   "source": [
    "## 도구 노드\n",
    "- LLM이 요청한 도구들을 병렬로 실행"
   ],
   "id": "3ebab945aac8134a"
  },
  {
   "metadata": {
    "ExecuteTime": {
     "end_time": "2025-05-24T03:50:35.206201Z",
     "start_time": "2025-05-24T03:50:35.203349Z"
    }
   },
   "cell_type": "code",
   "source": [
    "from langgraph.prebuilt import ToolNode\n",
    "\n",
    "# 도구 노드 정의\n",
    "tool_node = ToolNode(tools=tools)"
   ],
   "id": "dafa243fe7118c29",
   "outputs": [],
   "execution_count": 35
  },
  {
   "metadata": {
    "ExecuteTime": {
     "end_time": "2025-05-24T03:50:36.191897Z",
     "start_time": "2025-05-24T03:50:35.221424Z"
    }
   },
   "cell_type": "code",
   "source": [
    "# 도구 호출\n",
    "ai_msg = llm_with_tools.invoke([HumanMessage(content=f\"LangGraph는 무엇인가요?\")])\n",
    "\n",
    "ai_msg"
   ],
   "id": "5172fdeaf92a0a8d",
   "outputs": [
    {
     "data": {
      "text/plain": [
       "AIMessage(content='', additional_kwargs={'tool_calls': [{'index': 0, 'id': 'call_CqY09wZgL1vtDfDGDSdVPZOT', 'function': {'arguments': '{\"query\":\"LangGraph\"}', 'name': 'search_web'}, 'type': 'function'}]}, response_metadata={'finish_reason': 'tool_calls', 'model_name': 'gpt-4o-mini-2024-07-18', 'system_fingerprint': 'fp_34a54ae93c', 'service_tier': 'default'}, id='run--95c96c2e-1d55-461a-93f0-44b9f00ea444-0', tool_calls=[{'name': 'search_web', 'args': {'query': 'LangGraph'}, 'id': 'call_CqY09wZgL1vtDfDGDSdVPZOT', 'type': 'tool_call'}])"
      ]
     },
     "execution_count": 36,
     "metadata": {},
     "output_type": "execute_result"
    }
   ],
   "execution_count": 36
  },
  {
   "metadata": {
    "ExecuteTime": {
     "end_time": "2025-05-24T03:50:38.471469Z",
     "start_time": "2025-05-24T03:50:36.203340Z"
    }
   },
   "cell_type": "code",
   "source": [
    "# 도구 호출 결과를 메시지로 추가하여 실행\n",
    "results = tool_node.invoke({\"messages\": [ai_msg]})\n",
    "\n",
    "# 실행 결과 출력하여 확인\n",
    "for result in results['messages']:\n",
    "    print(result.content)\n",
    "    print()"
   ],
   "id": "d383bc048bf2c1e1",
   "outputs": [
    {
     "name": "stdout",
     "output_type": "stream",
     "text": [
      "<Document href=\"https://www.ibm.com/think/topics/langgraph\"/>\n",
      "LangGraph, created by LangChain, is an open source AI agent framework designed to build, deploy and manage complex generative AI agent workflows. It provides a set of tools and libraries that enable users to create, run and optimize large language models (LLMs) in a scalable and efficient manner. At its core, LangGraph uses the power of graph-based architectures to model and manage the intricate relationships between various components of an AI agent workflow. [...] Agent systems: LangGraph provides a framework for building agent-based systems, which can be used in applications such as robotics, autonomous vehicles or video games.\n",
      "\n",
      "LLM applications: By using LangGraph’s capabilities, developers can build more sophisticated AI models that learn and improve over time. Norwegian Cruise Line uses LangGraph to compile, construct and refine guest-facing AI solutions. This capability allows for improved and personalized guest experiences. [...] By using a graph-based architecture, LangGraph enables users to scale artificial intelligence workflows without slowing down or sacrificing efficiency. LangGraph uses enhanced decision-making by modeling complex relationships between nodes, which means it uses AI agents to analyze their past actions and feedback. In the world of LLMs, this process is referred to as reflection.\n",
      "</Document>\n",
      "\n",
      "---\n",
      "\n",
      "<Document href=\"https://github.com/langchain-ai/langgraph\"/>\n",
      "LangGraph — used by Replit, Uber, LinkedIn, GitLab and more — is a low-level orchestration framework for building controllable agents. While langchain provides integrations and composable components to streamline LLM application development, the LangGraph library enables agent orchestration — offering customizable architectures, long-term memory, and human-in-the-loop to reliably handle complex tasks.\n",
      "\n",
      "```\n",
      "pip install -U langgraph\n",
      "``` [...] - **First-class streaming support.** With token-by-token streaming and streaming of intermediate steps, LangGraph gives users clear visibility into agent reasoning and actions as they unfold in real time. [...] ## Acknowledgements\n",
      "\n",
      "LangGraph is inspired by [Pregel](https://research.google/pubs/pub37252/) and [Apache Beam](https://beam.apache.org/). The public interface draws inspiration from [NetworkX](https://networkx.org/documentation/latest/). LangGraph is built by LangChain Inc, the creators of LangChain, but can be used without LangChain.\n",
      "\n",
      "## About\n",
      "\n",
      "Build resilient language agents as graphs.\n",
      "</Document>\n",
      "\n",
      "---\n",
      "\n",
      "<Document href=\"https://langchain-ai.github.io/langgraph/concepts/\"/>\n",
      "LangGraph is an MIT-licensed open-source library, which we are committed to maintaining and growing for the community.\n",
      "You can always deploy LangGraph applications on your own infrastructure using the open-source LangGraph project without using LangGraph Platform.\n",
      "\n",
      "High Level¶ [...] LangGraph Platform¶\n",
      "LangGraph Platform is a commercial solution for deploying agentic applications in production, built on the open-source LangGraph framework.\n",
      "The LangGraph Platform offers a few different deployment options described in the deployment options guide.\n",
      "Tip\n",
      "</Document>\n",
      "\n"
     ]
    }
   ],
   "execution_count": 37
  },
  {
   "metadata": {},
   "cell_type": "markdown",
   "source": [
    "## 랭그래프에 내장된 ReAct 에이전트 사용\n",
    "- create_react_agent\n",
    "    - v0.1 이후 AgentExecutor로 감사지 않아도 됨\n",
    "- AgentExecutor는 왜 남아있을까?\n",
    "| 경우                 | 설명                                          |\n",
    "| ------------------ | ------------------------------------------- |\n",
    "| 🔧 **커스텀 에이전트**    | 직접 만든 Agent 클래스를 실행할 때 (예: ZeroShotAgent 등) |\n",
    "| 🔄 **호환성**         | 구버전 LangChain 코드와의 호환성                      |\n",
    "| 🔍 **디버깅 및 세부 제어** | 중간 단계 추적, 로깅, callback 설정 등                 |\n",
    "| 🧩 **유연한 도구 처리**   | 여러 Agent나 chain을 묶어 실행하는 복잡한 구조 만들 때        |\n",
    "\n",
    "![](images/create_react_agent.png)"
   ],
   "id": "4bc8fb8b8bd25de0"
  },
  {
   "metadata": {
    "ExecuteTime": {
     "end_time": "2025-05-24T03:50:38.741676Z",
     "start_time": "2025-05-24T03:50:38.476270Z"
    }
   },
   "cell_type": "code",
   "source": [
    "from IPython.display import Image, display\n",
    "from langgraph.prebuilt import create_react_agent\n",
    "agent_graph = create_react_agent(\n",
    "    llm,\n",
    "    tools=tools,\n",
    ")\n",
    "\n",
    "# 그래프 출력\n",
    "agent_graph"
   ],
   "id": "ef882b8473e1ac0",
   "outputs": [
    {
     "data": {
      "text/plain": [
       "<langgraph.graph.state.CompiledStateGraph object at 0x00000190FFA49010>"
      ],
      "image/png": "[encoded data removed]"
     },
     "execution_count": 38,
     "metadata": {},
     "output_type": "execute_result"
    }
   ],
   "execution_count": 38
  },
  {
   "metadata": {
    "ExecuteTime": {
     "end_time": "2025-05-24T03:50:42.084907Z",
     "start_time": "2025-05-24T03:50:38.752471Z"
    }
   },
   "cell_type": "code",
   "source": [
    "# 그래프 실행\n",
    "inputs = {\"messages\": [HumanMessage(content=\"스테이크 메뉴의 가격은 얼마인가요?\")]}\n",
    "messages = agent_graph.invoke(inputs)\n",
    "for m in messages['messages']:\n",
    "    m.pretty_print()"
   ],
   "id": "c7454b508c6e2815",
   "outputs": [
    {
     "name": "stdout",
     "output_type": "stream",
     "text": [
      "================================\u001B[1m Human Message \u001B[0m=================================\n",
      "\n",
      "스테이크 메뉴의 가격은 얼마인가요?\n",
      "==================================\u001B[1m Ai Message \u001B[0m==================================\n",
      "Tool Calls:\n",
      "  search_menu (call_fJkdPab1e8gBtesDLAodQFC1)\n",
      " Call ID: call_fJkdPab1e8gBtesDLAodQFC1\n",
      "  Args:\n",
      "    query: 스테이크\n",
      "=================================\u001B[1m Tool Message \u001B[0m=================================\n",
      "Name: search_menu\n",
      "\n",
      "<Document source=\"./data/restaurant_menu.txt\"/>\n",
      "8. 안심 스테이크 샐러드\n",
      "   • 가격: ₩26,000\n",
      "   • 주요 식재료: 소고기 안심, 루꼴라, 체리 토마토, 발사믹 글레이즈\n",
      "   • 설명: 부드러운 안심 스테이크를 얇게 슬라이스하여 신선한 루꼴라 위에 올린 메인 요리 샐러드입니다. 체리 토마토와 파마산 치즈 플레이크로 풍미를 더하고, 발사믹 글레이즈로 마무리하여 고기의 풍미를 한층 끌어올렸습니다.\n",
      "</Document>\n",
      "\n",
      "---\n",
      "\n",
      "<Document source=\"./data/restaurant_menu.txt\"/>\n",
      "7. 랍스터 비스크\n",
      "   • 가격: ₩28,000\n",
      "   • 주요 식재료: 랍스터, 생크림, 브랜디, 파프리카\n",
      "   • 설명: 랍스터 껍질과 육수로 오랜 시간 우려낸 진한 비스크 수프입니다. 생크림으로 부드러운 질감을 더하고 브랜디로 깊은 풍미를 살렸습니다. 작은 랍스터 살을 토핑으로 올려 고급스러움을 더했습니다.\n",
      "</Document>\n",
      "==================================\u001B[1m Ai Message \u001B[0m==================================\n",
      "\n",
      "스테이크 메뉴의 가격은 다음과 같습니다:\n",
      "\n",
      "- **안심 스테이크 샐러드**: ₩26,000\n",
      "\n",
      "이 메뉴는 부드러운 안심 스테이크를 신선한 루꼴라 위에 올린 샐러드입니다.\n"
     ]
    }
   ],
   "execution_count": 39
  },
  {
   "metadata": {
    "ExecuteTime": {
     "end_time": "2025-05-24T03:50:42.360874Z",
     "start_time": "2025-05-24T03:50:42.100913Z"
    }
   },
   "cell_type": "code",
   "source": [
    "from langgraph.prebuilt import create_react_agent\n",
    "\n",
    "# 시스템 프롬프트\n",
    "system_prompt = dedent(\"\"\"\n",
    "You are an AI assistant designed to answer human questions.\n",
    "You can use the provided tools to help generate your responses.\n",
    "\n",
    "Follow these steps to answer questions:\n",
    "    1. Carefully read and understand the question.\n",
    "    2. Use the provided tools to obtain necessary information.\n",
    "    3. Immediately after using a tool, cite the source using the format below.\n",
    "    4. Construct an accurate and helpful answer using the tool outputs and citations.\n",
    "    5. Provide the final answer when you determine it's complete.\n",
    "\n",
    "When using tools, follow this format:\n",
    "    Action: tool_name\n",
    "    Action Input: input for the tool\n",
    "\n",
    "Immediately after receiving tool output, cite the source as follows:\n",
    "    [Source: tool_name | document_title/item_name | url/file_path]\n",
    "\n",
    "For example:\n",
    "    Action: search_menu\n",
    "    Action Input: 스테이크\n",
    "\n",
    "    (After receiving tool output)\n",
    "    [Source: search_menu | 스테이크 | ./data/data.txt]\n",
    "    스테이크에 대한 정보는 다음과 같습니다...\n",
    "\n",
    "    Action: search_web\n",
    "    Action Input: History of AI\n",
    "\n",
    "    (After receiving tool output)\n",
    "    [Source: search_web | AI History | https://en.wikipedia.org/wiki/History_of_artificial_intelligence]\n",
    "    AI의 역사는 다음과 같이 요약됩니다...\n",
    "\n",
    "If tool use is not necessary, answer directly.\n",
    "\n",
    "Your final answer should be clear, concise, and directly related to the user's question.\n",
    "Ensure that every piece of factual information in your response is accompanied by a citation.\n",
    "\n",
    "Remember: ALWAYS include these citations for all factual information, tool outputs, and referenced documents in your response.\n",
    "Do not provide any information without a corresponding citation.\n",
    "\"\"\")\n",
    "\n",
    "# 그래프 생성\n",
    "agent_graph_with_prompt = create_react_agent(\n",
    "    llm,\n",
    "    tools=tools,\n",
    "    state_modifier=system_prompt,\n",
    "    )\n",
    "\n",
    "# 그래프 출력\n",
    "agent_graph_with_prompt\n"
   ],
   "id": "ae936408a618bc64",
   "outputs": [
    {
     "data": {
      "text/plain": [
       "<langgraph.graph.state.CompiledStateGraph object at 0x00000190B7E4B950>"
      ],
      "image/png": "[encoded data removed]"
     },
     "execution_count": 40,
     "metadata": {},
     "output_type": "execute_result"
    }
   ],
   "execution_count": 40
  },
  {
   "metadata": {
    "ExecuteTime": {
     "end_time": "2025-05-24T03:50:46.950050Z",
     "start_time": "2025-05-24T03:50:42.370900Z"
    }
   },
   "cell_type": "code",
   "source": [
    "# 그래프 실행\n",
    "inputs = {\"messages\": [HumanMessage(content=\"스테이크 메뉴의 가격은 얼마인가요?\")]}\n",
    "messages = agent_graph_with_prompt.invoke(inputs)\n",
    "for m in messages['messages']:\n",
    "    m.pretty_print()"
   ],
   "id": "2550ab035bde0e38",
   "outputs": [
    {
     "name": "stdout",
     "output_type": "stream",
     "text": [
      "================================\u001B[1m Human Message \u001B[0m=================================\n",
      "\n",
      "스테이크 메뉴의 가격은 얼마인가요?\n",
      "==================================\u001B[1m Ai Message \u001B[0m==================================\n",
      "Tool Calls:\n",
      "  search_menu (call_yqkr4U4vZbNhb276v7pI6KqC)\n",
      " Call ID: call_yqkr4U4vZbNhb276v7pI6KqC\n",
      "  Args:\n",
      "    query: 스테이크\n",
      "=================================\u001B[1m Tool Message \u001B[0m=================================\n",
      "Name: search_menu\n",
      "\n",
      "<Document source=\"./data/restaurant_menu.txt\"/>\n",
      "8. 안심 스테이크 샐러드\n",
      "   • 가격: ₩26,000\n",
      "   • 주요 식재료: 소고기 안심, 루꼴라, 체리 토마토, 발사믹 글레이즈\n",
      "   • 설명: 부드러운 안심 스테이크를 얇게 슬라이스하여 신선한 루꼴라 위에 올린 메인 요리 샐러드입니다. 체리 토마토와 파마산 치즈 플레이크로 풍미를 더하고, 발사믹 글레이즈로 마무리하여 고기의 풍미를 한층 끌어올렸습니다.\n",
      "</Document>\n",
      "\n",
      "---\n",
      "\n",
      "<Document source=\"./data/restaurant_menu.txt\"/>\n",
      "7. 랍스터 비스크\n",
      "   • 가격: ₩28,000\n",
      "   • 주요 식재료: 랍스터, 생크림, 브랜디, 파프리카\n",
      "   • 설명: 랍스터 껍질과 육수로 오랜 시간 우려낸 진한 비스크 수프입니다. 생크림으로 부드러운 질감을 더하고 브랜디로 깊은 풍미를 살렸습니다. 작은 랍스터 살을 토핑으로 올려 고급스러움을 더했습니다.\n",
      "</Document>\n",
      "==================================\u001B[1m Ai Message \u001B[0m==================================\n",
      "\n",
      "스테이크 메뉴 중 \"안심 스테이크 샐러드\"의 가격은 ₩26,000입니다. 이 샐러드는 부드러운 안심 스테이크를 얇게 슬라이스하여 신선한 루꼴라 위에 올리고 체리 토마토와 발사믹 글레이즈로 풍미를 더한 요리입니다 [Source: search_menu | 스테이크 | ./data/restaurant_menu.txt].\n"
     ]
    }
   ],
   "execution_count": 41
  },
  {
   "metadata": {},
   "cell_type": "markdown",
   "source": [
    "## StateGraph 구조를 사용하여 ReAct 에이전트 만들기\n",
    "### StateGraph를 이용해서 create_react_agent와 같은 구조 만들기\n",
    "- ![](images/custom_react_agent.png)"
   ],
   "id": "35aed9e7f1b29dde"
  },
  {
   "metadata": {
    "ExecuteTime": {
     "end_time": "2025-05-24T03:50:47.229598Z",
     "start_time": "2025-05-24T03:50:46.955930Z"
    }
   },
   "cell_type": "code",
   "source": [
    "from langgraph.graph import MessagesState, StateGraph, START, END\n",
    "from langchain_core.messages import HumanMessage, SystemMessage\n",
    "from langgraph.prebuilt import ToolNode\n",
    "from IPython.display import Image, display\n",
    "\n",
    "# LangGraph MessagesState 사용\n",
    "class GraphState(MessagesState):\n",
    "    pass\n",
    "\n",
    "# 노드 구성\n",
    "def call_model(state: GraphState):\n",
    "    system_message = SystemMessage(content=system_prompt)\n",
    "    messages = [system_message] + state['messages']\n",
    "    response = llm_with_tools.invoke(messages)\n",
    "    return {\"messages\": [response]}\n",
    "\n",
    "def should_continue(state: GraphState):\n",
    "    last_message = state[\"messages\"][-1]\n",
    "    # 도구 호출이 있으면 도구 실행 노드로 이동\n",
    "    if last_message.tool_calls:\n",
    "        return \"execute_tools\"\n",
    "    # 도구 호출이 없으면 답변 생성하고 종료\n",
    "    return END\n",
    "\n",
    "# 그래프 구성\n",
    "builder = StateGraph(GraphState)\n",
    "builder.add_node(\"call_model\", call_model)\n",
    "builder.add_node(\"execute_tools\", ToolNode(tools))\n",
    "\n",
    "builder.add_edge(START, \"call_model\")\n",
    "builder.add_conditional_edges(\n",
    "    \"call_model\",\n",
    "    should_continue,\n",
    "    {\n",
    "        \"execute_tools\": \"execute_tools\",\n",
    "        END: END\n",
    "    }\n",
    ")\n",
    "builder.add_edge(\"execute_tools\", \"call_model\")\n",
    "\n",
    "compiled_graph = builder.compile()\n",
    "\n",
    "# 그래프 출력\n",
    "compiled_graph"
   ],
   "id": "dcc3105d58c2299b",
   "outputs": [
    {
     "data": {
      "text/plain": [
       "<langgraph.graph.state.CompiledStateGraph object at 0x00000190B701C650>"
      ],
      "image/png": "[encoded data removed]"
     },
     "execution_count": 42,
     "metadata": {},
     "output_type": "execute_result"
    }
   ],
   "execution_count": 42
  },
  {
   "metadata": {
    "ExecuteTime": {
     "end_time": "2025-05-24T03:50:47.497398Z",
     "start_time": "2025-05-24T03:50:47.237569Z"
    }
   },
   "cell_type": "code",
   "source": "display(Image(compiled_graph.get_graph().draw_mermaid_png()))",
   "id": "b62167c35817f52c",
   "outputs": [
    {
     "data": {
      "image/png": "[encoded data removed]",
      "text/plain": [
       "<IPython.core.display.Image object>"
      ]
     },
     "metadata": {},
     "output_type": "display_data"
    }
   ],
   "execution_count": 43
  },
  {
   "metadata": {
    "ExecuteTime": {
     "end_time": "2025-05-24T03:50:47.508702Z",
     "start_time": "2025-05-24T03:50:47.503428Z"
    }
   },
   "cell_type": "code",
   "source": "compiled_graph.get_graph().draw_mermaid()",
   "id": "2ed5c860d4f68ea8",
   "outputs": [
    {
     "data": {
      "text/plain": [
       "'---\\nconfig:\\n  flowchart:\\n    curve: linear\\n---\\ngraph TD;\\n\\t__start__([<p>__start__</p>]):::first\\n\\tcall_model(call_model)\\n\\texecute_tools(execute_tools)\\n\\t__end__([<p>__end__</p>]):::last\\n\\t__start__ --> call_model;\\n\\tcall_model -.-> __end__;\\n\\tcall_model -.-> execute_tools;\\n\\texecute_tools --> call_model;\\n\\tclassDef default fill:#f2f0ff,line-height:1.2\\n\\tclassDef first fill-opacity:0\\n\\tclassDef last fill:#bfb6fc\\n'"
      ]
     },
     "execution_count": 44,
     "metadata": {},
     "output_type": "execute_result"
    }
   ],
   "execution_count": 44
  },
  {
   "metadata": {
    "ExecuteTime": {
     "end_time": "2025-05-24T03:50:47.590673Z",
     "start_time": "2025-05-24T03:50:47.582392Z"
    }
   },
   "cell_type": "code",
   "source": [
    "from src.utils import render_graph\n",
    "\n",
    "graph = compiled_graph.get_graph()\n",
    "render_graph(graph)"
   ],
   "id": "afd6d20321b4f9f6",
   "outputs": [
    {
     "data": {
      "text/plain": [
       "<IPython.core.display.HTML object>"
      ],
      "text/html": [
       "\n",
       "    <div id=\"chart-7aec2256\" class=\"mermaid\">\n",
       "    graph TD\n",
       "START((\"START\"))\n",
       "call_model[\"call_model\"]\n",
       "execute_tools[\"execute_tools\"]\n",
       "END((\"END\"))\n",
       "cond_call_model_should_continue([should_continue])\n",
       "classDef conditionalNode fill:#e1f5fe,stroke:#01579b,stroke-width:2px\n",
       "class cond_call_model_should_continue conditionalNode\n",
       "call_model --> cond_call_model_should_continue\n",
       "cond_call_model_should_continue -.->|END| END\n",
       "cond_call_model_should_continue -.->|execute_tools| execute_tools\n",
       "START --> call_model\n",
       "execute_tools --> call_model\n",
       "    </div>\n",
       "    <script type=\"module\">\n",
       "        import mermaid from 'https://cdn.jsdelivr.net/npm/mermaid@10/dist/mermaid.esm.min.mjs';\n",
       "        mermaid.initialize({\n",
       "            startOnLoad: true,\n",
       "            theme: 'default',\n",
       "            flowchart: {\n",
       "                useMaxWidth: true,\n",
       "                htmlLabels: true\n",
       "            }\n",
       "        });\n",
       "        mermaid.init(undefined, document.getElementById('chart-7aec2256'));\n",
       "    </script>\n",
       "    "
      ]
     },
     "execution_count": 45,
     "metadata": {},
     "output_type": "execute_result"
    }
   ],
   "execution_count": 45
  },
  {
   "metadata": {
    "ExecuteTime": {
     "end_time": "2025-05-24T03:50:53.579157Z",
     "start_time": "2025-05-24T03:50:47.634427Z"
    }
   },
   "cell_type": "code",
   "source": [
    "# 그래프 실행\n",
    "inputs = {\"messages\": [HumanMessage(content=\"스테이크 메뉴의 가격은 얼마인가요?\")]}\n",
    "messages = compiled_graph.invoke(inputs)\n",
    "for m in messages['messages']:\n",
    "    m.pretty_print()"
   ],
   "id": "18e4e2939b64f1c5",
   "outputs": [
    {
     "name": "stdout",
     "output_type": "stream",
     "text": [
      "================================\u001B[1m Human Message \u001B[0m=================================\n",
      "\n",
      "스테이크 메뉴의 가격은 얼마인가요?\n",
      "==================================\u001B[1m Ai Message \u001B[0m==================================\n",
      "Tool Calls:\n",
      "  search_menu (call_zzeunOazGzr3fs6BbGd4fKjj)\n",
      " Call ID: call_zzeunOazGzr3fs6BbGd4fKjj\n",
      "  Args:\n",
      "    query: 스테이크\n",
      "=================================\u001B[1m Tool Message \u001B[0m=================================\n",
      "Name: search_menu\n",
      "\n",
      "<Document source=\"./data/restaurant_menu.txt\"/>\n",
      "8. 안심 스테이크 샐러드\n",
      "   • 가격: ₩26,000\n",
      "   • 주요 식재료: 소고기 안심, 루꼴라, 체리 토마토, 발사믹 글레이즈\n",
      "   • 설명: 부드러운 안심 스테이크를 얇게 슬라이스하여 신선한 루꼴라 위에 올린 메인 요리 샐러드입니다. 체리 토마토와 파마산 치즈 플레이크로 풍미를 더하고, 발사믹 글레이즈로 마무리하여 고기의 풍미를 한층 끌어올렸습니다.\n",
      "</Document>\n",
      "\n",
      "---\n",
      "\n",
      "<Document source=\"./data/restaurant_menu.txt\"/>\n",
      "7. 랍스터 비스크\n",
      "   • 가격: ₩28,000\n",
      "   • 주요 식재료: 랍스터, 생크림, 브랜디, 파프리카\n",
      "   • 설명: 랍스터 껍질과 육수로 오랜 시간 우려낸 진한 비스크 수프입니다. 생크림으로 부드러운 질감을 더하고 브랜디로 깊은 풍미를 살렸습니다. 작은 랍스터 살을 토핑으로 올려 고급스러움을 더했습니다.\n",
      "</Document>\n",
      "==================================\u001B[1m Ai Message \u001B[0m==================================\n",
      "\n",
      "스테이크 메뉴에서 확인한 가격은 다음과 같습니다:\n",
      "\n",
      "- **안심 스테이크 샐러드**: ₩26,000\n",
      "  - 주요 식재료: 소고기 안심, 루꼴라, 체리 토마토, 발사믹 글레이즈\n",
      "  - 설명: 부드러운 안심 스테이크를 얇게 슬라이스하여 신선한 루꼴라 위에 올린 메인 요리 샐러드입니다. 체리 토마토와 파마산 치즈 플레이크로 풍미를 더하고, 발사믹 글레이즈로 마무리하여 고기의 풍미를 한층 끌어올렸습니다. \n",
      "\n",
      "이 외의 다른 스테이크 메뉴에 대한 정보는 제공되지 않았습니다 [Source: search_menu | 스테이크 메뉴 | ./data/restaurant_menu.txt].\n"
     ]
    }
   ],
   "execution_count": 46
  },
  {
   "metadata": {},
   "cell_type": "markdown",
   "source": [
    "### tools_condiction 함수 이용하여 create_react_agent와 같은 구조 만들기\n",
    "- ![](images/tools_condition.png)"
   ],
   "id": "7dac756a67a19b51"
  },
  {
   "metadata": {
    "ExecuteTime": {
     "end_time": "2025-05-24T03:51:41.044317Z",
     "start_time": "2025-05-24T03:51:41.036535Z"
    }
   },
   "cell_type": "code",
   "source": [
    "from langgraph.prebuilt import tools_condition\n",
    "\n",
    "# 노드 함수 정의\n",
    "def call_model(state: GraphState):\n",
    "    system_message = SystemMessage(content=system_prompt)\n",
    "    messages = [system_message] + state['messages']\n",
    "    response = llm_with_tools.invoke(messages)\n",
    "    return {\"messages\": [response]}\n",
    "\n",
    "# 그래프 구성\n",
    "builder = StateGraph(GraphState)\n",
    "\n",
    "builder.add_node(\"agent\", call_model)\n",
    "builder.add_node(\"tools\", ToolNode(tools))\n",
    "\n",
    "builder.add_edge(START, \"agent\")\n",
    "\n",
    "# tools_condition을 사용한 조건부 엣지 추가\n",
    "builder.add_conditional_edges(\n",
    "    \"agent\",\n",
    "    tools_condition,\n",
    ")\n",
    "\n",
    "builder.add_edge(\"tools\", \"agent\")\n",
    "\n",
    "graph = builder.compile()\n",
    "\n",
    "# 그래프 출력\n",
    "render_graph(graph.get_graph())"
   ],
   "id": "fb1d4f77c4984af4",
   "outputs": [
    {
     "data": {
      "text/plain": [
       "<IPython.core.display.HTML object>"
      ],
      "text/html": [
       "\n",
       "    <div id=\"chart-a19d2688\" class=\"mermaid\">\n",
       "    graph TD\n",
       "START((\"START\"))\n",
       "agent[\"agent\"]\n",
       "tools[\"tools\"]\n",
       "END((\"END\"))\n",
       "cond_agent_agent_condition([agent_condition])\n",
       "classDef conditionalNode fill:#e1f5fe,stroke:#01579b,stroke-width:2px\n",
       "class cond_agent_agent_condition conditionalNode\n",
       "agent --> cond_agent_agent_condition\n",
       "cond_agent_agent_condition -.->|END| END\n",
       "cond_agent_agent_condition -.->|tools| tools\n",
       "START --> agent\n",
       "tools --> agent\n",
       "    </div>\n",
       "    <script type=\"module\">\n",
       "        import mermaid from 'https://cdn.jsdelivr.net/npm/mermaid@10/dist/mermaid.esm.min.mjs';\n",
       "        mermaid.initialize({\n",
       "            startOnLoad: true,\n",
       "            theme: 'default',\n",
       "            flowchart: {\n",
       "                useMaxWidth: true,\n",
       "                htmlLabels: true\n",
       "            }\n",
       "        });\n",
       "        mermaid.init(undefined, document.getElementById('chart-a19d2688'));\n",
       "    </script>\n",
       "    "
      ]
     },
     "execution_count": 56,
     "metadata": {},
     "output_type": "execute_result"
    }
   ],
   "execution_count": 56
  },
  {
   "metadata": {
    "ExecuteTime": {
     "end_time": "2025-05-24T03:51:08.354475Z",
     "start_time": "2025-05-24T03:50:53.866867Z"
    }
   },
   "cell_type": "code",
   "source": [
    "# 그래프 실행\n",
    "inputs = {\"messages\": [HumanMessage(content=\"파스타에 어울리는 음료는 무엇인가요?\")]}\n",
    "messages = graph.invoke(inputs)\n",
    "for m in messages['messages']:\n",
    "    m.pretty_print()"
   ],
   "id": "b9db3827b003536f",
   "outputs": [
    {
     "name": "stdout",
     "output_type": "stream",
     "text": [
      "================================\u001B[1m Human Message \u001B[0m=================================\n",
      "\n",
      "파스타에 어울리는 음료는 무엇인가요?\n",
      "==================================\u001B[1m Ai Message \u001B[0m==================================\n",
      "Tool Calls:\n",
      "  search_menu (call_yHuHJyCgqRtYPbtp8khS1IUa)\n",
      " Call ID: call_yHuHJyCgqRtYPbtp8khS1IUa\n",
      "  Args:\n",
      "    query: 파스타 음료\n",
      "  search_web (call_Ap9Kg1W9gQj6PXIHadWFSUCa)\n",
      " Call ID: call_Ap9Kg1W9gQj6PXIHadWFSUCa\n",
      "  Args:\n",
      "    query: 음료와 음식 페어링\n",
      "=================================\u001B[1m Tool Message \u001B[0m=================================\n",
      "Name: search_menu\n",
      "\n",
      "<Document source=\"./data/restaurant_menu.txt\"/>\n",
      "6. 해산물 파스타\n",
      "   • 가격: ₩24,000\n",
      "   • 주요 식재료: 링귀네 파스타, 새우, 홍합, 오징어, 토마토 소스\n",
      "   • 설명: 알 덴테로 삶은 링귀네 파스타에 신선한 해산물을 듬뿍 올린 메뉴입니다. 토마토 소스의 산미와 해산물의 감칠맛이 조화를 이루며, 마늘과 올리브 오일로 풍미를 더했습니다. 파슬리를 뿌려 향긋한 맛을 더합니다.\n",
      "</Document>\n",
      "\n",
      "---\n",
      "\n",
      "<Document source=\"./data/restaurant_menu.txt\"/>\n",
      "4. 버섯 크림 수프\n",
      "   • 가격: ₩10,000\n",
      "   • 주요 식재료: 양송이버섯, 표고버섯, 생크림, 트러플 오일\n",
      "   • 설명: 양송이버섯과 표고버섯을 오랜 시간 정성스레 끓여 만든 크림 수프입니다. 부드러운 텍스처와 깊은 버섯 향이 특징이며, 최상급 트러플 오일을 살짝 뿌려 고급스러운 향을 더했습니다. 파슬리를 곱게 다져 고명으로 올려 제공됩니다.\n",
      "</Document>\n",
      "=================================\u001B[1m Tool Message \u001B[0m=================================\n",
      "Name: search_web\n",
      "\n",
      "<Document href=\"https://www.greened.kr/news/articleView.html?idxno=39364\"/>\n",
      "'푸드페어링'이란 음식과 궁합이 맞는 음료를 짝지어 함께 즐기는 것을 의미한다. 흔히 말하는 치맥(치킨과 맥주), 피맥(피자와 맥주). 와인페어링(레드\n",
      "</Document>\n",
      "\n",
      "---\n",
      "\n",
      "<Document href=\"https://m.blog.naver.com/333travel/221683733427\"/>\n",
      "공식을 완벽하게 깬 조합이기도 합니다.\n",
      "\n",
      "이제부터는 위에서 살짝 언급한\n",
      "\n",
      "푸드 페어링의 기본 공식을\n",
      "\n",
      "몇 가지 짚어보도록 하겠습니다.\n",
      "\n",
      "같은 성향을 가진 것으로 페어링하라\n",
      "\n",
      "보통 비슷한 성향을 가진 음식과 음료는\n",
      "\n",
      "무난하게 페어링하기 좋습니다.\n",
      "\n",
      "디저트와 같은 단 음식은 달달한 음료와\n",
      "\n",
      "페어링하는 것을 추천하며\n",
      "\n",
      "'디저트 와인'이라는 카테고리가 있기도 합니다.\n",
      "\n",
      "​\n",
      "\n",
      "반대로 달지 않은 식사에는 드라이하고\n",
      "\n",
      "쓴맛이 강한 음료가 좋습니다.\n",
      "\n",
      "여기서 알아야 하는 부분은\n",
      "\n",
      "\"쓴맛은 짠맛을 없애 준다.\" 입니다.\n",
      "\n",
      "보통 식사에 드라이한 와인이나 맥주,\n",
      "\n",
      "쓴 술을 곁들이는 것이 이와 같은 예입니다.\n",
      "\n",
      "​\n",
      "\n",
      "바디감이 비슷한 것으로 페어링하라\n",
      "\n",
      "음식에는 '무게감'이라는 것이 존재해요.\n",
      "\n",
      "순대의 간이나 토핑이 가득한 피자,\n",
      "\n",
      "소스가 잔뜩 뿌려진 음식은 보통\n",
      "\n",
      "'무겁다'라고 생각합니다.\n",
      "\n",
      "반대로 샐러드, 간단한 치즈, 핑거푸드는\n",
      "\n",
      "'가볍다'라고 생각하는 경향이 있어요. [...] 이러한 무게감을 바디감이라고도 하며\n",
      "\n",
      "음료 또한 이러한 바디감을 가집니다.\n",
      "\n",
      "​\n",
      "\n",
      "바디감이 비슷한 음식과 음료는\n",
      "\n",
      "입 안에서 무게감이 변하지 않기 때문에\n",
      "\n",
      "편하게 페어링하기 좋습니다.\n",
      "\n",
      "원산지가 같은 것으로 페어링하라\n",
      "\n",
      "와인페어링의 공식 중 하나는\n",
      "\n",
      "원산지가 같은 음식과 음료를\n",
      "\n",
      "페어링하는 것입니다.\n",
      "\n",
      "그 지역의 토양과 날씨, 기후에 맞추어\n",
      "\n",
      "생산된 식재료와 음료는 조합이\n",
      "\n",
      "나쁠 수가 없기 때문이죠.\n",
      "\n",
      "​\n",
      "\n",
      "예를 들어 프랑스 알자스 지방에서는\n",
      "\n",
      "'리슬링'이라는 산미가 높은\n",
      "\n",
      "화이트와인이 유명합니다.\n",
      "\n",
      "이 지역에서는 양배추와 고기를 곁들여 먹는\n",
      "\n",
      "'슈크루트'라는 음식 또한 유명한데,\n",
      "\n",
      "이 음식을 먹을 때마다 주민들은\n",
      "\n",
      "'리슬링'을 페어링하는 것이 공식이라고 해요.\n",
      "\n",
      "​\n",
      "\n",
      "우리나라에서도 해남의 달콤한 고구마와\n",
      "\n",
      "해남주조장의 달달한 해창막걸리의\n",
      "\n",
      "페어링은 정말 찰떡궁합입니다!(경험상)\n",
      "\n",
      "제주도의 오메기떡으로 만든 오메기술과\n",
      "\n",
      "실제 오메기떡 또한 잘 어울린다고 해요. [...] 비싼 음식엔 그에 맞는 음료를\n",
      "\n",
      "마지막 공식은 테이블 매너와도 관련됩니다.\n",
      "\n",
      "격식있는 모임에 초대를 받아\n",
      "\n",
      "선물로 쉽게 접할 수 있는 10,000원짜리\n",
      "\n",
      "와인을 가져가는 것은 예의에\n",
      "\n",
      "맞지 않습니다.\n",
      "\n",
      "​\n",
      "\n",
      "페어링에도 비싼 식재료나 음식에\n",
      "\n",
      "부합하는 음료를 곁들이는 것이\n",
      "\n",
      "매너와 음식의 풍미를 모두\n",
      "\n",
      "지켜낼 수 있는 방법입니다.\n",
      "\n",
      "마지막으로는 한식에 어울리는\n",
      "\n",
      "세 가지의 페어링 조합을 알아볼게요.\n",
      "\n",
      "한식은 대부분 단맛과 짠맛이 있고\n",
      "\n",
      "강한 양념이 특징입니다.\n",
      "\n",
      "​\n",
      "\n",
      "이러한 특징은 페어링음료를 통해\n",
      "\n",
      "중화하거나 그 풍미를 훨씬 잘\n",
      "\n",
      "살릴 수 있기도 합니다.\n",
      "\n",
      "첫 번째 페어링은\n",
      "\n",
      "갈비찜과 레드와인입니다.\n",
      "\n",
      "갈비찜은 고기의 특성상 단백질과\n",
      "\n",
      "지방이 많습니다.\n",
      "\n",
      "단백질과 지방은 탄닌으로 잡을 수 있어\n",
      "\n",
      "드라이한 레드와인과의 조합이 좋습니다.\n",
      "\n",
      "탄닌감이 강한 카베르네 소비뇽,\n",
      "\n",
      "시라와 같은 와인을 추천합니다.\n",
      "\n",
      "두 번째 페어링은\n",
      "\n",
      "치킨과 생탁주막걸리 / 스파클링와인입니다.\n",
      "</Document>\n",
      "\n",
      "---\n",
      "\n",
      "<Document href=\"http://cafedecolombia.kr/project/food-pairing/\"/>\n",
      "푸드페어링이란? 푸드페어링이란 간단히 말하면 음식과 음료의 궁합을 말합니다. 특히 와인의 세계에서는 [마리아쥬]라는 말이 자주 사용되고 있습니다.\n",
      "</Document>\n",
      "==================================\u001B[1m Ai Message \u001B[0m==================================\n",
      "\n",
      "파스타에 어울리는 음료는 여러 가지 옵션이 있습니다. 다양한 스타일의 파스타에 따라 추천되는 음료가 달라질 수 있습니다. 일반적으로 파스타와 잘 어울리는 음료는 다음과 같습니다:\n",
      "\n",
      "1. **화이트 와인**: 크림 소스나 해산물 파스타와 잘 어울립니다. 섬세한 맛이 요리의 풍미를 더해줍니다. 대표적으로 소비뇽 블랑이나 샤르도네 같은 화이트 와인이 좋습니다. [Source: search_web | 음료와 음식 페어링 | https://www.greened.kr/news/articleView.html?idxno=39364]\n",
      "\n",
      "2. **레드 와인**: 토마토 소스 또는 진한 소스를 사용하는 육류 파스타와 잘 어울립니다. 예를 들어, 멜롯이나 바르베라 와인 등이 적합합니다. [Source: search_web | 음료와 음식 페어링 | https://m.blog.naver.com/333travel/221683733427]\n",
      "\n",
      "3. **페어링 음료**: 물이나 탄산수는 항상 좋은 선택이며, 프루트 주스(예: 오렌지 주스)는 파스타에도 잘 어울립니다. 특히, 기름진 소스의 파스타와 함께 마시면 좋습니다. [Source: search_web | 음료와 음식 페어링 | http://cafedecolombia.kr/project/food-pairing/]\n",
      "\n",
      "4. **비알콜 음료**: 레몬 에이드 같은 상큼한 음료도 좋으며, 젤리 같이 달콤한 음료와 함께 할 경우 전체적인 식사를 더 풍성하게 만들 수 있습니다. [Source: search_menu | 레스토랑 메뉴 | ./data/restaurant_menu.txt]\n",
      "\n",
      "결론적으로, 파스타의 종류와 소스에 따라 가장 잘 어울리는 음료를 선택하는 것이 중요합니다.\n"
     ]
    }
   ],
   "execution_count": 48
  },
  {
   "metadata": {},
   "cell_type": "markdown",
   "source": [
    "## MemorySaver\n",
    "### MemorySaver와 MessageState와의 차이점\n",
    "* MemorySaver\n",
    "- MemorySaver는 대화 기록을 외부 저장소에 영구적으로 저장하는 역할을 합니다.\n",
    "- **주요 용도**: 대화 이력의 영구 저장 및 검색\n",
    "- **특징**:\n",
    "  - 다양한 백엔드 저장소(데이터베이스, 파일 시스템 등)와 통합 가능\n",
    "  - 대화 히스토리를 세션 간에도 유지할 수 있음\n",
    "  - 대화 이력을 장기간 보존하여 나중에 분석하거나 재사용할 수 있음\n",
    "  - 일반적으로 시스템 수준의 저장소와 연결됨\n",
    "\n",
    "* MessageState\n",
    "- MessageState는 현재 실행 중인 대화 그래프의 컨텍스트 내에서 메시지를 관리합니다.\n",
    "- **주요 용도**: 대화 흐름 내 메시지 상태 관리\n",
    "- **특징**:\n",
    "  - 그래프 실행 컨텍스트 내에서 메시지 상태를 관리\n",
    "  - 주로 단일 세션 또는 대화 흐름 내에서 작동\n",
    "  - 대화 컨텍스트를 유지하면서 노드 간에 메시지를 전달\n",
    "  - 주로 메모리에 존재하며 대화 그래프 실행 중에만 유효함\n",
    "\n",
    "* 주요 차이점\n",
    "1. **범위**: MessageState는 현재 실행 중인 그래프 내에서 작동하는 반면, MemorySaver는 그래프 실행을 넘어서 데이터를 유지합니다.\n",
    "2. **지속성**: MessageState는 임시적(in-memory)인 반면, MemorySaver는 영구적 저장을 목적으로 합니다.\n",
    "3. **사용 목적**: MessageState는 대화 흐름 제어에 초점을 맞춘 반면, MemorySaver는 대화 이력의 보존과 검색에 중점을 둡니다.\n",
    "\n",
    "> 실제 애플리케이션에서는 두 가지를 함께 사용하는 경우가 많습니다. MessageState로 현재 대화 흐름을 관리하면서, MemorySaver를 통해 중요한 대화 내용을 영구적으로 저장하는 방식입니다."
   ],
   "id": "f2b879979736bcca"
  },
  {
   "metadata": {
    "ExecuteTime": {
     "end_time": "2025-05-24T03:51:09.984414Z",
     "start_time": "2025-05-24T03:51:08.369828Z"
    }
   },
   "cell_type": "code",
   "source": [
    "# 그래프 실행 - 이전 대화 내용을 기억하는지 못하는 문제가 있음\n",
    "inputs = {\"messages\": [HumanMessage(content=\"이 중에 하나만 추천해주세요.\")]}\n",
    "messages = graph.invoke(inputs)\n",
    "for m in messages['messages']:\n",
    "    m.pretty_print()"
   ],
   "id": "af8d43022417046e",
   "outputs": [
    {
     "name": "stdout",
     "output_type": "stream",
     "text": [
      "================================\u001B[1m Human Message \u001B[0m=================================\n",
      "\n",
      "이 중에 하나만 추천해주세요.\n",
      "==================================\u001B[1m Ai Message \u001B[0m==================================\n",
      "\n",
      "추천할 항목을 제공해 주시면, 해당 항목에 대해 정보를 조사하거나 분석하여 가장 적합한 선택을 도와드리겠습니다. 어떤 것들이 포함되어 있는지 알려주세요!\n"
     ]
    }
   ],
   "execution_count": 49
  },
  {
   "metadata": {
    "ExecuteTime": {
     "end_time": "2025-05-24T03:51:10.019209Z",
     "start_time": "2025-05-24T03:51:09.995138Z"
    }
   },
   "cell_type": "code",
   "source": [
    "from langgraph.checkpoint.memory import MemorySaver\n",
    "\n",
    "# 메모리 초기화\n",
    "memory = MemorySaver()\n",
    "\n",
    "# 체크포인터 지정하여 그래프 컴파일\n",
    "graph_memory = builder.compile(checkpointer=memory)"
   ],
   "id": "c35e97cc34ea286f",
   "outputs": [],
   "execution_count": 50
  },
  {
   "metadata": {
    "ExecuteTime": {
     "end_time": "2025-05-24T03:51:15.978562Z",
     "start_time": "2025-05-24T03:51:10.027513Z"
    }
   },
   "cell_type": "code",
   "source": [
    "config = {\"configurable\": {\"thread_id\": \"1\"}}\n",
    "messages = [HumanMessage(content=\"스테이크 메뉴의 가격은 얼마인가요?\")]\n",
    "messages = graph_memory.invoke({\"messages\": messages}, config)\n",
    "for m in messages['messages']:\n",
    "    m.pretty_print()"
   ],
   "id": "e3393cc4288ac677",
   "outputs": [
    {
     "name": "stdout",
     "output_type": "stream",
     "text": [
      "================================\u001B[1m Human Message \u001B[0m=================================\n",
      "\n",
      "스테이크 메뉴의 가격은 얼마인가요?\n",
      "==================================\u001B[1m Ai Message \u001B[0m==================================\n",
      "Tool Calls:\n",
      "  search_menu (call_1aKI1Ak6GpwmB1eC6p85de0J)\n",
      " Call ID: call_1aKI1Ak6GpwmB1eC6p85de0J\n",
      "  Args:\n",
      "    query: 스테이크\n",
      "=================================\u001B[1m Tool Message \u001B[0m=================================\n",
      "Name: search_menu\n",
      "\n",
      "<Document source=\"./data/restaurant_menu.txt\"/>\n",
      "8. 안심 스테이크 샐러드\n",
      "   • 가격: ₩26,000\n",
      "   • 주요 식재료: 소고기 안심, 루꼴라, 체리 토마토, 발사믹 글레이즈\n",
      "   • 설명: 부드러운 안심 스테이크를 얇게 슬라이스하여 신선한 루꼴라 위에 올린 메인 요리 샐러드입니다. 체리 토마토와 파마산 치즈 플레이크로 풍미를 더하고, 발사믹 글레이즈로 마무리하여 고기의 풍미를 한층 끌어올렸습니다.\n",
      "</Document>\n",
      "\n",
      "---\n",
      "\n",
      "<Document source=\"./data/restaurant_menu.txt\"/>\n",
      "7. 랍스터 비스크\n",
      "   • 가격: ₩28,000\n",
      "   • 주요 식재료: 랍스터, 생크림, 브랜디, 파프리카\n",
      "   • 설명: 랍스터 껍질과 육수로 오랜 시간 우려낸 진한 비스크 수프입니다. 생크림으로 부드러운 질감을 더하고 브랜디로 깊은 풍미를 살렸습니다. 작은 랍스터 살을 토핑으로 올려 고급스러움을 더했습니다.\n",
      "</Document>\n",
      "==================================\u001B[1m Ai Message \u001B[0m==================================\n",
      "\n",
      "스테이크 메뉴는 다음과 같습니다:\n",
      "\n",
      "- **안심 스테이크 샐러드**\n",
      "  - **가격**: ₩26,000\n",
      "  - **주요 식재료**: 소고기 안심, 루꼴라, 체리 토마토, 발사믹 글레이즈\n",
      "  - **설명**: 부드러운 안심 스테이크를 얇게 슬라이스하여 신선한 루꼴라 위에 올린 메인 요리 샐러드입니다. 체리 토마토와 파마산 치즈 플레이크로 풍미를 더하고, 발사믹 글레이즈로 마무리하여 고기의 풍미를 한층 끌어올렸습니다. [Source: search_menu | 스테이크 | ./data/restaurant_menu.txt]\n",
      "\n",
      "안심 스테이크 샐러드의 가격은 ₩26,000입니다.\n"
     ]
    }
   ],
   "execution_count": 51
  },
  {
   "metadata": {
    "ExecuteTime": {
     "end_time": "2025-05-24T03:51:18.416849Z",
     "start_time": "2025-05-24T03:51:15.984999Z"
    }
   },
   "cell_type": "code",
   "source": [
    "config = {\"configurable\": {\"thread_id\": \"1\"}}\n",
    "messages = [HumanMessage(content=\"둘 중에 더 저렴한 메뉴는 무엇인가요?\")]\n",
    "messages = graph_memory.invoke({\"messages\": messages}, config)\n",
    "for m in messages['messages']:\n",
    "    m.pretty_print()"
   ],
   "id": "5e43e907d4b61743",
   "outputs": [
    {
     "name": "stdout",
     "output_type": "stream",
     "text": [
      "================================\u001B[1m Human Message \u001B[0m=================================\n",
      "\n",
      "스테이크 메뉴의 가격은 얼마인가요?\n",
      "==================================\u001B[1m Ai Message \u001B[0m==================================\n",
      "Tool Calls:\n",
      "  search_menu (call_1aKI1Ak6GpwmB1eC6p85de0J)\n",
      " Call ID: call_1aKI1Ak6GpwmB1eC6p85de0J\n",
      "  Args:\n",
      "    query: 스테이크\n",
      "=================================\u001B[1m Tool Message \u001B[0m=================================\n",
      "Name: search_menu\n",
      "\n",
      "<Document source=\"./data/restaurant_menu.txt\"/>\n",
      "8. 안심 스테이크 샐러드\n",
      "   • 가격: ₩26,000\n",
      "   • 주요 식재료: 소고기 안심, 루꼴라, 체리 토마토, 발사믹 글레이즈\n",
      "   • 설명: 부드러운 안심 스테이크를 얇게 슬라이스하여 신선한 루꼴라 위에 올린 메인 요리 샐러드입니다. 체리 토마토와 파마산 치즈 플레이크로 풍미를 더하고, 발사믹 글레이즈로 마무리하여 고기의 풍미를 한층 끌어올렸습니다.\n",
      "</Document>\n",
      "\n",
      "---\n",
      "\n",
      "<Document source=\"./data/restaurant_menu.txt\"/>\n",
      "7. 랍스터 비스크\n",
      "   • 가격: ₩28,000\n",
      "   • 주요 식재료: 랍스터, 생크림, 브랜디, 파프리카\n",
      "   • 설명: 랍스터 껍질과 육수로 오랜 시간 우려낸 진한 비스크 수프입니다. 생크림으로 부드러운 질감을 더하고 브랜디로 깊은 풍미를 살렸습니다. 작은 랍스터 살을 토핑으로 올려 고급스러움을 더했습니다.\n",
      "</Document>\n",
      "==================================\u001B[1m Ai Message \u001B[0m==================================\n",
      "\n",
      "스테이크 메뉴는 다음과 같습니다:\n",
      "\n",
      "- **안심 스테이크 샐러드**\n",
      "  - **가격**: ₩26,000\n",
      "  - **주요 식재료**: 소고기 안심, 루꼴라, 체리 토마토, 발사믹 글레이즈\n",
      "  - **설명**: 부드러운 안심 스테이크를 얇게 슬라이스하여 신선한 루꼴라 위에 올린 메인 요리 샐러드입니다. 체리 토마토와 파마산 치즈 플레이크로 풍미를 더하고, 발사믹 글레이즈로 마무리하여 고기의 풍미를 한층 끌어올렸습니다. [Source: search_menu | 스테이크 | ./data/restaurant_menu.txt]\n",
      "\n",
      "안심 스테이크 샐러드의 가격은 ₩26,000입니다.\n",
      "================================\u001B[1m Human Message \u001B[0m=================================\n",
      "\n",
      "둘 중에 더 저렴한 메뉴는 무엇인가요?\n",
      "==================================\u001B[1m Ai Message \u001B[0m==================================\n",
      "\n",
      "주어진 메뉴에서 가격을 살펴보면 다음과 같습니다:\n",
      "\n",
      "- **안심 스테이크 샐러드**: ₩26,000\n",
      "- **랍스터 비스크**: ₩28,000\n",
      "\n",
      "따라서 더 저렴한 메뉴는 **안심 스테이크 샐러드**로, 가격은 ₩26,000입니다.\n"
     ]
    }
   ],
   "execution_count": 52
  },
  {
   "metadata": {},
   "cell_type": "markdown",
   "source": "### 내장 ReAct에 반영",
   "id": "4ac962d32d7d5956"
  },
  {
   "metadata": {
    "ExecuteTime": {
     "end_time": "2025-05-24T03:52:03.606437Z",
     "start_time": "2025-05-24T03:52:03.591728Z"
    }
   },
   "cell_type": "code",
   "source": [
    "from langgraph.prebuilt import create_react_agent\n",
    "from langgraph.checkpoint.memory import MemorySaver\n",
    "from IPython.display import Image, display\n",
    "\n",
    "# 메모리 초기화\n",
    "memory = MemorySaver()\n",
    "\n",
    "# 그래프 생성\n",
    "graph = create_react_agent(\n",
    "    llm,\n",
    "    tools=tools,\n",
    "    state_modifier=system_prompt,\n",
    "    checkpointer=memory,\n",
    "    )\n",
    "\n",
    "# 그래프 출력\n",
    "render_graph(graph.get_graph())"
   ],
   "id": "1b635c059f6dd3a8",
   "outputs": [
    {
     "data": {
      "text/plain": [
       "<IPython.core.display.HTML object>"
      ],
      "text/html": [
       "\n",
       "    <div id=\"chart-34a5e515\" class=\"mermaid\">\n",
       "    graph TD\n",
       "START((\"START\"))\n",
       "agent[\"agent\"]\n",
       "tools[\"tools\"]\n",
       "END((\"END\"))\n",
       "cond_agent_agent_condition([agent_condition])\n",
       "classDef conditionalNode fill:#e1f5fe,stroke:#01579b,stroke-width:2px\n",
       "class cond_agent_agent_condition conditionalNode\n",
       "agent --> cond_agent_agent_condition\n",
       "cond_agent_agent_condition -.->|END| END\n",
       "cond_agent_agent_condition -.->|tools| tools\n",
       "START --> agent\n",
       "tools --> agent\n",
       "    </div>\n",
       "    <script type=\"module\">\n",
       "        import mermaid from 'https://cdn.jsdelivr.net/npm/mermaid@10/dist/mermaid.esm.min.mjs';\n",
       "        mermaid.initialize({\n",
       "            startOnLoad: true,\n",
       "            theme: 'default',\n",
       "            flowchart: {\n",
       "                useMaxWidth: true,\n",
       "                htmlLabels: true\n",
       "            }\n",
       "        });\n",
       "        mermaid.init(undefined, document.getElementById('chart-34a5e515'));\n",
       "    </script>\n",
       "    "
      ]
     },
     "execution_count": 57,
     "metadata": {},
     "output_type": "execute_result"
    }
   ],
   "execution_count": 57
  },
  {
   "metadata": {
    "ExecuteTime": {
     "end_time": "2025-05-24T03:51:30.058939Z",
     "start_time": "2025-05-24T03:51:18.724131Z"
    }
   },
   "cell_type": "code",
   "source": [
    "config = {\"configurable\": {\"thread_id\": \"2\"}}\n",
    "messages = [HumanMessage(content=\"채식주의자를 위한 메뉴가 있나요?\")]\n",
    "messages = graph.invoke({\"messages\": messages}, config)\n",
    "for m in messages['messages']:\n",
    "    m.pretty_print()"
   ],
   "id": "401b49feda193e1e",
   "outputs": [
    {
     "name": "stdout",
     "output_type": "stream",
     "text": [
      "================================\u001B[1m Human Message \u001B[0m=================================\n",
      "\n",
      "채식주의자를 위한 메뉴가 있나요?\n",
      "==================================\u001B[1m Ai Message \u001B[0m==================================\n",
      "Tool Calls:\n",
      "  search_menu (call_qrBEf87z7zyQYk8Cr758M1K1)\n",
      " Call ID: call_qrBEf87z7zyQYk8Cr758M1K1\n",
      "  Args:\n",
      "    query: 채식주의자 메뉴\n",
      "=================================\u001B[1m Tool Message \u001B[0m=================================\n",
      "Name: search_menu\n",
      "\n",
      "<Document source=\"./data/restaurant_menu.txt\"/>\n",
      "9. 치킨 콘피\n",
      "   • 가격: ₩23,000\n",
      "   • 주요 식재료: 닭다리살, 허브, 마늘, 올리브 오일\n",
      "   • 설명: 닭다리살을 허브와 마늘을 넣은 올리브 오일에 저온에서 장시간 조리한 프랑스 요리입니다. 부드럽고 촉촉한 육질이 특징이며, 로즈메리 감자와 제철 채소를 곁들여 제공합니다. 레몬 제스트를 뿌려 상큼한 향을 더했습니다.\n",
      "</Document>\n",
      "\n",
      "---\n",
      "\n",
      "<Document source=\"./data/restaurant_menu.txt\"/>\n",
      "3. 연어 타르타르\n",
      "   • 가격: ₩18,000\n",
      "   • 주요 식재료: 노르웨이산 생연어, 아보카도, 케이퍼, 적양파\n",
      "   • 설명: 신선한 노르웨이산 생연어를 곱게 다져 아보카도, 케이퍼, 적양파와 함께 섞어 만든 타르타르입니다. 레몬 드레싱으로 상큼한 맛을 더했으며, 바삭한 브리오쉬 토스트와 함께 제공됩니다. 전채요리로 완벽한 메뉴입니다.\n",
      "</Document>\n",
      "==================================\u001B[1m Ai Message \u001B[0m==================================\n",
      "Tool Calls:\n",
      "  search_web (call_86VzqszXXoILtN0q9nV7jdE6)\n",
      " Call ID: call_86VzqszXXoILtN0q9nV7jdE6\n",
      "  Args:\n",
      "    query: vegetarian menu options in restaurants\n",
      "=================================\u001B[1m Tool Message \u001B[0m=================================\n",
      "Name: search_web\n",
      "\n",
      "<Document href=\"https://www.eatright.org/food/planning/away-from-home/dining-out-for-vegetarians\"/>\n",
      "Dining out can be a challenging experience for vegans and vegetarians. Some restaurants aren't vegetarian or vegan friendly, while others may not highlight their meatless options. Further complicating the matter is that vegetable dishes might be cooked with animal products, including butter, chicken or meat stock and gelatin. The good news is restaurants are adding or expanding vegan and vegetarian menu options in response to customer requests. [...] Restaurants serving global cuisines often are ideal for vegetarians. Asian menus, such as Chinese, Japanese, Thai and Vietnamese, feature a variety of meatless options including rice and noodle dishes containing vegetables and tofu. However, if you do not eat fish, ask the wait staff whether dishes contain any fish or oyster sauce. South Asian cuisine, including Indian, Sri Lankan, Burmese, Pakistani and Nepali, are known for meatless dishes using breads, lentils, beans, rice, curried [...] Finding meatless options at fast food restaurants can be challenging, but many restaurants now have salad menus and sandwiches with vegetable or meat substitute fillings. Breakfast items often are vegetarian friendly, especially for those who eat eggs and dairy products.\n",
      "\n",
      "Dinner Party Advice\n",
      "</Document>\n",
      "\n",
      "---\n",
      "\n",
      "<Document href=\"https://www.hitchcockfarms.com/blog/vegetarian-menu-ideas\"/>\n",
      "The meaty flavor of portobello mushroom steaks make them a vegan menu option that appeals to everyone at the table. Whether you bake or grill these elegant entrees, they’re easy to prep with balsamic vinegar and olive oil. Stay true to the simple recipe by using a vegan seasoning mix for extra flavor.\n",
      "\n",
      "11. Stir Up Creamy Veggie Stew [...] Evolving attitudes toward vegetarian and vegan menus make nutritious options appealing to more and more home and commercial chefs. Plant-based sides and entrees make it easier than ever to enjoy delicious, healthy meals prepared in your kitchen.\n",
      "\n",
      "Here at Hitchcock Farms, it’s our pleasure to serve up new, and inspiring menu ideas. Check back with us soon for more fresh takes on culinary inspiration.\n",
      "\n",
      "About the Author: Dan Holt [...] 12 Vegetarian Menu Ideas for Restaurants & Home Chefs\n",
      "\n",
      "If you’re ordering more plant-based take-out lately, you’re part of a national dining trend. Restaurants and delivery services are responding to strong customer demand for vegan and vegetarian menu options all across the country.\n",
      "\n",
      "If you’re exploring ways to incorporate more plant-based cooking into your healthy lifestyle, get ready to expand your culinary horizons.\n",
      "</Document>\n",
      "\n",
      "---\n",
      "\n",
      "<Document href=\"https://www.quora.com/What-are-some-dishes-that-can-be-eaten-at-a-vegetarian-restaurant-by-someone-who-is-not-vegetarian\"/>\n",
      "Cheese pizza, meatless pasta, cheese enchiladas, cheese omelets, veggie curries, veggie and tofu stir fries are just some of the vegetarian\n",
      "</Document>\n",
      "==================================\u001B[1m Ai Message \u001B[0m==================================\n",
      "\n",
      "채식주의자를 위한 메뉴 옵션은 점점 더 많은 식당에서 제공되고 있습니다. 일반적으로 아시아 요리(중국, 일본, 태국, 베트남 등)는 다양한 채식 요리를 포함하고 있으며, 인도 요리도 렌즈콩, 쌀, 커리 등으로 구성된 여러 가지 고기 없는 요리를 제공합니다. 또한 패스트푸드 레스토랑에서도 샐러드나 채소 또는 대체 고기가 들어간 샌드위치를 포함한 옵션을 종종 찾을 수 있습니다【Source: search_web | Vegetarian Menu Options | https://www.eatright.org/food/planning/away-from-home/dining-out-for-vegetarians】.\n",
      "\n",
      "현재 제공되는 메뉴 중에는 다음과 같은 항목들이 있습니다:\n",
      "- 치킨 콘피 (닭고기 포함, 비채식 옵션)\n",
      "- 연어 타르타르 (생선 포함, 비채식 옵션)\n",
      "\n",
      "채식 옵션이 필요한 경우, 특정 음식이 육류 성분을 포함하는지 여부를 확인하기 위해 직원에게 문의하는 것이 좋습니다【Source: search_menu | 메뉴 | ./data/restaurant_menu.txt】. \n",
      "\n",
      "추가적으로, 포르토벨로 버섯 스테이크와 같은 식물 기반 요리가 인기를 끌고 있으며, 이는 많은 사람들에게 매력적인 선택지입니다【Source: search_web | Vegetarian Menu Ideas | https://www.hitchcockfarms.com/blog/vegetarian-menu-ideas】.\n"
     ]
    }
   ],
   "execution_count": 54
  },
  {
   "metadata": {
    "ExecuteTime": {
     "end_time": "2025-05-24T03:51:40.996471Z",
     "start_time": "2025-05-24T03:51:30.102128Z"
    }
   },
   "cell_type": "code",
   "source": [
    "config = {\"configurable\": {\"thread_id\": \"2\"}}\n",
    "messages = [HumanMessage(content=\"방금 답변에 대한 출처가 있나요?\")]\n",
    "messages = graph.invoke({\"messages\": messages}, config)\n",
    "for m in messages['messages']:\n",
    "    m.pretty_print()"
   ],
   "id": "dceb210e17a4e15f",
   "outputs": [
    {
     "name": "stdout",
     "output_type": "stream",
     "text": [
      "================================\u001B[1m Human Message \u001B[0m=================================\n",
      "\n",
      "채식주의자를 위한 메뉴가 있나요?\n",
      "==================================\u001B[1m Ai Message \u001B[0m==================================\n",
      "Tool Calls:\n",
      "  search_menu (call_qrBEf87z7zyQYk8Cr758M1K1)\n",
      " Call ID: call_qrBEf87z7zyQYk8Cr758M1K1\n",
      "  Args:\n",
      "    query: 채식주의자 메뉴\n",
      "=================================\u001B[1m Tool Message \u001B[0m=================================\n",
      "Name: search_menu\n",
      "\n",
      "<Document source=\"./data/restaurant_menu.txt\"/>\n",
      "9. 치킨 콘피\n",
      "   • 가격: ₩23,000\n",
      "   • 주요 식재료: 닭다리살, 허브, 마늘, 올리브 오일\n",
      "   • 설명: 닭다리살을 허브와 마늘을 넣은 올리브 오일에 저온에서 장시간 조리한 프랑스 요리입니다. 부드럽고 촉촉한 육질이 특징이며, 로즈메리 감자와 제철 채소를 곁들여 제공합니다. 레몬 제스트를 뿌려 상큼한 향을 더했습니다.\n",
      "</Document>\n",
      "\n",
      "---\n",
      "\n",
      "<Document source=\"./data/restaurant_menu.txt\"/>\n",
      "3. 연어 타르타르\n",
      "   • 가격: ₩18,000\n",
      "   • 주요 식재료: 노르웨이산 생연어, 아보카도, 케이퍼, 적양파\n",
      "   • 설명: 신선한 노르웨이산 생연어를 곱게 다져 아보카도, 케이퍼, 적양파와 함께 섞어 만든 타르타르입니다. 레몬 드레싱으로 상큼한 맛을 더했으며, 바삭한 브리오쉬 토스트와 함께 제공됩니다. 전채요리로 완벽한 메뉴입니다.\n",
      "</Document>\n",
      "==================================\u001B[1m Ai Message \u001B[0m==================================\n",
      "Tool Calls:\n",
      "  search_web (call_86VzqszXXoILtN0q9nV7jdE6)\n",
      " Call ID: call_86VzqszXXoILtN0q9nV7jdE6\n",
      "  Args:\n",
      "    query: vegetarian menu options in restaurants\n",
      "=================================\u001B[1m Tool Message \u001B[0m=================================\n",
      "Name: search_web\n",
      "\n",
      "<Document href=\"https://www.eatright.org/food/planning/away-from-home/dining-out-for-vegetarians\"/>\n",
      "Dining out can be a challenging experience for vegans and vegetarians. Some restaurants aren't vegetarian or vegan friendly, while others may not highlight their meatless options. Further complicating the matter is that vegetable dishes might be cooked with animal products, including butter, chicken or meat stock and gelatin. The good news is restaurants are adding or expanding vegan and vegetarian menu options in response to customer requests. [...] Restaurants serving global cuisines often are ideal for vegetarians. Asian menus, such as Chinese, Japanese, Thai and Vietnamese, feature a variety of meatless options including rice and noodle dishes containing vegetables and tofu. However, if you do not eat fish, ask the wait staff whether dishes contain any fish or oyster sauce. South Asian cuisine, including Indian, Sri Lankan, Burmese, Pakistani and Nepali, are known for meatless dishes using breads, lentils, beans, rice, curried [...] Finding meatless options at fast food restaurants can be challenging, but many restaurants now have salad menus and sandwiches with vegetable or meat substitute fillings. Breakfast items often are vegetarian friendly, especially for those who eat eggs and dairy products.\n",
      "\n",
      "Dinner Party Advice\n",
      "</Document>\n",
      "\n",
      "---\n",
      "\n",
      "<Document href=\"https://www.hitchcockfarms.com/blog/vegetarian-menu-ideas\"/>\n",
      "The meaty flavor of portobello mushroom steaks make them a vegan menu option that appeals to everyone at the table. Whether you bake or grill these elegant entrees, they’re easy to prep with balsamic vinegar and olive oil. Stay true to the simple recipe by using a vegan seasoning mix for extra flavor.\n",
      "\n",
      "11. Stir Up Creamy Veggie Stew [...] Evolving attitudes toward vegetarian and vegan menus make nutritious options appealing to more and more home and commercial chefs. Plant-based sides and entrees make it easier than ever to enjoy delicious, healthy meals prepared in your kitchen.\n",
      "\n",
      "Here at Hitchcock Farms, it’s our pleasure to serve up new, and inspiring menu ideas. Check back with us soon for more fresh takes on culinary inspiration.\n",
      "\n",
      "About the Author: Dan Holt [...] 12 Vegetarian Menu Ideas for Restaurants & Home Chefs\n",
      "\n",
      "If you’re ordering more plant-based take-out lately, you’re part of a national dining trend. Restaurants and delivery services are responding to strong customer demand for vegan and vegetarian menu options all across the country.\n",
      "\n",
      "If you’re exploring ways to incorporate more plant-based cooking into your healthy lifestyle, get ready to expand your culinary horizons.\n",
      "</Document>\n",
      "\n",
      "---\n",
      "\n",
      "<Document href=\"https://www.quora.com/What-are-some-dishes-that-can-be-eaten-at-a-vegetarian-restaurant-by-someone-who-is-not-vegetarian\"/>\n",
      "Cheese pizza, meatless pasta, cheese enchiladas, cheese omelets, veggie curries, veggie and tofu stir fries are just some of the vegetarian\n",
      "</Document>\n",
      "==================================\u001B[1m Ai Message \u001B[0m==================================\n",
      "\n",
      "채식주의자를 위한 메뉴 옵션은 점점 더 많은 식당에서 제공되고 있습니다. 일반적으로 아시아 요리(중국, 일본, 태국, 베트남 등)는 다양한 채식 요리를 포함하고 있으며, 인도 요리도 렌즈콩, 쌀, 커리 등으로 구성된 여러 가지 고기 없는 요리를 제공합니다. 또한 패스트푸드 레스토랑에서도 샐러드나 채소 또는 대체 고기가 들어간 샌드위치를 포함한 옵션을 종종 찾을 수 있습니다【Source: search_web | Vegetarian Menu Options | https://www.eatright.org/food/planning/away-from-home/dining-out-for-vegetarians】.\n",
      "\n",
      "현재 제공되는 메뉴 중에는 다음과 같은 항목들이 있습니다:\n",
      "- 치킨 콘피 (닭고기 포함, 비채식 옵션)\n",
      "- 연어 타르타르 (생선 포함, 비채식 옵션)\n",
      "\n",
      "채식 옵션이 필요한 경우, 특정 음식이 육류 성분을 포함하는지 여부를 확인하기 위해 직원에게 문의하는 것이 좋습니다【Source: search_menu | 메뉴 | ./data/restaurant_menu.txt】. \n",
      "\n",
      "추가적으로, 포르토벨로 버섯 스테이크와 같은 식물 기반 요리가 인기를 끌고 있으며, 이는 많은 사람들에게 매력적인 선택지입니다【Source: search_web | Vegetarian Menu Ideas | https://www.hitchcockfarms.com/blog/vegetarian-menu-ideas】.\n",
      "================================\u001B[1m Human Message \u001B[0m=================================\n",
      "\n",
      "방금 답변에 대한 출처가 있나요?\n",
      "==================================\u001B[1m Ai Message \u001B[0m==================================\n",
      "\n",
      "다음은 제가 제공한 답변에 대한 출처입니다:\n",
      "\n",
      "1. 채식주의자를 위한 메뉴 옵션이 점점 더 많은 식당에서 제공되고 있다는 정보는 다음의 출처를 기반으로 했습니다: \n",
      "   - [Source: search_web | Vegetarian Menu Options | https://www.eatright.org/food/planning/away-from-home/dining-out-for-vegetarians]\n",
      "\n",
      "2. 메뉴에서 제시된 항목들(치킨 콘피와 연어 타르타르)은 다음의 출처를 바탕으로 하였습니다: \n",
      "   - [Source: search_menu | 메뉴 | ./data/restaurant_menu.txt]\n",
      "\n",
      "3. 또한, 포르토벨로 버섯 스테이크와 같은 식물 기반 요리에 대한 정보는 다음의 출처를 참조했습니다:\n",
      "   - [Source: search_web | Vegetarian Menu Ideas | https://www.hitchcockfarms.com/blog/vegetarian-menu-ideas]\n",
      "\n",
      "이 모든 정보는 채식주의자를 위한 메뉴 옵션에 대한 이해를 돕기 위해 제공되었습니다.\n"
     ]
    }
   ],
   "execution_count": 55
  },
  {
   "metadata": {
    "ExecuteTime": {
     "end_time": "2025-05-24T03:51:41.014223Z",
     "start_time": "2025-05-24T03:51:41.011043Z"
    }
   },
   "cell_type": "code",
   "source": "",
   "id": "9c57a9f29ed376f9",
   "outputs": [],
   "execution_count": null
  }
 ],
 "metadata": {
  "kernelspec": {
   "display_name": "Python 3",
   "language": "python",
   "name": "python3"
  },
  "language_info": {
   "codemirror_mode": {
    "name": "ipython",
    "version": 2
   },
   "file_extension": ".py",
   "mimetype": "text/x-python",
   "name": "python",
   "nbconvert_exporter": "python",
   "pygments_lexer": "ipython2",
   "version": "2.7.6"
  }
 },
 "nbformat": 4,
 "nbformat_minor": 5
}
