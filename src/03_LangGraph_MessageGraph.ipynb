{
 "cells": [
  {
   "metadata": {},
   "cell_type": "markdown",
   "source": [
    "## StateReducer\n",
    "* 기본 리듀서\n",
    "    - 덮어쓰기\n",
    "    - ![](images/reducer_default.png)\n"
   ],
   "id": "9969fa5dc9236b22"
  },
  {
   "metadata": {
    "ExecuteTime": {
     "end_time": "2025-05-18T07:46:38.871723Z",
     "start_time": "2025-05-18T07:46:38.855820Z"
    }
   },
   "cell_type": "code",
   "source": [
    "from dotenv import load_dotenv\n",
    "\n",
    "load_dotenv()"
   ],
   "id": "491e1a26ceea4458",
   "outputs": [
    {
     "data": {
      "text/plain": [
       "True"
      ]
     },
     "execution_count": 1,
     "metadata": {},
     "output_type": "execute_result"
    }
   ],
   "execution_count": 1
  },
  {
   "metadata": {},
   "cell_type": "code",
   "outputs": [],
   "execution_count": null,
   "source": [
    "import re\n",
    "import os, json\n",
    "\n",
    "from textwrap import dedent\n",
    "from pprint import pprint\n",
    "\n",
    "import warnings\n",
    "warnings.filterwarnings(\"ignore\")"
   ],
   "id": "7803302b4b648953"
  },
  {
   "metadata": {
    "ExecuteTime": {
     "end_time": "2025-05-18T07:47:14.648079Z",
     "start_time": "2025-05-18T07:47:13.274633Z"
    }
   },
   "cell_type": "code",
   "source": [
    "from typing import TypedDict, List\n",
    "from langgraph.graph import StateGraph, START, END\n",
    "\n",
    "# 상태 정의\n",
    "class DocumentState(TypedDict):\n",
    "    query: str\n",
    "    documents: List[str]\n",
    "\n",
    "# Node 1: query 업데이트\n",
    "def node_1(state: DocumentState) -> DocumentState:\n",
    "    print(\"---Node 1 (query update)---\")\n",
    "    query = state[\"query\"]\n",
    "    return {\"query\": query}\n",
    "\n",
    "# Node 2: 검색된 문서 추가\n",
    "def node_2(state: DocumentState) -> DocumentState:\n",
    "    print(\"---Node 2 (add documents)---\")\n",
    "    return {\"documents\": [\"doc1.pdf\", \"doc2.pdf\", \"doc3.pdf\"]}\n",
    "\n",
    "# Node 3: 추가적인 문서 검색 결과 추가\n",
    "def node_3(state: DocumentState) -> DocumentState:\n",
    "    print(\"---Node 3 (add more documents)---\")\n",
    "    return {\"documents\": [\"doc2.pdf\", \"doc4.pdf\", \"doc5.pdf\"]}\n",
    "\n",
    "\n",
    "# 그래프 빌드\n",
    "builder = StateGraph(DocumentState)\n",
    "builder.add_node(\"node_1\", node_1)\n",
    "builder.add_node(\"node_2\", node_2)\n",
    "builder.add_node(\"node_3\", node_3)\n",
    "\n",
    "# 논리 구성\n",
    "builder.add_edge(START, \"node_1\")\n",
    "builder.add_edge(\"node_1\", \"node_2\")\n",
    "builder.add_edge(\"node_2\", \"node_3\")\n",
    "builder.add_edge(\"node_3\", END)\n",
    "\n",
    "# 그래프 실행\n",
    "graph = builder.compile()\n",
    "\n",
    "# 그래프 시각화\n",
    "graph\n"
   ],
   "id": "c21c323fc9bf50d4",
   "outputs": [
    {
     "data": {
      "text/plain": [
       "<langgraph.graph.state.CompiledStateGraph object at 0x00000222B2A31B80>"
      ],
      "image/png": "[encoded data removed]"
     },
     "execution_count": 2,
     "metadata": {},
     "output_type": "execute_result"
    }
   ],
   "execution_count": 2
  },
  {
   "metadata": {
    "ExecuteTime": {
     "end_time": "2025-05-18T07:48:41.963800Z",
     "start_time": "2025-05-18T07:48:41.953381Z"
    }
   },
   "cell_type": "code",
   "source": "graph.invoke({\"query\": \"hello\"})",
   "id": "24fca7ca33cf7dc4",
   "outputs": [
    {
     "name": "stdout",
     "output_type": "stream",
     "text": [
      "---Node 1 (query update)---\n",
      "---Node 2 (add documents)---\n",
      "---Node 3 (add more documents)---\n"
     ]
    },
    {
     "data": {
      "text/plain": [
       "{'query': 'hello', 'documents': ['doc2.pdf', 'doc4.pdf', 'doc5.pdf']}"
      ]
     },
     "execution_count": 4,
     "metadata": {},
     "output_type": "execute_result"
    }
   ],
   "execution_count": 4
  },
  {
   "metadata": {},
   "cell_type": "markdown",
   "source": [
    "* add 리듀서\n",
    "    - 메시지 리스트 등에서 이전 상태에 새로운 값을 추가할 때 사용\n",
    "    - ![](images/reducer_add.png)"
   ],
   "id": "97c7c8accfc187a0"
  },
  {
   "metadata": {
    "ExecuteTime": {
     "end_time": "2025-05-18T07:49:43.633085Z",
     "start_time": "2025-05-18T07:49:43.417506Z"
    }
   },
   "cell_type": "code",
   "source": [
    "from operator import add\n",
    "from typing import Annotated, TypedDict\n",
    "\n",
    "class ReducerState(TypedDict):\n",
    "    query: str\n",
    "    documents: Annotated[List[str], add]\n",
    "\n",
    "# Node 1: query 업데이트\n",
    "def node_1(state: ReducerState) -> ReducerState:\n",
    "    print(\"---Node 1 (query update)---\")\n",
    "    query = state[\"query\"]\n",
    "    return {\"query\": query}\n",
    "\n",
    "# Node 2: 검색된 문서 추가\n",
    "def node_2(state: ReducerState) -> ReducerState:\n",
    "    print(\"---Node 2 (add documents)---\")\n",
    "    return {\"documents\": [\"doc1.pdf\", \"doc2.pdf\", \"doc3.pdf\"]}\n",
    "\n",
    "# Node 3: 추가적인 문서 검색 결과 추가\n",
    "def node_3(state: ReducerState) -> ReducerState:\n",
    "    print(\"---Node 3 (add more documents)---\")\n",
    "    return {\"documents\": [\"doc2.pdf\", \"doc4.pdf\", \"doc5.pdf\"]}\n",
    "\n",
    "# 그래프 빌드\n",
    "builder = StateGraph(ReducerState)\n",
    "builder.add_node(\"node_1\", node_1)\n",
    "builder.add_node(\"node_2\", node_2)\n",
    "builder.add_node(\"node_3\", node_3)\n",
    "\n",
    "# 논리 구성\n",
    "builder.add_edge(START, \"node_1\")\n",
    "builder.add_edge(\"node_1\", \"node_2\")\n",
    "builder.add_edge(\"node_2\", \"node_3\")\n",
    "builder.add_edge(\"node_3\", END)\n",
    "\n",
    "# 그래프 실행\n",
    "graph = builder.compile()\n",
    "\n",
    "# 그래프 시각화\n",
    "graph"
   ],
   "id": "3ebf74236e67d092",
   "outputs": [
    {
     "data": {
      "text/plain": [
       "<langgraph.graph.state.CompiledStateGraph object at 0x00000222B52B2DE0>"
      ],
      "image/png": "[encoded data removed]"
     },
     "execution_count": 5,
     "metadata": {},
     "output_type": "execute_result"
    }
   ],
   "execution_count": 5
  },
  {
   "metadata": {
    "ExecuteTime": {
     "end_time": "2025-05-18T07:50:08.422135Z",
     "start_time": "2025-05-18T07:50:08.413734Z"
    }
   },
   "cell_type": "code",
   "source": [
    "# 그래프 실행\n",
    "graph.invoke({\"query\":\"world\"})"
   ],
   "id": "dad0c7747fea42f9",
   "outputs": [
    {
     "name": "stdout",
     "output_type": "stream",
     "text": [
      "---Node 1 (query update)---\n",
      "---Node 2 (add documents)---\n",
      "---Node 3 (add more documents)---\n"
     ]
    },
    {
     "data": {
      "text/plain": [
       "{'query': 'world',\n",
       " 'documents': ['doc1.pdf',\n",
       "  'doc2.pdf',\n",
       "  'doc3.pdf',\n",
       "  'doc2.pdf',\n",
       "  'doc4.pdf',\n",
       "  'doc5.pdf']}"
      ]
     },
     "execution_count": 6,
     "metadata": {},
     "output_type": "execute_result"
    }
   ],
   "execution_count": 6
  },
  {
   "metadata": {},
   "cell_type": "markdown",
   "source": [
    "* custom 리듀서\n",
    "    - 중복 제거, 정렬 등 특수한 상태 관리를 하는 사용자 정의 리듀서"
   ],
   "id": "ebd37f26315d143b"
  },
  {
   "metadata": {
    "ExecuteTime": {
     "end_time": "2025-05-18T07:51:44.277959Z",
     "start_time": "2025-05-18T07:51:44.035226Z"
    }
   },
   "cell_type": "code",
   "source": [
    "from typing import TypedDict, List, Annotated\n",
    "\n",
    "# Custom reducer: 중복된 문서를 제거하며 리스트 병합\n",
    "def reduce_unique_documents(left: list | None, right: list | None) -> list:\n",
    "    \"\"\"Combine two lists of documents, removing duplicates.\"\"\"\n",
    "    if not left:\n",
    "        left = []\n",
    "    if not right:\n",
    "        right = []\n",
    "    # 중복 제거: set을 사용하여 중복된 문서를 제거하고 다시 list로 변환\n",
    "    return list(set(left + right))\n",
    "\n",
    "# 상태 정의 (documents 필드 포함)\n",
    "class CustomReducerState(TypedDict):\n",
    "    query: str\n",
    "    documents: Annotated[List[str], reduce_unique_documents]  # Custom Reducer 적용\n",
    "\n",
    "\n",
    "# Node 1: query 업데이트\n",
    "def node_1(state: CustomReducerState) -> CustomReducerState:\n",
    "    print(\"---Node 1 (query update)---\")\n",
    "    query = state[\"query\"]\n",
    "    return {\"query\": query}\n",
    "\n",
    "# Node 2: 검색된 문서 추가\n",
    "def node_2(state: CustomReducerState) -> CustomReducerState:\n",
    "    print(\"---Node 2 (add documents)---\")\n",
    "    return {\"documents\": [\"doc1.pdf\", \"doc2.pdf\", \"doc3.pdf\"]}\n",
    "\n",
    "# Node 3: 추가적인 문서 검색 결과 추가\n",
    "def node_3(state: CustomReducerState) -> CustomReducerState:\n",
    "    print(\"---Node 3 (add more documents)---\")\n",
    "    return {\"documents\": [\"doc2.pdf\", \"doc4.pdf\", \"doc5.pdf\"]}\n",
    "\n",
    "# 그래프 빌드\n",
    "builder = StateGraph(CustomReducerState)\n",
    "builder.add_node(\"node_1\", node_1)\n",
    "builder.add_node(\"node_2\", node_2)\n",
    "builder.add_node(\"node_3\", node_3)\n",
    "\n",
    "# 논리 구성\n",
    "builder.add_edge(START, \"node_1\")\n",
    "builder.add_edge(\"node_1\", \"node_2\")\n",
    "builder.add_edge(\"node_2\", \"node_3\")\n",
    "builder.add_edge(\"node_3\", END)\n",
    "\n",
    "# 그래프 실행\n",
    "graph = builder.compile()\n",
    "\n",
    "# 그래프 시각화\n",
    "graph"
   ],
   "id": "dd18a8adcceda4cc",
   "outputs": [
    {
     "data": {
      "text/plain": [
       "<langgraph.graph.state.CompiledStateGraph object at 0x00000222B52B23F0>"
      ],
      "image/png": "[encoded data removed]"
     },
     "execution_count": 7,
     "metadata": {},
     "output_type": "execute_result"
    }
   ],
   "execution_count": 7
  },
  {
   "metadata": {
    "ExecuteTime": {
     "end_time": "2025-05-18T07:51:45.481606Z",
     "start_time": "2025-05-18T07:51:45.472452Z"
    }
   },
   "cell_type": "code",
   "source": "graph.invoke({\"query\":\"hello world\"})",
   "id": "eea55eded4cec53e",
   "outputs": [
    {
     "name": "stdout",
     "output_type": "stream",
     "text": [
      "---Node 1 (query update)---\n",
      "---Node 2 (add documents)---\n",
      "---Node 3 (add more documents)---\n"
     ]
    },
    {
     "data": {
      "text/plain": [
       "{'query': 'hello world',\n",
       " 'documents': ['doc1.pdf', 'doc4.pdf', 'doc3.pdf', 'doc2.pdf', 'doc5.pdf']}"
      ]
     },
     "execution_count": 8,
     "metadata": {},
     "output_type": "execute_result"
    }
   ],
   "execution_count": 8
  },
  {
   "metadata": {},
   "cell_type": "markdown",
   "source": [
    "## MessageGraph\n",
    "- LangChain의 ChatModel은 Message 객체 목록을 입력으로 처리 (StateGraph의 특수한 유형)\n",
    "- 이러한 메시지들은 HumanMessage(사용자 입력)나 AIMessage(LLM 응답) 등 다양한 형태로 제공\n",
    "### Messages State 정의\n",
    "- 이전 대화 기록을 그래프 상태에 메시지 목록으로 저장하는 것이 유용\n",
    "- 그래프 상태에 Message 객체 목록을 저장하는 키(채널)를 추가하고, 이 키에 리듀서 함수를 추가\n",
    "- 리듀서 함수 선택:\n",
    "    - operator.add를 사용하면: 새 메시지를 기존 목록에 단순히 추가\n",
    "    - add_messages 함수를 사용하면:\n",
    "        - 새 메시지는 기존 목록에 추가\n",
    "        - 기존 메시지 업데이트도 올바르게 처리 (메시지 ID를 추적)\n",
    "- ![](images/messageGraph.png)"
   ],
   "id": "6ac6a90a1aa2fdb1"
  },
  {
   "metadata": {
    "ExecuteTime": {
     "end_time": "2025-05-18T09:30:24.785934Z",
     "start_time": "2025-05-18T09:30:24.773418Z"
    }
   },
   "cell_type": "code",
   "source": [
    "from langchain_core.messages import AnyMessage\n",
    "from langgraph.graph import add_messages\n",
    "# LangGraph MessagesState라는 미리 만들어진 상태를 사용\n",
    "from langgraph.graph import MessagesState\n",
    "from typing import List\n",
    "from langchain_core.documents import Document\n",
    "\n",
    "class GraphState(MessagesState):\n",
    "    # messages 키는 기본 제공 - 다른 키를 추가하고 싶을 경우 아래 주석과 같이 적용 가능\n",
    "    documents: List[Document]\n",
    "    grade: float\n",
    "    num_generation: int\n",
    "    \n",
    "class GraphStateEqual(TypedDict):\n",
    "    messages: Annotated[List[AnyMessage], add_messages ]\n",
    "    documents: List[Document]\n",
    "    grade: float\n",
    "    num_generation: int"
   ],
   "id": "631ab185b42b0594",
   "outputs": [],
   "execution_count": 9
  },
  {
   "metadata": {
    "ExecuteTime": {
     "end_time": "2025-05-18T09:30:41.049460Z",
     "start_time": "2025-05-18T09:30:25.269221Z"
    }
   },
   "cell_type": "code",
   "source": [
    "from langchain_chroma import Chroma\n",
    "from langchain_openai import ChatOpenAI, OpenAIEmbeddings\n",
    "from langchain_core.messages import HumanMessage, AIMessage\n",
    "from langchain_core.output_parsers import StrOutputParser\n",
    "from langchain_core.prompts import ChatPromptTemplate\n",
    "from langchain_core.runnables import RunnablePassthrough, RunnableLambda\n",
    "\n",
    "embeddings_model = OpenAIEmbeddings(model=\"text-embedding-3-small\")\n",
    "\n",
    "# Chroma 인덱스 로드\n",
    "vector_db = Chroma(\n",
    "    embedding_function=embeddings_model,\n",
    "    collection_name=\"restaurant_menu\",\n",
    "    persist_directory=\"./chroma_db\",\n",
    ")\n",
    "\n",
    "# LLM 모델\n",
    "llm = ChatOpenAI(model=\"gpt-4o-mini\")\n",
    "\n",
    "# RAG 체인 구성\n",
    "def format_docs(docs):\n",
    "    return \"\\n\\n\".join(doc.page_content for doc in docs)\n",
    "\n",
    "system = \"\"\"\n",
    "You are a helpful assistant. Use the following context to answer the user's question:\n",
    "\n",
    "[Context]\n",
    "{context}\n",
    "\"\"\"\n",
    "\n",
    "prompt = ChatPromptTemplate.from_messages([\n",
    "    (\"system\", system),\n",
    "    (\"human\", \"{question}\")\n",
    "])\n",
    "\n",
    "# 검색기 정의\n",
    "retriever = vector_db.as_retriever(\n",
    "    search_kwargs={\"k\": 2}\n",
    ")\n",
    "\n",
    "# RAG 체인 구성\n",
    "rag_chain = (\n",
    "    {\"context\": retriever | format_docs, \"question\": RunnablePassthrough()}\n",
    "    | prompt\n",
    "    | llm\n",
    "    | StrOutputParser()\n",
    ")\n",
    "\n",
    "# RAG 체인 실행\n",
    "query = \"채식주의자를 위한 메뉴를 추천해주세요.\"\n",
    "response = rag_chain.invoke(query)\n",
    "\n",
    "# 답변 출력\n",
    "print(response)"
   ],
   "id": "335073337b5b8c29",
   "outputs": [
    {
     "name": "stdout",
     "output_type": "stream",
     "text": [
      "주어진 메뉴에는 채식주의자를 위한 옵션이 포함되어 있지 않습니다. 하지만 일반적으로 채식주의자를 위한 메뉴는 샐러드, 야채 요리, 파스타 등 다양한 식물성 재료를 활용한 요리로 구성될 수 있습니다. 혹시 주변 레스토랑에서 채식주의자 메뉴를 찾아보시거나, 추가적인 요청이 있으시면 도와드릴 수 있습니다.\n"
     ]
    }
   ],
   "execution_count": 10
  },
  {
   "metadata": {
    "ExecuteTime": {
     "end_time": "2025-05-18T09:30:41.058725Z",
     "start_time": "2025-05-18T09:30:41.055669Z"
    }
   },
   "cell_type": "code",
   "source": [
    "# RAG 수행 함수 정의\n",
    "def retrieve_and_respond(state: GraphState):\n",
    "    last_human_message = state['messages'][-1]\n",
    "\n",
    "    # HumanMessage 객체의 content 속성에 접근\n",
    "    query = last_human_message.content\n",
    "\n",
    "    # 문서 검색\n",
    "    retrieved_docs = retriever.invoke(query)\n",
    "\n",
    "    # 응답 생성\n",
    "    response = rag_chain.invoke(query)\n",
    "\n",
    "    # 검색된 문서와 응답을 상태에 저장\n",
    "    return {\n",
    "        \"messages\": [AIMessage(content=response)],\n",
    "        \"documents\": retrieved_docs\n",
    "    }"
   ],
   "id": "e712030b8f95e443",
   "outputs": [],
   "execution_count": 11
  },
  {
   "metadata": {
    "ExecuteTime": {
     "end_time": "2025-05-18T09:36:15.691310Z",
     "start_time": "2025-05-18T09:36:15.685053Z"
    }
   },
   "cell_type": "code",
   "source": [
    "from pydantic import BaseModel, Field\n",
    "\n",
    "class GradeResponse(BaseModel):\n",
    "    \"A score for answers\"\n",
    "    score: float = Field(..., ge=0, le=1, description=\"A score from 0 to 1, where 1 is perfect\")\n",
    "    explanation: str = Field(..., description=\"An explanation for the given score\")\n",
    "\n",
    "# 답변 품질 평가 함수\n",
    "def grade_answer(state: GraphState):\n",
    "    messages = state['messages']\n",
    "    question = messages[-2].content\n",
    "    answer = messages[-1].content\n",
    "    context = format_docs(state['documents'])\n",
    "\n",
    "    grading_system = \"\"\"You are an expert grader.\n",
    "    Grade the following answer based on its relevance and accuracy to the question, considering the given context.\n",
    "    Provide a score from 0 to 1, where 1 is perfect, along with an explanation.\"\"\"\n",
    "\n",
    "    grading_prompt = ChatPromptTemplate.from_messages([\n",
    "        (\"system\", grading_system),\n",
    "        (\"human\", \"[Question]\\n{question}\\n\\n[Context]\\n{context}\\n\\n[Answer]\\n{answer}\\n\\n[Grade]\\n\")\n",
    "    ])\n",
    "\n",
    "    grading_chain = grading_prompt | llm.with_structured_output(schema=GradeResponse, method=\"function_calling\")\n",
    "\n",
    "    grade_response = grading_chain.invoke({\n",
    "        \"question\": question,\n",
    "        \"context\": context,\n",
    "        \"answer\": answer\n",
    "    })\n",
    "\n",
    "    # 답변 생성 횟수를 증가\n",
    "    num_generation = state.get('num_generation', 0)\n",
    "    num_generation += 1\n",
    "\n",
    "    return {\"grade\": grade_response.score, \"num_generation\": num_generation}"
   ],
   "id": "7ad22df994176391",
   "outputs": [],
   "execution_count": 16
  },
  {
   "metadata": {
    "ExecuteTime": {
     "end_time": "2025-05-18T09:36:16.666258Z",
     "start_time": "2025-05-18T09:36:16.660867Z"
    }
   },
   "cell_type": "code",
   "source": [
    "from typing import Literal\n",
    "\n",
    "\n",
    "def should_retry(state: GraphState) -> Literal[\"retrieve_and_respond\", \"generate\"]:\n",
    "    print(\"----GRADTING---\")\n",
    "    print(\"Grade Score: \", state[\"grade\"])\n",
    "\n",
    "    # 답변 생성 횟수가 3회 이상이면 \"generate\"를 반환\n",
    "    if state[\"num_generation\"] > 2:\n",
    "        return \"generate\"\n",
    "\n",
    "    # 답변 품질 평가점수가 0.7 미만이면 RAG 체인을 다시 실행\n",
    "    if state[\"grade\"] < 0.7:\n",
    "        return \"retrieve_and_respond\"\n",
    "    else:\n",
    "        return \"generate\""
   ],
   "id": "6c7e353011ad9cec",
   "outputs": [],
   "execution_count": 17
  },
  {
   "metadata": {
    "ExecuteTime": {
     "end_time": "2025-05-18T09:36:17.655051Z",
     "start_time": "2025-05-18T09:36:17.387499Z"
    }
   },
   "cell_type": "code",
   "source": [
    "# 그래프 설정\n",
    "builder = StateGraph(GraphState)\n",
    "builder.add_node(\"retrieve_and_respond\", retrieve_and_respond)\n",
    "builder.add_node(\"grade_answer\", grade_answer)\n",
    "\n",
    "builder.add_edge(START, \"retrieve_and_respond\")\n",
    "builder.add_edge(\"retrieve_and_respond\", \"grade_answer\")\n",
    "builder.add_conditional_edges(\n",
    "    \"grade_answer\",\n",
    "    should_retry,\n",
    "    {\n",
    "        \"retrieve_and_respond\": \"retrieve_and_respond\",\n",
    "        \"generate\": END\n",
    "    }\n",
    ")\n",
    "\n",
    "# 그래프 컴파일\n",
    "graph = builder.compile()\n",
    "\n",
    "# 그래프 시각화\n",
    "graph"
   ],
   "id": "d00c0ee2e27c3113",
   "outputs": [
    {
     "data": {
      "text/plain": [
       "<langgraph.graph.state.CompiledStateGraph object at 0x00000222F5137980>"
      ],
      "image/png": "[encoded data removed]"
     },
     "execution_count": 18,
     "metadata": {},
     "output_type": "execute_result"
    }
   ],
   "execution_count": 18
  },
  {
   "metadata": {
    "ExecuteTime": {
     "end_time": "2025-05-18T09:36:22.770295Z",
     "start_time": "2025-05-18T09:36:18.095155Z"
    }
   },
   "cell_type": "code",
   "source": [
    "# 초기 상태\n",
    "initial_state = {\n",
    "    \"messages\": [HumanMessage(content=\"채식주의자를 위한 메뉴를 추천해주세요.\")],\n",
    "}\n",
    "\n",
    "# 그래프 실행\n",
    "final_state = graph.invoke(initial_state)\n",
    "\n",
    "# 최종 상태 출력\n",
    "print(\"최종 상태:\", final_state)"
   ],
   "id": "594f19b07a293386",
   "outputs": [
    {
     "name": "stdout",
     "output_type": "stream",
     "text": [
      "----GRADTING---\n",
      "Grade Score:  1.0\n",
      "최종 상태: {'messages': [HumanMessage(content='채식주의자를 위한 메뉴를 추천해주세요.', additional_kwargs={}, response_metadata={}, id='8c8182cc-7e6d-4617-9d94-b5ddea909283'), AIMessage(content='제공된 메뉴 중에서는 채식주의자를 위한 옵션이 없습니다. 하지만 일반적으로 채식주의자를 위한 메뉴로는 다양한 샐러드, 야채 수프, 구운 야채 요리, 혹은 아보카도를 활용한 요리들이 좋은 선택이 될 수 있습니다. \\n\\n혹시 다른 종류의 메뉴나 추가 정보를 원하신다면 말씀해 주세요!', additional_kwargs={}, response_metadata={}, id='b9f4d0c1-175f-4b41-928c-ea6917a7710f')], 'documents': [Document(id='89eec7aa-e5a8-43a9-ac13-8279b5b7f909', metadata={'menu_name': '연어 타르타르', 'source': './data/restaurant_menu.txt', 'menu_number': 2}, page_content='3. 연어 타르타르\\n   • 가격: ₩18,000\\n   • 주요 식재료: 노르웨이산 생연어, 아보카도, 케이퍼, 적양파\\n   • 설명: 신선한 노르웨이산 생연어를 곱게 다져 아보카도, 케이퍼, 적양파와 함께 섞어 만든 타르타르입니다. 레몬 드레싱으로 상큼한 맛을 더했으며, 바삭한 브리오쉬 토스트와 함께 제공됩니다. 전채요리로 완벽한 메뉴입니다.'), Document(id='a8e0c237-25ae-4f90-9ed0-a8b16705f028', metadata={'menu_name': '시그니처 스테이크', 'menu_number': 0, 'source': './data/restaurant_menu.txt'}, page_content='1. 시그니처 스테이크\\n   • 가격: ₩35,000\\n   • 주요 식재료: 최상급 한우 등심, 로즈메리 감자, 그릴드 아스파라거스\\n   • 설명: 셰프의 특제 시그니처 메뉴로, 21일간 건조 숙성한 최상급 한우 등심을 사용합니다. 미디엄 레어로 조리하여 육즙을 최대한 보존하며, 로즈메리 향의 감자와 아삭한 그릴드 아스파라거스가 곁들여집니다. 레드와인 소스와 함께 제공되어 풍부한 맛을 더합니다.')], 'grade': 1.0, 'num_generation': 1}\n"
     ]
    }
   ],
   "execution_count": 19
  },
  {
   "metadata": {},
   "cell_type": "code",
   "outputs": [],
   "execution_count": null,
   "source": "",
   "id": "6e3f9fc6041149af"
  },
  {
   "metadata": {},
   "cell_type": "code",
   "outputs": [],
   "execution_count": null,
   "source": "",
   "id": "b2a70ff698d48f43"
  }
 ],
 "metadata": {
  "kernelspec": {
   "display_name": "Python 3",
   "language": "python",
   "name": "python3"
  },
  "language_info": {
   "codemirror_mode": {
    "name": "ipython",
    "version": 2
   },
   "file_extension": ".py",
   "mimetype": "text/x-python",
   "name": "python",
   "nbconvert_exporter": "python",
   "pygments_lexer": "ipython2",
   "version": "2.7.6"
  }
 },
 "nbformat": 4,
 "nbformat_minor": 5
}
