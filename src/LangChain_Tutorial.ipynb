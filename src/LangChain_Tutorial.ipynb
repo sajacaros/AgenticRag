{
 "cells": [
  {
   "metadata": {},
   "cell_type": "raw",
   "source": [
    "# LangChain\n",
    "## ToolCalling\n",
    "- LLM이 외부 기능이나 데이터에 접근할 수 있게 해주는 매커니즘\n",
    "![](images/tool_call.png)"
   ],
   "id": "933c8c4111b5851a"
  },
  {
   "metadata": {
    "ExecuteTime": {
     "end_time": "2025-04-26T09:44:31.048729Z",
     "start_time": "2025-04-26T09:44:31.041199Z"
    }
   },
   "cell_type": "code",
   "source": [
    "import re\n",
    "import os, json\n",
    "import warnings\n",
    "from pprint import pprint\n",
    "from textwrap import dedent\n",
    "from dotenv import load_dotenv\n",
    "from langchain_core.messages import ToolMessage\n",
    "\n",
    "warnings.filterwarnings(\"ignore\")\n",
    "load_dotenv()"
   ],
   "id": "9f5bf2194d41ef16",
   "outputs": [
    {
     "data": {
      "text/plain": [
       "True"
      ]
     },
     "execution_count": 14,
     "metadata": {},
     "output_type": "execute_result"
    }
   ],
   "execution_count": 14
  },
  {
   "metadata": {},
   "cell_type": "raw",
   "source": [
    "## 랭체인 내장 도구\n",
    "- 랭체인은 검색, 코드 인터프리터, 생산성 도구 제공\n",
    "### Tavily 도구 직접 사용해보기\n",
    "- [docs](https://python.langchain.com/docs/integrations/tools/tavily_search/)"
   ],
   "id": "315e64f82b4d4e69"
  },
  {
   "metadata": {
    "ExecuteTime": {
     "end_time": "2025-04-26T10:07:04.122547Z",
     "start_time": "2025-04-26T10:07:00.347048Z"
    }
   },
   "cell_type": "code",
   "source": [
    "from langchain_community.tools import TavilySearchResults\n",
    "\n",
    "query = \"최근 한 달 동안 나온 테슬라 CEO와 관련된 영문 기사를 한국어로 요약해줘.\"\n",
    "\n",
    "tavily_search = TavilySearchResults(max_results=2)\n",
    "search_results = tavily_search.invoke(query)\n",
    "search_results"
   ],
   "id": "7bfd757e7119da70",
   "outputs": [
    {
     "data": {
      "text/plain": [
       "[{'title': '월~금 업로드] 영어 기사 하루 한 줄 -테슬라 CEO 일론 머스크, 오픈AI ...',\n",
       "  'url': 'https://www.youtube.com/watch?v=j216YuDJoz4',\n",
       "  'content': '#영어공부 #매일영어공부 #매일영어 #영어표현 #영어표현배우기 #영단어 #영어기사 #영자신문 #영자신문읽기 #영어단어 #영어독해 #영어기초 #비즈니스영어 #영어뉴스 #원어민영어표현 #미국직장인 #english #영어기사해석#dailyenglish#englishstudy #studyenglish #englishexpressionsa #중급영어 #고급영어 #사회뉴스 #세계뉴스 #미국뉴스 #경제뉴스 #세계경제 #일론머스크 #샘알트먼 #샘알트만 #오픈AI #openAI #인공지능 #AI #benefits #humanity #Microsoft #마이크로소프트 #back #bebacked #bebackedby #backedby #후원받다 #지원받다 #지지하다 #뒷받침하다 #prohibit #prohibitafromb #prohibitfrom #prohibition #금지하다 #못하도록하다 #막다\\n\\n\\n\\n\\n*기사 출처\\nNPR March 1st, 2024 [...] \"Elon Musk sues OpenAI for choosing profits over \\'the benefit of humanity\\'\" \\nBy Juliana Kim\\r\\n\\r\\nhttps://www.npr.org/2024/03/01/1235159084/elon-musk-openai-suit-chatgpt-sam-altman-greg-brockman\\n\\n*효과음\\nCC0 1.0 Universal made by DayDreamSound\\nhttps://youtu.be/kfnh9QAfDgA\\n\\n*이모티콘\\n제작자: June Design - Flaticon \\n 4 comments [...] [Daily English - 월~금 업로드] 영어 기사 하루 한 줄 -테슬라 CEO 일론 머스크, 오픈AI와 CEO 샘 알트먼 고소- \\n 언제나영어 \\n 24 likes \\n 206 views \\n 5 Mar 2024 \\n 영어 회화도 중요하지만 정보 수집을 위한 영어 공부도 중요하죠?\\n월~금 업로드 되는 Daily English 영어 기사 하루 한 줄 영상으로 부담스럽지 않게 영어 독해를 공부해 보세요~\\n\\n오늘 영상에서는 테슬라 CEO 일론 머스크, 인류의 이익 대신 이윤을 선택했다는 이유로 오픈AI와 CEO 샘 알트먼 고소에 대한 기사를 소개하겠습니다!',\n",
       "  'score': 0.76512027},\n",
       " {'title': '[시사영어 1일1문] 머스크의 테슬라 사면초가에 (NYT ... - YouTube',\n",
       "  'url': 'https://www.youtube.com/watch?v=IN1lZzNk2O8',\n",
       "  'content': '[시사영어 1일1문] 머스크의 테슬라 사면초가에 (NYT) (최신영어뉴스로 영어공부) \\n 상상영어 \\n 132 likes \\n 1448 views \\n 23 Apr 2025 \\n 출처: https://www.nytimes.com/2025/04/22/business/tesla-earnings-elon-musk.html\\n(긴 뉴스기사에서 필수적인 내용만을 추출하여 2~3 페이지로 구성했습니다. 완전한 전체 기사는 출처를 참고하시기 바랍니다.) [...] [본문]\\nTesla’s 71% Drop in Profit May Pressure Elon Musk to Return to Day Job\\nTesla said Tuesday that its profits fell 71 percent in the first three months of the year, which could increase the pressure on Elon Musk, the automaker’s chief executive, to curtail his work for President Trump and spend more time managing the company.\\nThe company said it earned $409 million, down from $1.4 billion in the first quarter of 2024. [...] Mr. Musk’s role at the federal office called the Department of Government Efficiency, which has slashed the budgets of federal agencies and cut thousands of jobs, has made him a lightning rod. Activists have protested outside Tesla dealerships around the world, and Tesla vehicles have been vandalized or even burned.',\n",
       "  'score': 0.7031221}]"
      ]
     },
     "execution_count": 43,
     "metadata": {},
     "output_type": "execute_result"
    }
   ],
   "execution_count": 43
  },
  {
   "metadata": {},
   "cell_type": "raw",
   "source": [
    "### Tool의 구성 요소\n",
    "- name : 도구의 이름\n",
    "- description : 도구에 대한 설명\n",
    "- JSON schema : 도구 입력 정보\n",
    "- function : 실행할 함수??"
   ],
   "id": "700ac6c794019d02"
  },
  {
   "metadata": {
    "ExecuteTime": {
     "end_time": "2025-04-26T10:07:04.141427Z",
     "start_time": "2025-04-26T10:07:04.136966Z"
    }
   },
   "cell_type": "code",
   "source": [
    "TavilySearchResults # class 살펴보기\n",
    "type(tavily_search)"
   ],
   "id": "5625c6f4658a97e",
   "outputs": [
    {
     "data": {
      "text/plain": [
       "langchain_community.tools.tavily_search.tool.TavilySearchResults"
      ]
     },
     "execution_count": 44,
     "metadata": {},
     "output_type": "execute_result"
    }
   ],
   "execution_count": 44
  },
  {
   "metadata": {
    "ExecuteTime": {
     "end_time": "2025-04-26T10:07:04.153032Z",
     "start_time": "2025-04-26T10:07:04.149671Z"
    }
   },
   "cell_type": "code",
   "source": "tavily_search.name",
   "id": "fb798ccb905f06ea",
   "outputs": [
    {
     "data": {
      "text/plain": [
       "'tavily_search_results_json'"
      ]
     },
     "execution_count": 45,
     "metadata": {},
     "output_type": "execute_result"
    }
   ],
   "execution_count": 45
  },
  {
   "metadata": {
    "ExecuteTime": {
     "end_time": "2025-04-26T10:07:04.162992Z",
     "start_time": "2025-04-26T10:07:04.159915Z"
    }
   },
   "cell_type": "code",
   "source": "tavily_search.description",
   "id": "1a1041e20909bfa0",
   "outputs": [
    {
     "data": {
      "text/plain": [
       "'A search engine optimized for comprehensive, accurate, and trusted results. Useful for when you need to answer questions about current events. Input should be a search query.'"
      ]
     },
     "execution_count": 46,
     "metadata": {},
     "output_type": "execute_result"
    }
   ],
   "execution_count": 46
  },
  {
   "metadata": {
    "ExecuteTime": {
     "end_time": "2025-04-26T10:07:04.174155Z",
     "start_time": "2025-04-26T10:07:04.168997Z"
    }
   },
   "cell_type": "code",
   "source": "tavily_search.args",
   "id": "3320e958ca669e81",
   "outputs": [
    {
     "data": {
      "text/plain": [
       "{'query': {'description': 'search query to look up',\n",
       "  'title': 'Query',\n",
       "  'type': 'string'}}"
      ]
     },
     "execution_count": 47,
     "metadata": {},
     "output_type": "execute_result"
    }
   ],
   "execution_count": 47
  },
  {
   "metadata": {
    "ExecuteTime": {
     "end_time": "2025-04-26T10:07:04.186757Z",
     "start_time": "2025-04-26T10:07:04.182729Z"
    }
   },
   "cell_type": "code",
   "source": "tavily_search.args_schema",
   "id": "b7b5249e1214211e",
   "outputs": [
    {
     "data": {
      "text/plain": [
       "langchain_community.tools.tavily_search.tool.TavilyInput"
      ]
     },
     "execution_count": 48,
     "metadata": {},
     "output_type": "execute_result"
    }
   ],
   "execution_count": 48
  },
  {
   "metadata": {
    "ExecuteTime": {
     "end_time": "2025-04-26T10:07:04.202822Z",
     "start_time": "2025-04-26T10:07:04.198365Z"
    }
   },
   "cell_type": "code",
   "source": "tavily_search.args_schema.model_json_schema()",
   "id": "530db5a187ad4b1e",
   "outputs": [
    {
     "data": {
      "text/plain": [
       "{'description': 'Input for the Tavily tool.',\n",
       " 'properties': {'query': {'description': 'search query to look up',\n",
       "   'title': 'Query',\n",
       "   'type': 'string'}},\n",
       " 'required': ['query'],\n",
       " 'title': 'TavilyInput',\n",
       " 'type': 'object'}"
      ]
     },
     "execution_count": 49,
     "metadata": {},
     "output_type": "execute_result"
    }
   ],
   "execution_count": 49
  },
  {
   "metadata": {},
   "cell_type": "raw",
   "source": "### LLM과 Tavily 도구 binding하기",
   "id": "de1960e48cee3549"
  },
  {
   "metadata": {
    "ExecuteTime": {
     "end_time": "2025-04-26T10:07:04.618974Z",
     "start_time": "2025-04-26T10:07:04.214057Z"
    }
   },
   "cell_type": "code",
   "source": [
    "from langchain_openai import ChatOpenAI\n",
    "\n",
    "llm = ChatOpenAI(model=\"gpt-4o-mini\")\n",
    "llm_with_tools = llm.bind_tools(tools=[tavily_search])\n",
    "\n",
    "query"
   ],
   "id": "3a987aee061fecb4",
   "outputs": [
    {
     "data": {
      "text/plain": [
       "'최근 한 달 동안 나온 테슬라 CEO와 관련된 영문 기사를 한국어로 요약해줘.'"
      ]
     },
     "execution_count": 50,
     "metadata": {},
     "output_type": "execute_result"
    }
   ],
   "execution_count": 50
  },
  {
   "metadata": {
    "ExecuteTime": {
     "end_time": "2025-04-26T10:07:05.809396Z",
     "start_time": "2025-04-26T10:07:04.627926Z"
    }
   },
   "cell_type": "code",
   "source": [
    "ai_msg = llm_with_tools.invoke(query)\n",
    "pprint(ai_msg)"
   ],
   "id": "84a10b5bc3600439",
   "outputs": [
    {
     "name": "stdout",
     "output_type": "stream",
     "text": [
      "AIMessage(content='', additional_kwargs={'tool_calls': [{'id': 'call_PB8gOihLLPXcm9sYYTI6LIAg', 'function': {'arguments': '{\"query\":\"recent news articles about Tesla CEO\"}', 'name': 'tavily_search_results_json'}, 'type': 'function'}], 'refusal': None}, response_metadata={'token_usage': {'completion_tokens': 24, 'prompt_tokens': 103, 'total_tokens': 127, 'completion_tokens_details': {'accepted_prediction_tokens': 0, 'audio_tokens': 0, 'reasoning_tokens': 0, 'rejected_prediction_tokens': 0}, 'prompt_tokens_details': {'audio_tokens': 0, 'cached_tokens': 0}}, 'model_name': 'gpt-4o-mini-2024-07-18', 'system_fingerprint': 'fp_dbaca60df0', 'id': 'chatcmpl-BQWj2Ox5jAojVItaenGRu2iHk4io8', 'finish_reason': 'tool_calls', 'logprobs': None}, id='run-e776d12b-b74b-4330-8edd-e4e5e30dff1d-0', tool_calls=[{'name': 'tavily_search_results_json', 'args': {'query': 'recent news articles about Tesla CEO'}, 'id': 'call_PB8gOihLLPXcm9sYYTI6LIAg', 'type': 'tool_call'}], usage_metadata={'input_tokens': 103, 'output_tokens': 24, 'total_tokens': 127, 'input_token_details': {'audio': 0, 'cache_read': 0}, 'output_token_details': {'audio': 0, 'reasoning': 0}})\n"
     ]
    }
   ],
   "execution_count": 51
  },
  {
   "metadata": {
    "ExecuteTime": {
     "end_time": "2025-04-26T10:07:05.900876Z",
     "start_time": "2025-04-26T10:07:05.895618Z"
    }
   },
   "cell_type": "code",
   "source": "ai_msg.content",
   "id": "6593f85fee732368",
   "outputs": [
    {
     "data": {
      "text/plain": [
       "''"
      ]
     },
     "execution_count": 52,
     "metadata": {},
     "output_type": "execute_result"
    }
   ],
   "execution_count": 52
  },
  {
   "metadata": {
    "ExecuteTime": {
     "end_time": "2025-04-26T10:07:05.991670Z",
     "start_time": "2025-04-26T10:07:05.987845Z"
    }
   },
   "cell_type": "code",
   "source": "ai_msg.tool_calls",
   "id": "a5b410f1a6267287",
   "outputs": [
    {
     "data": {
      "text/plain": [
       "[{'name': 'tavily_search_results_json',\n",
       "  'args': {'query': 'recent news articles about Tesla CEO'},\n",
       "  'id': 'call_PB8gOihLLPXcm9sYYTI6LIAg',\n",
       "  'type': 'tool_call'}]"
      ]
     },
     "execution_count": 53,
     "metadata": {},
     "output_type": "execute_result"
    }
   ],
   "execution_count": 53
  },
  {
   "metadata": {},
   "cell_type": "raw",
   "source": [
    "### LLM에서 응답으로 온 Tool 정보를 이용해 Tool 직접 실행하기\n",
    "- args 스키마 사용 -> list 형태로 나옴\n",
    "- tool_call 사용 -> ToolMessage 형태로 나옴"
   ],
   "id": "acaa997c478aa54a"
  },
  {
   "metadata": {
    "ExecuteTime": {
     "end_time": "2025-04-26T10:12:34.590361Z",
     "start_time": "2025-04-26T10:12:31.862280Z"
    }
   },
   "cell_type": "code",
   "source": [
    "# args 스키마 사용\n",
    "tool_call = ai_msg.tool_calls[0]\n",
    "tool_output = tavily_search.invoke(tool_call['args'])\n",
    "pprint(type(tool_output))\n",
    "pprint(tool_output)"
   ],
   "id": "713876dfa6bd1593",
   "outputs": [
    {
     "name": "stdout",
     "output_type": "stream",
     "text": [
      "<class 'list'>\n",
      "[{'content': 'Tesla CEO Elon Musk boards Air Force One in New Jersey. Autos & '\n",
      "             'Transportationcategory· April 22, 2025. Tesla CEO Elon Musk '\n",
      "             'dreams big but often delivers late.',\n",
      "  'score': 0.81347597,\n",
      "  'title': \"Elon Musk News | Today's Latest Stories - Reuters\",\n",
      "  'url': 'https://www.reuters.com/business/elon-musk/'},\n",
      " {'content': 'Multi-city event series empowers corporate executives, investors '\n",
      "             '& tech moguls\\n'\n",
      "             '\\n'\n",
      "             'October 27 - 31, 2025 · Houston, TX\\n'\n",
      "             '\\n'\n",
      "             'Join the Growing Community of Tech Creators and Innovators\\n'\n",
      "             '\\n'\n",
      "             'EXPLORE\\n'\n",
      "             '\\n'\n",
      "             'PROGRAMS\\n'\n",
      "             '\\n'\n",
      "             'MORE\\n'\n",
      "             '\\n'\n",
      "             'join us on  SOCIALS\\n'\n",
      "             '\\n'\n",
      "             'SUBSCRIBE TO NEWSLETTER\\n'\n",
      "             '\\n'\n",
      "             '© 2025  AfroTech ,  Blavity, Inc.  All rights reserved. [...] '\n",
      "             'Apr 25, 2025\\n'\n",
      "             '\\n'\n",
      "             '2 min\\n'\n",
      "             '\\n'\n",
      "             'Tesla CEO Elon Musk Admits Full Self-Driving Technology Isn’t '\n",
      "             'Ready Even After Customers Paid For The Upgrade\\n'\n",
      "             '\\n'\n",
      "             'share\\n'\n",
      "             '\\n'\n",
      "             'Tesla CEO Elon Musk has acknowledged that the final version of '\n",
      "             'the company’s Full Self-Driving (FSD) technology is not yet '\n",
      "             'ready for public release — and there is no definitive date for '\n",
      "             'when it will be available. [...] From nationwide boycotts to '\n",
      "             'increasing competition and market pressures, Musk has faced '\n",
      "             'significant setbacks for Tesla, partly due to his decision to '\n",
      "             'align with President Donald Trump, as AFROTECH™ previously '\n",
      "             'reported — challenges highlighted by its first-quarter '\n",
      "             'deliveries falling short of estimates.',\n",
      "  'score': 0.6549173,\n",
      "  'title': \"Tesla CEO Elon Musk Admits Full Self-Driving Technology Isn't ...\",\n",
      "  'url': 'https://afrotech.com/elon-musk-admits-tesla-full-self-driving-not-ready'}]\n"
     ]
    }
   ],
   "execution_count": 57
  },
  {
   "metadata": {
    "ExecuteTime": {
     "end_time": "2025-04-26T10:12:36.879144Z",
     "start_time": "2025-04-26T10:12:34.596911Z"
    }
   },
   "cell_type": "code",
   "source": [
    "# tool_call 사용\n",
    "tool_message = tavily_search.invoke(tool_call)\n",
    "pprint(type(tool_message))\n",
    "pprint(tool_message)"
   ],
   "id": "7f188b2101eceeb7",
   "outputs": [
    {
     "name": "stdout",
     "output_type": "stream",
     "text": [
      "<class 'langchain_core.messages.tool.ToolMessage'>\n",
      "ToolMessage(content='[{\"title\": \"Elon Musk News | Today\\'s Latest Stories - Reuters\", \"url\": \"https://www.reuters.com/business/elon-musk/\", \"content\": \"Tesla CEO Elon Musk boards Air Force One in New Jersey. Autos & Transportationcategory· April 22, 2025. Tesla CEO Elon Musk dreams big but often delivers late.\", \"score\": 0.81347597}, {\"title\": \"Tesla CEO Elon Musk Admits Full Self-Driving Technology Isn\\'t ...\", \"url\": \"https://afrotech.com/elon-musk-admits-tesla-full-self-driving-not-ready\", \"content\": \"Multi-city event series empowers corporate executives, investors & tech moguls\\\\n\\\\nOctober 27 - 31, 2025 · Houston, TX\\\\n\\\\nJoin the Growing Community of Tech Creators and Innovators\\\\n\\\\nEXPLORE\\\\n\\\\nPROGRAMS\\\\n\\\\nMORE\\\\n\\\\njoin us on  SOCIALS\\\\n\\\\nSUBSCRIBE TO NEWSLETTER\\\\n\\\\n© 2025  AfroTech ,  Blavity, Inc.  All rights reserved. [...] Apr 25, 2025\\\\n\\\\n2 min\\\\n\\\\nTesla CEO Elon Musk Admits Full Self-Driving Technology Isn’t Ready Even After Customers Paid For The Upgrade\\\\n\\\\nshare\\\\n\\\\nTesla CEO Elon Musk has acknowledged that the final version of the company’s Full Self-Driving (FSD) technology is not yet ready for public release — and there is no definitive date for when it will be available. [...] From nationwide boycotts to increasing competition and market pressures, Musk has faced significant setbacks for Tesla, partly due to his decision to align with President Donald Trump, as AFROTECH™ previously reported — challenges highlighted by its first-quarter deliveries falling short of estimates.\", \"score\": 0.6549173}]', name='tavily_search_results_json', tool_call_id='call_PB8gOihLLPXcm9sYYTI6LIAg', artifact={'query': 'recent news articles about Tesla CEO', 'follow_up_questions': None, 'answer': None, 'images': [], 'results': [{'url': 'https://www.reuters.com/business/elon-musk/', 'title': \"Elon Musk News | Today's Latest Stories - Reuters\", 'content': 'Tesla CEO Elon Musk boards Air Force One in New Jersey. Autos & Transportationcategory· April 22, 2025. Tesla CEO Elon Musk dreams big but often delivers late.', 'score': 0.81347597, 'raw_content': None}, {'url': 'https://afrotech.com/elon-musk-admits-tesla-full-self-driving-not-ready', 'title': \"Tesla CEO Elon Musk Admits Full Self-Driving Technology Isn't ...\", 'content': 'Multi-city event series empowers corporate executives, investors & tech moguls\\n\\nOctober 27 - 31, 2025 · Houston, TX\\n\\nJoin the Growing Community of Tech Creators and Innovators\\n\\nEXPLORE\\n\\nPROGRAMS\\n\\nMORE\\n\\njoin us on  SOCIALS\\n\\nSUBSCRIBE TO NEWSLETTER\\n\\n© 2025  AfroTech ,  Blavity, Inc.  All rights reserved. [...] Apr 25, 2025\\n\\n2 min\\n\\nTesla CEO Elon Musk Admits Full Self-Driving Technology Isn’t Ready Even After Customers Paid For The Upgrade\\n\\nshare\\n\\nTesla CEO Elon Musk has acknowledged that the final version of the company’s Full Self-Driving (FSD) technology is not yet ready for public release — and there is no definitive date for when it will be available. [...] From nationwide boycotts to increasing competition and market pressures, Musk has faced significant setbacks for Tesla, partly due to his decision to align with President Donald Trump, as AFROTECH™ previously reported — challenges highlighted by its first-quarter deliveries falling short of estimates.', 'score': 0.6549173, 'raw_content': None}], 'response_time': 1.52})\n"
     ]
    }
   ],
   "execution_count": 58
  },
  {
   "metadata": {
    "ExecuteTime": {
     "end_time": "2025-04-26T10:17:48.859870Z",
     "start_time": "2025-04-26T10:17:48.854542Z"
    }
   },
   "cell_type": "code",
   "source": [
    "# tool_output으로 ToolMessage 만들기\n",
    "from langchain_core.messages.tool import ToolMessage\n",
    "\n",
    "tool_message = ToolMessage(\n",
    "    content=tool_output,\n",
    "    tool_call_id=tool_call[\"id\"],\n",
    "    name=tool_call[\"name\"]\n",
    ")\n",
    "pprint(type(tool_message))\n",
    "pprint(tool_message)"
   ],
   "id": "61f98b3f8846d2cb",
   "outputs": [
    {
     "name": "stdout",
     "output_type": "stream",
     "text": [
      "<class 'langchain_core.messages.tool.ToolMessage'>\n",
      "ToolMessage(content=[{'title': \"Elon Musk News | Today's Latest Stories - Reuters\", 'url': 'https://www.reuters.com/business/elon-musk/', 'content': 'Tesla CEO Elon Musk boards Air Force One in New Jersey. Autos & Transportationcategory· April 22, 2025. Tesla CEO Elon Musk dreams big but often delivers late.', 'score': 0.81347597}, {'title': \"Tesla CEO Elon Musk Admits Full Self-Driving Technology Isn't ...\", 'url': 'https://afrotech.com/elon-musk-admits-tesla-full-self-driving-not-ready', 'content': 'Multi-city event series empowers corporate executives, investors & tech moguls\\n\\nOctober 27 - 31, 2025 · Houston, TX\\n\\nJoin the Growing Community of Tech Creators and Innovators\\n\\nEXPLORE\\n\\nPROGRAMS\\n\\nMORE\\n\\njoin us on  SOCIALS\\n\\nSUBSCRIBE TO NEWSLETTER\\n\\n© 2025  AfroTech ,  Blavity, Inc.  All rights reserved. [...] Apr 25, 2025\\n\\n2 min\\n\\nTesla CEO Elon Musk Admits Full Self-Driving Technology Isn’t Ready Even After Customers Paid For The Upgrade\\n\\nshare\\n\\nTesla CEO Elon Musk has acknowledged that the final version of the company’s Full Self-Driving (FSD) technology is not yet ready for public release — and there is no definitive date for when it will be available. [...] From nationwide boycotts to increasing competition and market pressures, Musk has faced significant setbacks for Tesla, partly due to his decision to align with President Donald Trump, as AFROTECH™ previously reported — challenges highlighted by its first-quarter deliveries falling short of estimates.', 'score': 0.6549173}], name='tavily_search_results_json', tool_call_id='call_PB8gOihLLPXcm9sYYTI6LIAg')\n"
     ]
    }
   ],
   "execution_count": 60
  },
  {
   "metadata": {},
   "cell_type": "raw",
   "source": [
    "### Tool의 결과를 LLM에 전달하여 최종 응답 생성하기\n",
    "- LLM 체인 정의\n",
    "- LLM 체인에 ToolMessage 전달"
   ],
   "id": "9de30c2bc434425"
  },
  {
   "metadata": {},
   "cell_type": "code",
   "outputs": [],
   "execution_count": null,
   "source": "",
   "id": "5564bbade01240c7"
  },
  {
   "metadata": {},
   "cell_type": "code",
   "outputs": [],
   "execution_count": null,
   "source": "",
   "id": "107ce509b68e5077"
  },
  {
   "metadata": {},
   "cell_type": "code",
   "outputs": [],
   "execution_count": null,
   "source": "",
   "id": "a2665fc120cc86a8"
  },
  {
   "metadata": {},
   "cell_type": "code",
   "outputs": [],
   "execution_count": null,
   "source": "",
   "id": "e2a8dcf2e34964c0"
  },
  {
   "metadata": {},
   "cell_type": "code",
   "outputs": [],
   "execution_count": null,
   "source": "",
   "id": "3b761e4554704184"
  },
  {
   "metadata": {},
   "cell_type": "code",
   "outputs": [],
   "execution_count": null,
   "source": "",
   "id": "d87aac358c2814ff"
  },
  {
   "metadata": {},
   "cell_type": "code",
   "outputs": [],
   "execution_count": null,
   "source": "",
   "id": "f8eb65abf2829414"
  },
  {
   "metadata": {},
   "cell_type": "code",
   "outputs": [],
   "execution_count": null,
   "source": "",
   "id": "5857d99a5721855b"
  },
  {
   "metadata": {},
   "cell_type": "code",
   "outputs": [],
   "execution_count": null,
   "source": "",
   "id": "5eb8c1f1a451bf2d"
  },
  {
   "metadata": {},
   "cell_type": "code",
   "outputs": [],
   "execution_count": null,
   "source": "",
   "id": "f5b1ff74d7f70b13"
  }
 ],
 "metadata": {
  "kernelspec": {
   "display_name": "Python 3",
   "language": "python",
   "name": "python3"
  },
  "language_info": {
   "codemirror_mode": {
    "name": "ipython",
    "version": 2
   },
   "file_extension": ".py",
   "mimetype": "text/x-python",
   "name": "python",
   "nbconvert_exporter": "python",
   "pygments_lexer": "ipython2",
   "version": "2.7.6"
  }
 },
 "nbformat": 4,
 "nbformat_minor": 5
}
