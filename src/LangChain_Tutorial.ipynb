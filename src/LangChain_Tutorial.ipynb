{
 "cells": [
  {
   "metadata": {},
   "cell_type": "markdown",
   "source": [
    "# LangChain\n",
    "## ToolCalling\n",
    "- LLM이 외부 기능이나 데이터에 접근할 수 있게 해주는 매커니즘\n",
    "![](images/tool_call.png)"
   ],
   "id": "438b9c172910bdb2"
  },
  {
   "metadata": {
    "ExecuteTime": {
     "end_time": "2025-04-26T12:18:58.749327Z",
     "start_time": "2025-04-26T12:18:57.043851Z"
    }
   },
   "cell_type": "code",
   "source": [
    "import re\n",
    "import os, json\n",
    "import warnings\n",
    "from datetime import datetime\n",
    "from pprint import pprint\n",
    "from textwrap import dedent\n",
    "from dotenv import load_dotenv\n",
    "from langchain_core.messages import ToolMessage\n",
    "from langchain_core.prompts import ChatPromptTemplate\n",
    "from langchain_core.runnables import RunnableConfig\n",
    "\n",
    "warnings.filterwarnings(\"ignore\")\n",
    "load_dotenv()"
   ],
   "id": "9f5bf2194d41ef16",
   "outputs": [
    {
     "data": {
      "text/plain": [
       "True"
      ]
     },
     "execution_count": 1,
     "metadata": {},
     "output_type": "execute_result"
    }
   ],
   "execution_count": 1
  },
  {
   "metadata": {},
   "cell_type": "markdown",
   "source": [
    "## 랭체인 내장 도구\n",
    "- 랭체인은 검색, 코드 인터프리터, 생산성 도구 제공\n",
    "### Tavily 도구 직접 사용해보기\n",
    "- [docs](https://python.langchain.com/docs/integrations/tools/tavily_search/)"
   ],
   "id": "e5ca619b62841e31"
  },
  {
   "metadata": {
    "ExecuteTime": {
     "end_time": "2025-04-26T12:19:02.216268Z",
     "start_time": "2025-04-26T12:18:58.755717Z"
    }
   },
   "cell_type": "code",
   "source": [
    "from langchain_community.tools import TavilySearchResults\n",
    "\n",
    "query = \"최근 한 달 동안 나온 테슬라와 구글 CEO 관련 영문 기사들을 각각 자연스럽게 한국어로 요약해서 Bullet Point로 정리해줘\"\n",
    "\n",
    "tavily_search = TavilySearchResults(max_results=2)\n",
    "search_results = tavily_search.invoke(query)\n",
    "search_results"
   ],
   "id": "7bfd757e7119da70",
   "outputs": [
    {
     "data": {
      "text/plain": [
       "[{'title': '구글 CEO의 고백, 테슬라가 최고다! 이유는? 인터뷰 번역, 댄 아이브스 ...',\n",
       "  'url': 'https://www.youtube.com/watch?v=nu_9tQXlFBQ',\n",
       "  'content': '구글 CEO의 고백, 테슬라가 최고다! 이유는? 인터뷰 번역, 댄 아이브스 예상주가 $515 간다! 테슬라 음성 서비스 시작하나  ? \\n 오늘의 테슬라 뉴스 \\n 3370 likes \\n 57618 views \\n 16 Dec 2024 \\n ➤ 테슬라 구매하시나요? 추천링크 이동해서 33만원 할인을 받으세요.  ( 미국 $2천 달러 할인 )\\n      추천링크 https://ts.la/sung85917\\n\\n➤ 오늘의 테슬라 뉴스 트위터 https://twitter.com/TodayTeslanews\\n\\n➤ 오늘의 테슬라 뉴스 회원가입https://www.youtube.com/c/%EC%98%A4%EB%8A%98%EC%9D%98%ED%85%8C%EC%8A%AC%EB%9D%BC%EB%89%B4%EC%8A%A4/join\\n\\n➤ Surfshark + 오테뉴 이벤트 4개월 추가 제공과 최저가 해택 놓치지 마세요! \\n     https://surfshark.com/teslanews [...] ➤ 오늘의 테슬라 뉴스 광고 문의  todayteslanews@gmail.com\\n\\n➤욕설과 악플, 도배댓글, 타채널 홍보링크, 매너없는 글은 삭제/차단 합니다.\\n➤주가 예측 질문 (살까요, 팔까요) 댓글에는 답변하지 않습니다.\\n\\n#테슬라 #테슬라주식 #테슬라뉴스 #ARK #일론머스크 #모델3  #모델y #investing #투자 #elonmusk #TSLA #Tesla #오테뉴 #트위터 #스페이스X #Twitter #오늘의테슬라뉴스 #주식투자 #해외주식 \\n 235 comments',\n",
       "  'score': 0.5852203},\n",
       " {'title': '[시사영어 1일1문] 머스크의 테슬라 사면초가에 (NYT ... - YouTube',\n",
       "  'url': 'https://www.youtube.com/watch?v=IN1lZzNk2O8',\n",
       "  'content': '[시사영어 1일1문] 머스크의 테슬라 사면초가에 (NYT) (최신영어뉴스로 영어공부) \\n 상상영어 \\n 132 likes \\n 1450 views \\n 23 Apr 2025 \\n 출처: https://www.nytimes.com/2025/04/22/business/tesla-earnings-elon-musk.html\\n(긴 뉴스기사에서 필수적인 내용만을 추출하여 2~3 페이지로 구성했습니다. 완전한 전체 기사는 출처를 참고하시기 바랍니다.) [...] Mr. Musk has said the company’s future is in artificial intelligence technology that will allow Tesla vehicles to drive themselves without human intervention, enabling fleets of Tesla “Cybercabs” to make money ferrying customers.\\nBut Tesla has not yet perfected the technology and faces competition in that nascent business from several Chinese companies and Waymo, a unit of Alphabet, the parent company of Google. [...] [본문]\\nTesla’s 71% Drop in Profit May Pressure Elon Musk to Return to Day Job\\nTesla said Tuesday that its profits fell 71 percent in the first three months of the year, which could increase the pressure on Elon Musk, the automaker’s chief executive, to curtail his work for President Trump and spend more time managing the company.\\nThe company said it earned $409 million, down from $1.4 billion in the first quarter of 2024.',\n",
       "  'score': 0.523494}]"
      ]
     },
     "execution_count": 2,
     "metadata": {},
     "output_type": "execute_result"
    }
   ],
   "execution_count": 2
  },
  {
   "metadata": {},
   "cell_type": "markdown",
   "source": [
    "### Tool의 구성 요소\n",
    "- name : 도구의 이름\n",
    "- description : 도구에 대한 설명\n",
    "- JSON schema : 도구 입력 정보\n",
    "- function : 실행할 함수??"
   ],
   "id": "90d0b0c0c6d97a81"
  },
  {
   "metadata": {
    "ExecuteTime": {
     "end_time": "2025-04-26T12:19:02.722725Z",
     "start_time": "2025-04-26T12:19:02.704839Z"
    }
   },
   "cell_type": "code",
   "source": [
    "TavilySearchResults # class 살펴보기\n",
    "type(tavily_search)"
   ],
   "id": "5625c6f4658a97e",
   "outputs": [
    {
     "data": {
      "text/plain": [
       "langchain_community.tools.tavily_search.tool.TavilySearchResults"
      ]
     },
     "execution_count": 3,
     "metadata": {},
     "output_type": "execute_result"
    }
   ],
   "execution_count": 3
  },
  {
   "metadata": {
    "ExecuteTime": {
     "end_time": "2025-04-26T12:19:02.775351Z",
     "start_time": "2025-04-26T12:19:02.761544Z"
    }
   },
   "cell_type": "code",
   "source": "tavily_search.name",
   "id": "fb798ccb905f06ea",
   "outputs": [
    {
     "data": {
      "text/plain": [
       "'tavily_search_results_json'"
      ]
     },
     "execution_count": 4,
     "metadata": {},
     "output_type": "execute_result"
    }
   ],
   "execution_count": 4
  },
  {
   "metadata": {
    "ExecuteTime": {
     "end_time": "2025-04-26T12:19:02.819688Z",
     "start_time": "2025-04-26T12:19:02.807843Z"
    }
   },
   "cell_type": "code",
   "source": "tavily_search.description",
   "id": "1a1041e20909bfa0",
   "outputs": [
    {
     "data": {
      "text/plain": [
       "'A search engine optimized for comprehensive, accurate, and trusted results. Useful for when you need to answer questions about current events. Input should be a search query.'"
      ]
     },
     "execution_count": 5,
     "metadata": {},
     "output_type": "execute_result"
    }
   ],
   "execution_count": 5
  },
  {
   "metadata": {
    "ExecuteTime": {
     "end_time": "2025-04-26T12:19:02.848839Z",
     "start_time": "2025-04-26T12:19:02.840753Z"
    }
   },
   "cell_type": "code",
   "source": "tavily_search.args",
   "id": "3320e958ca669e81",
   "outputs": [
    {
     "data": {
      "text/plain": [
       "{'query': {'description': 'search query to look up',\n",
       "  'title': 'Query',\n",
       "  'type': 'string'}}"
      ]
     },
     "execution_count": 6,
     "metadata": {},
     "output_type": "execute_result"
    }
   ],
   "execution_count": 6
  },
  {
   "metadata": {
    "ExecuteTime": {
     "end_time": "2025-04-26T12:19:02.902017Z",
     "start_time": "2025-04-26T12:19:02.884823Z"
    }
   },
   "cell_type": "code",
   "source": "tavily_search.args_schema",
   "id": "b7b5249e1214211e",
   "outputs": [
    {
     "data": {
      "text/plain": [
       "langchain_community.tools.tavily_search.tool.TavilyInput"
      ]
     },
     "execution_count": 7,
     "metadata": {},
     "output_type": "execute_result"
    }
   ],
   "execution_count": 7
  },
  {
   "metadata": {
    "ExecuteTime": {
     "end_time": "2025-04-26T12:19:02.931238Z",
     "start_time": "2025-04-26T12:19:02.922746Z"
    }
   },
   "cell_type": "code",
   "source": "tavily_search.args_schema.model_json_schema()",
   "id": "530db5a187ad4b1e",
   "outputs": [
    {
     "data": {
      "text/plain": [
       "{'description': 'Input for the Tavily tool.',\n",
       " 'properties': {'query': {'description': 'search query to look up',\n",
       "   'title': 'Query',\n",
       "   'type': 'string'}},\n",
       " 'required': ['query'],\n",
       " 'title': 'TavilyInput',\n",
       " 'type': 'object'}"
      ]
     },
     "execution_count": 8,
     "metadata": {},
     "output_type": "execute_result"
    }
   ],
   "execution_count": 8
  },
  {
   "metadata": {},
   "cell_type": "markdown",
   "source": "### LLM과 Tavily 도구 binding하기",
   "id": "d2e76c0a7c68fd1e"
  },
  {
   "metadata": {
    "ExecuteTime": {
     "end_time": "2025-04-26T12:19:09.376088Z",
     "start_time": "2025-04-26T12:19:02.959360Z"
    }
   },
   "cell_type": "code",
   "source": [
    "from langchain_openai import ChatOpenAI\n",
    "\n",
    "llm = ChatOpenAI(model=\"gpt-4o-mini\")\n",
    "llm_with_tools = llm.bind_tools(tools=[tavily_search])\n",
    "\n",
    "query"
   ],
   "id": "3a987aee061fecb4",
   "outputs": [
    {
     "data": {
      "text/plain": [
       "'최근 한 달 동안 나온 테슬라와 구글 CEO 관련 영문 기사들을 각각 자연스럽게 한국어로 요약해서 Bullet Point로 정리해줘'"
      ]
     },
     "execution_count": 9,
     "metadata": {},
     "output_type": "execute_result"
    }
   ],
   "execution_count": 9
  },
  {
   "metadata": {
    "ExecuteTime": {
     "end_time": "2025-04-26T12:19:11.347725Z",
     "start_time": "2025-04-26T12:19:09.390390Z"
    }
   },
   "cell_type": "code",
   "source": [
    "ai_msg = llm_with_tools.invoke(query)\n",
    "pprint(ai_msg)"
   ],
   "id": "84a10b5bc3600439",
   "outputs": [
    {
     "name": "stdout",
     "output_type": "stream",
     "text": [
      "AIMessage(content='', additional_kwargs={'tool_calls': [{'id': 'call_QGyZBElYbnCnPWi9OFb54k0i', 'function': {'arguments': '{\"query\": \"Tesla CEO news last month\"}', 'name': 'tavily_search_results_json'}, 'type': 'function'}, {'id': 'call_aLSp5nL9jkFs6Ho6ViKYsXOT', 'function': {'arguments': '{\"query\": \"Google CEO news last month\"}', 'name': 'tavily_search_results_json'}, 'type': 'function'}], 'refusal': None}, response_metadata={'token_usage': {'completion_tokens': 61, 'prompt_tokens': 113, 'total_tokens': 174, 'completion_tokens_details': {'accepted_prediction_tokens': 0, 'audio_tokens': 0, 'reasoning_tokens': 0, 'rejected_prediction_tokens': 0}, 'prompt_tokens_details': {'audio_tokens': 0, 'cached_tokens': 0}}, 'model_name': 'gpt-4o-mini-2024-07-18', 'system_fingerprint': 'fp_dbaca60df0', 'id': 'chatcmpl-BQYms5tdL4I1BkQVQ4GmnQxfq7BSs', 'finish_reason': 'tool_calls', 'logprobs': None}, id='run-87ea773d-bca6-47f4-97d3-837e1bb849a7-0', tool_calls=[{'name': 'tavily_search_results_json', 'args': {'query': 'Tesla CEO news last month'}, 'id': 'call_QGyZBElYbnCnPWi9OFb54k0i', 'type': 'tool_call'}, {'name': 'tavily_search_results_json', 'args': {'query': 'Google CEO news last month'}, 'id': 'call_aLSp5nL9jkFs6Ho6ViKYsXOT', 'type': 'tool_call'}], usage_metadata={'input_tokens': 113, 'output_tokens': 61, 'total_tokens': 174, 'input_token_details': {'audio': 0, 'cache_read': 0}, 'output_token_details': {'audio': 0, 'reasoning': 0}})\n"
     ]
    }
   ],
   "execution_count": 10
  },
  {
   "metadata": {
    "ExecuteTime": {
     "end_time": "2025-04-26T12:19:11.357378Z",
     "start_time": "2025-04-26T12:19:11.354249Z"
    }
   },
   "cell_type": "code",
   "source": "ai_msg.content",
   "id": "6593f85fee732368",
   "outputs": [
    {
     "data": {
      "text/plain": [
       "''"
      ]
     },
     "execution_count": 11,
     "metadata": {},
     "output_type": "execute_result"
    }
   ],
   "execution_count": 11
  },
  {
   "metadata": {
    "ExecuteTime": {
     "end_time": "2025-04-26T12:19:11.373765Z",
     "start_time": "2025-04-26T12:19:11.368907Z"
    }
   },
   "cell_type": "code",
   "source": "ai_msg.tool_calls",
   "id": "a5b410f1a6267287",
   "outputs": [
    {
     "data": {
      "text/plain": [
       "[{'name': 'tavily_search_results_json',\n",
       "  'args': {'query': 'Tesla CEO news last month'},\n",
       "  'id': 'call_QGyZBElYbnCnPWi9OFb54k0i',\n",
       "  'type': 'tool_call'},\n",
       " {'name': 'tavily_search_results_json',\n",
       "  'args': {'query': 'Google CEO news last month'},\n",
       "  'id': 'call_aLSp5nL9jkFs6Ho6ViKYsXOT',\n",
       "  'type': 'tool_call'}]"
      ]
     },
     "execution_count": 12,
     "metadata": {},
     "output_type": "execute_result"
    }
   ],
   "execution_count": 12
  },
  {
   "metadata": {},
   "cell_type": "markdown",
   "source": [
    "### LLM에서 응답으로 온 Tool 정보를 이용해 Tool 직접 실행하기\n",
    "- args 스키마 사용 -> list 형태로 나옴\n",
    "- tool_call 사용 -> ToolMessage 형태로 나옴"
   ],
   "id": "d696ba5cb24f589c"
  },
  {
   "metadata": {
    "ExecuteTime": {
     "end_time": "2025-04-26T12:19:13.993844Z",
     "start_time": "2025-04-26T12:19:11.382137Z"
    }
   },
   "cell_type": "code",
   "source": [
    "# args 스키마 사용\n",
    "tool_call = ai_msg.tool_calls[0]\n",
    "tool_output = tavily_search.invoke(tool_call['args'])\n",
    "pprint(type(tool_output))\n",
    "pprint(tool_output)"
   ],
   "id": "713876dfa6bd1593",
   "outputs": [
    {
     "name": "stdout",
     "output_type": "stream",
     "text": [
      "<class 'list'>\n",
      "[{'content': \"Tesla stock has spiked 20% since Musk said he's stepping back \"\n",
      "             'from DOGE\\n'\n",
      "             '\\n'\n",
      "             'With Tesla CEO Elon Musk set to return to Tesla after spending '\n",
      "             'the last three months with the Trump administration, the stock '\n",
      "             'is kicking into high gear.\\n'\n",
      "             '\\n'\n",
      "             'Shares of the electric vehicle maker have surged as much as 20% '\n",
      "             'since Elon Musk announced plans to devote much more time to the '\n",
      "             'company starting in May. [...] Some analysts are keeping their '\n",
      "             'fingers crossed that this could be the start of an enduring '\n",
      "             \"recovery. Since Trump's inauguration, the Tesla CEO has made \"\n",
      "             'waves as the unofficial head of the Department of Government '\n",
      "             \"Efficiency, a role which has politicized Tesla's brand among \"\n",
      "             'consumers.',\n",
      "  'score': 0.72278196,\n",
      "  'title': \"Tesla Stock Price Is up 20% Since Musk Said He'd Step Back From \"\n",
      "           '...',\n",
      "  'url': 'https://www.businessinsider.com/tesla-stock-price-rally-elon-musk-doge-q1-earnings-tsla-2025-4'},\n",
      " {'content': 'Tesla CEO Musk says time he spends on DOGE will drop '\n",
      "             \"'significantly' next month \\n\"\n",
      "             ' CNBC Television \\n'\n",
      "             ' 55 likes \\n'\n",
      "             ' 8204 views \\n'\n",
      "             ' 23 Apr 2025 \\n'\n",
      "             \" Tesla CEO Elon Musk began his company's earnings call on \"\n",
      "             'Tuesday by saying that his time spent running President Donald '\n",
      "             'Trump’s so-called Department of Government Efficiency will drop '\n",
      "             '\"significantly\" starting in May. \\n'\n",
      "             ' 34 comments',\n",
      "  'score': 0.6991933,\n",
      "  'title': 'Tesla CEO Musk says time he spends on DOGE will drop ... - YouTube',\n",
      "  'url': 'https://www.youtube.com/watch?v=wPHVGYLZR8w'}]\n"
     ]
    }
   ],
   "execution_count": 13
  },
  {
   "metadata": {
    "ExecuteTime": {
     "end_time": "2025-04-26T12:19:17.116424Z",
     "start_time": "2025-04-26T12:19:13.997850Z"
    }
   },
   "cell_type": "code",
   "source": [
    "# tool_call 사용\n",
    "tool_message = tavily_search.invoke(tool_call)\n",
    "pprint(type(tool_message))\n",
    "pprint(tool_message)"
   ],
   "id": "7f188b2101eceeb7",
   "outputs": [
    {
     "name": "stdout",
     "output_type": "stream",
     "text": [
      "<class 'langchain_core.messages.tool.ToolMessage'>\n",
      "ToolMessage(content='[{\"title\": \"Tesla Stock Price Is up 20% Since Musk Said He\\'d Step Back From ...\", \"url\": \"https://www.businessinsider.com/tesla-stock-price-rally-elon-musk-doge-q1-earnings-tsla-2025-4\", \"content\": \"Tesla stock has spiked 20% since Musk said he\\'s stepping back from DOGE\\\\n\\\\nWith Tesla CEO Elon Musk set to return to Tesla after spending the last three months with the Trump administration, the stock is kicking into high gear.\\\\n\\\\nShares of the electric vehicle maker have surged as much as 20% since Elon Musk announced plans to devote much more time to the company starting in May. [...] Some analysts are keeping their fingers crossed that this could be the start of an enduring recovery. Since Trump\\'s inauguration, the Tesla CEO has made waves as the unofficial head of the Department of Government Efficiency, a role which has politicized Tesla\\'s brand among consumers.\", \"score\": 0.72278196}, {\"title\": \"Tesla CEO Musk says time he spends on DOGE will drop ... - YouTube\", \"url\": \"https://www.youtube.com/watch?v=wPHVGYLZR8w\", \"content\": \"Tesla CEO Musk says time he spends on DOGE will drop \\'significantly\\' next month \\\\n CNBC Television \\\\n 55 likes \\\\n 8204 views \\\\n 23 Apr 2025 \\\\n Tesla CEO Elon Musk began his company\\'s earnings call on Tuesday by saying that his time spent running President Donald Trump’s so-called Department of Government Efficiency will drop \\\\\"significantly\\\\\" starting in May. \\\\n 34 comments\", \"score\": 0.6991933}]', name='tavily_search_results_json', tool_call_id='call_QGyZBElYbnCnPWi9OFb54k0i', artifact={'query': 'Tesla CEO news last month', 'follow_up_questions': None, 'answer': None, 'images': [], 'results': [{'url': 'https://www.businessinsider.com/tesla-stock-price-rally-elon-musk-doge-q1-earnings-tsla-2025-4', 'title': \"Tesla Stock Price Is up 20% Since Musk Said He'd Step Back From ...\", 'content': \"Tesla stock has spiked 20% since Musk said he's stepping back from DOGE\\n\\nWith Tesla CEO Elon Musk set to return to Tesla after spending the last three months with the Trump administration, the stock is kicking into high gear.\\n\\nShares of the electric vehicle maker have surged as much as 20% since Elon Musk announced plans to devote much more time to the company starting in May. [...] Some analysts are keeping their fingers crossed that this could be the start of an enduring recovery. Since Trump's inauguration, the Tesla CEO has made waves as the unofficial head of the Department of Government Efficiency, a role which has politicized Tesla's brand among consumers.\", 'score': 0.72278196, 'raw_content': None}, {'url': 'https://www.youtube.com/watch?v=wPHVGYLZR8w', 'title': 'Tesla CEO Musk says time he spends on DOGE will drop ... - YouTube', 'content': 'Tesla CEO Musk says time he spends on DOGE will drop \\'significantly\\' next month \\n CNBC Television \\n 55 likes \\n 8204 views \\n 23 Apr 2025 \\n Tesla CEO Elon Musk began his company\\'s earnings call on Tuesday by saying that his time spent running President Donald Trump’s so-called Department of Government Efficiency will drop \"significantly\" starting in May. \\n 34 comments', 'score': 0.6991933, 'raw_content': None}], 'response_time': 2.22})\n"
     ]
    }
   ],
   "execution_count": 14
  },
  {
   "metadata": {
    "ExecuteTime": {
     "end_time": "2025-04-26T12:19:17.130982Z",
     "start_time": "2025-04-26T12:19:17.125538Z"
    }
   },
   "cell_type": "code",
   "source": [
    "# tool_output으로 ToolMessage 만들기\n",
    "from langchain_core.messages.tool import ToolMessage\n",
    "\n",
    "tool_message = ToolMessage(\n",
    "    content=tool_output,\n",
    "    tool_call_id=tool_call[\"id\"],\n",
    "    name=tool_call[\"name\"]\n",
    ")\n",
    "pprint(type(tool_message))\n",
    "pprint(tool_message)"
   ],
   "id": "61f98b3f8846d2cb",
   "outputs": [
    {
     "name": "stdout",
     "output_type": "stream",
     "text": [
      "<class 'langchain_core.messages.tool.ToolMessage'>\n",
      "ToolMessage(content=[{'title': \"Tesla Stock Price Is up 20% Since Musk Said He'd Step Back From ...\", 'url': 'https://www.businessinsider.com/tesla-stock-price-rally-elon-musk-doge-q1-earnings-tsla-2025-4', 'content': \"Tesla stock has spiked 20% since Musk said he's stepping back from DOGE\\n\\nWith Tesla CEO Elon Musk set to return to Tesla after spending the last three months with the Trump administration, the stock is kicking into high gear.\\n\\nShares of the electric vehicle maker have surged as much as 20% since Elon Musk announced plans to devote much more time to the company starting in May. [...] Some analysts are keeping their fingers crossed that this could be the start of an enduring recovery. Since Trump's inauguration, the Tesla CEO has made waves as the unofficial head of the Department of Government Efficiency, a role which has politicized Tesla's brand among consumers.\", 'score': 0.72278196}, {'title': 'Tesla CEO Musk says time he spends on DOGE will drop ... - YouTube', 'url': 'https://www.youtube.com/watch?v=wPHVGYLZR8w', 'content': 'Tesla CEO Musk says time he spends on DOGE will drop \\'significantly\\' next month \\n CNBC Television \\n 55 likes \\n 8204 views \\n 23 Apr 2025 \\n Tesla CEO Elon Musk began his company\\'s earnings call on Tuesday by saying that his time spent running President Donald Trump’s so-called Department of Government Efficiency will drop \"significantly\" starting in May. \\n 34 comments', 'score': 0.6991933}], name='tavily_search_results_json', tool_call_id='call_QGyZBElYbnCnPWi9OFb54k0i')\n"
     ]
    }
   ],
   "execution_count": 15
  },
  {
   "metadata": {
    "ExecuteTime": {
     "end_time": "2025-04-26T12:19:17.146059Z",
     "start_time": "2025-04-26T12:19:17.140555Z"
    }
   },
   "cell_type": "code",
   "source": "tool_message.content",
   "id": "a0e15d0f9fa8c035",
   "outputs": [
    {
     "data": {
      "text/plain": [
       "[{'title': \"Tesla Stock Price Is up 20% Since Musk Said He'd Step Back From ...\",\n",
       "  'url': 'https://www.businessinsider.com/tesla-stock-price-rally-elon-musk-doge-q1-earnings-tsla-2025-4',\n",
       "  'content': \"Tesla stock has spiked 20% since Musk said he's stepping back from DOGE\\n\\nWith Tesla CEO Elon Musk set to return to Tesla after spending the last three months with the Trump administration, the stock is kicking into high gear.\\n\\nShares of the electric vehicle maker have surged as much as 20% since Elon Musk announced plans to devote much more time to the company starting in May. [...] Some analysts are keeping their fingers crossed that this could be the start of an enduring recovery. Since Trump's inauguration, the Tesla CEO has made waves as the unofficial head of the Department of Government Efficiency, a role which has politicized Tesla's brand among consumers.\",\n",
       "  'score': 0.72278196},\n",
       " {'title': 'Tesla CEO Musk says time he spends on DOGE will drop ... - YouTube',\n",
       "  'url': 'https://www.youtube.com/watch?v=wPHVGYLZR8w',\n",
       "  'content': 'Tesla CEO Musk says time he spends on DOGE will drop \\'significantly\\' next month \\n CNBC Television \\n 55 likes \\n 8204 views \\n 23 Apr 2025 \\n Tesla CEO Elon Musk began his company\\'s earnings call on Tuesday by saying that his time spent running President Donald Trump’s so-called Department of Government Efficiency will drop \"significantly\" starting in May. \\n 34 comments',\n",
       "  'score': 0.6991933}]"
      ]
     },
     "execution_count": 16,
     "metadata": {},
     "output_type": "execute_result"
    }
   ],
   "execution_count": 16
  },
  {
   "metadata": {},
   "cell_type": "markdown",
   "source": "### Tool의 결과를 LLM에 전달하여 최종 응답 생성하기",
   "id": "91b3f469b1e51119"
  },
  {
   "metadata": {
    "ExecuteTime": {
     "end_time": "2025-04-26T12:19:21.373346Z",
     "start_time": "2025-04-26T12:19:17.169187Z"
    }
   },
   "cell_type": "code",
   "source": [
    "from datetime import datetime\n",
    "\n",
    "today = datetime.today().strftime(\"%Y-%m-%d\")\n",
    "llm = ChatOpenAI(model=\"gpt-4o-mini\")\n",
    "prompt = f\"\"\"\n",
    "    You are a helpful AI assistant.\n",
    "    Today is {today}\n",
    "    {query}\n",
    "    {tool_message.content}\n",
    "\"\"\"\n",
    "result = llm.invoke(prompt)\n",
    "pprint(result)"
   ],
   "id": "c175ff25c8725c08",
   "outputs": [
    {
     "name": "stdout",
     "output_type": "stream",
     "text": [
      "AIMessage(content='### 테슬라 관련 기사 요약\\n- **테슬라 주가 20% 상승**: 일론 머스크가 DOGE에서 물러난 이후 테슬라 주가는 20% 상승했습니다. 머스크는 5월부터 회사에 더 많은 시간을 할애할 계획입니다.\\n- **머스크, 정부 효율성 부서 활동 종료**: 머스크는 트럼프 행정부의 비공식 부서에서 활동한 후, 5월부터 테슬라에 집중하겠다고 밝혔습니다. 이로 인해 주가가 안정될 것이라는 기대가 커지고 있습니다.\\n\\n### 구글 CEO 관련 최근 기사 없음\\n- 최근 한 달 동안 구글 CEO 관련 기사 목록에는 정보가 없습니다.', additional_kwargs={'refusal': None}, response_metadata={'token_usage': {'completion_tokens': 155, 'prompt_tokens': 416, 'total_tokens': 571, 'completion_tokens_details': {'accepted_prediction_tokens': 0, 'audio_tokens': 0, 'reasoning_tokens': 0, 'rejected_prediction_tokens': 0}, 'prompt_tokens_details': {'audio_tokens': 0, 'cached_tokens': 0}}, 'model_name': 'gpt-4o-mini-2024-07-18', 'system_fingerprint': 'fp_129a36352a', 'id': 'chatcmpl-BQYmzhcQX6nz5qhnPXbLHrrdpf4xo', 'finish_reason': 'stop', 'logprobs': None}, id='run-990b06cf-ba3a-48fc-8043-3f7ad7e013dc-0', usage_metadata={'input_tokens': 416, 'output_tokens': 155, 'total_tokens': 571, 'input_token_details': {'audio': 0, 'cache_read': 0}, 'output_token_details': {'audio': 0, 'reasoning': 0}})\n"
     ]
    }
   ],
   "execution_count": 17
  },
  {
   "metadata": {},
   "cell_type": "markdown",
   "source": [
    "## 전체과정 정리 하기\n",
    "- LLM 체인 정의\n",
    "- LLM 체인에 ToolMessage 전달"
   ],
   "id": "e706be3f30c4f8ee"
  },
  {
   "metadata": {
    "ExecuteTime": {
     "end_time": "2025-04-26T12:19:21.817291Z",
     "start_time": "2025-04-26T12:19:21.380426Z"
    }
   },
   "cell_type": "code",
   "source": [
    "# LLM 체인 정의\n",
    "\n",
    "# 오늘 날짜 설정\n",
    "today = datetime.today().strftime(\"%Y-%m-%d\")\n",
    "\n",
    "# 프롬프트 템플릿\n",
    "prompt = ChatPromptTemplate([\n",
    "    (\"system\", f\"You are a helpful AI assistant\"),\n",
    "    (\"system\", f\"Today is {today}\"),\n",
    "    (\"human\", \"{user_input}\"),\n",
    "    (\"placeholder\", \"{messages}\")\n",
    "])\n",
    "\n",
    "# llm 정의\n",
    "llm = ChatOpenAI(model=\"gpt-4o-mini\")\n",
    "\n",
    "# 도구 바인딩\n",
    "llm_with_tools = llm.bind_tools(tools=[tavily_search])\n",
    "\n",
    "# LLM체인 생성\n",
    "llm_chain = prompt | llm_with_tools\n"
   ],
   "id": "5564bbade01240c7",
   "outputs": [],
   "execution_count": 18
  },
  {
   "metadata": {
    "ExecuteTime": {
     "end_time": "2025-04-26T12:19:33.516169Z",
     "start_time": "2025-04-26T12:19:21.826623Z"
    }
   },
   "cell_type": "code",
   "source": [
    "# LLM 체인에 ToolMessage 전달\n",
    "from langchain_core.runnables import chain\n",
    "\n",
    "@chain\n",
    "def web_search_chain(user_input: str, config: RunnableConfig):\n",
    "    input = {\"user_input\": user_input}\n",
    "    ai_msg = llm_chain.invoke(input, config=config)\n",
    "    tool_msgs = tavily_search.batch(ai_msg.tool_calls, config=config)\n",
    "    return llm_chain.invoke(\n",
    "        {**input, \"messages\": [ai_msg, *tool_msgs]},\n",
    "        config=config\n",
    "    )\n",
    "\n",
    "web_search_chain.invoke(query)"
   ],
   "id": "107ce509b68e5077",
   "outputs": [
    {
     "data": {
      "text/plain": [
       "AIMessage(content='### 테슬라 CEO 관련 최근 기사 요약\\n- **일론 머스크, DOGE에서 독립적 경영 계획 발표**: 머스크가 5월부터 테슬라에 더 많은 시간을 할애할 것이라고 발표함에 따라 회사 주가가 20% 상승. (출처: [Business Insider](https://www.businessinsider.com/tesla-stock-price-rally-elon-musk-doge-q1-earnings-tsla-2025-4))\\n- **Musk, DOGE에 대한 시간 감소 예고**: 테슬라 CEO인 머스크가 4월 23일 기업 실적 발표에서 다음 달부터 DOGE와 관련된 사업에 투자하는 시간이 크게 줄어들 것이라고 밝혔음. (출처: [YouTube](https://www.youtube.com/watch?v=wPHVGYLZR8w))\\n\\n### 구글 CEO 관련 최근 기사 요약\\n- **선더 피차이, 강력한 1분기 실적 보고**: 구글 및 알파벳 CEO인 피차이가 1분기 실적 발표에서 기업의 경쟁력과 혁신을 강조하며, 검색, 클라우드 및 유튜브에서의 건전한 성장세를 보고. 특히 AI 관련 신기능 도입과 구독 서비스에서 2억 7천만 건을 초과하는 유료 구독자를 기록했다고 언급. (출처: [Google Blog](https://blog.google/inside-google/message-ceo/alphabet-earnings-q1-2025/))\\n- **피차이, 2025년의 높은 이해관계 강조**: 피차이가 직원들에게 회사가 경쟁 증가와 규제 장애물을 겪고 있다고 경고하며, 2025년의 중요성을 강조. (출처: [CNBC](https://www.cnbc.com/2024/12/27/google-ceo-pichai-tells-employees-the-stakes-are-high-for-2025.html))', additional_kwargs={'refusal': None}, response_metadata={'token_usage': {'completion_tokens': 424, 'prompt_tokens': 1082, 'total_tokens': 1506, 'completion_tokens_details': {'accepted_prediction_tokens': 0, 'audio_tokens': 0, 'reasoning_tokens': 0, 'rejected_prediction_tokens': 0}, 'prompt_tokens_details': {'audio_tokens': 0, 'cached_tokens': 0}}, 'model_name': 'gpt-4o-mini-2024-07-18', 'system_fingerprint': 'fp_64e0ac9789', 'id': 'chatcmpl-BQYn8pwhQrAokUL7HtP0FgPUe1Vqd', 'finish_reason': 'stop', 'logprobs': None}, id='run-6f1ea7dc-c7e9-47f6-86d8-7c8ccb2e3148-0', usage_metadata={'input_tokens': 1082, 'output_tokens': 424, 'total_tokens': 1506, 'input_token_details': {'audio': 0, 'cache_read': 0}, 'output_token_details': {'audio': 0, 'reasoning': 0}})"
      ]
     },
     "execution_count": 19,
     "metadata": {},
     "output_type": "execute_result"
    }
   ],
   "execution_count": 19
  },
  {
   "metadata": {},
   "cell_type": "markdown",
   "source": [
    "## 사용자 정의 도구(Tool)\n",
    "- @tool 데코레이터 사용"
   ],
   "id": "6fa3d8c7c9c6227a"
  },
  {
   "metadata": {
    "ExecuteTime": {
     "end_time": "2025-04-26T12:19:33.816452Z",
     "start_time": "2025-04-26T12:19:33.546145Z"
    }
   },
   "cell_type": "code",
   "source": [
    "from typing import Dict, List\n",
    "import requests\n",
    "from langchain_core.tools import tool\n",
    "\n",
    "@tool\n",
    "def blog_search(query: str) -> List[Dict]:\n",
    "    \"\"\"네이버 블로그 API에 검색 요청을 보냅니다.\"\"\"\n",
    "    url = \"https://openapi.naver.com/v1/search/blog.json\"\n",
    "    headers = {\n",
    "        \"X-Naver-Client-Id\": os.environ[\"NAVER_CLIENT_ID\"],\n",
    "        \"X-Naver-Client-Secret\": os.environ[\"NAVER_CLIENT_SECRET\"]\n",
    "    }\n",
    "    params = {\"query\": query, \"display\": 10, \"start\": 1}\n",
    "    response = requests.get(url, headers=headers, params=params)\n",
    "\n",
    "    if response.status_code == 200:\n",
    "        return response.json()['items']\n",
    "    else:\n",
    "        return []\n",
    "\n",
    "wine_query = \"블로그에 나와있는 스테이크와 어울리는 와인과 기분 좋은 노래를 추천해주세요.\"\n",
    "search_results = blog_search.invoke(wine_query)\n",
    "search_results"
   ],
   "id": "e2a8dcf2e34964c0",
   "outputs": [
    {
     "data": {
      "text/plain": [
       "[{'title': '이탈리아 피렌체 맛집 <b>추천</b> 티본<b>스테이크</b> 토스카나 와인 육회',\n",
       "  'link': 'https://blog.naver.com/lsh5755/223847077153',\n",
       "  'description': \"피렌체 인근 토스카나 지방은 질 <b>좋은</b> <b>와인</b>을 생산하기로 유명하다. <b>와인</b> 애호가들의 성지기도 한다.... 그냥 'T본 <b>스테이크</b>'라고 부르고, 그들도 알아듣는다. T자 뼈가 포함되어 <b>있는</b> 안심과 등심 부위를... \",\n",
       "  'bloggername': '천사는 여행중',\n",
       "  'bloggerlink': 'blog.naver.com/lsh5755',\n",
       "  'postdate': '20250426'},\n",
       " {'title': '<b>스테이크와</b> 잘 <b>어울리는</b> 3만원대 이마트 레드 <b>와인</b> <b>추천</b>',\n",
       "  'link': 'https://blog.naver.com/dolmory9/223556006280',\n",
       "  'description': '상태 <b>좋은</b> 코르크 : 산 페드로 시데랄 2021 ▲ <b>와인</b> 색상 : 산 페드로 시데랄 2021 (마트 토마스 글래스) &lt;음식 페어링&gt; 메인 육류 요리 또는 버섯과 잘 <b>어울리는</b> 레드 <b>와인</b>입니다. 등심 <b>스테이크와</b> 함께... ',\n",
       "  'bloggername': '와인과 커피 엔지니어',\n",
       "  'bloggerlink': 'blog.naver.com/dolmory9',\n",
       "  'postdate': '20240821'},\n",
       " {'title': '여수 <b>와인</b>바 학동 맛집 :: <b>스테이크</b> 파스타 다이닝 바 와캡... ',\n",
       "  'link': 'https://blog.naver.com/jhjoo20/223787083553',\n",
       "  'description': '화이트 <b>와인</b>을 고를 때 직원분이 페어링하기 <b>좋은</b> 사이드로 <b>추천 해</b>주셨어요. 근데 결과는 대성공! 푸아그라를 무스로 만들었다는게 넘 신기! 약간 느끼할수도 <b>있는</b> 푸아그라를 캐러맬라이즈드 양파로... ',\n",
       "  'bloggername': '아시아 요즘곳들 탐험일기',\n",
       "  'bloggerlink': 'blog.naver.com/jhjoo20',\n",
       "  'postdate': '20250307'},\n",
       " {'title': '용산<b>와인</b>바 용산 데이트 <b>추천</b> 엠버앰버 특별한 날 봄 <b>기분</b> 내고... ',\n",
       "  'link': 'https://blog.naver.com/f500c/223843738920',\n",
       "  'description': '보여주고 <b>있는</b> 향긋한 봄 <b>기분</b>을 내고 싶을 때 정말 방문하기 <b>좋은</b> 곳입니다. 용산역 &amp; 신용산역 도보... 봄데이트하기<b>좋은</b>곳 #신용산역<b>추천</b>레스토랑 #용산역<b>추천</b>레스토랑 #용리단길맛집 #용산역<b>추천</b><b>와인</b>',\n",
       "  'bloggername': 'You are very much on time',\n",
       "  'bloggerlink': 'blog.naver.com/f500c',\n",
       "  'postdate': '20250423'},\n",
       " {'title': '<b>스테이크</b>가 유명한 광화문 라스위스에서 나들이 후 <b>와인</b> 한잔',\n",
       "  'link': 'https://blog.naver.com/tericas/223835879124',\n",
       "  'description': '보다 <b>좋은</b> 서비스로 식사를 하실 수 있을 것 같아요. 서촌 맛집은 생활의 달인에도 나오고 맛<b>있는</b>... 이렇게 오늘은 광화문 파스타와 <b>스테이크</b>를 먹으면서 서촌 <b>와인</b>까지 즐겨볼 수 <b>있는</b> 시간을 보내봤었는데요.... ',\n",
       "  'bloggername': '차돌',\n",
       "  'bloggerlink': 'blog.naver.com/tericas',\n",
       "  'postdate': '20250416'},\n",
       " {'title': '레 부르주아 : <b>와인</b> 페어링 조합 완벽한 신사 가로수길 맛집 <b>추천</b>',\n",
       "  'link': 'https://blog.naver.com/shaoren/223843117395',\n",
       "  'description': '사실 <b>와인</b> 한 병을 선택해도 좋겠지만 내가 먹을 메뉴가 레드가 잘 <b>어울리는</b> 게 있고 화이트<b>와인</b>이 더... 아 그리고 이 브라운 색상 메뉴에는 강남 <b>와인</b>바 레 브루주아에 <b>있는</b> 전체 <b>와인</b> 리스트가 <b>나와</b>있다.... ',\n",
       "  'bloggername': '하루하루',\n",
       "  'bloggerlink': 'blog.naver.com/shaoren',\n",
       "  'postdate': '20250422'},\n",
       " {'title': '피렌체 맛집 <b>추천</b>: 라 스파다 오스테리아, 티본<b>스테이크</b>... ',\n",
       "  'link': 'https://blog.naver.com/nhy0520/223834828696',\n",
       "  'description': '<b>나와</b>서 익은 고기를 선호하시는 분들은 미리 요청하셔야 할 거예요. 하지만 이곳보다 더 맛<b>있는</b> 곳이... 걸 <b>추천해</b>요. 레어/ 미디엄 선호도 미리 알려<b>주세요</b>. ▶근처 맛집 : <b>스테이크</b> 이외에도 피렌체는 파파... ',\n",
       "  'bloggername': '래교',\n",
       "  'bloggerlink': 'blog.naver.com/nhy0520',\n",
       "  'postdate': '20250416'},\n",
       " {'title': '강남 <b>와인</b>바 <b>와인</b>페어링 해주는 레 부르주아 방문 후기',\n",
       "  'link': 'https://blog.naver.com/beybey1260/223847175043',\n",
       "  'description': '은은한 조명 아래에서 <b>좋은</b> <b>와인과</b> 맛<b>있는</b> 음식을 즐기는 이 시간이 정말 너무 조아 ! 포토카드 서비스... 탄닌이 <b>스테이크와</b> 찰떡같이 어우러졌음. 특히 좋았던 건 메뉴판에 각 음식에 <b>추천</b> <b>와인</b>이 함께 표시돼... ',\n",
       "  'bloggername': '❤J salon❤',\n",
       "  'bloggerlink': 'blog.naver.com/beybey1260',\n",
       "  'postdate': '20250426'},\n",
       " {'title': '스미스앤월렌스키 (<b>스테이크와 어울리는</b> <b>추천</b><b>와인</b>, 서울... ',\n",
       "  'link': 'https://blog.naver.com/neotaboo/223758018557',\n",
       "  'description': '계셔서 <b>와인</b> 곁들이기도 너무 <b>좋은</b> 곳이었다. 스타터부터 디저트까지 샴페인 한 병이면 모두 만능으로 페어링이 가능하니, 특별한 날 샴페인 한 병에 맛<b>있는 스테이크</b> 곁들여보시는 걸 <b>추천</b>드리고 싶음!... ',\n",
       "  'bloggername': '입 짧은 콩나물',\n",
       "  'bloggerlink': 'blog.naver.com/neotaboo',\n",
       "  'postdate': '20250212'},\n",
       " {'title': '[3만원대 레드<b>와인</b><b>추천</b>] 부채살 <b>스테이크와 어울리는</b> 마츠 엘... ',\n",
       "  'link': 'https://blog.naver.com/wine0105/223842383386',\n",
       "  'description': 'SNS나 <b>블로그에</b> 올리기 <b>좋은</b> 비주얼. 감성 마케팅에 탁월해요. 마시는 즐거움: 입문자도 부담 없이 마실 수 있으면서도 <b>와인</b> 애호가도 만족할 수 <b>있는</b> 깊은 풍미. 가성비 최고: 3만 원대 가격으로 이 정도... ',\n",
       "  'bloggername': 'Terroir&Trails',\n",
       "  'bloggerlink': 'blog.naver.com/wine0105',\n",
       "  'postdate': '20250422'}]"
      ]
     },
     "execution_count": 20,
     "metadata": {},
     "output_type": "execute_result"
    }
   ],
   "execution_count": 20
  },
  {
   "metadata": {
    "ExecuteTime": {
     "end_time": "2025-04-26T12:19:34.310979Z",
     "start_time": "2025-04-26T12:19:33.822728Z"
    }
   },
   "cell_type": "code",
   "source": [
    "# LLM binding\n",
    "llm = ChatOpenAI(model=\"gpt-4o-mini\")\n",
    "llm_with_blog = llm.bind_tools(tools=[tavily_search, blog_search])"
   ],
   "id": "1d3f96e8bf246b9f",
   "outputs": [],
   "execution_count": 21
  },
  {
   "metadata": {
    "ExecuteTime": {
     "end_time": "2025-04-26T12:19:36.216455Z",
     "start_time": "2025-04-26T12:19:34.322081Z"
    }
   },
   "cell_type": "code",
   "source": [
    "# LLM 실행하여 툴 추천 받기\n",
    "ai_msg = llm_with_blog.invoke(wine_query)\n",
    "ai_msg"
   ],
   "id": "3b761e4554704184",
   "outputs": [
    {
     "data": {
      "text/plain": [
       "AIMessage(content='', additional_kwargs={'tool_calls': [{'id': 'call_xiSZUmpSYQCgiEnsaq0o4Scw', 'function': {'arguments': '{\"query\": \"스테이크와 어울리는 와인\"}', 'name': 'blog_search'}, 'type': 'function'}, {'id': 'call_PEHCb26U2pZU2wTstB5MLeyj', 'function': {'arguments': '{\"query\": \"기분 좋은 노래 추천\"}', 'name': 'blog_search'}, 'type': 'function'}], 'refusal': None}, response_metadata={'token_usage': {'completion_tokens': 58, 'prompt_tokens': 131, 'total_tokens': 189, 'completion_tokens_details': {'accepted_prediction_tokens': 0, 'audio_tokens': 0, 'reasoning_tokens': 0, 'rejected_prediction_tokens': 0}, 'prompt_tokens_details': {'audio_tokens': 0, 'cached_tokens': 0}}, 'model_name': 'gpt-4o-mini-2024-07-18', 'system_fingerprint': 'fp_dbaca60df0', 'id': 'chatcmpl-BQYnGPLpheMmq42QnyIvOHbEeQzjq', 'finish_reason': 'tool_calls', 'logprobs': None}, id='run-c4f33ff6-187d-4bb2-bfe2-dac70581ed25-0', tool_calls=[{'name': 'blog_search', 'args': {'query': '스테이크와 어울리는 와인'}, 'id': 'call_xiSZUmpSYQCgiEnsaq0o4Scw', 'type': 'tool_call'}, {'name': 'blog_search', 'args': {'query': '기분 좋은 노래 추천'}, 'id': 'call_PEHCb26U2pZU2wTstB5MLeyj', 'type': 'tool_call'}], usage_metadata={'input_tokens': 131, 'output_tokens': 58, 'total_tokens': 189, 'input_token_details': {'audio': 0, 'cache_read': 0}, 'output_token_details': {'audio': 0, 'reasoning': 0}})"
      ]
     },
     "execution_count": 22,
     "metadata": {},
     "output_type": "execute_result"
    }
   ],
   "execution_count": 22
  },
  {
   "metadata": {
    "ExecuteTime": {
     "end_time": "2025-04-26T12:19:36.229030Z",
     "start_time": "2025-04-26T12:19:36.224587Z"
    }
   },
   "cell_type": "code",
   "source": "ai_msg.tool_calls",
   "id": "d87aac358c2814ff",
   "outputs": [
    {
     "data": {
      "text/plain": [
       "[{'name': 'blog_search',\n",
       "  'args': {'query': '스테이크와 어울리는 와인'},\n",
       "  'id': 'call_xiSZUmpSYQCgiEnsaq0o4Scw',\n",
       "  'type': 'tool_call'},\n",
       " {'name': 'blog_search',\n",
       "  'args': {'query': '기분 좋은 노래 추천'},\n",
       "  'id': 'call_PEHCb26U2pZU2wTstB5MLeyj',\n",
       "  'type': 'tool_call'}]"
      ]
     },
     "execution_count": 23,
     "metadata": {},
     "output_type": "execute_result"
    }
   ],
   "execution_count": 23
  },
  {
   "metadata": {
    "ExecuteTime": {
     "end_time": "2025-04-26T12:19:36.516781Z",
     "start_time": "2025-04-26T12:19:36.237403Z"
    }
   },
   "cell_type": "code",
   "source": [
    "# blog tool 실행\n",
    "blog_search.batch(ai_msg.tool_calls)"
   ],
   "id": "f8eb65abf2829414",
   "outputs": [
    {
     "data": {
      "text/plain": [
       "[ToolMessage(content='[{\"title\": \"스미스앤월렌스키 (<b>스테이크와 어울리는</b> 추천<b>와인</b>, 서울... \", \"link\": \"https://blog.naver.com/neotaboo/223758018557\", \"description\": \"해주셔서 <b>와인</b>과 함께 <b>스테이크</b> 먹기 너무 좋은 매장이었다. 식전빵이 나왔다. 로즈메리를 가득 뿌려... 잘 <b>어울리는</b> 수프였다. 꾸덕한 식감도 좋고, 풍부한 크림맛도 좋고. 입 짧은 나도 처음으로 접시 전체를... \", \"bloggername\": \"입 짧은 콩나물\", \"bloggerlink\": \"blog.naver.com/neotaboo\", \"postdate\": \"20250212\"}, {\"title\": \"<b>스테이크와 어울리는 와인</b> 추천과 종류\", \"link\": \"https://blog.naver.com/oipicle31/223708302326\", \"description\": \"Information <b>스테이크</b> <b>어울리는 와인</b> 추천 <b>스테이크와</b> <b>와인</b>, 이 둘의 조합은 마치 해변의 파도와 모래처럼 완벽하게 <b>어울리는</b> 궁합이라고 할 수 있죠. 오늘은 여러분의 저녁 식사를 더욱 특별하게 만들어줄... \", \"bloggername\": \"별난하루\", \"bloggerlink\": \"blog.naver.com/oipicle31\", \"postdate\": \"20241229\"}, {\"title\": \"경주 황리단길 파스타 벚꽃과 정말 잘 <b>어울리는</b> <b>스테이크</b> <b>와인</b>... \", \"link\": \"https://blog.naver.com/ljy213/223809691723\", \"description\": \"경주 황리단길 파스타 맛집 또봄은 이탈리아 음식점으로써 파스타와 <b>스테이크</b> 리조또 등의 메뉴가 주가 있었고, 다양한 <b>와인</b>이 있어서 그런지 메뉴판의 상당부분이 <b>와인</b>으로 가득 있었습니다. <b>와인</b>과 함께... \", \"bloggername\": \"TRAVEL MOVE\", \"bloggerlink\": \"blog.naver.com/ljy213\", \"postdate\": \"20250325\"}, {\"title\": \"[마곡 <b>와인</b> / 마곡 파스타] 마곡 <b>스테이크와</b> <b>와인</b>이 <b>어울리는</b>... \", \"link\": \"https://blog.naver.com/candytop100/223163377277\", \"description\": \"<b>와인</b>은 추천을 받아 레드 <b>와인</b> 중 너무 달지는 않은데, <b>스테이크와</b> 잘 <b>어울리는 와인</b>으로 추천을 받았어용~!! ALADA 라는 <b>와인</b>을 준비해주셨어용~ 기본 안주로 크래커도 같이 곁들여 준비해주셨어용!! 사장님께서... \", \"bloggername\": \"Interesting things\", \"bloggerlink\": \"blog.naver.com/candytop100\", \"postdate\": \"20230722\"}, {\"title\": \"<b>스테이크와 어울리는 와인</b>을 찾는다면, 카니버 와인!\", \"link\": \"https://blog.naver.com/rozi__/223190778787\", \"description\": \"어느덧 9월이 가까워진 요즘, <b>스테이크와 어울리는 와인</b> 소개 가지고 왔습니다. Meat was made for Carnivor... 잘 어울리는 느낌이었어요! Carnivor Cabernet Sauvignon 스테이크나 육류 요리를 좋아하신다면, 카니버 와인과... \", \"bloggername\": \"rozi부부 하루일과\", \"bloggerlink\": \"blog.naver.com/rozi__\", \"postdate\": \"20230822\"}, {\"title\": \"내방역 블루리본 맛집 발사믹 <b>스테이크와 어울리는</b> 딸기 <b>와인</b>... \", \"link\": \"https://blog.naver.com/cktoa7/223295947189\", \"description\": \"마굿간 <b>와인</b> 리스트 오더 리스트 안심 발사믹 <b>스테이크</b> 56,000 단새우 비스크 트레네테 26,000 딸기 WINE GLASS 12,000 제로콜라 5,000 생수도 예쁜잔에 주심 식전빵이 두가지가 나옴 따뜻하게 오븐에 돌려서 주셨다... \", \"bloggername\": \"차차라트\", \"bloggerlink\": \"blog.naver.com/cktoa7\", \"postdate\": \"20231218\"}, {\"title\": \"<b>스테이크와</b> 잘 <b>어울리는</b> 3만원대 이마트 레드 <b>와인</b>... \", \"link\": \"https://blog.naver.com/dolmory9/223556006280\", \"description\": \"잘 <b>어울리는</b> 레드 <b>와인</b>입니다. 등심 <b>스테이크와</b> 함께 즐겼습니다. 간장 소스에 쫄인 표고 버섯과도 잘 어울렸습니다. 스파이스와 허브 향이 좋아서 갈비찜과 같은 한식 육류 요리와도 잘 어울립니다.... \", \"bloggername\": \"와인과 커피 엔지니어\", \"bloggerlink\": \"blog.naver.com/dolmory9\", \"postdate\": \"20240821\"}, {\"title\": \"[3만원대 레드<b>와인</b>추천] 부채살 <b>스테이크와 어울리는</b> 마츠 엘... \", \"link\": \"https://blog.naver.com/wine0105/223842383386\", \"description\": \"잘 <b>어울리는</b> 편이에요. 특히 마츠 엘 레시오에 사용된 티나 데 토로는 템프라니요의 클론 품종으로, 더... 전체적으로 <b>와인</b>의 풍미가 훨씬 조화로워졌어요.  <b>스테이크와</b> 찰떡궁합! 이 날은 <b>스테이크</b>랑 함께... \", \"bloggername\": \"Terroir&Trails\", \"bloggerlink\": \"blog.naver.com/wine0105\", \"postdate\": \"20250422\"}, {\"title\": \"한우 <b>스테이크와</b> <b>와인</b>의 마리아주가 잘 <b>어울리는</b> 곳\", \"link\": \"https://blog.naver.com/cgeydc/223635848918\", \"description\": \"한우 <b>스테이크</b>가 맛있고, 좋은 사람, 좋은 친구들과 편안한 분위기 속에서 식사 할 수 있는 곳이라... 잘 <b>어울리는</b> 첫번째 마리아 주 -- 뉴질랜드 산 쇼비뇽블랑 화이트 <b>와인</b>입니다 영화 \\'섹스 인더 시티\\'에서... \", \"bloggername\": \"데니얼의 맛있는 세상이야기\", \"bloggerlink\": \"blog.naver.com/cgeydc\", \"postdate\": \"20241030\"}, {\"title\": \"<b>스테이크와</b> 잘 <b>어울리는 와인</b> 선택법\", \"link\": \"https://blog.naver.com/nadhh/223695708844\", \"description\": \"<b>스테이크와</b> 잘 <b>어울리는 와인</b> 선택법 <b>스테이크</b>는 많은 이들이 사랑하는 고급 요리 중 하나입니다. 그 풍부한 맛과 식감은 특별한 순간을 더욱 특별하게 만들어 주죠. 하지만 <b>스테이크</b>의 맛을 극대화하기... \", \"bloggername\": \"새벽의 빛\", \"bloggerlink\": \"blog.naver.com/nadhh\", \"postdate\": \"20241216\"}]', name='blog_search', tool_call_id='call_xiSZUmpSYQCgiEnsaq0o4Scw'),\n",
       " ToolMessage(content='[{\"title\": \"남녀듀엣곡<b>추천</b> / Dream 수지... 사랑스럽고 <b>기분 좋은 노래</b>\", \"link\": \"https://blog.naver.com/khazneh88/223741930387\", \"description\": \"<b>추천</b> / Dream 수지&amp;종호, 수지&amp;백현 원곡 / 가사,뮤비,해석 / 사랑스럽고 <b>기분 좋은 노래</b> JYP... 사랑스러운 <b>노래</b> 소개할게요. 이런 <b>노래</b> 들으면 듣고 나서도 한참 <b>기분</b> 좋아요. 제목은 언제나 가슴... \", \"bloggername\": \"뤼치머니 뮤직너블\", \"bloggerlink\": \"blog.naver.com/khazneh88\", \"postdate\": \"20250130\"}, {\"title\": \"봄이 다가오며 듣기 좋은 <b>기분 좋은 노래 추천</b>!!/디벨로 보컬학원\", \"link\": \"https://blog.naver.com/dblovocal/223799690665\", \"description\": \"<b>기분 좋은</b> 음악이 생각나기 마련인데요~~ 그래서 오늘은! 봄의 분위기와 잘 어울리는 <b>기분 좋은 노래</b>... 이 <b>노래</b>를 듣게 되면 정말 <b>기분</b>이 좋아지겠어요! 가벼운 산책을 하면서 한번 들어보시길 <b>추천</b>드릴게요!... \", \"bloggername\": \"디벨로 보컬학원\", \"bloggerlink\": \"blog.naver.com/dblovocal\", \"postdate\": \"20250317\"}, {\"title\": \"WIM, Matthew Ifield - Sup [ 팝송<b>추천</b> / 봄에듣기<b>좋은노래</b> ]\", \"link\": \"https://blog.naver.com/rofjrtyd2/223777116223\", \"description\": \"영어<b>노래</b> #외국<b>노래</b> #<b>노래추천</b> #<b>노래</b>가사 #인생<b>노래</b> #봄<b>노래</b> #봄<b>노래추천</b> #봄에듣기<b>좋은노래</b> #<b>기분</b>좋아지는<b>노래</b> #wim #matthewifield #sup #wim<b>노래</b> #wim정보 #sup가사 #sup해석 #sup가사해석\", \"bloggername\": \"리차드의 메모장\", \"bloggerlink\": \"blog.naver.com/rofjrtyd2\", \"postdate\": \"20250228\"}, {\"title\": \"비오는날 듣기 <b>좋은 노래</b> 모음 비올때 관련 음악 <b>추천</b>\", \"link\": \"https://blog.naver.com/aloneagain_/223498809008\", \"description\": \"<b>기분</b>이 날씨에 영향을 많이 받아서 그런 게 아닐까 싶기도 하다. 그래서 또 구 A&amp;R 출신으로 비오는날 듣기 <b>좋은 노래 추천</b> 모음을 준비했다. 비오는날 하면 딱 떠오르는 <b>노래</b>도 있고 오래된 <b>노래</b>도... \", \"bloggername\": \"현실판 프린세스메이커\", \"bloggerlink\": \"blog.naver.com/aloneagain_\", \"postdate\": \"20240702\"}, {\"title\": \"출퇴근길 <b>기분 좋은 노래 추천</b> : Max - Acid dreams\", \"link\": \"https://blog.naver.com/oheeng23/223090906666\", \"description\": \"<b>기분 좋은 노래 추천</b> : Max - Acid dreams 출퇴근길 매일 한 번씩 듣는 노래들... down, I never wanna come down) 기분 좋은 노래 들으면서 이번 주도 파이팅! #aciddreams\", \"bloggername\": \"오늘을 사는 힁\", \"bloggerlink\": \"blog.naver.com/oheeng23\", \"postdate\": \"20230502\"}, {\"title\": \"아오이 가사 번역 해석 뜻 듣기 밝고 <b>기분 좋은 노래</b> 제이팝 <b>추천</b>\", \"link\": \"https://blog.naver.com/naturalhealing7/223422773196\", \"description\": \"두부 포케 아니면 내일, 미래를 걱정하지 말고 숲속 공기 맑고 경치 <b>좋은</b> 곳에서 너무 맛있는 음식을... 귀여운<b>노래</b> #<b>기분</b>전환 #<b>기분좋은노래</b> #jpop #jpop<b>추천</b> #가사해석 #가사뜻 #레스토랑 #두부포케 #포케 #샐러드... \", \"bloggername\": \"사랑 감사 이해 존중 배려\", \"bloggerlink\": \"blog.naver.com/naturalhealing7\", \"postdate\": \"20240421\"}, {\"title\": \"나의 러닝 플레이리스트 - 운동할때 듣기<b>좋은 노래 추천</b>\", \"link\": \"https://blog.naver.com/missheathy/223147869386\", \"description\": \"운동할때듣기<b>좋은노래 추천</b> 포스팅을 써보기로 했다 나의 러닝 플레이리스트 취향을 간단히... 곡의 주제나 화자(話者)가 여성이면 대환영 시작합니다ㅋ  Beyonce - Freedom 러닝할 때 듣는 <b>노래</b>... \", \"bloggername\": \"BEANS FLOWER\", \"bloggerlink\": \"blog.naver.com/missheathy\", \"postdate\": \"20230705\"}, {\"title\": \"아침에 <b>기분 좋은 노래</b>로 하루를 시작해요\", \"link\": \"https://blog.naver.com/aoao0113/223824748470\", \"description\": \"일어나자마자 스트레스나 우울한 <b>기분</b>으로 시작하는 것보다는, 밝고 <b>기분 좋은</b> 음악을 들으며 하루를... <b>추천</b>하는 아침 <b>기분 좋은 노래</b>들 아침에 들으면 <b>기분</b>이 좋아지는 <b>노래</b>들은 다양한 장르에서 찾을 수... \", \"bloggername\": \"끈기와 성취감\", \"bloggerlink\": \"blog.naver.com/aoao0113\", \"postdate\": \"20250407\"}, {\"title\": \"<b>기분 좋은 노래 추천</b> | 행복, 힐링, 기분 전환, 음악\", \"link\": \"https://blog.naver.com/cbfive78/223600342224\", \"description\": \"<b>기분 좋은 노래 추천</b> | 행복, 힐링, 기분 전환, 음악 에 대해 자주 묻는 질문 TOP 5 질문. 어떤 기분일 때 이 노래 추천 목록을 들어야 할까요? 답변. 이 노래 추천 목록은 행복을 느끼고 싶거나, 기분 전환이 필요할... \", \"bloggername\": \"경제공부하는 얼죽아\", \"bloggerlink\": \"blog.naver.com/cbfive78\", \"postdate\": \"20240929\"}, {\"title\": \"잠이 안올 때 밤에 듣기 <b>좋은 노래 추천</b> (데이식스 영케이... \", \"link\": \"https://blog.naver.com/reco_list/223501432955\", \"description\": \"아침을 <b>기분</b> 좋게 맞이하길&quot; Eternal 아티스트 Young K(DAY6) 발매일 2021.09.06. 한올 - 깊이 잠들어요 위로가 필요해서 잠이 안올 땐 한올의 깊이 잠들어요 라는 <b>노래</b>를 <b>추천</b>한다. 앨범명이 작은 위로라 이 앨범에... \", \"bloggername\": \"롤리플리\", \"bloggerlink\": \"blog.naver.com/reco_list\", \"postdate\": \"20240704\"}]', name='blog_search', tool_call_id='call_PEHCb26U2pZU2wTstB5MLeyj')]"
      ]
     },
     "execution_count": 24,
     "metadata": {},
     "output_type": "execute_result"
    }
   ],
   "execution_count": 24
  },
  {
   "metadata": {
    "ExecuteTime": {
     "end_time": "2025-04-26T12:19:36.530498Z",
     "start_time": "2025-04-26T12:19:36.526958Z"
    }
   },
   "cell_type": "code",
   "source": "",
   "id": "5857d99a5721855b",
   "outputs": [],
   "execution_count": null
  }
 ],
 "metadata": {
  "kernelspec": {
   "display_name": "Python 3",
   "language": "python",
   "name": "python3"
  },
  "language_info": {
   "codemirror_mode": {
    "name": "ipython",
    "version": 2
   },
   "file_extension": ".py",
   "mimetype": "text/x-python",
   "name": "python",
   "nbconvert_exporter": "python",
   "pygments_lexer": "ipython2",
   "version": "2.7.6"
  }
 },
 "nbformat": 4,
 "nbformat_minor": 5
}
