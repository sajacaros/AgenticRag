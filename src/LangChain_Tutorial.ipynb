{
 "cells": [
  {
   "metadata": {},
   "cell_type": "raw",
   "source": [
    "# LangChain\n",
    "## ToolCalling\n",
    "- LLM이 외부 기능이나 데이터에 접근할 수 있게 해주는 매커니즘\n",
    "![](images/tool_call.png)"
   ],
   "id": "c2c310452618a02b"
  },
  {
   "metadata": {
    "ExecuteTime": {
     "end_time": "2025-04-26T11:48:50.152029Z",
     "start_time": "2025-04-26T11:48:49.401249Z"
    }
   },
   "cell_type": "code",
   "source": [
    "import re\n",
    "import os, json\n",
    "import warnings\n",
    "from datetime import datetime\n",
    "from pprint import pprint\n",
    "from textwrap import dedent\n",
    "from dotenv import load_dotenv\n",
    "from langchain_core.messages import ToolMessage\n",
    "from langchain_core.prompts import ChatPromptTemplate\n",
    "from langchain_core.runnables import RunnableConfig\n",
    "\n",
    "warnings.filterwarnings(\"ignore\")\n",
    "load_dotenv()"
   ],
   "id": "9f5bf2194d41ef16",
   "outputs": [
    {
     "data": {
      "text/plain": [
       "True"
      ]
     },
     "execution_count": 1,
     "metadata": {},
     "output_type": "execute_result"
    }
   ],
   "execution_count": 1
  },
  {
   "metadata": {},
   "cell_type": "raw",
   "source": [
    "## 랭체인 내장 도구\n",
    "- 랭체인은 검색, 코드 인터프리터, 생산성 도구 제공\n",
    "### Tavily 도구 직접 사용해보기\n",
    "- [docs](https://python.langchain.com/docs/integrations/tools/tavily_search/)"
   ],
   "id": "315e64f82b4d4e69"
  },
  {
   "metadata": {
    "ExecuteTime": {
     "end_time": "2025-04-26T11:48:52.790630Z",
     "start_time": "2025-04-26T11:48:50.157178Z"
    }
   },
   "cell_type": "code",
   "source": [
    "from langchain_community.tools import TavilySearchResults\n",
    "\n",
    "query = \"최근 한 달 동안 나온 테슬라와 구글 CEO 관련 영문 기사들을 각각 자연스럽게 한국어로 요약해서 Bullet Point로 정리해줘\"\n",
    "\n",
    "tavily_search = TavilySearchResults(max_results=2)\n",
    "search_results = tavily_search.invoke(query)\n",
    "search_results"
   ],
   "id": "7bfd757e7119da70",
   "outputs": [
    {
     "data": {
      "text/plain": [
       "[{'title': '구글 CEO의 고백, 테슬라가 최고다! 이유는? 인터뷰 번역, 댄 아이브스 ...',\n",
       "  'url': 'https://www.youtube.com/watch?v=nu_9tQXlFBQ',\n",
       "  'content': '구글 CEO의 고백, 테슬라가 최고다! 이유는? 인터뷰 번역, 댄 아이브스 예상주가 $515 간다! 테슬라 음성 서비스 시작하나  ? \\n 오늘의 테슬라 뉴스 \\n 3370 likes \\n 57618 views \\n 16 Dec 2024 \\n ➤ 테슬라 구매하시나요? 추천링크 이동해서 33만원 할인을 받으세요.  ( 미국 $2천 달러 할인 )\\n      추천링크 https://ts.la/sung85917\\n\\n➤ 오늘의 테슬라 뉴스 트위터 https://twitter.com/TodayTeslanews\\n\\n➤ 오늘의 테슬라 뉴스 회원가입https://www.youtube.com/c/%EC%98%A4%EB%8A%98%EC%9D%98%ED%85%8C%EC%8A%AC%EB%9D%BC%EB%89%B4%EC%8A%A4/join\\n\\n➤ Surfshark + 오테뉴 이벤트 4개월 추가 제공과 최저가 해택 놓치지 마세요! \\n     https://surfshark.com/teslanews [...] ➤ 오늘의 테슬라 뉴스 광고 문의  todayteslanews@gmail.com\\n\\n➤욕설과 악플, 도배댓글, 타채널 홍보링크, 매너없는 글은 삭제/차단 합니다.\\n➤주가 예측 질문 (살까요, 팔까요) 댓글에는 답변하지 않습니다.\\n\\n#테슬라 #테슬라주식 #테슬라뉴스 #ARK #일론머스크 #모델3  #모델y #investing #투자 #elonmusk #TSLA #Tesla #오테뉴 #트위터 #스페이스X #Twitter #오늘의테슬라뉴스 #주식투자 #해외주식 \\n 235 comments',\n",
       "  'score': 0.5852203},\n",
       " {'title': '[시사영어 1일1문] 머스크의 테슬라 사면초가에 (NYT ... - YouTube',\n",
       "  'url': 'https://www.youtube.com/watch?v=IN1lZzNk2O8',\n",
       "  'content': '[시사영어 1일1문] 머스크의 테슬라 사면초가에 (NYT) (최신영어뉴스로 영어공부) \\n 상상영어 \\n 132 likes \\n 1450 views \\n 23 Apr 2025 \\n 출처: https://www.nytimes.com/2025/04/22/business/tesla-earnings-elon-musk.html\\n(긴 뉴스기사에서 필수적인 내용만을 추출하여 2~3 페이지로 구성했습니다. 완전한 전체 기사는 출처를 참고하시기 바랍니다.) [...] Mr. Musk has said the company’s future is in artificial intelligence technology that will allow Tesla vehicles to drive themselves without human intervention, enabling fleets of Tesla “Cybercabs” to make money ferrying customers.\\nBut Tesla has not yet perfected the technology and faces competition in that nascent business from several Chinese companies and Waymo, a unit of Alphabet, the parent company of Google. [...] [본문]\\nTesla’s 71% Drop in Profit May Pressure Elon Musk to Return to Day Job\\nTesla said Tuesday that its profits fell 71 percent in the first three months of the year, which could increase the pressure on Elon Musk, the automaker’s chief executive, to curtail his work for President Trump and spend more time managing the company.\\nThe company said it earned $409 million, down from $1.4 billion in the first quarter of 2024.',\n",
       "  'score': 0.523494}]"
      ]
     },
     "execution_count": 2,
     "metadata": {},
     "output_type": "execute_result"
    }
   ],
   "execution_count": 2
  },
  {
   "metadata": {},
   "cell_type": "raw",
   "source": [
    "### Tool의 구성 요소\n",
    "- name : 도구의 이름\n",
    "- description : 도구에 대한 설명\n",
    "- JSON schema : 도구 입력 정보\n",
    "- function : 실행할 함수??"
   ],
   "id": "700ac6c794019d02"
  },
  {
   "metadata": {
    "ExecuteTime": {
     "end_time": "2025-04-26T11:48:52.905011Z",
     "start_time": "2025-04-26T11:48:52.901011Z"
    }
   },
   "cell_type": "code",
   "source": [
    "TavilySearchResults # class 살펴보기\n",
    "type(tavily_search)"
   ],
   "id": "5625c6f4658a97e",
   "outputs": [
    {
     "data": {
      "text/plain": [
       "langchain_community.tools.tavily_search.tool.TavilySearchResults"
      ]
     },
     "execution_count": 3,
     "metadata": {},
     "output_type": "execute_result"
    }
   ],
   "execution_count": 3
  },
  {
   "metadata": {
    "ExecuteTime": {
     "end_time": "2025-04-26T11:48:52.920578Z",
     "start_time": "2025-04-26T11:48:52.917309Z"
    }
   },
   "cell_type": "code",
   "source": "tavily_search.name",
   "id": "fb798ccb905f06ea",
   "outputs": [
    {
     "data": {
      "text/plain": [
       "'tavily_search_results_json'"
      ]
     },
     "execution_count": 4,
     "metadata": {},
     "output_type": "execute_result"
    }
   ],
   "execution_count": 4
  },
  {
   "metadata": {
    "ExecuteTime": {
     "end_time": "2025-04-26T11:48:52.929101Z",
     "start_time": "2025-04-26T11:48:52.926096Z"
    }
   },
   "cell_type": "code",
   "source": "tavily_search.description",
   "id": "1a1041e20909bfa0",
   "outputs": [
    {
     "data": {
      "text/plain": [
       "'A search engine optimized for comprehensive, accurate, and trusted results. Useful for when you need to answer questions about current events. Input should be a search query.'"
      ]
     },
     "execution_count": 5,
     "metadata": {},
     "output_type": "execute_result"
    }
   ],
   "execution_count": 5
  },
  {
   "metadata": {
    "ExecuteTime": {
     "end_time": "2025-04-26T11:48:52.942654Z",
     "start_time": "2025-04-26T11:48:52.938708Z"
    }
   },
   "cell_type": "code",
   "source": "tavily_search.args",
   "id": "3320e958ca669e81",
   "outputs": [
    {
     "data": {
      "text/plain": [
       "{'query': {'description': 'search query to look up',\n",
       "  'title': 'Query',\n",
       "  'type': 'string'}}"
      ]
     },
     "execution_count": 6,
     "metadata": {},
     "output_type": "execute_result"
    }
   ],
   "execution_count": 6
  },
  {
   "metadata": {
    "ExecuteTime": {
     "end_time": "2025-04-26T11:48:52.955840Z",
     "start_time": "2025-04-26T11:48:52.951973Z"
    }
   },
   "cell_type": "code",
   "source": "tavily_search.args_schema",
   "id": "b7b5249e1214211e",
   "outputs": [
    {
     "data": {
      "text/plain": [
       "langchain_community.tools.tavily_search.tool.TavilyInput"
      ]
     },
     "execution_count": 7,
     "metadata": {},
     "output_type": "execute_result"
    }
   ],
   "execution_count": 7
  },
  {
   "metadata": {
    "ExecuteTime": {
     "end_time": "2025-04-26T11:48:52.970725Z",
     "start_time": "2025-04-26T11:48:52.966554Z"
    }
   },
   "cell_type": "code",
   "source": "tavily_search.args_schema.model_json_schema()",
   "id": "530db5a187ad4b1e",
   "outputs": [
    {
     "data": {
      "text/plain": [
       "{'description': 'Input for the Tavily tool.',\n",
       " 'properties': {'query': {'description': 'search query to look up',\n",
       "   'title': 'Query',\n",
       "   'type': 'string'}},\n",
       " 'required': ['query'],\n",
       " 'title': 'TavilyInput',\n",
       " 'type': 'object'}"
      ]
     },
     "execution_count": 8,
     "metadata": {},
     "output_type": "execute_result"
    }
   ],
   "execution_count": 8
  },
  {
   "metadata": {},
   "cell_type": "raw",
   "source": "### LLM과 Tavily 도구 binding하기",
   "id": "de1960e48cee3549"
  },
  {
   "metadata": {
    "ExecuteTime": {
     "end_time": "2025-04-26T11:48:54.247644Z",
     "start_time": "2025-04-26T11:48:52.979962Z"
    }
   },
   "cell_type": "code",
   "source": [
    "from langchain_openai import ChatOpenAI\n",
    "\n",
    "llm = ChatOpenAI(model=\"gpt-4o-mini\")\n",
    "llm_with_tools = llm.bind_tools(tools=[tavily_search])\n",
    "\n",
    "query"
   ],
   "id": "3a987aee061fecb4",
   "outputs": [
    {
     "data": {
      "text/plain": [
       "'최근 한 달 동안 나온 테슬라와 구글 CEO 관련 영문 기사들을 각각 자연스럽게 한국어로 요약해서 Bullet Point로 정리해줘'"
      ]
     },
     "execution_count": 9,
     "metadata": {},
     "output_type": "execute_result"
    }
   ],
   "execution_count": 9
  },
  {
   "metadata": {
    "ExecuteTime": {
     "end_time": "2025-04-26T11:48:56.031062Z",
     "start_time": "2025-04-26T11:48:54.255997Z"
    }
   },
   "cell_type": "code",
   "source": [
    "ai_msg = llm_with_tools.invoke(query)\n",
    "pprint(ai_msg)"
   ],
   "id": "84a10b5bc3600439",
   "outputs": [
    {
     "name": "stdout",
     "output_type": "stream",
     "text": [
      "AIMessage(content='', additional_kwargs={'tool_calls': [{'id': 'call_3UzLuq6NwfyaTWXZ5WtAEuKl', 'function': {'arguments': '{\"query\": \"Tesla CEO news articles last month\"}', 'name': 'tavily_search_results_json'}, 'type': 'function'}, {'id': 'call_mCuBtgA9omnkWKnoE7aI3etb', 'function': {'arguments': '{\"query\": \"Google CEO news articles last month\"}', 'name': 'tavily_search_results_json'}, 'type': 'function'}], 'refusal': None}, response_metadata={'token_usage': {'completion_tokens': 63, 'prompt_tokens': 113, 'total_tokens': 176, 'completion_tokens_details': {'accepted_prediction_tokens': 0, 'audio_tokens': 0, 'reasoning_tokens': 0, 'rejected_prediction_tokens': 0}, 'prompt_tokens_details': {'audio_tokens': 0, 'cached_tokens': 0}}, 'model_name': 'gpt-4o-mini-2024-07-18', 'system_fingerprint': 'fp_dbaca60df0', 'id': 'chatcmpl-BQYJa3UmF8Wbvl3gW2l7k2DMu6RiS', 'finish_reason': 'tool_calls', 'logprobs': None}, id='run-522347aa-20e2-4975-b3bb-98c768f368fe-0', tool_calls=[{'name': 'tavily_search_results_json', 'args': {'query': 'Tesla CEO news articles last month'}, 'id': 'call_3UzLuq6NwfyaTWXZ5WtAEuKl', 'type': 'tool_call'}, {'name': 'tavily_search_results_json', 'args': {'query': 'Google CEO news articles last month'}, 'id': 'call_mCuBtgA9omnkWKnoE7aI3etb', 'type': 'tool_call'}], usage_metadata={'input_tokens': 113, 'output_tokens': 63, 'total_tokens': 176, 'input_token_details': {'audio': 0, 'cache_read': 0}, 'output_token_details': {'audio': 0, 'reasoning': 0}})\n"
     ]
    }
   ],
   "execution_count": 10
  },
  {
   "metadata": {
    "ExecuteTime": {
     "end_time": "2025-04-26T11:48:56.042793Z",
     "start_time": "2025-04-26T11:48:56.039570Z"
    }
   },
   "cell_type": "code",
   "source": "ai_msg.content",
   "id": "6593f85fee732368",
   "outputs": [
    {
     "data": {
      "text/plain": [
       "''"
      ]
     },
     "execution_count": 11,
     "metadata": {},
     "output_type": "execute_result"
    }
   ],
   "execution_count": 11
  },
  {
   "metadata": {
    "ExecuteTime": {
     "end_time": "2025-04-26T11:48:56.055152Z",
     "start_time": "2025-04-26T11:48:56.052310Z"
    }
   },
   "cell_type": "code",
   "source": "ai_msg.tool_calls",
   "id": "a5b410f1a6267287",
   "outputs": [
    {
     "data": {
      "text/plain": [
       "[{'name': 'tavily_search_results_json',\n",
       "  'args': {'query': 'Tesla CEO news articles last month'},\n",
       "  'id': 'call_3UzLuq6NwfyaTWXZ5WtAEuKl',\n",
       "  'type': 'tool_call'},\n",
       " {'name': 'tavily_search_results_json',\n",
       "  'args': {'query': 'Google CEO news articles last month'},\n",
       "  'id': 'call_mCuBtgA9omnkWKnoE7aI3etb',\n",
       "  'type': 'tool_call'}]"
      ]
     },
     "execution_count": 12,
     "metadata": {},
     "output_type": "execute_result"
    }
   ],
   "execution_count": 12
  },
  {
   "metadata": {},
   "cell_type": "raw",
   "source": [
    "### LLM에서 응답으로 온 Tool 정보를 이용해 Tool 직접 실행하기\n",
    "- args 스키마 사용 -> list 형태로 나옴\n",
    "- tool_call 사용 -> ToolMessage 형태로 나옴"
   ],
   "id": "acaa997c478aa54a"
  },
  {
   "metadata": {
    "ExecuteTime": {
     "end_time": "2025-04-26T11:48:58.742451Z",
     "start_time": "2025-04-26T11:48:56.066659Z"
    }
   },
   "cell_type": "code",
   "source": [
    "# args 스키마 사용\n",
    "tool_call = ai_msg.tool_calls[0]\n",
    "tool_output = tavily_search.invoke(tool_call['args'])\n",
    "pprint(type(tool_output))\n",
    "pprint(tool_output)"
   ],
   "id": "713876dfa6bd1593",
   "outputs": [
    {
     "name": "stdout",
     "output_type": "stream",
     "text": [
      "<class 'list'>\n",
      "[{'content': 'Watch CBS News\\n'\n",
      "             '\\n'\n",
      "             \"As Tesla's sales and profit tumble, investors ask Elon Musk to \"\n",
      "             'ditch DOGE and return to automaker\\n'\n",
      "             '\\n'\n",
      "             'Updated on:  April 22, 2025 / 6:35 PM EDT\\n'\n",
      "             '          / CBS News\\n'\n",
      "             '\\n'\n",
      "             'Tesla CEO Elon Musk is facing a corporate reckoning on Tuesday, '\n",
      "             \"with the electric car maker's first-quarter results showing \"\n",
      "             'sales and profit fell short of analyst expectations while the '\n",
      "             \"billionaire was focused on leading the Trump administration's \"\n",
      "             'cost-cutting efforts. [...] Earlier this month, Tesla said its '\n",
      "             'delivery of vehicles in the first three months of 2025 fell '\n",
      "             \"nearly 13% as demand for the automaker's electric cars continued \"\n",
      "             \"to weaken, with deliveries also falling well short of analysts' \"\n",
      "             \"expectations. [...] In addition to insights into Musk's role at \"\n",
      "             'Tesla, investors will also be listening for updates on several '\n",
      "             'strategic initiatives. The company is expected to roll out a '\n",
      "             'cheaper version of its best-selling vehicle, the Model Y SUV, '\n",
      "             'later in the year. Tesla has also said it plans to start a paid '\n",
      "             'driverless robotaxi service in Austin, Texas, in June.\\n'\n",
      "             '\\n'\n",
      "             'More from CBS News',\n",
      "  'score': 0.7154444,\n",
      "  'title': \"As Tesla's sales and profit tumble, investors ask Elon Musk to \"\n",
      "           'ditch ...',\n",
      "  'url': 'https://www.cbsnews.com/news/tesla-earnings-call-today-elon-musk-doge/'},\n",
      " {'content': 'Tesla CEO Musk says time he spends on DOGE will drop '\n",
      "             \"'significantly' next month\\n\"\n",
      "             '\\n'\n",
      "             \"Tesla CEO Elon Musk began his company's earnings call on Tuesday \"\n",
      "             \"by saying that his time spent running President Donald Trump's \"\n",
      "             'so-called Department of Government Efficiency will drop '\n",
      "             '\"significantly\" starting in May. [...] Also in February, the '\n",
      "             'Trump administration said that USAID would shut down as an '\n",
      "             'independent agency and be moved under the State Department.\\n'\n",
      "             '\\n'\n",
      "             'Don’t miss these insights from CNBC PRO\\n'\n",
      "             '\\n'\n",
      "             'WATCH: Musk needs to recommit to Tesla\\n'\n",
      "             '\\n'\n",
      "             'News Tips\\n'\n",
      "             '\\n'\n",
      "             'Got a confidential news tip? We want to hear from you.\\n'\n",
      "             '\\n'\n",
      "             'CNBC Newsletters\\n'\n",
      "             '\\n'\n",
      "             'Sign up for free newsletters and get more CNBC delivered to your '\n",
      "             'inbox\\n'\n",
      "             '\\n'\n",
      "             'Get this delivered to your inbox, and more info about our '\n",
      "             'products and services.\\n'\n",
      "             '\\n'\n",
      "             'Advertise With Us [...] In addition to challenges the company '\n",
      "             'already faced, such as competition out of China and an aging '\n",
      "             'fleet of electric vehicles, Tesla has recently been hit with '\n",
      "             \"protests in the U.S. and Europe and brand damage due to Musk's \"\n",
      "             \"ties to Trump and his support of Germany's far-right AfD party.\",\n",
      "  'score': 0.5855047,\n",
      "  'title': 'Tesla CEO Musk says time he spends on DOGE will drop in May',\n",
      "  'url': 'https://www.cnbc.com/2025/04/22/tesla-ceo-elon-musk-says-time-he-spends-on-doge-will-drop-significantly-next-month.html'}]\n"
     ]
    }
   ],
   "execution_count": 13
  },
  {
   "metadata": {
    "ExecuteTime": {
     "end_time": "2025-04-26T11:49:01.091748Z",
     "start_time": "2025-04-26T11:48:58.751527Z"
    }
   },
   "cell_type": "code",
   "source": [
    "# tool_call 사용\n",
    "tool_message = tavily_search.invoke(tool_call)\n",
    "pprint(type(tool_message))\n",
    "pprint(tool_message)"
   ],
   "id": "7f188b2101eceeb7",
   "outputs": [
    {
     "name": "stdout",
     "output_type": "stream",
     "text": [
      "<class 'langchain_core.messages.tool.ToolMessage'>\n",
      "ToolMessage(content='[{\"title\": \"As Tesla\\'s sales and profit tumble, investors ask Elon Musk to ditch ...\", \"url\": \"https://www.cbsnews.com/news/tesla-earnings-call-today-elon-musk-doge/\", \"content\": \"Watch CBS News\\\\n\\\\nAs Tesla\\'s sales and profit tumble, investors ask Elon Musk to ditch DOGE and return to automaker\\\\n\\\\nUpdated on:  April 22, 2025 / 6:35 PM EDT\\\\n          / CBS News\\\\n\\\\nTesla CEO Elon Musk is facing a corporate reckoning on Tuesday, with the electric car maker\\'s first-quarter results showing sales and profit fell short of analyst expectations while the billionaire was focused on leading the Trump administration\\'s cost-cutting efforts. [...] Earlier this month, Tesla said its delivery of vehicles in the first three months of 2025 fell nearly 13% as demand for the automaker\\'s electric cars continued to weaken, with deliveries also falling well short of analysts\\' expectations.\", \"score\": 0.7154444}, {\"title\": \"Elon Musk to step back from Doge as Tesla profits plunge - BBC\", \"url\": \"https://www.bbc.com/news/articles/cy0x50yr46lo\", \"content\": \"The tech boss said he would now \\\\\"be allocating far more of my time to Tesla\\\\\", but suggested he would not leave the Trump administration completely, calling the work \\\\\"critical\\\\\" and pledging to stay on \\\\\"as long as the president would like me to do so and as long as it\\'s useful\\\\\".\\\\n\\\\nOn Tuesday, Tesla reported a 20% drop in car sales for the first three months of the year, compared with the same period last year, while profits fell more than 70%. [...] Earlier this month, he called Navarro a \\\\\"moron\\\\\" over comments he had made about Tesla. Navarro had said Musk was \\\\\"not a car manufacturer\\\\\" but a \\\\\"car assembler, in many cases\\\\\".\\\\n\\\\nGeorg Ell, who knew Musk and was director for Western Europe at Tesla, told the BBC\\'s Today programme that if the multi-billionaire \\\\\"focuses on the companies where he is extraordinary, I think people will focus once again on the quality of the product and experiences\\\\\". [...] Musk to reduce Doge role after Tesla profits plunge\\\\n\\\\nTesla boss Elon Musk has pledged to \\\\\"significantly\\\\\" cut back his role in the US government after the electric car firm reported a huge drop in profit and sales for the start of this year.\\\\n\\\\nMusk has led the newly created advisory body - the Department for Government Efficiency (Doge) - since last year, putting the world\\'s richest man at the heart of cutting US spending and jobs.\", \"score\": 0.60917604}]', name='tavily_search_results_json', tool_call_id='call_3UzLuq6NwfyaTWXZ5WtAEuKl', artifact={'query': 'Tesla CEO news articles last month', 'follow_up_questions': None, 'answer': None, 'images': [], 'results': [{'url': 'https://www.cbsnews.com/news/tesla-earnings-call-today-elon-musk-doge/', 'title': \"As Tesla's sales and profit tumble, investors ask Elon Musk to ditch ...\", 'content': \"Watch CBS News\\n\\nAs Tesla's sales and profit tumble, investors ask Elon Musk to ditch DOGE and return to automaker\\n\\nUpdated on:  April 22, 2025 / 6:35 PM EDT\\n          / CBS News\\n\\nTesla CEO Elon Musk is facing a corporate reckoning on Tuesday, with the electric car maker's first-quarter results showing sales and profit fell short of analyst expectations while the billionaire was focused on leading the Trump administration's cost-cutting efforts. [...] Earlier this month, Tesla said its delivery of vehicles in the first three months of 2025 fell nearly 13% as demand for the automaker's electric cars continued to weaken, with deliveries also falling well short of analysts' expectations.\", 'score': 0.7154444, 'raw_content': None}, {'url': 'https://www.bbc.com/news/articles/cy0x50yr46lo', 'title': 'Elon Musk to step back from Doge as Tesla profits plunge - BBC', 'content': 'The tech boss said he would now \"be allocating far more of my time to Tesla\", but suggested he would not leave the Trump administration completely, calling the work \"critical\" and pledging to stay on \"as long as the president would like me to do so and as long as it\\'s useful\".\\n\\nOn Tuesday, Tesla reported a 20% drop in car sales for the first three months of the year, compared with the same period last year, while profits fell more than 70%. [...] Earlier this month, he called Navarro a \"moron\" over comments he had made about Tesla. Navarro had said Musk was \"not a car manufacturer\" but a \"car assembler, in many cases\".\\n\\nGeorg Ell, who knew Musk and was director for Western Europe at Tesla, told the BBC\\'s Today programme that if the multi-billionaire \"focuses on the companies where he is extraordinary, I think people will focus once again on the quality of the product and experiences\". [...] Musk to reduce Doge role after Tesla profits plunge\\n\\nTesla boss Elon Musk has pledged to \"significantly\" cut back his role in the US government after the electric car firm reported a huge drop in profit and sales for the start of this year.\\n\\nMusk has led the newly created advisory body - the Department for Government Efficiency (Doge) - since last year, putting the world\\'s richest man at the heart of cutting US spending and jobs.', 'score': 0.60917604, 'raw_content': None}], 'response_time': 1.39})\n"
     ]
    }
   ],
   "execution_count": 14
  },
  {
   "metadata": {
    "ExecuteTime": {
     "end_time": "2025-04-26T11:49:01.102482Z",
     "start_time": "2025-04-26T11:49:01.098252Z"
    }
   },
   "cell_type": "code",
   "source": [
    "# tool_output으로 ToolMessage 만들기\n",
    "from langchain_core.messages.tool import ToolMessage\n",
    "\n",
    "tool_message = ToolMessage(\n",
    "    content=tool_output,\n",
    "    tool_call_id=tool_call[\"id\"],\n",
    "    name=tool_call[\"name\"]\n",
    ")\n",
    "pprint(type(tool_message))\n",
    "pprint(tool_message)"
   ],
   "id": "61f98b3f8846d2cb",
   "outputs": [
    {
     "name": "stdout",
     "output_type": "stream",
     "text": [
      "<class 'langchain_core.messages.tool.ToolMessage'>\n",
      "ToolMessage(content=[{'title': \"As Tesla's sales and profit tumble, investors ask Elon Musk to ditch ...\", 'url': 'https://www.cbsnews.com/news/tesla-earnings-call-today-elon-musk-doge/', 'content': \"Watch CBS News\\n\\nAs Tesla's sales and profit tumble, investors ask Elon Musk to ditch DOGE and return to automaker\\n\\nUpdated on:  April 22, 2025 / 6:35 PM EDT\\n          / CBS News\\n\\nTesla CEO Elon Musk is facing a corporate reckoning on Tuesday, with the electric car maker's first-quarter results showing sales and profit fell short of analyst expectations while the billionaire was focused on leading the Trump administration's cost-cutting efforts. [...] Earlier this month, Tesla said its delivery of vehicles in the first three months of 2025 fell nearly 13% as demand for the automaker's electric cars continued to weaken, with deliveries also falling well short of analysts' expectations. [...] In addition to insights into Musk's role at Tesla, investors will also be listening for updates on several strategic initiatives. The company is expected to roll out a cheaper version of its best-selling vehicle, the Model Y SUV, later in the year. Tesla has also said it plans to start a paid driverless robotaxi service in Austin, Texas, in June.\\n\\nMore from CBS News\", 'score': 0.7154444}, {'title': 'Tesla CEO Musk says time he spends on DOGE will drop in May', 'url': 'https://www.cnbc.com/2025/04/22/tesla-ceo-elon-musk-says-time-he-spends-on-doge-will-drop-significantly-next-month.html', 'content': 'Tesla CEO Musk says time he spends on DOGE will drop \\'significantly\\' next month\\n\\nTesla CEO Elon Musk began his company\\'s earnings call on Tuesday by saying that his time spent running President Donald Trump\\'s so-called Department of Government Efficiency will drop \"significantly\" starting in May. [...] Also in February, the Trump administration said that USAID would shut down as an independent agency and be moved under the State Department.\\n\\nDon’t miss these insights from CNBC PRO\\n\\nWATCH: Musk needs to recommit to Tesla\\n\\nNews Tips\\n\\nGot a confidential news tip? We want to hear from you.\\n\\nCNBC Newsletters\\n\\nSign up for free newsletters and get more CNBC delivered to your inbox\\n\\nGet this delivered to your inbox, and more info about our products and services.\\n\\nAdvertise With Us [...] In addition to challenges the company already faced, such as competition out of China and an aging fleet of electric vehicles, Tesla has recently been hit with protests in the U.S. and Europe and brand damage due to Musk\\'s ties to Trump and his support of Germany\\'s far-right AfD party.', 'score': 0.5855047}], name='tavily_search_results_json', tool_call_id='call_3UzLuq6NwfyaTWXZ5WtAEuKl')\n"
     ]
    }
   ],
   "execution_count": 15
  },
  {
   "metadata": {
    "ExecuteTime": {
     "end_time": "2025-04-26T11:49:01.121442Z",
     "start_time": "2025-04-26T11:49:01.111441Z"
    }
   },
   "cell_type": "code",
   "source": "tool_message.content",
   "id": "a0e15d0f9fa8c035",
   "outputs": [
    {
     "data": {
      "text/plain": [
       "[{'title': \"As Tesla's sales and profit tumble, investors ask Elon Musk to ditch ...\",\n",
       "  'url': 'https://www.cbsnews.com/news/tesla-earnings-call-today-elon-musk-doge/',\n",
       "  'content': \"Watch CBS News\\n\\nAs Tesla's sales and profit tumble, investors ask Elon Musk to ditch DOGE and return to automaker\\n\\nUpdated on:  April 22, 2025 / 6:35 PM EDT\\n          / CBS News\\n\\nTesla CEO Elon Musk is facing a corporate reckoning on Tuesday, with the electric car maker's first-quarter results showing sales and profit fell short of analyst expectations while the billionaire was focused on leading the Trump administration's cost-cutting efforts. [...] Earlier this month, Tesla said its delivery of vehicles in the first three months of 2025 fell nearly 13% as demand for the automaker's electric cars continued to weaken, with deliveries also falling well short of analysts' expectations. [...] In addition to insights into Musk's role at Tesla, investors will also be listening for updates on several strategic initiatives. The company is expected to roll out a cheaper version of its best-selling vehicle, the Model Y SUV, later in the year. Tesla has also said it plans to start a paid driverless robotaxi service in Austin, Texas, in June.\\n\\nMore from CBS News\",\n",
       "  'score': 0.7154444},\n",
       " {'title': 'Tesla CEO Musk says time he spends on DOGE will drop in May',\n",
       "  'url': 'https://www.cnbc.com/2025/04/22/tesla-ceo-elon-musk-says-time-he-spends-on-doge-will-drop-significantly-next-month.html',\n",
       "  'content': 'Tesla CEO Musk says time he spends on DOGE will drop \\'significantly\\' next month\\n\\nTesla CEO Elon Musk began his company\\'s earnings call on Tuesday by saying that his time spent running President Donald Trump\\'s so-called Department of Government Efficiency will drop \"significantly\" starting in May. [...] Also in February, the Trump administration said that USAID would shut down as an independent agency and be moved under the State Department.\\n\\nDon’t miss these insights from CNBC PRO\\n\\nWATCH: Musk needs to recommit to Tesla\\n\\nNews Tips\\n\\nGot a confidential news tip? We want to hear from you.\\n\\nCNBC Newsletters\\n\\nSign up for free newsletters and get more CNBC delivered to your inbox\\n\\nGet this delivered to your inbox, and more info about our products and services.\\n\\nAdvertise With Us [...] In addition to challenges the company already faced, such as competition out of China and an aging fleet of electric vehicles, Tesla has recently been hit with protests in the U.S. and Europe and brand damage due to Musk\\'s ties to Trump and his support of Germany\\'s far-right AfD party.',\n",
       "  'score': 0.5855047}]"
      ]
     },
     "execution_count": 16,
     "metadata": {},
     "output_type": "execute_result"
    }
   ],
   "execution_count": 16
  },
  {
   "metadata": {},
   "cell_type": "raw",
   "source": "### Tool의 결과를 LLM에 전달하여 최종 응답 생성하기",
   "id": "904b8b4baf5c2fd5",
   "outputs": null,
   "execution_count": null
  },
  {
   "metadata": {
    "ExecuteTime": {
     "end_time": "2025-04-26T11:49:08.004059Z",
     "start_time": "2025-04-26T11:49:01.133354Z"
    }
   },
   "cell_type": "code",
   "source": [
    "from datetime import datetime\n",
    "\n",
    "today = datetime.today().strftime(\"%Y-%m-%d\")\n",
    "llm = ChatOpenAI(model=\"gpt-4o-mini\")\n",
    "prompt = f\"\"\"\n",
    "    You are a helpful AI assistant.\n",
    "    Today is {today}\n",
    "    {query}\n",
    "    {tool_message.content}\n",
    "\"\"\"\n",
    "result = llm.invoke(prompt)\n",
    "pprint(result)"
   ],
   "id": "c175ff25c8725c08",
   "outputs": [
    {
     "name": "stdout",
     "output_type": "stream",
     "text": [
      "AIMessage(content='### 테슬라 CEO 엘론 머스크 관련 요약\\n\\n- 테슬라의 1분기 실적이 예상치를 밑돌며 매출과 이익이 감소하자, 투자자들은 머스크가 DOGE(도지코인)에 대한 집중을 줄이고 자동차 제조에 더 집중할 것을 요구하고 있음.\\n- 최근 테슬라는 2025년 1분기 차량 납품량이 약 13% 감소했다고 발표, 전반적인 전기차 수요가 줄어드는 상황에서 납품량도 분석가들의 예상에 크게 미치지 못함.\\n- 머스크는 올해 후반에 자사의 베스트셀러 차량인 모델 Y SUV의 저렴한 버전을 출시할 계획과 6월에 텍사스 오스틴에서 유료 자율 로봇택시 서비스를 시작할 것이라고 언급함.\\n- 머스크는 향후 DOGE 관련 활동에 더 많은 시간을 투자할 계획이었으나, 5월부터는 그 시간이 \"상당히\" 줄어들 것이라고 밝혔음.\\n- 테슬라는 중국의 경쟁과 노후 차량 문제 외에도, 머스크의 트럼프와의 연관으로 인한 브랜드 이미지 손상, 미국 및 유럽에서의 반대 시위 등 여러 도전에 직면해 있음.\\n\\n### 구글 CEO 관련 최근 기사 없음\\n- 최근 한 달간 구글 CEO에 관한 영문 기사는 수집되지 않았습니다.', additional_kwargs={'refusal': None}, response_metadata={'token_usage': {'completion_tokens': 314, 'prompt_tokens': 671, 'total_tokens': 985, 'completion_tokens_details': {'accepted_prediction_tokens': 0, 'audio_tokens': 0, 'reasoning_tokens': 0, 'rejected_prediction_tokens': 0}, 'prompt_tokens_details': {'audio_tokens': 0, 'cached_tokens': 0}}, 'model_name': 'gpt-4o-mini-2024-07-18', 'system_fingerprint': 'fp_129a36352a', 'id': 'chatcmpl-BQYJhk6jUk5DzI64IBHzxgemcVYSJ', 'finish_reason': 'stop', 'logprobs': None}, id='run-eef0f68b-337d-4c09-9f73-46b6ccf011f1-0', usage_metadata={'input_tokens': 671, 'output_tokens': 314, 'total_tokens': 985, 'input_token_details': {'audio': 0, 'cache_read': 0}, 'output_token_details': {'audio': 0, 'reasoning': 0}})\n"
     ]
    }
   ],
   "execution_count": 17
  },
  {
   "metadata": {},
   "cell_type": "raw",
   "source": [
    "## 전체과정 정리 하기\n",
    "- LLM 체인 정의\n",
    "- LLM 체인에 ToolMessage 전달"
   ],
   "id": "27f6dc37dba0fdf"
  },
  {
   "metadata": {
    "ExecuteTime": {
     "end_time": "2025-04-26T11:49:08.391302Z",
     "start_time": "2025-04-26T11:49:08.013385Z"
    }
   },
   "cell_type": "code",
   "source": [
    "# LLM 체인 정의\n",
    "\n",
    "# 오늘 날짜 설정\n",
    "today = datetime.today().strftime(\"%Y-%m-%d\")\n",
    "\n",
    "# 프롬프트 템플릿\n",
    "prompt = ChatPromptTemplate([\n",
    "    (\"system\", f\"You are a helpful AI assistant\"),\n",
    "    (\"system\", f\"Today is {today}\"),\n",
    "    (\"human\", \"{user_input}\"),\n",
    "    (\"placeholder\", \"{messages}\")\n",
    "])\n",
    "\n",
    "# llm 정의\n",
    "llm = ChatOpenAI(model=\"gpt-4o-mini\")\n",
    "\n",
    "# 도구 바인딩\n",
    "llm_with_tools = llm.bind_tools(tools=[tavily_search])\n",
    "\n",
    "# LLM체인 생성\n",
    "llm_chain = prompt | llm_with_tools\n"
   ],
   "id": "5564bbade01240c7",
   "outputs": [],
   "execution_count": 18
  },
  {
   "metadata": {
    "ExecuteTime": {
     "end_time": "2025-04-26T11:49:20.220011Z",
     "start_time": "2025-04-26T11:49:08.398642Z"
    }
   },
   "cell_type": "code",
   "source": [
    "# LLM 체인에 ToolMessage 전달\n",
    "from langchain_core.runnables import chain\n",
    "\n",
    "@chain\n",
    "def web_search_chain(user_input: str, config: RunnableConfig):\n",
    "    input = {\"user_input\": user_input}\n",
    "    ai_msg = llm_chain.invoke(input, config=config)\n",
    "    tool_msgs = tavily_search.batch(ai_msg.tool_calls, config=config)\n",
    "    return llm_chain.invoke(\n",
    "        {**input, \"messages\": [ai_msg, *tool_msgs]},\n",
    "        config=config\n",
    "    )\n",
    "\n",
    "web_search_chain.invoke(query)"
   ],
   "id": "107ce509b68e5077",
   "outputs": [
    {
     "data": {
      "text/plain": [
       "AIMessage(content=\"### 테슬라 CEO 일론 머스크 관련 최근 기사 요약\\n- **DOGE 관련 발언**: 머스크는 2025년 5월부터 자신의 DOGE 관련 시간 투자가 '상당히 줄어들 것'이라고 발표했다. 이는 회사의 실적 발표 전 전화 회의에서 이뤄졌다. ([자세히 보기](https://www.cnbc.com/2025/04/22/tesla-ceo-elon-musk-says-time-he-spends-on-doge-will-drop-significantly-next-month.html))\\n- **경쟁과 도전**: 테슬라는 중국의 경쟁과 노후화된 전기차 문제 외에도 미국과 유럽에서의 시위와 머스크의 정치적 연관으로 인한 브랜드 이미지 손상이란 도전에 직면해 있다.\\n\\n### 구글 CEO 순다르 피차이 관련 최근 기사 요약\\n- **2025년 1분기 실적 발표**: 구글과 알파벳의 CEO 피차이는 1분기 실적 발표에서 검색, 클라우드, 유튜브 부문에서의 성장을 강조하며, AI 기술이 새로운 기능을 강화하는 데 중요한 역할을 하고 있다고 설명했다. ([자세히 보기](https://blog.google/inside-google/message-ceo/alphabet-earnings-q1-2025/))\\n- **구독 서비스 성장**: 유튜브와 구글 원의 도움이 컸으며, 270백만 개 이상의 유료 구독을 기록했다고 언급했다.\\n- **2025년에 대한 경고**: 피차이는 직원들에게 2025년은 경쟁과 규제의 증가로 인해 '위험이 크다'고 경고했다.\", additional_kwargs={'refusal': None}, response_metadata={'token_usage': {'completion_tokens': 369, 'prompt_tokens': 1189, 'total_tokens': 1558, 'completion_tokens_details': {'accepted_prediction_tokens': 0, 'audio_tokens': 0, 'reasoning_tokens': 0, 'rejected_prediction_tokens': 0}, 'prompt_tokens_details': {'audio_tokens': 0, 'cached_tokens': 0}}, 'model_name': 'gpt-4o-mini-2024-07-18', 'system_fingerprint': 'fp_64e0ac9789', 'id': 'chatcmpl-BQYJtHFpBHnv1dRO1KCVVhEJrdzI5', 'finish_reason': 'stop', 'logprobs': None}, id='run-0277c26b-1e2d-4d1a-baf4-aa585dec3b85-0', usage_metadata={'input_tokens': 1189, 'output_tokens': 369, 'total_tokens': 1558, 'input_token_details': {'audio': 0, 'cache_read': 0}, 'output_token_details': {'audio': 0, 'reasoning': 0}})"
      ]
     },
     "execution_count": 19,
     "metadata": {},
     "output_type": "execute_result"
    }
   ],
   "execution_count": 19
  },
  {
   "metadata": {},
   "cell_type": "raw",
   "source": [
    "## 사용자 정의 도구(Tool)\n",
    "- @tool 데코레이터 사용"
   ],
   "id": "f09da862917359b6"
  },
  {
   "metadata": {
    "ExecuteTime": {
     "end_time": "2025-04-26T11:49:20.530101Z",
     "start_time": "2025-04-26T11:49:20.305345Z"
    }
   },
   "cell_type": "code",
   "source": [
    "from typing import Dict, List\n",
    "import requests\n",
    "from langchain_core.tools import tool\n",
    "\n",
    "@tool\n",
    "def blog_search(query: str) -> List[Dict]:\n",
    "    \"\"\"네이버 블로그 API에 검색 요청을 보냅니다.\"\"\"\n",
    "    url = \"https://openapi.naver.com/v1/search/blog.json\"\n",
    "    headers = {\n",
    "        \"X-Naver-Client-Id\": os.environ[\"NAVER_CLIENT_ID\"],\n",
    "        \"X-Naver-Client-Secret\": os.environ[\"NAVER_CLIENT_SECRET\"]\n",
    "    }\n",
    "    params = {\"query\": query, \"display\": 10, \"start\": 1}\n",
    "    response = requests.get(url, headers=headers, params=params)\n",
    "\n",
    "    if response.status_code == 200:\n",
    "        return response.json()['items']\n",
    "    else:\n",
    "        return []\n",
    "\n",
    "wine_query = \"블로그에 나와있는 스테이크와 어울리는 와인과 기분 좋은 노래를 추천해주세요.\"\n",
    "search_results = blog_search.invoke(wine_query)\n",
    "search_results"
   ],
   "id": "e2a8dcf2e34964c0",
   "outputs": [
    {
     "data": {
      "text/plain": [
       "[{'title': '이탈리아 피렌체 맛집 <b>추천</b> 티본<b>스테이크</b> 토스카나 와인 육회',\n",
       "  'link': 'https://blog.naver.com/lsh5755/223847077153',\n",
       "  'description': \"피렌체 인근 토스카나 지방은 질 <b>좋은</b> <b>와인</b>을 생산하기로 유명하다. <b>와인</b> 애호가들의 성지기도 한다.... 그냥 'T본 <b>스테이크</b>'라고 부르고, 그들도 알아듣는다. T자 뼈가 포함되어 <b>있는</b> 안심과 등심 부위를... \",\n",
       "  'bloggername': '천사는 여행중',\n",
       "  'bloggerlink': 'blog.naver.com/lsh5755',\n",
       "  'postdate': '20250426'},\n",
       " {'title': '<b>스테이크와</b> 잘 <b>어울리는</b> 3만원대 이마트 레드 <b>와인</b> <b>추천</b>',\n",
       "  'link': 'https://blog.naver.com/dolmory9/223556006280',\n",
       "  'description': '상태 <b>좋은</b> 코르크 : 산 페드로 시데랄 2021 ▲ <b>와인</b> 색상 : 산 페드로 시데랄 2021 (마트 토마스 글래스) &lt;음식 페어링&gt; 메인 육류 요리 또는 버섯과 잘 <b>어울리는</b> 레드 <b>와인</b>입니다. 등심 <b>스테이크와</b> 함께... ',\n",
       "  'bloggername': '와인과 커피 엔지니어',\n",
       "  'bloggerlink': 'blog.naver.com/dolmory9',\n",
       "  'postdate': '20240821'},\n",
       " {'title': '여수 <b>와인</b>바 학동 맛집 :: <b>스테이크</b> 파스타 다이닝 바 와캡... ',\n",
       "  'link': 'https://blog.naver.com/jhjoo20/223787083553',\n",
       "  'description': '화이트 <b>와인</b>을 고를 때 직원분이 페어링하기 <b>좋은</b> 사이드로 <b>추천 해</b>주셨어요. 근데 결과는 대성공! 푸아그라를 무스로 만들었다는게 넘 신기! 약간 느끼할수도 <b>있는</b> 푸아그라를 캐러맬라이즈드 양파로... ',\n",
       "  'bloggername': '아시아 요즘곳들 탐험일기',\n",
       "  'bloggerlink': 'blog.naver.com/jhjoo20',\n",
       "  'postdate': '20250307'},\n",
       " {'title': '용산<b>와인</b>바 용산 데이트 <b>추천</b> 엠버앰버 특별한 날 봄 <b>기분</b> 내고... ',\n",
       "  'link': 'https://blog.naver.com/f500c/223843738920',\n",
       "  'description': '보여주고 <b>있는</b> 향긋한 봄 <b>기분</b>을 내고 싶을 때 정말 방문하기 <b>좋은</b> 곳입니다. 용산역 &amp; 신용산역 도보... 봄데이트하기<b>좋은</b>곳 #신용산역<b>추천</b>레스토랑 #용산역<b>추천</b>레스토랑 #용리단길맛집 #용산역<b>추천</b><b>와인</b>',\n",
       "  'bloggername': 'You are very much on time',\n",
       "  'bloggerlink': 'blog.naver.com/f500c',\n",
       "  'postdate': '20250423'},\n",
       " {'title': '<b>스테이크</b>가 유명한 광화문 라스위스에서 나들이 후 <b>와인</b> 한잔',\n",
       "  'link': 'https://blog.naver.com/tericas/223835879124',\n",
       "  'description': '보다 <b>좋은</b> 서비스로 식사를 하실 수 있을 것 같아요. 서촌 맛집은 생활의 달인에도 나오고 맛<b>있는</b>... 이렇게 오늘은 광화문 파스타와 <b>스테이크</b>를 먹으면서 서촌 <b>와인</b>까지 즐겨볼 수 <b>있는</b> 시간을 보내봤었는데요.... ',\n",
       "  'bloggername': '차돌',\n",
       "  'bloggerlink': 'blog.naver.com/tericas',\n",
       "  'postdate': '20250416'},\n",
       " {'title': '레 부르주아 : <b>와인</b> 페어링 조합 완벽한 신사 가로수길 맛집 <b>추천</b>',\n",
       "  'link': 'https://blog.naver.com/shaoren/223843117395',\n",
       "  'description': '사실 <b>와인</b> 한 병을 선택해도 좋겠지만 내가 먹을 메뉴가 레드가 잘 <b>어울리는</b> 게 있고 화이트<b>와인</b>이 더... 아 그리고 이 브라운 색상 메뉴에는 강남 <b>와인</b>바 레 브루주아에 <b>있는</b> 전체 <b>와인</b> 리스트가 <b>나와</b>있다.... ',\n",
       "  'bloggername': '하루하루',\n",
       "  'bloggerlink': 'blog.naver.com/shaoren',\n",
       "  'postdate': '20250422'},\n",
       " {'title': '피렌체 맛집 <b>추천</b>: 라 스파다 오스테리아, 티본<b>스테이크</b>... ',\n",
       "  'link': 'https://blog.naver.com/nhy0520/223834828696',\n",
       "  'description': '<b>나와</b>서 익은 고기를 선호하시는 분들은 미리 요청하셔야 할 거예요. 하지만 이곳보다 더 맛<b>있는</b> 곳이... 걸 <b>추천해</b>요. 레어/ 미디엄 선호도 미리 알려<b>주세요</b>. ▶근처 맛집 : <b>스테이크</b> 이외에도 피렌체는 파파... ',\n",
       "  'bloggername': '래교',\n",
       "  'bloggerlink': 'blog.naver.com/nhy0520',\n",
       "  'postdate': '20250416'},\n",
       " {'title': '스미스앤월렌스키 (<b>스테이크와 어울리는</b> <b>추천</b><b>와인</b>, 서울... ',\n",
       "  'link': 'https://blog.naver.com/neotaboo/223758018557',\n",
       "  'description': '계셔서 <b>와인</b> 곁들이기도 너무 <b>좋은</b> 곳이었다. 스타터부터 디저트까지 샴페인 한 병이면 모두 만능으로 페어링이 가능하니, 특별한 날 샴페인 한 병에 맛<b>있는 스테이크</b> 곁들여보시는 걸 <b>추천</b>드리고 싶음!... ',\n",
       "  'bloggername': '입 짧은 콩나물',\n",
       "  'bloggerlink': 'blog.naver.com/neotaboo',\n",
       "  'postdate': '20250212'},\n",
       " {'title': '[3만원대 레드<b>와인</b><b>추천</b>] 부채살 <b>스테이크와 어울리는</b> 마츠 엘... ',\n",
       "  'link': 'https://blog.naver.com/wine0105/223842383386',\n",
       "  'description': 'SNS나 <b>블로그에</b> 올리기 <b>좋은</b> 비주얼. 감성 마케팅에 탁월해요. 마시는 즐거움: 입문자도 부담 없이 마실 수 있으면서도 <b>와인</b> 애호가도 만족할 수 <b>있는</b> 깊은 풍미. 가성비 최고: 3만 원대 가격으로 이 정도... ',\n",
       "  'bloggername': 'Terroir&Trails',\n",
       "  'bloggerlink': 'blog.naver.com/wine0105',\n",
       "  'postdate': '20250422'},\n",
       " {'title': '위례맛집 위례파스타 와 <b>스테이크</b> 오붓식당 <b>추천</b>',\n",
       "  'link': 'https://blog.naver.com/zhorjfqkdsh/223831851719',\n",
       "  'description': '맛도 <b>있는</b> 오붓식당 <b>좋은 노래</b>가 나오는 마샬스피커와 다양한 그림작품들도 알록달록해서 입맛을... 친절하셔서 <b>기분</b>좋게 주말을 마무리했다~! #위례맛집 #위례파스타 #위례<b>스테이크</b> #살치살<b>스테이크</b> #푸르지오... ',\n",
       "  'bloggername': '반짝반짝',\n",
       "  'bloggerlink': 'blog.naver.com/zhorjfqkdsh',\n",
       "  'postdate': '20250413'}]"
      ]
     },
     "execution_count": 20,
     "metadata": {},
     "output_type": "execute_result"
    }
   ],
   "execution_count": 20
  },
  {
   "metadata": {
    "ExecuteTime": {
     "end_time": "2025-04-26T11:49:20.924629Z",
     "start_time": "2025-04-26T11:49:20.552265Z"
    }
   },
   "cell_type": "code",
   "source": [
    "# LLM binding\n",
    "llm = ChatOpenAI(model=\"gpt-4o-mini\")\n",
    "llm_with_blog = llm.bind_tools(tools=[tavily_search, blog_search])"
   ],
   "id": "1d3f96e8bf246b9f",
   "outputs": [],
   "execution_count": 21
  },
  {
   "metadata": {
    "ExecuteTime": {
     "end_time": "2025-04-26T11:49:22.796548Z",
     "start_time": "2025-04-26T11:49:20.931127Z"
    }
   },
   "cell_type": "code",
   "source": [
    "# LLM 실행하여 툴 추천 받기\n",
    "ai_msg = llm_with_blog.invoke(wine_query)\n",
    "ai_msg"
   ],
   "id": "3b761e4554704184",
   "outputs": [
    {
     "data": {
      "text/plain": [
       "AIMessage(content='', additional_kwargs={'tool_calls': [{'id': 'call_KlV2KNts3NZmhIfoW48Wch0o', 'function': {'arguments': '{\"query\": \"스테이크와 어울리는 와인\"}', 'name': 'blog_search'}, 'type': 'function'}, {'id': 'call_SpT8c85QxCUK6l6AzCF0Qcwc', 'function': {'arguments': '{\"query\": \"스테이크와 기분 좋은 노래\"}', 'name': 'blog_search'}, 'type': 'function'}], 'refusal': None}, response_metadata={'token_usage': {'completion_tokens': 61, 'prompt_tokens': 131, 'total_tokens': 192, 'completion_tokens_details': {'accepted_prediction_tokens': 0, 'audio_tokens': 0, 'reasoning_tokens': 0, 'rejected_prediction_tokens': 0}, 'prompt_tokens_details': {'audio_tokens': 0, 'cached_tokens': 0}}, 'model_name': 'gpt-4o-mini-2024-07-18', 'system_fingerprint': 'fp_dbaca60df0', 'id': 'chatcmpl-BQYK1z6KCPqWoOjg2PkxLKCi9RsfP', 'finish_reason': 'tool_calls', 'logprobs': None}, id='run-539df725-ec42-4d5c-9fe7-2444f554932f-0', tool_calls=[{'name': 'blog_search', 'args': {'query': '스테이크와 어울리는 와인'}, 'id': 'call_KlV2KNts3NZmhIfoW48Wch0o', 'type': 'tool_call'}, {'name': 'blog_search', 'args': {'query': '스테이크와 기분 좋은 노래'}, 'id': 'call_SpT8c85QxCUK6l6AzCF0Qcwc', 'type': 'tool_call'}], usage_metadata={'input_tokens': 131, 'output_tokens': 61, 'total_tokens': 192, 'input_token_details': {'audio': 0, 'cache_read': 0}, 'output_token_details': {'audio': 0, 'reasoning': 0}})"
      ]
     },
     "execution_count": 22,
     "metadata": {},
     "output_type": "execute_result"
    }
   ],
   "execution_count": 22
  },
  {
   "metadata": {
    "ExecuteTime": {
     "end_time": "2025-04-26T11:49:22.809713Z",
     "start_time": "2025-04-26T11:49:22.805070Z"
    }
   },
   "cell_type": "code",
   "source": "ai_msg.tool_calls",
   "id": "d87aac358c2814ff",
   "outputs": [
    {
     "data": {
      "text/plain": [
       "[{'name': 'blog_search',\n",
       "  'args': {'query': '스테이크와 어울리는 와인'},\n",
       "  'id': 'call_KlV2KNts3NZmhIfoW48Wch0o',\n",
       "  'type': 'tool_call'},\n",
       " {'name': 'blog_search',\n",
       "  'args': {'query': '스테이크와 기분 좋은 노래'},\n",
       "  'id': 'call_SpT8c85QxCUK6l6AzCF0Qcwc',\n",
       "  'type': 'tool_call'}]"
      ]
     },
     "execution_count": 23,
     "metadata": {},
     "output_type": "execute_result"
    }
   ],
   "execution_count": 23
  },
  {
   "metadata": {
    "ExecuteTime": {
     "end_time": "2025-04-26T11:49:23.017112Z",
     "start_time": "2025-04-26T11:49:22.818562Z"
    }
   },
   "cell_type": "code",
   "source": [
    "# blog tool 실행\n",
    "blog_search.batch(ai_msg.tool_calls)"
   ],
   "id": "f8eb65abf2829414",
   "outputs": [
    {
     "data": {
      "text/plain": [
       "[ToolMessage(content='[{\"title\": \"스미스앤월렌스키 (<b>스테이크와 어울리는</b> 추천<b>와인</b>, 서울... \", \"link\": \"https://blog.naver.com/neotaboo/223758018557\", \"description\": \"해주셔서 <b>와인</b>과 함께 <b>스테이크</b> 먹기 너무 좋은 매장이었다. 식전빵이 나왔다. 로즈메리를 가득 뿌려... 잘 <b>어울리는</b> 수프였다. 꾸덕한 식감도 좋고, 풍부한 크림맛도 좋고. 입 짧은 나도 처음으로 접시 전체를... \", \"bloggername\": \"입 짧은 콩나물\", \"bloggerlink\": \"blog.naver.com/neotaboo\", \"postdate\": \"20250212\"}, {\"title\": \"<b>스테이크와 어울리는 와인</b> 추천과 종류\", \"link\": \"https://blog.naver.com/oipicle31/223708302326\", \"description\": \"Information <b>스테이크</b> <b>어울리는 와인</b> 추천 <b>스테이크와</b> <b>와인</b>, 이 둘의 조합은 마치 해변의 파도와 모래처럼 완벽하게 <b>어울리는</b> 궁합이라고 할 수 있죠. 오늘은 여러분의 저녁 식사를 더욱 특별하게 만들어줄... \", \"bloggername\": \"별난하루\", \"bloggerlink\": \"blog.naver.com/oipicle31\", \"postdate\": \"20241229\"}, {\"title\": \"경주 황리단길 파스타 벚꽃과 정말 잘 <b>어울리는</b> <b>스테이크</b> <b>와인</b>... \", \"link\": \"https://blog.naver.com/ljy213/223809691723\", \"description\": \"경주 황리단길 파스타 맛집 또봄은 이탈리아 음식점으로써 파스타와 <b>스테이크</b> 리조또 등의 메뉴가 주가 있었고, 다양한 <b>와인</b>이 있어서 그런지 메뉴판의 상당부분이 <b>와인</b>으로 가득 있었습니다. <b>와인</b>과 함께... \", \"bloggername\": \"TRAVEL MOVE\", \"bloggerlink\": \"blog.naver.com/ljy213\", \"postdate\": \"20250325\"}, {\"title\": \"[마곡 <b>와인</b> / 마곡 파스타] 마곡 <b>스테이크와</b> <b>와인</b>이 <b>어울리는</b>... \", \"link\": \"https://blog.naver.com/candytop100/223163377277\", \"description\": \"<b>와인</b>은 추천을 받아 레드 <b>와인</b> 중 너무 달지는 않은데, <b>스테이크와</b> 잘 <b>어울리는 와인</b>으로 추천을 받았어용~!! ALADA 라는 <b>와인</b>을 준비해주셨어용~ 기본 안주로 크래커도 같이 곁들여 준비해주셨어용!! 사장님께서... \", \"bloggername\": \"Interesting things\", \"bloggerlink\": \"blog.naver.com/candytop100\", \"postdate\": \"20230722\"}, {\"title\": \"<b>스테이크와 어울리는 와인</b>을 찾는다면, 카니버 와인!\", \"link\": \"https://blog.naver.com/rozi__/223190778787\", \"description\": \"어느덧 9월이 가까워진 요즘, <b>스테이크와 어울리는 와인</b> 소개 가지고 왔습니다. Meat was made for Carnivor... 잘 어울리는 느낌이었어요! Carnivor Cabernet Sauvignon 스테이크나 육류 요리를 좋아하신다면, 카니버 와인과... \", \"bloggername\": \"rozi부부 하루일과\", \"bloggerlink\": \"blog.naver.com/rozi__\", \"postdate\": \"20230822\"}, {\"title\": \"내방역 블루리본 맛집 발사믹 <b>스테이크와 어울리는</b> 딸기 <b>와인</b>... \", \"link\": \"https://blog.naver.com/cktoa7/223295947189\", \"description\": \"마굿간 <b>와인</b> 리스트 오더 리스트 안심 발사믹 <b>스테이크</b> 56,000 단새우 비스크 트레네테 26,000 딸기 WINE GLASS 12,000 제로콜라 5,000 생수도 예쁜잔에 주심 식전빵이 두가지가 나옴 따뜻하게 오븐에 돌려서 주셨다... \", \"bloggername\": \"차차라트\", \"bloggerlink\": \"blog.naver.com/cktoa7\", \"postdate\": \"20231218\"}, {\"title\": \"<b>스테이크와</b> 잘 <b>어울리는</b> 3만원대 이마트 레드 <b>와인</b>... \", \"link\": \"https://blog.naver.com/dolmory9/223556006280\", \"description\": \"잘 <b>어울리는</b> 레드 <b>와인</b>입니다. 등심 <b>스테이크와</b> 함께 즐겼습니다. 간장 소스에 쫄인 표고 버섯과도 잘 어울렸습니다. 스파이스와 허브 향이 좋아서 갈비찜과 같은 한식 육류 요리와도 잘 어울립니다.... \", \"bloggername\": \"와인과 커피 엔지니어\", \"bloggerlink\": \"blog.naver.com/dolmory9\", \"postdate\": \"20240821\"}, {\"title\": \"[3만원대 레드<b>와인</b>추천] 부채살 <b>스테이크와 어울리는</b> 마츠 엘... \", \"link\": \"https://blog.naver.com/wine0105/223842383386\", \"description\": \"잘 <b>어울리는</b> 편이에요. 특히 마츠 엘 레시오에 사용된 티나 데 토로는 템프라니요의 클론 품종으로, 더... 전체적으로 <b>와인</b>의 풍미가 훨씬 조화로워졌어요.  <b>스테이크와</b> 찰떡궁합! 이 날은 <b>스테이크</b>랑 함께... \", \"bloggername\": \"Terroir&Trails\", \"bloggerlink\": \"blog.naver.com/wine0105\", \"postdate\": \"20250422\"}, {\"title\": \"한우 <b>스테이크와</b> <b>와인</b>의 마리아주가 잘 <b>어울리는</b> 곳\", \"link\": \"https://blog.naver.com/cgeydc/223635848918\", \"description\": \"한우 <b>스테이크</b>가 맛있고, 좋은 사람, 좋은 친구들과 편안한 분위기 속에서 식사 할 수 있는 곳이라... 잘 <b>어울리는</b> 첫번째 마리아 주 -- 뉴질랜드 산 쇼비뇽블랑 화이트 <b>와인</b>입니다 영화 \\'섹스 인더 시티\\'에서... \", \"bloggername\": \"데니얼의 맛있는 세상이야기\", \"bloggerlink\": \"blog.naver.com/cgeydc\", \"postdate\": \"20241030\"}, {\"title\": \"<b>스테이크와</b> 잘 <b>어울리는 와인</b> 선택법\", \"link\": \"https://blog.naver.com/nadhh/223695708844\", \"description\": \"<b>스테이크와</b> 잘 <b>어울리는 와인</b> 선택법 <b>스테이크</b>는 많은 이들이 사랑하는 고급 요리 중 하나입니다. 그 풍부한 맛과 식감은 특별한 순간을 더욱 특별하게 만들어 주죠. 하지만 <b>스테이크</b>의 맛을 극대화하기... \", \"bloggername\": \"새벽의 빛\", \"bloggerlink\": \"blog.naver.com/nadhh\", \"postdate\": \"20241216\"}]', name='blog_search', tool_call_id='call_KlV2KNts3NZmhIfoW48Wch0o'),\n",
       " ToolMessage(content='[{\"title\": \"위례맛집 위례파스타 와 <b>스테이크</b> 오붓식당 추천\", \"link\": \"https://blog.naver.com/zhorjfqkdsh/223831851719\", \"description\": \"오붓식당 <b>좋은 노래</b>가 나오는 마샬스피커와 다양한 그림작품들도 알록달록해서 입맛을 돋구는 느낌... 친절하셔서 <b>기분</b>좋게 주말을 마무리했다~! #위례맛집 #위례파스타 #위례<b>스테이크</b> #살치살<b>스테이크</b>... \", \"bloggername\": \"반짝반짝\", \"bloggerlink\": \"blog.naver.com/zhorjfqkdsh\", \"postdate\": \"20250413\"}, {\"title\": \"전포술집 분위기 <b>좋은 노래</b>맛집 로망\", \"link\": \"https://blog.naver.com/xcl_nr/223766911750\", \"description\": \"전포술집 분위기 <b>좋은 노래</b>맛집 로망 맛있는 안주에 가볍게 술 한잔 하고 싶어서 전포술집 로망에... 나베, <b>스테이크</b> 등 맛있어 보이는 메뉴가 가득했고 식사겸 가볍게 먹기 <b>좋은</b> 사이드 메뉴도 있다 사이드만... \", \"bloggername\": \"HAPPY DAY\", \"bloggerlink\": \"blog.naver.com/xcl_nr\", \"postdate\": \"20250220\"}, {\"title\": \"Love On 가사해석 최신팝송 봄<b>노래</b>추천 봄에듣기<b>좋은노래</b>\", \"link\": \"https://blog.naver.com/shinygirl822/223375403922\", \"description\": \"행복한 <b>기분</b> 가득한 이번 <b>노래</b> 넘 좋아 이뿐 사랑하는 모습도 넘 보기 좋구...! 앞으로도 계속 더욱 <b>좋은 노래</b> 많이 들려주고 건강하고 행복한 울 설리나 되길!!! https... \", \"bloggername\": \"아쿠아영어학원\", \"bloggerlink\": \"blog.naver.com/shinygirl822\", \"postdate\": \"20240306\"}, {\"title\": \"천안 불당동 마로네 MARRONE 레스토랑 파스타 <b>스테이크</b> 뇨끼... \", \"link\": \"https://blog.naver.com/hi_yeeooon/223817366146\", \"description\": \"들어가니 <b>기분</b>이 좋아지더라고요 식사 기다리는 동안에도 마로네 MARRONE 안에 은은하게 <b>좋은 노래</b>가... 먹기도 <b>좋은</b> 메뉴인 것 같아요 오늘은 천안 불당동 <b>스테이크</b>, 파스타, 뇨끼 맛집 마로네 소개해... \", \"bloggername\": \"Hi, Yeon 여행 • 맛집 기록장\", \"bloggerlink\": \"blog.naver.com/hi_yeeooon\", \"postdate\": \"20250401\"}, {\"title\": \"[연남동맛집] 베리베스트<b>스테이크</b> : <b>기분좋은</b> 식사:-)\", \"link\": \"https://blog.naver.com/zzirrrr/220946533318\", \"description\": \"[연남동맛집] 베리베스트<b>스테이크</b> : <b>기분좋은</b> 식사:-) 서울 마포구 성미산로 198 02-335-7567 매일 11:30~21:30... 이쁘고 <b>노래</b>도 <b>좋은노래</b>만 나오고 분위기가 좋아서 데이트하러오기에 넘나 좋을것 같았어요. 물론... \", \"bloggername\": \"moon flow\", \"bloggerlink\": \"blog.naver.com/zzirrrr\", \"postdate\": \"20170228\"}, {\"title\": \"구운 야채를 곁들인~목살 <b>스테이크</b> 만들기\", \"link\": \"https://blog.naver.com/yeonat62/223284424364\", \"description\": \"^^ 구운 야채들은 싹~~다아 비웠고, <b>스테이크</b>는~~ 한조각만 끝냈습니다~ㅎ <b>좋은 노래</b>를 곁들였으니... 올 여름 방학 내내... 이 <b>노래</b> 한곡만으로도 행복한 시간을 약속받은것 같아 <b>기분</b>좋아지는 하루입니다.\", \"bloggername\": \"연 이야기\", \"bloggerlink\": \"blog.naver.com/yeonat62\", \"postdate\": \"20231206\"}, {\"title\": \"흔하지 않지만 이성에게 고백할때 부르면 <b>좋은 노래</b> 추천_남자편\", \"link\": \"https://blog.naver.com/mrpizzalove/220281857045\", \"description\": \"[미피 다이어리] 흔하지 않지만 이성에게 고백할때 부르면 <b>좋은 노래</b> 추천_남자편 꺄르르~ 이제 곧... 그래서 미피가 상상만 해도 <b>기분 좋은</b> 행복한 봄날을 위해 흔하지 않은 <b>노래</b>를 추천해드릴게요~ gogo 여심... \", \"bloggername\": \"미스터피자 공식블로그\", \"bloggerlink\": \"blog.naver.com/mrpizzalove\", \"postdate\": \"20150225\"}, {\"title\": \"발리 우붓 <b>스테이크</b> 맛집 바투바라 신혼여행 필수코스!\", \"link\": \"https://blog.naver.com/w_a_it/223415176031\", \"description\": \"질 <b>좋은</b> 소고기를 저렴하게 먹을 수 있다고 해서 발리에서 두 곳의 <b>스테이크</b> 전문점을 들렀었는데... 테이블마다 예쁜 생화가 꽂혀져 있었고 일렁일렁하는 촛불 보면서 <b>좋은 노래</b> 들으면서 와인 한 잔 하며... \", \"bloggername\": \"❤️요이로그❤️\", \"bloggerlink\": \"blog.naver.com/w_a_it\", \"postdate\": \"20240414\"}, {\"title\": \"[삼청동 산책] <b>스테이크</b>가 맛있는 양식집 | 백미당 아이스크림... \", \"link\": \"https://blog.naver.com/surin524/223158046937\", \"description\": \"크림 리조또 살치살 토마토 파스타 요 식당에서 판매하는 <b>스테이크</b>류 내 취향이다. 오렌지 에이드 내... 멋쟁이 정국이 화내지마세요. 요 장면 귀여워서 기절 간만에 너무 너무 <b>좋은 노래</b> 한동안 요 <b>노래</b>만 들어야지\", \"bloggername\": \"수린스럽게 미주알고주알\", \"bloggerlink\": \"blog.naver.com/surin524\", \"postdate\": \"20230717\"}, {\"title\": \"동탄호수공원맛집 잭인뉴욕 <b>스테이크</b>하우스에서 먹고 왔어요\", \"link\": \"https://blog.naver.com/yunmisense/223149409200\", \"description\": \"<b>좋은 노래</b>도 나와서 <b>기분</b>까지 UP되는 순간 ! 친정엄마랑 데이트 엄청 즐겼네요 크크 ! 메뉴판입니다 ! ! ! ㅎㅎ 너무 다양한 <b>스테이크</b> 종류가 판매되고 있어서 뭘먹을까 진짜 고민이 되더라고요 ㅠ_ㅠ 저희는... \", \"bloggername\": \"윰미의 신나는 일상 ♪\", \"bloggerlink\": \"blog.naver.com/yunmisense\", \"postdate\": \"20230710\"}]', name='blog_search', tool_call_id='call_SpT8c85QxCUK6l6AzCF0Qcwc')]"
      ]
     },
     "execution_count": 24,
     "metadata": {},
     "output_type": "execute_result"
    }
   ],
   "execution_count": 24
  },
  {
   "metadata": {
    "ExecuteTime": {
     "end_time": "2025-04-26T11:49:23.028409Z",
     "start_time": "2025-04-26T11:49:23.025511Z"
    }
   },
   "cell_type": "code",
   "source": "",
   "id": "5857d99a5721855b",
   "outputs": [],
   "execution_count": null
  },
  {
   "metadata": {
    "ExecuteTime": {
     "end_time": "2025-04-26T11:49:23.039031Z",
     "start_time": "2025-04-26T11:49:23.036589Z"
    }
   },
   "cell_type": "code",
   "source": "",
   "id": "5eb8c1f1a451bf2d",
   "outputs": [],
   "execution_count": null
  },
  {
   "metadata": {
    "ExecuteTime": {
     "end_time": "2025-04-26T11:49:23.049543Z",
     "start_time": "2025-04-26T11:49:23.046542Z"
    }
   },
   "cell_type": "code",
   "source": "",
   "id": "f5b1ff74d7f70b13",
   "outputs": [],
   "execution_count": null
  }
 ],
 "metadata": {
  "kernelspec": {
   "display_name": "Python 3",
   "language": "python",
   "name": "python3"
  },
  "language_info": {
   "codemirror_mode": {
    "name": "ipython",
    "version": 2
   },
   "file_extension": ".py",
   "mimetype": "text/x-python",
   "name": "python",
   "nbconvert_exporter": "python",
   "pygments_lexer": "ipython2",
   "version": "2.7.6"
  }
 },
 "nbformat": 4,
 "nbformat_minor": 5
}
