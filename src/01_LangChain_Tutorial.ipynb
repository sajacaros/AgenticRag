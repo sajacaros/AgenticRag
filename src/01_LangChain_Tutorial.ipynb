{
 "cells": [
  {
   "metadata": {},
   "cell_type": "markdown",
   "source": [
    "# LangChain\n",
    "## ToolCalling\n",
    "- LLM이 외부 기능이나 데이터에 접근할 수 있게 해주는 매커니즘\n",
    "![](images/tool_call.png)"
   ],
   "id": "438b9c172910bdb2"
  },
  {
   "metadata": {
    "ExecuteTime": {
     "end_time": "2025-05-10T11:25:11.252138Z",
     "start_time": "2025-05-10T11:25:10.385383Z"
    }
   },
   "cell_type": "code",
   "source": [
    "import re\n",
    "import os, json\n",
    "import warnings\n",
    "from datetime import datetime\n",
    "from pprint import pprint\n",
    "from textwrap import dedent\n",
    "from dotenv import load_dotenv\n",
    "from langchain_community.document_loaders import WikipediaLoader\n",
    "from langchain_core.messages import ToolMessage\n",
    "from langchain_core.output_parsers import StrOutputParser\n",
    "from langchain_core.prompts import ChatPromptTemplate\n",
    "from langchain_core.runnables import RunnableConfig\n",
    "from sqlalchemy.orm.collections import collection\n",
    "from sqlalchemy.testing.suite.test_reflection import metadata\n",
    "\n",
    "warnings.filterwarnings(\"ignore\")\n",
    "load_dotenv()"
   ],
   "id": "9f5bf2194d41ef16",
   "outputs": [
    {
     "data": {
      "text/plain": [
       "True"
      ]
     },
     "execution_count": 1,
     "metadata": {},
     "output_type": "execute_result"
    }
   ],
   "execution_count": 1
  },
  {
   "metadata": {},
   "cell_type": "markdown",
   "source": [
    "## 랭체인 내장 도구\n",
    "- 랭체인은 검색, 코드 인터프리터, 생산성 도구 제공\n",
    "### Tavily 도구 직접 사용해보기\n",
    "- [docs](https://python.langchain.com/docs/integrations/tools/tavily_search/)"
   ],
   "id": "e5ca619b62841e31"
  },
  {
   "metadata": {
    "ExecuteTime": {
     "end_time": "2025-05-10T11:25:13.239927Z",
     "start_time": "2025-05-10T11:25:11.279149Z"
    }
   },
   "cell_type": "code",
   "source": [
    "from langchain_community.tools import TavilySearchResults\n",
    "\n",
    "query = \"최근 한 달 동안 나온 테슬라와 구글 CEO 관련 영문 기사들을 각각 자연스럽게 한국어로 요약해서 Bullet Point로 정리해줘\"\n",
    "\n",
    "tavily_search = TavilySearchResults(max_results=2)\n",
    "search_results = tavily_search.invoke(query)\n",
    "search_results"
   ],
   "id": "7bfd757e7119da70",
   "outputs": [
    {
     "data": {
      "text/plain": [
       "[{'title': '[시사영어 1일1문] 머스크의 테슬라 사면초가에 (NYT ... - YouTube',\n",
       "  'url': 'https://www.youtube.com/watch?v=IN1lZzNk2O8',\n",
       "  'content': '[시사영어 1일1문] 머스크의 테슬라 사면초가에 (NYT) (최신영어뉴스로 영어공부) \\n 상상영어 \\n 136 likes \\n 1621 views \\n 23 Apr 2025 \\n 출처: https://www.nytimes.com/2025/04/22/business/tesla-earnings-elon-musk.html\\n(긴 뉴스기사에서 필수적인 내용만을 추출하여 2~3 페이지로 구성했습니다. 완전한 전체 기사는 출처를 참고하시기 바랍니다.) [...] Mr. Musk has said the company’s future is in artificial intelligence technology that will allow Tesla vehicles to drive themselves without human intervention, enabling fleets of Tesla “Cybercabs” to make money ferrying customers.\\nBut Tesla has not yet perfected the technology and faces competition in that nascent business from several Chinese companies and Waymo, a unit of Alphabet, the parent company of Google. [...] [본문]\\nTesla’s 71% Drop in Profit May Pressure Elon Musk to Return to Day Job\\nTesla said Tuesday that its profits fell 71 percent in the first three months of the year, which could increase the pressure on Elon Musk, the automaker’s chief executive, to curtail his work for President Trump and spend more time managing the company.\\nThe company said it earned $409 million, down from $1.4 billion in the first quarter of 2024.',\n",
       "  'score': 0.52422476}]"
      ]
     },
     "execution_count": 2,
     "metadata": {},
     "output_type": "execute_result"
    }
   ],
   "execution_count": 2
  },
  {
   "metadata": {},
   "cell_type": "markdown",
   "source": [
    "### Tool의 구성 요소\n",
    "- name : 도구의 이름\n",
    "- description : 도구에 대한 설명\n",
    "- JSON schema : 도구 입력 정보\n",
    "- function : 실행할 함수??"
   ],
   "id": "90d0b0c0c6d97a81"
  },
  {
   "metadata": {
    "ExecuteTime": {
     "end_time": "2025-05-10T11:25:13.395316Z",
     "start_time": "2025-05-10T11:25:13.391317Z"
    }
   },
   "cell_type": "code",
   "source": [
    "TavilySearchResults # class 살펴보기\n",
    "type(tavily_search)"
   ],
   "id": "5625c6f4658a97e",
   "outputs": [
    {
     "data": {
      "text/plain": [
       "langchain_community.tools.tavily_search.tool.TavilySearchResults"
      ]
     },
     "execution_count": 3,
     "metadata": {},
     "output_type": "execute_result"
    }
   ],
   "execution_count": 3
  },
  {
   "metadata": {
    "ExecuteTime": {
     "end_time": "2025-05-10T11:25:13.408243Z",
     "start_time": "2025-05-10T11:25:13.404Z"
    }
   },
   "cell_type": "code",
   "source": "tavily_search.name",
   "id": "fb798ccb905f06ea",
   "outputs": [
    {
     "data": {
      "text/plain": [
       "'tavily_search_results_json'"
      ]
     },
     "execution_count": 4,
     "metadata": {},
     "output_type": "execute_result"
    }
   ],
   "execution_count": 4
  },
  {
   "metadata": {
    "ExecuteTime": {
     "end_time": "2025-05-10T11:25:13.437987Z",
     "start_time": "2025-05-10T11:25:13.433987Z"
    }
   },
   "cell_type": "code",
   "source": "tavily_search.description",
   "id": "1a1041e20909bfa0",
   "outputs": [
    {
     "data": {
      "text/plain": [
       "'A search engine optimized for comprehensive, accurate, and trusted results. Useful for when you need to answer questions about current events. Input should be a search query.'"
      ]
     },
     "execution_count": 5,
     "metadata": {},
     "output_type": "execute_result"
    }
   ],
   "execution_count": 5
  },
  {
   "metadata": {
    "ExecuteTime": {
     "end_time": "2025-05-10T11:25:13.475491Z",
     "start_time": "2025-05-10T11:25:13.470491Z"
    }
   },
   "cell_type": "code",
   "source": "tavily_search.args",
   "id": "3320e958ca669e81",
   "outputs": [
    {
     "data": {
      "text/plain": [
       "{'query': {'description': 'search query to look up',\n",
       "  'title': 'Query',\n",
       "  'type': 'string'}}"
      ]
     },
     "execution_count": 6,
     "metadata": {},
     "output_type": "execute_result"
    }
   ],
   "execution_count": 6
  },
  {
   "metadata": {
    "ExecuteTime": {
     "end_time": "2025-05-10T11:25:13.512478Z",
     "start_time": "2025-05-10T11:25:13.507476Z"
    }
   },
   "cell_type": "code",
   "source": "tavily_search.args_schema",
   "id": "b7b5249e1214211e",
   "outputs": [
    {
     "data": {
      "text/plain": [
       "langchain_community.tools.tavily_search.tool.TavilyInput"
      ]
     },
     "execution_count": 7,
     "metadata": {},
     "output_type": "execute_result"
    }
   ],
   "execution_count": 7
  },
  {
   "metadata": {
    "ExecuteTime": {
     "end_time": "2025-05-10T11:25:13.551627Z",
     "start_time": "2025-05-10T11:25:13.546626Z"
    }
   },
   "cell_type": "code",
   "source": "tavily_search.args_schema.model_json_schema()",
   "id": "530db5a187ad4b1e",
   "outputs": [
    {
     "data": {
      "text/plain": [
       "{'description': 'Input for the Tavily tool.',\n",
       " 'properties': {'query': {'description': 'search query to look up',\n",
       "   'title': 'Query',\n",
       "   'type': 'string'}},\n",
       " 'required': ['query'],\n",
       " 'title': 'TavilyInput',\n",
       " 'type': 'object'}"
      ]
     },
     "execution_count": 8,
     "metadata": {},
     "output_type": "execute_result"
    }
   ],
   "execution_count": 8
  },
  {
   "metadata": {},
   "cell_type": "markdown",
   "source": "### LLM과 Tavily 도구 binding하기",
   "id": "d2e76c0a7c68fd1e"
  },
  {
   "metadata": {
    "ExecuteTime": {
     "end_time": "2025-05-10T11:25:15.176673Z",
     "start_time": "2025-05-10T11:25:13.580860Z"
    }
   },
   "cell_type": "code",
   "source": [
    "from langchain_openai import ChatOpenAI\n",
    "\n",
    "llm = ChatOpenAI(model=\"gpt-4o-mini\")\n",
    "llm_with_tools = llm.bind_tools(tools=[tavily_search])\n",
    "\n",
    "query"
   ],
   "id": "3a987aee061fecb4",
   "outputs": [
    {
     "data": {
      "text/plain": [
       "'최근 한 달 동안 나온 테슬라와 구글 CEO 관련 영문 기사들을 각각 자연스럽게 한국어로 요약해서 Bullet Point로 정리해줘'"
      ]
     },
     "execution_count": 9,
     "metadata": {},
     "output_type": "execute_result"
    }
   ],
   "execution_count": 9
  },
  {
   "metadata": {
    "ExecuteTime": {
     "end_time": "2025-05-10T11:25:16.777601Z",
     "start_time": "2025-05-10T11:25:15.200767Z"
    }
   },
   "cell_type": "code",
   "source": [
    "ai_msg = llm_with_tools.invoke(query)\n",
    "pprint(ai_msg)"
   ],
   "id": "84a10b5bc3600439",
   "outputs": [
    {
     "name": "stdout",
     "output_type": "stream",
     "text": [
      "AIMessage(content='', additional_kwargs={'tool_calls': [{'id': 'call_8xxSLkQGxnP4v2ENd4Jigpo1', 'function': {'arguments': '{\"query\": \"Tesla CEO news last month\"}', 'name': 'tavily_search_results_json'}, 'type': 'function'}, {'id': 'call_8tGMg1A3iTVofiSJQ1cqiX4F', 'function': {'arguments': '{\"query\": \"Google CEO news last month\"}', 'name': 'tavily_search_results_json'}, 'type': 'function'}], 'refusal': None}, response_metadata={'token_usage': {'completion_tokens': 61, 'prompt_tokens': 113, 'total_tokens': 174, 'completion_tokens_details': {'accepted_prediction_tokens': 0, 'audio_tokens': 0, 'reasoning_tokens': 0, 'rejected_prediction_tokens': 0}, 'prompt_tokens_details': {'audio_tokens': 0, 'cached_tokens': 0}}, 'model_name': 'gpt-4o-mini-2024-07-18', 'system_fingerprint': 'fp_0392822090', 'id': 'chatcmpl-BVccOtmhxRbWKwLonxfMgC59dJYaC', 'finish_reason': 'tool_calls', 'logprobs': None}, id='run-9da5005f-17e8-4e63-8511-ec3200cca653-0', tool_calls=[{'name': 'tavily_search_results_json', 'args': {'query': 'Tesla CEO news last month'}, 'id': 'call_8xxSLkQGxnP4v2ENd4Jigpo1', 'type': 'tool_call'}, {'name': 'tavily_search_results_json', 'args': {'query': 'Google CEO news last month'}, 'id': 'call_8tGMg1A3iTVofiSJQ1cqiX4F', 'type': 'tool_call'}], usage_metadata={'input_tokens': 113, 'output_tokens': 61, 'total_tokens': 174, 'input_token_details': {'audio': 0, 'cache_read': 0}, 'output_token_details': {'audio': 0, 'reasoning': 0}})\n"
     ]
    }
   ],
   "execution_count": 10
  },
  {
   "metadata": {
    "ExecuteTime": {
     "end_time": "2025-05-10T11:25:16.793983Z",
     "start_time": "2025-05-10T11:25:16.788606Z"
    }
   },
   "cell_type": "code",
   "source": "ai_msg.content",
   "id": "6593f85fee732368",
   "outputs": [
    {
     "data": {
      "text/plain": [
       "''"
      ]
     },
     "execution_count": 11,
     "metadata": {},
     "output_type": "execute_result"
    }
   ],
   "execution_count": 11
  },
  {
   "metadata": {
    "ExecuteTime": {
     "end_time": "2025-05-10T11:25:16.846308Z",
     "start_time": "2025-05-10T11:25:16.839309Z"
    }
   },
   "cell_type": "code",
   "source": "ai_msg.tool_calls",
   "id": "a5b410f1a6267287",
   "outputs": [
    {
     "data": {
      "text/plain": [
       "[{'name': 'tavily_search_results_json',\n",
       "  'args': {'query': 'Tesla CEO news last month'},\n",
       "  'id': 'call_8xxSLkQGxnP4v2ENd4Jigpo1',\n",
       "  'type': 'tool_call'},\n",
       " {'name': 'tavily_search_results_json',\n",
       "  'args': {'query': 'Google CEO news last month'},\n",
       "  'id': 'call_8tGMg1A3iTVofiSJQ1cqiX4F',\n",
       "  'type': 'tool_call'}]"
      ]
     },
     "execution_count": 12,
     "metadata": {},
     "output_type": "execute_result"
    }
   ],
   "execution_count": 12
  },
  {
   "metadata": {},
   "cell_type": "markdown",
   "source": [
    "### LLM에서 응답으로 온 Tool 정보를 이용해 Tool 직접 실행하기\n",
    "- args 스키마 사용 -> list 형태로 나옴\n",
    "- tool_call 사용 -> ToolMessage 형태로 나옴"
   ],
   "id": "d696ba5cb24f589c"
  },
  {
   "metadata": {
    "ExecuteTime": {
     "end_time": "2025-05-10T11:25:19.638642Z",
     "start_time": "2025-05-10T11:25:16.881197Z"
    }
   },
   "cell_type": "code",
   "source": [
    "# args 스키마 사용\n",
    "tool_call = ai_msg.tool_calls[0]\n",
    "tool_output = tavily_search.invoke(tool_call['args'])\n",
    "pprint(type(tool_output))\n",
    "pprint(tool_output)"
   ],
   "id": "713876dfa6bd1593",
   "outputs": [
    {
     "name": "stdout",
     "output_type": "stream",
     "text": [
      "<class 'list'>\n",
      "[{'content': 'The outlet also reported that the Tesla board of directors last '\n",
      "             'month began a formal search to replace Musk as its CEO following '\n",
      "             'continued struggles for the company, as well as Musk’s continued '\n",
      "             'involvement in President Donald Trump’s administration. Tesla '\n",
      "             'denied the move, including to WSJ prior to the report’s '\n",
      "             'publication. [...] Tesla’s struggles have only worsened since '\n",
      "             'Musk reportedly considered stepping down last year. Tesla’s '\n",
      "             'share price has tumbled 41% since its December peak, and the EV '\n",
      "             'maker reported a 20% plunge in first-quarter year-over-year '\n",
      "             'automotive revenue last month. [...] Oops, something went wrong\\n'\n",
      "             '\\n'\n",
      "             'News\\n'\n",
      "             '\\n'\n",
      "             'Life\\n'\n",
      "             '\\n'\n",
      "             'Entertainment\\n'\n",
      "             '\\n'\n",
      "             'Finance\\n'\n",
      "             '\\n'\n",
      "             'Sports\\n'\n",
      "             '\\n'\n",
      "             'New on Yahoo\\n'\n",
      "             '\\n'\n",
      "             'Yahoo Finance\\n'\n",
      "             '\\n'\n",
      "             'In This Article:\\n'\n",
      "             '\\n'\n",
      "             'Tesla has opened a formal search to replace CEO Elon Musk, the '\n",
      "             'Wall Street Journal reported. Early last year amid the company’s '\n",
      "             'struggles, Musk considered stepping down as executive, but '\n",
      "             'feared no one else would be able to carry out his vision for the '\n",
      "             'company, according to the outlet. Tesla denied its search for a '\n",
      "             'new CEO.',\n",
      "  'score': 0.8458536,\n",
      "  'title': 'Elon Musk reportedly said last year he no longer wanted to be '\n",
      "           'Tesla ...',\n",
      "  'url': 'https://finance.yahoo.com/news/elon-musk-reportedly-said-last-111700409.html'},\n",
      " {'content': \"The chair of Tesla's board has denied the company initiated a \"\n",
      "             \"hunt for a new CEO last month as Elon Musk's attention was on \"\n",
      "             'his work with the',\n",
      "  'score': 0.81025416,\n",
      "  'title': \"Tesla's board denies search for new CEO as Elon Musk steps back \"\n",
      "           '...',\n",
      "  'url': 'https://www.msnbc.com/top-stories/latest/tesla-board-new-ceo-elon-musk-doge-wall-street-journal-rcna204117'}]\n"
     ]
    }
   ],
   "execution_count": 13
  },
  {
   "metadata": {
    "ExecuteTime": {
     "end_time": "2025-05-10T11:25:22.068990Z",
     "start_time": "2025-05-10T11:25:19.653547Z"
    }
   },
   "cell_type": "code",
   "source": [
    "# tool_call 사용\n",
    "tool_message = tavily_search.invoke(tool_call)\n",
    "pprint(type(tool_message))\n",
    "pprint(tool_message)"
   ],
   "id": "7f188b2101eceeb7",
   "outputs": [
    {
     "name": "stdout",
     "output_type": "stream",
     "text": [
      "<class 'langchain_core.messages.tool.ToolMessage'>\n",
      "ToolMessage(content='[{\"title\": \"Elon Musk reportedly said last year he no longer wanted to be Tesla ...\", \"url\": \"https://finance.yahoo.com/news/elon-musk-reportedly-said-last-111700409.html\", \"content\": \"The outlet also reported that the Tesla board of directors last month began a formal search to replace Musk as its CEO following continued struggles for the company, as well as Musk’s continued involvement in President Donald Trump’s administration. Tesla denied the move, including to WSJ prior to the report’s publication. [...] Tesla’s struggles have only worsened since Musk reportedly considered stepping down last year. Tesla’s share price has tumbled 41% since its December peak, and the EV maker reported a 20% plunge in first-quarter year-over-year automotive revenue last month. [...] Oops, something went wrong\\\\n\\\\nNews\\\\n\\\\nLife\\\\n\\\\nEntertainment\\\\n\\\\nFinance\\\\n\\\\nSports\\\\n\\\\nNew on Yahoo\\\\n\\\\nYahoo Finance\\\\n\\\\nIn This Article:\\\\n\\\\nTesla has opened a formal search to replace CEO Elon Musk, the Wall Street Journal reported. Early last year amid the company’s struggles, Musk considered stepping down as executive, but feared no one else would be able to carry out his vision for the company, according to the outlet. Tesla denied its search for a new CEO.\", \"score\": 0.8458536}, {\"title\": \"Tesla refutes report that it is seeking to replace Elon Musk as CEO\", \"url\": \"https://www.nbcbayarea.com/news/local/tesla-report-musk-ceo/3857817/\", \"content\": \"After Elon Musk last month announced he is stepping back from his role with the Department of Government Efficiency so he can focus on his businesses, Tesla is denying a report it is seeking to replace Musk as CEO. Tesla reported a steep drop in earnings last quarter, but the electric automaker said\", \"score\": 0.7451949}]', name='tavily_search_results_json', tool_call_id='call_8xxSLkQGxnP4v2ENd4Jigpo1', artifact={'query': 'Tesla CEO news last month', 'follow_up_questions': None, 'answer': None, 'images': [], 'results': [{'url': 'https://finance.yahoo.com/news/elon-musk-reportedly-said-last-111700409.html', 'title': 'Elon Musk reportedly said last year he no longer wanted to be Tesla ...', 'content': 'The outlet also reported that the Tesla board of directors last month began a formal search to replace Musk as its CEO following continued struggles for the company, as well as Musk’s continued involvement in President Donald Trump’s administration. Tesla denied the move, including to WSJ prior to the report’s publication. [...] Tesla’s struggles have only worsened since Musk reportedly considered stepping down last year. Tesla’s share price has tumbled 41% since its December peak, and the EV maker reported a 20% plunge in first-quarter year-over-year automotive revenue last month. [...] Oops, something went wrong\\n\\nNews\\n\\nLife\\n\\nEntertainment\\n\\nFinance\\n\\nSports\\n\\nNew on Yahoo\\n\\nYahoo Finance\\n\\nIn This Article:\\n\\nTesla has opened a formal search to replace CEO Elon Musk, the Wall Street Journal reported. Early last year amid the company’s struggles, Musk considered stepping down as executive, but feared no one else would be able to carry out his vision for the company, according to the outlet. Tesla denied its search for a new CEO.', 'score': 0.8458536, 'raw_content': None}, {'url': 'https://www.nbcbayarea.com/news/local/tesla-report-musk-ceo/3857817/', 'title': 'Tesla refutes report that it is seeking to replace Elon Musk as CEO', 'content': 'After Elon Musk last month announced he is stepping back from his role with the Department of Government Efficiency so he can focus on his businesses, Tesla is denying a report it is seeking to replace Musk as CEO. Tesla reported a steep drop in earnings last quarter, but the electric automaker said', 'score': 0.7451949, 'raw_content': None}], 'response_time': 1.49})\n"
     ]
    }
   ],
   "execution_count": 14
  },
  {
   "metadata": {
    "ExecuteTime": {
     "end_time": "2025-05-10T11:25:22.090370Z",
     "start_time": "2025-05-10T11:25:22.085370Z"
    }
   },
   "cell_type": "code",
   "source": [
    "# tool_output으로 ToolMessage 만들기\n",
    "from langchain_core.messages.tool import ToolMessage\n",
    "\n",
    "tool_message = ToolMessage(\n",
    "    content=tool_output,\n",
    "    tool_call_id=tool_call[\"id\"],\n",
    "    name=tool_call[\"name\"]\n",
    ")\n",
    "pprint(type(tool_message))\n",
    "pprint(tool_message)"
   ],
   "id": "61f98b3f8846d2cb",
   "outputs": [
    {
     "name": "stdout",
     "output_type": "stream",
     "text": [
      "<class 'langchain_core.messages.tool.ToolMessage'>\n",
      "ToolMessage(content=[{'title': 'Elon Musk reportedly said last year he no longer wanted to be Tesla ...', 'url': 'https://finance.yahoo.com/news/elon-musk-reportedly-said-last-111700409.html', 'content': 'The outlet also reported that the Tesla board of directors last month began a formal search to replace Musk as its CEO following continued struggles for the company, as well as Musk’s continued involvement in President Donald Trump’s administration. Tesla denied the move, including to WSJ prior to the report’s publication. [...] Tesla’s struggles have only worsened since Musk reportedly considered stepping down last year. Tesla’s share price has tumbled 41% since its December peak, and the EV maker reported a 20% plunge in first-quarter year-over-year automotive revenue last month. [...] Oops, something went wrong\\n\\nNews\\n\\nLife\\n\\nEntertainment\\n\\nFinance\\n\\nSports\\n\\nNew on Yahoo\\n\\nYahoo Finance\\n\\nIn This Article:\\n\\nTesla has opened a formal search to replace CEO Elon Musk, the Wall Street Journal reported. Early last year amid the company’s struggles, Musk considered stepping down as executive, but feared no one else would be able to carry out his vision for the company, according to the outlet. Tesla denied its search for a new CEO.', 'score': 0.8458536}, {'title': \"Tesla's board denies search for new CEO as Elon Musk steps back ...\", 'url': 'https://www.msnbc.com/top-stories/latest/tesla-board-new-ceo-elon-musk-doge-wall-street-journal-rcna204117', 'content': \"The chair of Tesla's board has denied the company initiated a hunt for a new CEO last month as Elon Musk's attention was on his work with the\", 'score': 0.81025416}], name='tavily_search_results_json', tool_call_id='call_8xxSLkQGxnP4v2ENd4Jigpo1')\n"
     ]
    }
   ],
   "execution_count": 15
  },
  {
   "metadata": {
    "ExecuteTime": {
     "end_time": "2025-05-10T11:25:22.118465Z",
     "start_time": "2025-05-10T11:25:22.111031Z"
    }
   },
   "cell_type": "code",
   "source": "tool_message.content",
   "id": "a0e15d0f9fa8c035",
   "outputs": [
    {
     "data": {
      "text/plain": [
       "[{'title': 'Elon Musk reportedly said last year he no longer wanted to be Tesla ...',\n",
       "  'url': 'https://finance.yahoo.com/news/elon-musk-reportedly-said-last-111700409.html',\n",
       "  'content': 'The outlet also reported that the Tesla board of directors last month began a formal search to replace Musk as its CEO following continued struggles for the company, as well as Musk’s continued involvement in President Donald Trump’s administration. Tesla denied the move, including to WSJ prior to the report’s publication. [...] Tesla’s struggles have only worsened since Musk reportedly considered stepping down last year. Tesla’s share price has tumbled 41% since its December peak, and the EV maker reported a 20% plunge in first-quarter year-over-year automotive revenue last month. [...] Oops, something went wrong\\n\\nNews\\n\\nLife\\n\\nEntertainment\\n\\nFinance\\n\\nSports\\n\\nNew on Yahoo\\n\\nYahoo Finance\\n\\nIn This Article:\\n\\nTesla has opened a formal search to replace CEO Elon Musk, the Wall Street Journal reported. Early last year amid the company’s struggles, Musk considered stepping down as executive, but feared no one else would be able to carry out his vision for the company, according to the outlet. Tesla denied its search for a new CEO.',\n",
       "  'score': 0.8458536},\n",
       " {'title': \"Tesla's board denies search for new CEO as Elon Musk steps back ...\",\n",
       "  'url': 'https://www.msnbc.com/top-stories/latest/tesla-board-new-ceo-elon-musk-doge-wall-street-journal-rcna204117',\n",
       "  'content': \"The chair of Tesla's board has denied the company initiated a hunt for a new CEO last month as Elon Musk's attention was on his work with the\",\n",
       "  'score': 0.81025416}]"
      ]
     },
     "execution_count": 16,
     "metadata": {},
     "output_type": "execute_result"
    }
   ],
   "execution_count": 16
  },
  {
   "metadata": {},
   "cell_type": "markdown",
   "source": "### Tool의 결과를 LLM에 전달하여 최종 응답 생성하기",
   "id": "91b3f469b1e51119"
  },
  {
   "metadata": {
    "ExecuteTime": {
     "end_time": "2025-05-10T11:25:26.550393Z",
     "start_time": "2025-05-10T11:25:22.151434Z"
    }
   },
   "cell_type": "code",
   "source": [
    "from datetime import datetime\n",
    "\n",
    "today = datetime.today().strftime(\"%Y-%m-%d\")\n",
    "llm = ChatOpenAI(model=\"gpt-4o-mini\")\n",
    "prompt = f\"\"\"\n",
    "    You are a helpful AI assistant.\n",
    "    Today is {today}\n",
    "    {query}\n",
    "    {tool_message.content}\n",
    "\"\"\"\n",
    "result = llm.invoke(prompt)\n",
    "pprint(result)"
   ],
   "id": "c175ff25c8725c08",
   "outputs": [
    {
     "name": "stdout",
     "output_type": "stream",
     "text": [
      "AIMessage(content='### 테슬라 관련 기사 요약\\n\\n- **엘론 머스크, CEO 역할 축소 중**: 머스크는 지난해 더 이상 테슬라 CEO 역할을 원하지 않는다고 언급했으며, 최근 테슬라 이사회는 CEO 교체를 위한 공식 검색을 시작한 것으로 보도됨. \\n- **테슬라의 재정적 어려움**: 테슬라는 채산성이 떨어지고 있으며, 지난해 12월 정점 대비 주가가 41% 하락했고, 1분기 자동차 매출이 전년 대비 20% 감소했음.\\n- **이사회 부인**: 테슬라 이사회는 새로운 CEO를 찾고 있다는 보도를 부인하며, 머스크가 지금은 다른 일에 집중하고 있다고 전함.\\n\\n### 구글 관련 기사 요약\\n\\n현재 구글 관련 기사 요약에 대한 정보는 제공되지 않아, 구글 CEO 관련 정보를 추가로 제공해 주시면 요약해드리겠습니다.', additional_kwargs={'refusal': None}, response_metadata={'token_usage': {'completion_tokens': 207, 'prompt_tokens': 443, 'total_tokens': 650, 'completion_tokens_details': {'accepted_prediction_tokens': 0, 'audio_tokens': 0, 'reasoning_tokens': 0, 'rejected_prediction_tokens': 0}, 'prompt_tokens_details': {'audio_tokens': 0, 'cached_tokens': 0}}, 'model_name': 'gpt-4o-mini-2024-07-18', 'system_fingerprint': 'fp_dbaca60df0', 'id': 'chatcmpl-BVccVGTfvYPVnB5REd1ENUdMQVAhe', 'finish_reason': 'stop', 'logprobs': None}, id='run-24aa9c18-f6d2-41de-88e6-5cdba0fc4a47-0', usage_metadata={'input_tokens': 443, 'output_tokens': 207, 'total_tokens': 650, 'input_token_details': {'audio': 0, 'cache_read': 0}, 'output_token_details': {'audio': 0, 'reasoning': 0}})\n"
     ]
    }
   ],
   "execution_count": 17
  },
  {
   "metadata": {},
   "cell_type": "markdown",
   "source": [
    "## 전체과정 정리 하기\n",
    "- LLM 체인 정의\n",
    "- LLM 체인에 ToolMessage 전달"
   ],
   "id": "e706be3f30c4f8ee"
  },
  {
   "metadata": {
    "ExecuteTime": {
     "end_time": "2025-05-10T11:25:26.945407Z",
     "start_time": "2025-05-10T11:25:26.558501Z"
    }
   },
   "cell_type": "code",
   "source": [
    "# LLM 체인 정의\n",
    "\n",
    "# 오늘 날짜 설정\n",
    "today = datetime.today().strftime(\"%Y-%m-%d\")\n",
    "\n",
    "# 프롬프트 템플릿\n",
    "prompt = ChatPromptTemplate([\n",
    "    (\"system\", f\"You are a helpful AI assistant\"),\n",
    "    (\"system\", f\"Today is {today}\"),\n",
    "    (\"human\", \"{user_input}\"),\n",
    "    (\"placeholder\", \"{messages}\")\n",
    "])\n",
    "\n",
    "# llm 정의\n",
    "llm = ChatOpenAI(model=\"gpt-4o-mini\")\n",
    "\n",
    "# 도구 바인딩\n",
    "llm_with_tools = llm.bind_tools(tools=[tavily_search])\n",
    "\n",
    "# LLM체인 생성\n",
    "llm_chain = prompt | llm_with_tools\n"
   ],
   "id": "5564bbade01240c7",
   "outputs": [],
   "execution_count": 18
  },
  {
   "metadata": {
    "ExecuteTime": {
     "end_time": "2025-05-10T11:25:35.859191Z",
     "start_time": "2025-05-10T11:25:26.953933Z"
    }
   },
   "cell_type": "code",
   "source": [
    "# LLM 체인에 ToolMessage 전달\n",
    "from langchain_core.runnables import chain\n",
    "\n",
    "@chain\n",
    "def web_search_chain(user_input: str, config: RunnableConfig):\n",
    "    input = {\"user_input\": user_input}\n",
    "    ai_msg = llm_chain.invoke(input, config=config)\n",
    "    tool_msgs = tavily_search.batch(ai_msg.tool_calls, config=config)\n",
    "    return llm_chain.invoke(\n",
    "        {**input, \"messages\": [ai_msg, *tool_msgs]},\n",
    "        config=config\n",
    "    )\n",
    "\n",
    "web_search_chain.invoke(query)"
   ],
   "id": "107ce509b68e5077",
   "outputs": [
    {
     "data": {
      "text/plain": [
       "AIMessage(content='### 테슬라 CEO 관련 최근 뉴스 요약\\n- **일론 머스크 CEO 교체 보도 부인**: 테슬라 이사회 의장 로빈 덴홀름이 최근 보도와 관련하여, 테슬라 이사회가 CEO 교체를 위한 모집업체에 연락했다는 주장은 사실이 아니며, 머스크가 CEO로서 계속해서 회사를 이끌 것이라고 발표함.\\n- **이사회에서의 탐색적 단계**: 월스트리트저널에 따르면, 테슬라 이사회는 몇 주 전부터 적절한 후임자를 찾기 위한 탐색적인 단계를 진행하고 있었고, 머스크에게 회사에 다시 집중할 필요가 있다고 경고한 것으로 전해짐.  \\n\\n### 구글 CEO 관련 최근 뉴스 요약\\n- **AI 및 양자 혁신 강조**: 구글 CEO 순다르 피차이는 AI와 양자 기술 혁신이 미래의 핵심이 될 것이라고 강조함.\\n- **AI 팀 재조정 및 딥마인드 통합**: 구글 CEO는 2025년을 대비해 AI 제품 및 서비스를 새롭게 출시할 계획을 직원들에게 알림. Gemini AI 모델에 큰 기대를 걸고 있으며, 이 모델이 5억 사용자에 도달할 수 있도록 목표하고 있음.', additional_kwargs={'refusal': None}, response_metadata={'token_usage': {'completion_tokens': 281, 'prompt_tokens': 1339, 'total_tokens': 1620, 'completion_tokens_details': {'accepted_prediction_tokens': 0, 'audio_tokens': 0, 'reasoning_tokens': 0, 'rejected_prediction_tokens': 0}, 'prompt_tokens_details': {'audio_tokens': 0, 'cached_tokens': 0}}, 'model_name': 'gpt-4o-mini-2024-07-18', 'system_fingerprint': 'fp_0392822090', 'id': 'chatcmpl-BVccd0tDO2papZtvDHaoHzoArtpra', 'finish_reason': 'stop', 'logprobs': None}, id='run-4132aad7-3bf5-4c24-a003-a65808f069db-0', usage_metadata={'input_tokens': 1339, 'output_tokens': 281, 'total_tokens': 1620, 'input_token_details': {'audio': 0, 'cache_read': 0}, 'output_token_details': {'audio': 0, 'reasoning': 0}})"
      ]
     },
     "execution_count": 19,
     "metadata": {},
     "output_type": "execute_result"
    }
   ],
   "execution_count": 19
  },
  {
   "metadata": {},
   "cell_type": "markdown",
   "source": [
    "## 사용자 정의 도구(Tool)\n",
    "- @tool 데코레이터 사용"
   ],
   "id": "6fa3d8c7c9c6227a"
  },
  {
   "metadata": {
    "ExecuteTime": {
     "end_time": "2025-05-10T11:25:36.147977Z",
     "start_time": "2025-05-10T11:25:35.877112Z"
    }
   },
   "cell_type": "code",
   "source": [
    "from typing import Dict, List, Annotated\n",
    "import requests\n",
    "from langchain_core.tools import tool\n",
    "\n",
    "@tool\n",
    "def blog_search(query:  Annotated[str, \"질의\"], search_count: Annotated[int, \"검색수\"]=2) -> List[Dict]:\n",
    "    \"\"\"네이버 블로그 API에 검색 요청을 보냅니다.\"\"\"\n",
    "    url = \"https://openapi.naver.com/v1/search/blog.json\"\n",
    "    headers = {\n",
    "        \"X-Naver-Client-Id\": os.environ[\"NAVER_CLIENT_ID\"],\n",
    "        \"X-Naver-Client-Secret\": os.environ[\"NAVER_CLIENT_SECRET\"]\n",
    "    }\n",
    "    params = {\"query\": query, \"display\": 10, \"start\": 1}\n",
    "    response = requests.get(url, headers=headers, params=params)\n",
    "\n",
    "    if response.status_code == 200:\n",
    "        return response.json()['items']\n",
    "    else:\n",
    "        return []\n",
    "\n",
    "wine_query = \"블로그에 나와있는 스테이크와 어울리는 와인과 기분 좋은 노래를 추천해주세요.\"\n",
    "search_results = blog_search.invoke(wine_query)\n",
    "search_results"
   ],
   "id": "e2a8dcf2e34964c0",
   "outputs": [
    {
     "data": {
      "text/plain": [
       "[{'title': '목동<b>와인</b> - 파인앨리 : 뽈뽀 <b>스테이크</b>, 감베리 풍기 알리오',\n",
       "  'link': 'https://blog.naver.com/offspring84/223860446265',\n",
       "  'description': '맛<b>있는</b> 파스타, <b>와인</b>도 한 잔 <b>추천</b>드립니다 술 안 마시는 친구랑 와도 좋고 연인과 즐거운 데이트 코스로도 <b>좋은</b> 곳! 목동<b>와인</b> - 파인앨리: 뽈뽀 <b>스테이크</b>, 감베리 풍기 알리오, 스몰카프레제, Veuve de Verndier <b>와인</b>',\n",
       "  'bloggername': '무한잡념',\n",
       "  'bloggerlink': 'blog.naver.com/offspring84',\n",
       "  'postdate': '20250509'},\n",
       " {'title': '이탈리아 피렌체 맛집 <b>추천</b> 티본<b>스테이크</b> 토스카나 와인 육회',\n",
       "  'link': 'https://blog.naver.com/lsh5755/223847077153',\n",
       "  'description': \"피렌체 인근 토스카나 지방은 질 <b>좋은</b> <b>와인</b>을 생산하기로 유명하다. <b>와인</b> 애호가들의 성지기도 한다.... 그냥 'T본 <b>스테이크</b>'라고 부르고, 그들도 알아듣는다. T자 뼈가 포함되어 <b>있는</b> 안심과 등심 부위를... \",\n",
       "  'bloggername': '천사는 여행중',\n",
       "  'bloggerlink': 'blog.naver.com/lsh5755',\n",
       "  'postdate': '20250426'},\n",
       " {'title': '한우 <b>스테이크</b>를 <b>와인과</b> 함께 즐길 수 <b>있는</b> 이도현 고깃집',\n",
       "  'link': 'https://blog.naver.com/commitv/223848860811',\n",
       "  'description': '총평 광교 <b>스테이크</b> 맛집 이도현 고깃집에서 <b>기분 좋은</b> 한 끼 식사를 마쳤습니다. 오후부터 밤 늦게까지 편안하고 아늑한 분위기에서 <b>와인</b>을 곁들인 식사를 즐길 수 <b>있는</b>, 투플러스 한우 <b>스테이크</b>가 너무... ',\n",
       "  'bloggername': '언제나 진행중(ing)',\n",
       "  'bloggerlink': 'blog.naver.com/commitv',\n",
       "  'postdate': '20250428'},\n",
       " {'title': '맛집 데이트와 모임장소로 <b>어울리는</b> 고기집 까사생갈비 <b>와인</b> <b>추천</b>',\n",
       "  'link': 'https://blog.naver.com/kingpro_/223851064132',\n",
       "  'description': '같은 교회 자매들과 매달 한 번씩 하는 소모임이 <b>있는</b>데요. 이번엔 특별히 외부에서 식사하자는 의견이... 고기와 <b>어울리는</b> 레드부터 화이트까지 고르게 준비돼 있어 <b>와인</b> 한잔하며 <b>기분</b> 좋게 시작했죠. 이런... ',\n",
       "  'bloggername': '왕프로의 오피스 이야기',\n",
       "  'bloggerlink': 'blog.naver.com/kingpro_',\n",
       "  'postdate': '20250430'},\n",
       " {'title': '<b>스테이크와</b> 잘 <b>어울리는</b> 3만원대 이마트 레드 <b>와인</b> <b>추천</b>',\n",
       "  'link': 'https://blog.naver.com/dolmory9/223556006280',\n",
       "  'description': '상태 <b>좋은</b> 코르크 : 산 페드로 시데랄 2021 ▲ <b>와인</b> 색상 : 산 페드로 시데랄 2021 (마트 토마스 글래스) &lt;음식 페어링&gt; 메인 육류 요리 또는 버섯과 잘 <b>어울리는</b> 레드 <b>와인</b>입니다. 등심 <b>스테이크와</b> 함께... ',\n",
       "  'bloggername': '와인과 커피 엔지니어',\n",
       "  'bloggerlink': 'blog.naver.com/dolmory9',\n",
       "  'postdate': '20240821'},\n",
       " {'title': '여수 <b>와인</b>바 학동 맛집 :: <b>스테이크</b> 파스타 다이닝 바 와캡... ',\n",
       "  'link': 'https://blog.naver.com/jhjoo20/223787083553',\n",
       "  'description': '화이트 <b>와인</b>을 고를 때 직원분이 페어링하기 <b>좋은</b> 사이드로 <b>추천 해</b>주셨어요. 근데 결과는 대성공! 푸아그라를 무스로 만들었다는게 넘 신기! 약간 느끼할수도 <b>있는</b> 푸아그라를 캐러맬라이즈드 양파로... ',\n",
       "  'bloggername': '아시아 요즘곳들 탐험일기',\n",
       "  'bloggerlink': 'blog.naver.com/jhjoo20',\n",
       "  'postdate': '20250307'},\n",
       " {'title': '베트남 다낭 [ 바빌론 <b>스테이크</b> 본점 ] 예약 방법 및 <b>추천</b>메뉴... ',\n",
       "  'link': 'https://blog.naver.com/white_nine/223850389848',\n",
       "  'description': '고급스러운 분위기에서 맛<b>있는 스테이크와</b> <b>와인</b>한잔 서비스 까지 제대로 즐길 수 있었는데요... 먹기<b>좋은</b> 굽기로 구워주시면 되요 뜨거운 돌판위에 앞뒤로 돌려가며 타이 않게 구워<b>주세요</b>~!! <b>스테이크</b>를... ',\n",
       "  'bloggername': '백구한끼',\n",
       "  'bloggerlink': 'blog.naver.com/white_nine',\n",
       "  'postdate': '20250510'},\n",
       " {'title': '<b>스테이크</b>가 유명한 광화문 라스위스에서 나들이 후 <b>와인</b> 한잔',\n",
       "  'link': 'https://blog.naver.com/tericas/223835879124',\n",
       "  'description': '보다 <b>좋은</b> 서비스로 식사를 하실 수 있을 것 같아요. 서촌 맛집은 생활의 달인에도 나오고 맛<b>있는</b>... 이렇게 오늘은 광화문 파스타와 <b>스테이크</b>를 먹으면서 서촌 <b>와인</b>까지 즐겨볼 수 <b>있는</b> 시간을 보내봤었는데요.... ',\n",
       "  'bloggername': '차돌',\n",
       "  'bloggerlink': 'blog.naver.com/tericas',\n",
       "  'postdate': '20250416'},\n",
       " {'title': '스미스앤월렌스키 (<b>스테이크와 어울리는</b> <b>추천</b><b>와인</b>, 서울... ',\n",
       "  'link': 'https://blog.naver.com/neotaboo/223758018557',\n",
       "  'description': '계셔서 <b>와인</b> 곁들이기도 너무 <b>좋은</b> 곳이었다. 스타터부터 디저트까지 샴페인 한 병이면 모두 만능으로 페어링이 가능하니, 특별한 날 샴페인 한 병에 맛<b>있는 스테이크</b> 곁들여보시는 걸 <b>추천</b>드리고 싶음!... ',\n",
       "  'bloggername': '입 짧은 콩나물',\n",
       "  'bloggerlink': 'blog.naver.com/neotaboo',\n",
       "  'postdate': '20250212'},\n",
       " {'title': '용산<b>와인</b>바 용산 데이트 <b>추천</b> 엠버앰버 특별한 날 봄 <b>기분</b> 내고... ',\n",
       "  'link': 'https://blog.naver.com/f500c/223843738920',\n",
       "  'description': '보여주고 <b>있는</b> 향긋한 봄 <b>기분</b>을 내고 싶을 때 정말 방문하기 <b>좋은</b> 곳입니다. 용산역 &amp; 신용산역 도보... 봄데이트하기<b>좋은</b>곳 #신용산역<b>추천</b>레스토랑 #용산역<b>추천</b>레스토랑 #용리단길맛집 #용산역<b>추천</b><b>와인</b>',\n",
       "  'bloggername': 'You are very much on time',\n",
       "  'bloggerlink': 'blog.naver.com/f500c',\n",
       "  'postdate': '20250423'}]"
      ]
     },
     "execution_count": 20,
     "metadata": {},
     "output_type": "execute_result"
    }
   ],
   "execution_count": 20
  },
  {
   "metadata": {
    "ExecuteTime": {
     "end_time": "2025-05-10T11:25:36.180122Z",
     "start_time": "2025-05-10T11:25:36.175049Z"
    }
   },
   "cell_type": "code",
   "source": [
    "pprint(blog_search.name)\n",
    "pprint(blog_search.description)\n",
    "pprint(blog_search.args_schema)\n",
    "pprint(blog_search.args)"
   ],
   "id": "6713ba3d7aae7a2f",
   "outputs": [
    {
     "name": "stdout",
     "output_type": "stream",
     "text": [
      "'blog_search'\n",
      "'네이버 블로그 API에 검색 요청을 보냅니다.'\n",
      "<class 'langchain_core.utils.pydantic.blog_search'>\n",
      "{'query': {'description': '질의', 'title': 'Query', 'type': 'string'},\n",
      " 'search_count': {'default': 2,\n",
      "                  'description': '검색수',\n",
      "                  'title': 'Search Count',\n",
      "                  'type': 'integer'}}\n"
     ]
    }
   ],
   "execution_count": 21
  },
  {
   "metadata": {
    "ExecuteTime": {
     "end_time": "2025-05-10T11:25:36.197067Z",
     "start_time": "2025-05-10T11:25:36.191751Z"
    }
   },
   "cell_type": "code",
   "source": "blog_search",
   "id": "a17ba8a275902fb",
   "outputs": [
    {
     "data": {
      "text/plain": [
       "StructuredTool(name='blog_search', description='네이버 블로그 API에 검색 요청을 보냅니다.', args_schema=<class 'langchain_core.utils.pydantic.blog_search'>, func=<function blog_search at 0x000001F84CC7AAC0>)"
      ]
     },
     "execution_count": 22,
     "metadata": {},
     "output_type": "execute_result"
    }
   ],
   "execution_count": 22
  },
  {
   "metadata": {
    "ExecuteTime": {
     "end_time": "2025-05-10T11:25:36.659571Z",
     "start_time": "2025-05-10T11:25:36.221943Z"
    }
   },
   "cell_type": "code",
   "source": [
    "# LLM binding\n",
    "llm = ChatOpenAI(model=\"gpt-4o-mini\")\n",
    "llm_with_blog = llm.bind_tools(tools=[tavily_search, blog_search])"
   ],
   "id": "1d3f96e8bf246b9f",
   "outputs": [],
   "execution_count": 23
  },
  {
   "metadata": {
    "ExecuteTime": {
     "end_time": "2025-05-10T11:25:38.215696Z",
     "start_time": "2025-05-10T11:25:36.679323Z"
    }
   },
   "cell_type": "code",
   "source": [
    "# LLM 실행하여 툴 추천 받기\n",
    "ai_msg = llm_with_blog.invoke(wine_query)\n",
    "ai_msg"
   ],
   "id": "3b761e4554704184",
   "outputs": [
    {
     "data": {
      "text/plain": [
       "AIMessage(content='', additional_kwargs={'tool_calls': [{'id': 'call_7oJQmz6ubJgcSZPeqFQZao8O', 'function': {'arguments': '{\"query\": \"스테이크와 어울리는 와인\"}', 'name': 'blog_search'}, 'type': 'function'}, {'id': 'call_ZPdn9KcKkjDStSHzAvYQUE6R', 'function': {'arguments': '{\"query\": \"기분 좋은 노래\"}', 'name': 'blog_search'}, 'type': 'function'}], 'refusal': None}, response_metadata={'token_usage': {'completion_tokens': 57, 'prompt_tokens': 149, 'total_tokens': 206, 'completion_tokens_details': {'accepted_prediction_tokens': 0, 'audio_tokens': 0, 'reasoning_tokens': 0, 'rejected_prediction_tokens': 0}, 'prompt_tokens_details': {'audio_tokens': 0, 'cached_tokens': 0}}, 'model_name': 'gpt-4o-mini-2024-07-18', 'system_fingerprint': 'fp_0392822090', 'id': 'chatcmpl-BVccjUMJkpBxztqbp3bQ4yicXLV7s', 'finish_reason': 'tool_calls', 'logprobs': None}, id='run-4b0b65f2-4e28-4b51-9a24-156e7584290f-0', tool_calls=[{'name': 'blog_search', 'args': {'query': '스테이크와 어울리는 와인'}, 'id': 'call_7oJQmz6ubJgcSZPeqFQZao8O', 'type': 'tool_call'}, {'name': 'blog_search', 'args': {'query': '기분 좋은 노래'}, 'id': 'call_ZPdn9KcKkjDStSHzAvYQUE6R', 'type': 'tool_call'}], usage_metadata={'input_tokens': 149, 'output_tokens': 57, 'total_tokens': 206, 'input_token_details': {'audio': 0, 'cache_read': 0}, 'output_token_details': {'audio': 0, 'reasoning': 0}})"
      ]
     },
     "execution_count": 24,
     "metadata": {},
     "output_type": "execute_result"
    }
   ],
   "execution_count": 24
  },
  {
   "metadata": {
    "ExecuteTime": {
     "end_time": "2025-05-10T11:25:38.230963Z",
     "start_time": "2025-05-10T11:25:38.224759Z"
    }
   },
   "cell_type": "code",
   "source": "ai_msg.tool_calls",
   "id": "d87aac358c2814ff",
   "outputs": [
    {
     "data": {
      "text/plain": [
       "[{'name': 'blog_search',\n",
       "  'args': {'query': '스테이크와 어울리는 와인'},\n",
       "  'id': 'call_7oJQmz6ubJgcSZPeqFQZao8O',\n",
       "  'type': 'tool_call'},\n",
       " {'name': 'blog_search',\n",
       "  'args': {'query': '기분 좋은 노래'},\n",
       "  'id': 'call_ZPdn9KcKkjDStSHzAvYQUE6R',\n",
       "  'type': 'tool_call'}]"
      ]
     },
     "execution_count": 25,
     "metadata": {},
     "output_type": "execute_result"
    }
   ],
   "execution_count": 25
  },
  {
   "metadata": {
    "ExecuteTime": {
     "end_time": "2025-05-10T11:25:38.470390Z",
     "start_time": "2025-05-10T11:25:38.250144Z"
    }
   },
   "cell_type": "code",
   "source": [
    "# blog tool 실행\n",
    "blog_search.batch(ai_msg.tool_calls)"
   ],
   "id": "f8eb65abf2829414",
   "outputs": [
    {
     "data": {
      "text/plain": [
       "[ToolMessage(content='[{\"title\": \"스미스앤월렌스키 (<b>스테이크와 어울리는</b> 추천<b>와인</b>, 서울... \", \"link\": \"https://blog.naver.com/neotaboo/223758018557\", \"description\": \"해주셔서 <b>와인</b>과 함께 <b>스테이크</b> 먹기 너무 좋은 매장이었다. 식전빵이 나왔다. 로즈메리를 가득 뿌려... 잘 <b>어울리는</b> 수프였다. 꾸덕한 식감도 좋고, 풍부한 크림맛도 좋고. 입 짧은 나도 처음으로 접시 전체를... \", \"bloggername\": \"입 짧은 콩나물\", \"bloggerlink\": \"blog.naver.com/neotaboo\", \"postdate\": \"20250212\"}, {\"title\": \"<b>스테이크와 어울리는 와인</b> 추천과 종류\", \"link\": \"https://blog.naver.com/oipicle31/223708302326\", \"description\": \"Information <b>스테이크</b> <b>어울리는 와인</b> 추천 <b>스테이크와</b> <b>와인</b>, 이 둘의 조합은 마치 해변의 파도와 모래처럼 완벽하게 <b>어울리는</b> 궁합이라고 할 수 있죠. 오늘은 여러분의 저녁 식사를 더욱 특별하게 만들어줄... \", \"bloggername\": \"별난하루\", \"bloggerlink\": \"blog.naver.com/oipicle31\", \"postdate\": \"20241229\"}, {\"title\": \"[마곡 <b>와인</b> / 마곡 파스타] 마곡 <b>스테이크와</b> <b>와인</b>이 <b>어울리는</b>... \", \"link\": \"https://blog.naver.com/candytop100/223163377277\", \"description\": \"<b>와인</b>은 추천을 받아 레드 <b>와인</b> 중 너무 달지는 않은데, <b>스테이크와</b> 잘 <b>어울리는 와인</b>으로 추천을 받았어용~!! ALADA 라는 <b>와인</b>을 준비해주셨어용~ 기본 안주로 크래커도 같이 곁들여 준비해주셨어용!! 사장님께서... \", \"bloggername\": \"Interesting things\", \"bloggerlink\": \"blog.naver.com/candytop100\", \"postdate\": \"20230722\"}, {\"title\": \"경주 황리단길 파스타 벚꽃과 정말 잘 <b>어울리는</b> <b>스테이크</b> <b>와인</b>... \", \"link\": \"https://blog.naver.com/ljy213/223809691723\", \"description\": \"경주 황리단길 파스타 맛집 또봄은 이탈리아 음식점으로써 파스타와 <b>스테이크</b> 리조또 등의 메뉴가 주가 있었고, 다양한 <b>와인</b>이 있어서 그런지 메뉴판의 상당부분이 <b>와인</b>으로 가득 있었습니다. <b>와인</b>과 함께... \", \"bloggername\": \"TRAVEL MOVE\", \"bloggerlink\": \"blog.naver.com/ljy213\", \"postdate\": \"20250325\"}, {\"title\": \"내방역 블루리본 맛집 발사믹 <b>스테이크와 어울리는</b> 딸기 <b>와인</b>... \", \"link\": \"https://blog.naver.com/cktoa7/223295947189\", \"description\": \"마굿간 <b>와인</b> 리스트 오더 리스트 안심 발사믹 <b>스테이크</b> 56,000 단새우 비스크 트레네테 26,000 딸기 WINE GLASS 12,000 제로콜라 5,000 생수도 예쁜잔에 주심 식전빵이 두가지가 나옴 따뜻하게 오븐에 돌려서 주셨다... \", \"bloggername\": \"차차라트\", \"bloggerlink\": \"blog.naver.com/cktoa7\", \"postdate\": \"20231218\"}, {\"title\": \"<b>스테이크와 어울리는 와인</b>을 찾는다면, 카니버 와인!\", \"link\": \"https://blog.naver.com/rozi__/223190778787\", \"description\": \"어느덧 9월이 가까워진 요즘, <b>스테이크와 어울리는 와인</b> 소개 가지고 왔습니다. Meat was made for Carnivor... 잘 어울리는 느낌이었어요! Carnivor Cabernet Sauvignon 스테이크나 육류 요리를 좋아하신다면, 카니버 와인과... \", \"bloggername\": \"rozi부부 하루일과\", \"bloggerlink\": \"blog.naver.com/rozi__\", \"postdate\": \"20230822\"}, {\"title\": \"<b>스테이크와</b> 잘 <b>어울리는</b> 3만원대 이마트 레드 <b>와인</b>... \", \"link\": \"https://blog.naver.com/dolmory9/223556006280\", \"description\": \"잘 <b>어울리는</b> 레드 <b>와인</b>입니다. 등심 <b>스테이크와</b> 함께 즐겼습니다. 간장 소스에 쫄인 표고 버섯과도 잘 어울렸습니다. 스파이스와 허브 향이 좋아서 갈비찜과 같은 한식 육류 요리와도 잘 어울립니다.... \", \"bloggername\": \"와인과 커피 엔지니어\", \"bloggerlink\": \"blog.naver.com/dolmory9\", \"postdate\": \"20240821\"}, {\"title\": \"한우 <b>스테이크와</b> <b>와인</b>의 마리아주가 잘 <b>어울리는</b> 곳\", \"link\": \"https://blog.naver.com/cgeydc/223635848918\", \"description\": \"한우 <b>스테이크</b>가 맛있고, 좋은 사람, 좋은 친구들과 편안한 분위기 속에서 식사 할 수 있는 곳이라... 잘 <b>어울리는</b> 첫번째 마리아 주 -- 뉴질랜드 산 쇼비뇽블랑 화이트 <b>와인</b>입니다 영화 \\'섹스 인더 시티\\'에서... \", \"bloggername\": \"데니얼의 맛있는 세상이야기\", \"bloggerlink\": \"blog.naver.com/cgeydc\", \"postdate\": \"20241030\"}, {\"title\": \"[3만원대 레드<b>와인</b>추천] 부채살 <b>스테이크와 어울리는</b> 마츠 엘... \", \"link\": \"https://blog.naver.com/wine0105/223842383386\", \"description\": \"잘 <b>어울리는</b> 편이에요. 특히 마츠 엘 레시오에 사용된 티나 데 토로는 템프라니요의 클론 품종으로, 더... 전체적으로 <b>와인</b>의 풍미가 훨씬 조화로워졌어요.  <b>스테이크와</b> 찰떡궁합! 이 날은 <b>스테이크</b>랑 함께... \", \"bloggername\": \"Terroir&Trails\", \"bloggerlink\": \"blog.naver.com/wine0105\", \"postdate\": \"20250422\"}, {\"title\": \"<b>스테이크와</b> 잘 <b>어울리는 와인</b> 선택법\", \"link\": \"https://blog.naver.com/nadhh/223695708844\", \"description\": \"<b>스테이크와</b> 잘 <b>어울리는 와인</b> 선택법 <b>스테이크</b>는 많은 이들이 사랑하는 고급 요리 중 하나입니다. 그 풍부한 맛과 식감은 특별한 순간을 더욱 특별하게 만들어 주죠. 하지만 <b>스테이크</b>의 맛을 극대화하기... \", \"bloggername\": \"새벽의 빛\", \"bloggerlink\": \"blog.naver.com/nadhh\", \"postdate\": \"20241216\"}]', name='blog_search', tool_call_id='call_7oJQmz6ubJgcSZPeqFQZao8O'),\n",
       " ToolMessage(content='[{\"title\": \"<b>기분 좋은 노래</b> -2탄\", \"link\": \"https://blog.naver.com/dreame2000/223183565359\", \"description\": \"&lt;인생네컷&gt; 역시 무척 <b>좋은 노래</b>다. 2.좋아서 하는 밴드 - 길을 잃기 위해서 지금은 멤버들의 탈퇴로 2인조 그룹이 되었지만, 좋아서 하는 밴드만의 톡 튀는 가사 덕에 <b>좋은</b> 곡들이 많다. 밴드 이름이 무척... \", \"bloggername\": \"사소한 공상의 세계\", \"bloggerlink\": \"blog.naver.com/dreame2000\", \"postdate\": \"20230814\"}, {\"title\": \"살랑이는 바람처럼 <b>기분 좋은 노래</b>, 정미조 \\'7번 국도\\'\", \"link\": \"https://blog.naver.com/charryhoho/223534077413\", \"description\": \"저기에서 라이브 듣는 사람들은 얼마나 행복하고 좋았을까. 당분간은 정미조님의 <b>노래</b>들로 플레이리스트가 가득 찰 예정 간만에 너무너무 <b>좋은 노래</b> 듣게 되어서 너무 좋다아♥ 오늘은 여기까지 다음에 또 만나요:)\", \"bloggername\": \"H e l l o :) 즐거운리나씨♩\", \"bloggerlink\": \"blog.naver.com/charryhoho\", \"postdate\": \"20240802\"}, {\"title\": \"수지&amp;백현 원곡 / 가사,뮤비,해석 / 사랑스럽고 <b>기분 좋은 노래</b>\", \"link\": \"https://blog.naver.com/khazneh88/223741930387\", \"description\": \"<b>기분 좋은 노래</b> JYP 미스에이 멤버 시절 수지 SM 엑소 멤버 시절 백현 2016년의 두 아이돌을 만날 수 있는 귀엽고 사랑스러운 노래 소개할게요. 이런 노래 들으면 듣고 나서도 한참 기분 좋아요.... \", \"bloggername\": \"뤼치머니 뮤직너블\", \"bloggerlink\": \"blog.naver.com/khazneh88\", \"postdate\": \"20250130\"}, {\"title\": \"<b>기분 좋은 노래</b>듣는꿈 가슴이 뛰는 꿈 해몽\", \"link\": \"https://blog.naver.com/dodtjs7777/223749709772\", \"description\": \"기분 좋은 소식이 나를 찾아온다고 해요. 감성적인 노래를 듣고 있는 꿈은 사랑 인간관계가 따뜻... <b>기분 좋은 노래</b>를 듣고 있는 꿈은 이렇습니다. 현실에서 긍정적인 일들이 나를 찾아오게 될 확률이 높다고... \", \"bloggername\": \"꿈해몽 속으로◆\", \"bloggerlink\": \"blog.naver.com/dodtjs7777\", \"postdate\": \"20250206\"}, {\"title\": \"봄이 다가오며 듣기 좋은 <b>기분 좋은 노래</b> 추천!!/디벨로 보컬학원\", \"link\": \"https://blog.naver.com/dblovocal/223799690665\", \"description\": \"기분 좋은 음악이 생각나기 마련인데요~~ 그래서 오늘은! 봄의 분위기와 잘 어울리는 <b>기분 좋은 노래</b>... 이 노래는 우연히 마주친 사람의 향기에서 사랑의 감정을 떠올리는 순간을 담고 있어서 더욱 향기에... \", \"bloggername\": \"디벨로 보컬학원\", \"bloggerlink\": \"blog.naver.com/dblovocal\", \"postdate\": \"20250317\"}, {\"title\": \"<b>기분 좋은 노래</b>로 시작하는 아침\", \"link\": \"https://blog.naver.com/initial13795/223858935621\", \"description\": \"일단 좋아하는 노래를 틀고, 그 음악이 주는 기분 좋은 에너지를 느끼며 하루를 시작해보세요. 당신의 하루가 더 밝고 행복하게 펼쳐질 것입니다.  마지막으로, 아침을 맞이하는 <b>기분 좋은 노래</b> 리스트를... \", \"bloggername\": \"오늘도 다정하게\", \"bloggerlink\": \"blog.naver.com/initial13795\", \"postdate\": \"20250508\"}, {\"title\": \"[팝송은 살아있다 5] 설날 연휴에 듣는, \\'<b>기분 좋은 노래</b>\\'\", \"link\": \"https://blog.naver.com/kopoca/223734519430\", \"description\": \"오늘 이야기는 설날 연휴를 앞두고 듣는, 들으면 기분 좋아지는 노래들입니다. 긍정적인 가사도 <b>기분 좋은 노래</b>의 기준이 된다고 했는데 가사를 한번 보겠습니다. 춤을 춰요 자이브도 춰요 인생... \", \"bloggername\": \"데일리기장뉴스premium\", \"bloggerlink\": \"blog.naver.com/kopoca\", \"postdate\": \"20250122\"}, {\"title\": \"봄에 들으면 좋은노래, 듣고 있으면 <b>기분좋은노래</b> : 김광석... \", \"link\": \"https://blog.naver.com/hwwa/223773467828\", \"description\": \"이<b>노래</b>는 봄을 기다리며 들으면 <b>좋은 노래</b>~ 앞날이 기대 될때 들으면 <b>좋은</b>곡~ 어렸을때 새로운 직장 출근전에 이<b>노래</b>를 들었는데~ 너무 기대 되고~ 설레였다. 듣고 있으면~ 너무 <b>기분</b> 좋아 지는곡 듣고만 있어도... \", \"bloggername\": \"오늘은 또 무엇을 배워볼까?\", \"bloggerlink\": \"blog.naver.com/hwwa\", \"postdate\": \"20250225\"}, {\"title\": \"WIM, Matthew Ifield - Sup [ 팝송추천 / 봄에듣기<b>좋은노래</b> ]\", \"link\": \"https://blog.naver.com/rofjrtyd2/223777116223\", \"description\": \"영어<b>노래</b> #외국<b>노래</b> #<b>노래</b>추천 #<b>노래</b>가사 #인생<b>노래</b> #봄<b>노래</b> #봄<b>노래</b>추천 #봄에듣기<b>좋은노래</b> #<b>기분</b>좋아지는<b>노래</b> #wim #matthewifield #sup #wim<b>노래</b> #wim정보 #sup가사 #sup해석 #sup가사해석\", \"bloggername\": \"리차드의 메모장\", \"bloggerlink\": \"blog.naver.com/rofjrtyd2\", \"postdate\": \"20250228\"}, {\"title\": \"<b>기분 좋은 노래</b> 재생 목록: 기분을 좋게 해주는 음악\", \"link\": \"https://blog.naver.com/ralrbe4924/223331134218\", \"description\": \"이 노래는 에드 시런의 명쾌한 가사와 중독성 있는 멜로디로 유명한 노래입니다. 따뜻한 감성과 신나는 비트가 만나 기분 좋은 에너지를 전해줍니다. 이렇게 다양한 장르의 음악으로 구성된 <b>기분 좋은 노래</b>... \", \"bloggername\": \"ralrbe4924님의 블로그\", \"bloggerlink\": \"blog.naver.com/ralrbe4924\", \"postdate\": \"20240123\"}]', name='blog_search', tool_call_id='call_ZPdn9KcKkjDStSHzAvYQUE6R')]"
      ]
     },
     "execution_count": 26,
     "metadata": {},
     "output_type": "execute_result"
    }
   ],
   "execution_count": 26
  },
  {
   "metadata": {},
   "cell_type": "markdown",
   "source": [
    "## Runnable 객체를 도구(tool) 변환\n",
    "* 무자열이나 dict 입력을 받는 Runnable을 도구로 변환\n",
    "* as_tool 메서드 사용"
   ],
   "id": "93d99ed6e62174a0"
  },
  {
   "metadata": {
    "ExecuteTime": {
     "end_time": "2025-05-10T11:25:38.492351Z",
     "start_time": "2025-05-10T11:25:38.483907Z"
    }
   },
   "cell_type": "code",
   "source": [
    "from langchain_core.runnables import RunnableLambda\n",
    "from pydantic import BaseModel, Field\n",
    "from langchain_core.documents import Document\n",
    "from langchain_community.document_loaders.wikipedia import WikipediaLoader\n",
    "\n",
    "class WikiSearchSchema(BaseModel):\n",
    "    \"\"\"Input schema for Wikipedia search.\"\"\"\n",
    "    query: str = Field(..., description=\"The query to search for in Wikipedia.\")\n",
    "    k: int = Field(2, description=\"The number of documents to return (default is 2\")\n",
    "\n",
    "def search_wiki(input_data: dict) -> List[Document]:\n",
    "    \"\"\"\n",
    "    Search Wikipedia documents based on user input (query) and return k documents\n",
    "    \"\"\"\n",
    "    query = input_data[\"query\"]\n",
    "    k = input_data.get(\"k\", 2)\n",
    "    wiki_loader = WikipediaLoader(query=query, load_max_docs=k, lang=\"ko\")\n",
    "    wiki_docs = wiki_loader.load()\n",
    "    return wiki_docs\n",
    "\n",
    "\n",
    "runnable = RunnableLambda(search_wiki)\n",
    "wiki_search = runnable.as_tool(\n",
    "    name=\"wiki_search\",\n",
    "    description=dedent(\"\"\"\n",
    "        Use this tool when you want to search for information on Wikipedia.\n",
    "        It searches for Wikipedia articles related to the user's query and returns\n",
    "        a specified number of documents. This tool is useful when general knowledge\n",
    "        or background information is required.\n",
    "    \"\"\"),\n",
    "    args_schema=WikiSearchSchema,\n",
    ")"
   ],
   "id": "af06bdc161e81240",
   "outputs": [],
   "execution_count": 27
  },
  {
   "metadata": {
    "ExecuteTime": {
     "end_time": "2025-05-10T11:25:38.509572Z",
     "start_time": "2025-05-10T11:25:38.504212Z"
    }
   },
   "cell_type": "code",
   "source": [
    "pprint(wiki_search)\n",
    "pprint(wiki_search.name)\n",
    "pprint(wiki_search.description)\n",
    "pprint(wiki_search.args)"
   ],
   "id": "912026f7d42b4503",
   "outputs": [
    {
     "name": "stdout",
     "output_type": "stream",
     "text": [
      "StructuredTool(name='wiki_search', description=\"Use this tool when you want to search for information on Wikipedia.\\nIt searches for Wikipedia articles related to the user's query and returns\\na specified number of documents. This tool is useful when general knowledge\\nor background information is required.\", args_schema=<class '__main__.WikiSearchSchema'>, func=<function convert_runnable_to_tool.<locals>.invoke_wrapper at 0x000001F84C5AB2E0>, coroutine=<function convert_runnable_to_tool.<locals>.ainvoke_wrapper at 0x000001F84C5AAF20>)\n",
      "'wiki_search'\n",
      "('Use this tool when you want to search for information on Wikipedia.\\n'\n",
      " \"It searches for Wikipedia articles related to the user's query and returns\\n\"\n",
      " 'a specified number of documents. This tool is useful when general knowledge\\n'\n",
      " 'or background information is required.')\n",
      "{'k': {'default': 2,\n",
      "       'description': 'The number of documents to return (default is 2',\n",
      "       'title': 'K',\n",
      "       'type': 'integer'},\n",
      " 'query': {'description': 'The query to search for in Wikipedia.',\n",
      "           'title': 'Query',\n",
      "           'type': 'string'}}\n"
     ]
    }
   ],
   "execution_count": 28
  },
  {
   "metadata": {
    "ExecuteTime": {
     "end_time": "2025-05-10T11:25:44.930747Z",
     "start_time": "2025-05-10T11:25:38.530061Z"
    }
   },
   "cell_type": "code",
   "source": [
    "# 도구 호출\n",
    "query = \"파스타의 유래\"\n",
    "wiki_results = wiki_search.invoke({\"query\": query})\n",
    "\n",
    "for result in wiki_results:\n",
    "    pprint(result)"
   ],
   "id": "e7d5bbe730f54b62",
   "outputs": [
    {
     "name": "stdout",
     "output_type": "stream",
     "text": [
      "Document(metadata={'title': '오르조', 'summary': '오르조(이탈리아어: orzo) 또는 리소니(이탈리아어: risoni, 단수: risone 리소네[*])는 이탈리아의 파스타이다. \"오르조\"는 라틴어:hordeum에서 유래했으며 \"보리\"를 뜻한다. \"리소니\"는 \"큰 쌀\"이라는 뜻이다. 파스타의 일종으로 큰 쌀알의 모양을 하고 있으며 솔방울이나 잣보다는 좀 더 작다. 보통 라구 등 수프와 함께 먹는다. 원래는 보리로 만들었지만 요즘에는 박력분으로 만드는 것이 흔해졌다. 다른 이름으로는 kritharáki (\"little barley\") 혹은 manéstra(그리스 요리)로 부르며, lisān al-`uṣfūr (\"명금의 혀\")라고 아랍 요리에서 불린다. 오르조를 두고 이탈리아의 쌀이라고 부르기도 한다.\\n터키에서는 아르파 셰흐리예(arpa şehriye)로 불리며, 셰흐리예의 하나이다. 필라브를 만들거나 초르바(수프)에 넣어 먹는다.', 'source': 'https://ko.wikipedia.org/wiki/%EC%98%A4%EB%A5%B4%EC%A1%B0'}, page_content='오르조(이탈리아어: orzo) 또는 리소니(이탈리아어: risoni, 단수: risone 리소네[*])는 이탈리아의 파스타이다. \"오르조\"는 라틴어:hordeum에서 유래했으며 \"보리\"를 뜻한다. \"리소니\"는 \"큰 쌀\"이라는 뜻이다. 파스타의 일종으로 큰 쌀알의 모양을 하고 있으며 솔방울이나 잣보다는 좀 더 작다. 보통 라구 등 수프와 함께 먹는다. 원래는 보리로 만들었지만 요즘에는 박력분으로 만드는 것이 흔해졌다. 다른 이름으로는 kritharáki (\"little barley\") 혹은 manéstra(그리스 요리)로 부르며, lisān al-`uṣfūr (\"명금의 혀\")라고 아랍 요리에서 불린다. 오르조를 두고 이탈리아의 쌀이라고 부르기도 한다.\\n터키에서는 아르파 셰흐리예(arpa şehriye)로 불리며, 셰흐리예의 하나이다. 필라브를 만들거나 초르바(수프)에 넣어 먹는다.\\n\\n\\n== 같이 보기 ==\\n파스티나\\n셰흐리예\\n\\n\\n== 각주 ==')\n",
      "Document(metadata={'title': '이탈리아 요리', 'summary': '이탈리아 요리(Italia 料理, 이탈리아어: cucina italiana 쿠치나 이탈리아나[*])는 남유럽에 있는 이탈리아의 요리이다. 기원전 4세기부터 다양한 사회·정치 변화와 함께 발전해 왔다. 특히 유럽인들이 세계 각지로 진출한 이후 신대륙에서 감자, 토마토, 단고추, 옥수수 등의 다양한 식재료가 유입되면서 이탈리아 요리는 큰 변화를 겪었다. 이런 재료는 18세기 이전까지는 보급되지 않았다.\\n이탈리아 요리는 각 지역마다 고유한 특색이 있고 다양하지만 크게 북부와 남부로 구분한다. 다른 나라와 국경을 맞대던 북부는 산업화하여 호황을 누리면서 농업이 발달한 덕분에 쌀이나 유제품이 사용되는 요리가 많지만 경제적으로 침체됐던 남부는 지역 특산물인 올리브와 토마토, 모짜렐라 치즈나 해산물을 활용한 요리가 많다.\\n간결함으로 귀결되는 특징이 있어 많은 경우 4개~8개 정도의 재료로 조리되며 정교한 준비 과정보다는 재료의 질에 따라 맛이 좌우된다. 치즈와 포도주는 이탈리아 요리의 핵심을 차지하며 여러 종류가 존재하는데 식재료와 치즈의 차이는 파스타의 종류와 요리에 기본이 되는 수프, 소스의 차이를 뜻한다.\\n2013년 CNN은 세계 최고의 요리로 이탈리아 요리를 선정했다.\\n\\n', 'source': 'https://ko.wikipedia.org/wiki/%EC%9D%B4%ED%83%88%EB%A6%AC%EC%95%84_%EC%9A%94%EB%A6%AC'}, page_content=\"이탈리아 요리(Italia 料理, 이탈리아어: cucina italiana 쿠치나 이탈리아나[*])는 남유럽에 있는 이탈리아의 요리이다. 기원전 4세기부터 다양한 사회·정치 변화와 함께 발전해 왔다. 특히 유럽인들이 세계 각지로 진출한 이후 신대륙에서 감자, 토마토, 단고추, 옥수수 등의 다양한 식재료가 유입되면서 이탈리아 요리는 큰 변화를 겪었다. 이런 재료는 18세기 이전까지는 보급되지 않았다.\\n이탈리아 요리는 각 지역마다 고유한 특색이 있고 다양하지만 크게 북부와 남부로 구분한다. 다른 나라와 국경을 맞대던 북부는 산업화하여 호황을 누리면서 농업이 발달한 덕분에 쌀이나 유제품이 사용되는 요리가 많지만 경제적으로 침체됐던 남부는 지역 특산물인 올리브와 토마토, 모짜렐라 치즈나 해산물을 활용한 요리가 많다.\\n간결함으로 귀결되는 특징이 있어 많은 경우 4개~8개 정도의 재료로 조리되며 정교한 준비 과정보다는 재료의 질에 따라 맛이 좌우된다. 치즈와 포도주는 이탈리아 요리의 핵심을 차지하며 여러 종류가 존재하는데 식재료와 치즈의 차이는 파스타의 종류와 요리에 기본이 되는 수프, 소스의 차이를 뜻한다.\\n2013년 CNN은 세계 최고의 요리로 이탈리아 요리를 선정했다.\\n\\n\\n== 역사 ==\\n대략 기원전 4세기부터 시작되었다고 여겨진다. 여러 세기 동안 주변 지역과 정복자, 유명한 요리사, 정치 변동 및 신대륙의 발견 등 매우 다양한 요소가 이탈리아 요리의 형성에 영향을 끼쳤다.\\n\\n\\n=== 고대 ===\\n이탈리아 요리에 대해 최초의 저술을 남긴 사람은 그리스계 시칠리아 사람인 아케스트라투스이다. 기원전 4세기에 지금의 시라쿠사 지역에 살던 그는 “계절에 맞는 최상의 재료”를 사용하는 것에 대한 시를 남겼다. 그는 또한 향신료나 허브, 양념 따위를 사용한 음식과 그 중요성, 생선 요리 등에 대해 서술했다. 특정 양념이나 향신료가 지나쳐서는 안 된다는 것 또한 집필 내용에 포함됐지만 470가지의 요리법을 담은 책인 《데 레 코퀴나리아》(De re coquinaria《요리에 관하여》)를 출판하면서 이런 형태의 요리는 역사 속으로 사라졌다. 이 책은 생선의 비린내나 특정 재료의 맛을 숨기면서 다른 맛을 낼 수 있는 소스에 대해서 서술해 놓았다. 로마 사람들은 그리스 최고의 제빵사를 고용해서 빵을 만들었고 가장 뛰어난 재료로 알려져 있던 페코리니(pecorini)를 시칠리아에서 수입해 왔다고 한다. 로마인은 염소를 사육해 육식을 함과 동시에 여러 가지 식물도 재배한 것으로 알려져 있다.\\n\\n\\n=== 중세 ===\\n시칠리아 지방으로 로마와 아테네의 요리 문화가 유입됐고 섬 지형에 맞게 변형되고 다시 새로운 요리로 탈바꿈하게 됐다. 이탈리아 요리의 뿌리가 시칠리아에 기원한다고 볼 수 있는 셈이다.\\n\\n무슬림이 9세기까지 시칠리아를 침략하여 다스렸고 그 뒤에는 바이킹 세력이 남하하여 지중해 일대는 상당한 혼란기를 겪었다. 아랍인들은 시금치, 아몬드, 쌀 등을 도입했으며, 이러한 재료의 출현은 12세기 노르웨이의 왕이 시칠리아에 왔을 때 사람들이 기다란 면발을 만들어 먹었다는 것을 보았다고 기록한 것을 토대로 알 수 있다. 이 요리를 일부에서는 파스타의 첫 출현이라고 보고 있다. 당시에는 면을 단순히 밀가루와 물로 만들었다고 하는데, 사람들이 “아트리야”(atriya)라고 불렀다가 나중에는 “트리”(trii)로 굳어졌다고 한다. 트리(Trii)라는 이 낱말은 남부 이탈리아에서 스파게티의 다른 이름으로 쓰이기도 했다. 노르만 족들은 청어나 대구 따위를 절여 먹는 법도 들여왔으며, 이 방법은 아직까지도 이탈리아에서 사용되고 있다.\\n냉장고가 없던 시절에 음식 저장법은 매우 중요했으며, 그 방법은 물리적이면서 화학적이기도 했다. 육류나 생선은 훈제하거나 얼음 위에 보관했고 아니면 건조시켰다. 소금물이나 소금에 식재료를 절여 두는 것은 청어나 돼지고기, 피클 따위를 보관하는 방법으로 유용하게 쓰였으며, 식초나 기름 등을 함께 넣어 동물성 단백질이 변질되지 않도록 했는데, 이는 지금의 방부제와 유사한 효과를 냈다. 과일 보관에는 술이나 꿀, 설탕이 쓰였다.\\n\\n이탈리아 반도 북부 지방에서는 독일 요리의 특징과 고대 로마식 요리의 특징이 서로 겹치는 현상이 나타났으며, 남쪽에는 아랍 문화에 토대한 식사 형태가 뿌리내려 지중해 일대로 널리 퍼져 갔다. 가장 오래된 이탈리아의 요리책은 13세기 나폴리에서 집필됐다고 전해지는 《리베르 데 코퀴나》(Liber de Coquina)로서 한국어로는 말 그대로 《요리책》이다. 이 책에는 로마식 배추 요리나 작은 잎을 잘라서 요리한 음식인 라바냐 파이(Lavagna pie)를 비롯해서 지금도 볼 수 있는 생선 요리도 많이 소개되어 있다.\\n15세기에는 바티칸의 요리사로 근무한 마르티노가 《리브로 데 아르테 코퀴나리아》(Libro de Arte Coquinaria, 《요리법》)라는 원고를 써서 그때까지 소개된 책과는 아주 다른 고품격 음식을 다루었다. 그 중 한 가지는 “마카로니 시칠리아니”(Maccaroni Siciliani, 시실리풍 마카로니)인데 얇은 철제 기구에 밀가루 반죽을 덮어서 햇빛에 말려 먹는 요리였다. 주재료인 마카로니는 갓 잡은 수탉과 함께 요리하였고 사프란을 첨가했다. 그는 이 요리가 아랍 문화의 영향을 받았다고 적어 놓았다. 로마인의 요리법으로 포함된 것 중에는 양배추로 요리한 음식과 “코피에테”(coppiette)가 있었다. 그가 선보인 피렌체 풍 음식으로는 달걀로 요리한 볼로네즈 토르타(Bolognese Torta, 볼로냐풍 케이크)와 시에니즈 토르타(Sienese torta, 시에나풍 케이크)가 있었는데 제노바 풍 마카로니 요리, 호박, 버섯, 시금치를 이용해 만들었던 파이 등도 함께 다뤘다.\\n마르티노의 요리는 1475년 베네치아에서 바르톨로미오 플라티나가 출판한 《참된 즐거움과 건강에 대하여》(De honesta voluptate et valetudine)에도 소개되었다. 마르티노의 원고를 참고해서 지역에 따라 분류하고 정리했으며, 마조레 호수의 농어나 가르다 호수의 정어리 등 인근에서 가져다가 사용한 식재료와 해당 음식을 자세히 설명하였다.\\n\\n\\n=== 근대 초 ===\\n이탈리아의 정통 요리는 피렌체와 로마, 베네치아, 페라라의 궁중에서 요리 문화가 꽃피운 이후 본격화하였다. 그중에서도 페라라의 에스테 궁전이 요리 문화의 선두 주자가 됐다. 1549년 이폴리토 데스테의 집사였던 크리스토포로 메시스부고(Christoforo Messisbugo)가 《Banchetti Composizioni di Vivande》를 출판하면서 이탈리아의 파이나 타르트를 소개했다. 그 책에서는 동양이나 동부 지방에서 유입된 재료, 124종의 다양한 양념에 대해서도 설명해 놓았다.\\n\\n1570년 교황 비오 5세의 개인 요리사였던 바르톨미오 스카피가 책 《오페라》(Opera)를 써냈다. 다섯 권으로 구성된 이 책은 요리하는 방법을 천 가지 이상 설명해 놓았을 뿐만 아니라 정찬에서 어떤 형태로 음식이 나가고 식단이 결정됐는지, 조리 기구나 요리하는 모습도 상세히 다뤘다. 다른 궁중에서 전해졌던 책과 이 책이 특별히 다른 점은 가금류를 요리하는 법이다. 인근의 동물이나 새를 잡아서 어떤 식으로 다듬고 깨끗하게 잘라내는지가 나와 있다. 혀나 머리, 어깨뼈 부위를 손질하는 방법도 다뤘다. 제3권에서는 생선이나 사순절에 먹는 음식을 설명했다. 생선 요리는 구워 먹거나 탕류, 찜으로 먹었으므로 상당히 간단했다. 제5권에서는 나폴리풍 피자 요리법이 등장하는데 당시 이탈리아에는 토마토가 존재하지 않았으므로 피자가 지금의 맛이 아니라 달거나 짭짜름한 맛이었다. 옥수수나 칠면조 역시 없었으므로 현대인이 생각하는 음식 문화와는 상당히 달랐다. 이외에 타라트나 파이, 얇게 썬 과일 튀김에 대해서도 썼다.\\n1600년대 잔자코모 카스텔베트로(Giangiacomo Castelvetro)는 《모든 종류의 채소와 허브, 과일》(Brieve Racconto di Tutte le Radici di Tutte l'Herbe et di Tutti i Frutti)이라는 책을 썼다. 모데나 태생인 카스텔베르트로는 개신교도였기에 영국으로 건너갔다. 이 책은 이탈리아의 채소와 과일,\")\n"
     ]
    }
   ],
   "execution_count": 29
  },
  {
   "metadata": {
    "ExecuteTime": {
     "end_time": "2025-05-10T11:25:46.895101Z",
     "start_time": "2025-05-10T11:25:44.937758Z"
    }
   },
   "cell_type": "code",
   "source": [
    "# LLM에 도구 바인딩\n",
    "llm_with_tools = llm.bind_tools(tools=[wiki_search, tavily_search, blog_search])\n",
    "\n",
    "query = \"서울 강남의 유명한 파스타 맛집은 어디인가요? 그리고 파스타의 유래를 위키피디아에서 찾아주세요.\"\n",
    "ai_msg = llm_with_tools.invoke(query)\n",
    "\n",
    "pprint(ai_msg)\n",
    "pprint(\"-\" * 100)\n",
    "\n",
    "pprint(ai_msg.content)\n",
    "pprint(\"-\" * 100)\n",
    "\n",
    "pprint(ai_msg.tool_calls)"
   ],
   "id": "785f4c8ca7e8ba9b",
   "outputs": [
    {
     "name": "stdout",
     "output_type": "stream",
     "text": [
      "AIMessage(content='', additional_kwargs={'tool_calls': [{'id': 'call_w8XFxyknTYQb1st45OssKsK0', 'function': {'arguments': '{\"query\": \"서울 강남 파스타 맛집\", \"search_count\": 5}', 'name': 'blog_search'}, 'type': 'function'}, {'id': 'call_xaEQAZc0qzDytm5Li3nCdTta', 'function': {'arguments': '{\"query\": \"파스타\", \"k\": 2}', 'name': 'wiki_search'}, 'type': 'function'}], 'refusal': None}, response_metadata={'token_usage': {'completion_tokens': 62, 'prompt_tokens': 248, 'total_tokens': 310, 'completion_tokens_details': {'accepted_prediction_tokens': 0, 'audio_tokens': 0, 'reasoning_tokens': 0, 'rejected_prediction_tokens': 0}, 'prompt_tokens_details': {'audio_tokens': 0, 'cached_tokens': 0}}, 'model_name': 'gpt-4o-mini-2024-07-18', 'system_fingerprint': 'fp_96c46af214', 'id': 'chatcmpl-BVccst5469AWJxVF8nZXm0laI8FQZ', 'finish_reason': 'tool_calls', 'logprobs': None}, id='run-6290d6e0-67dc-4f3e-8f6e-f7d0484e49d1-0', tool_calls=[{'name': 'blog_search', 'args': {'query': '서울 강남 파스타 맛집', 'search_count': 5}, 'id': 'call_w8XFxyknTYQb1st45OssKsK0', 'type': 'tool_call'}, {'name': 'wiki_search', 'args': {'query': '파스타', 'k': 2}, 'id': 'call_xaEQAZc0qzDytm5Li3nCdTta', 'type': 'tool_call'}], usage_metadata={'input_tokens': 248, 'output_tokens': 62, 'total_tokens': 310, 'input_token_details': {'audio': 0, 'cache_read': 0}, 'output_token_details': {'audio': 0, 'reasoning': 0}})\n",
      "'----------------------------------------------------------------------------------------------------'\n",
      "''\n",
      "'----------------------------------------------------------------------------------------------------'\n",
      "[{'args': {'query': '서울 강남 파스타 맛집', 'search_count': 5},\n",
      "  'id': 'call_w8XFxyknTYQb1st45OssKsK0',\n",
      "  'name': 'blog_search',\n",
      "  'type': 'tool_call'},\n",
      " {'args': {'k': 2, 'query': '파스타'},\n",
      "  'id': 'call_xaEQAZc0qzDytm5Li3nCdTta',\n",
      "  'name': 'wiki_search',\n",
      "  'type': 'tool_call'}]\n"
     ]
    }
   ],
   "execution_count": 30
  },
  {
   "metadata": {},
   "cell_type": "markdown",
   "source": "## LCEL 체인을 도구로 변환하기",
   "id": "6fb3037e09ebf598"
  },
  {
   "metadata": {
    "ExecuteTime": {
     "end_time": "2025-05-10T11:25:57.367573Z",
     "start_time": "2025-05-10T11:25:46.915732Z"
    }
   },
   "cell_type": "code",
   "source": [
    "def wiki_search_and_summarize(input_data: dict):\n",
    "    wiki_loader = WikipediaLoader(query=input_data[\"query\"], load_max_docs=2, lang=\"ko\")\n",
    "    wiki_docs = wiki_loader.load()\n",
    "\n",
    "    formatted_docs = [\n",
    "        f'<Document source=\"{doc.metadata[\"source\"]}\">\\n{doc.page_content}\\n</Document>'\n",
    "        for doc in wiki_docs\n",
    "    ]\n",
    "    return formatted_docs\n",
    "\n",
    "summary_prompt = ChatPromptTemplate.from_template(\n",
    "    \"Summarize the following text in a concise manner:\\n\\n{context}\\n\\nSummary:\"\n",
    ")\n",
    "\n",
    "llm = ChatOpenAI(model=\"gpt-4o-mini\", temperature=0)\n",
    "summary_chain = (\n",
    "    {\"context\": RunnableLambda(wiki_search_and_summarize)}\n",
    "    | summary_prompt | llm | StrOutputParser()\n",
    ")\n",
    "\n",
    "summarized_text = summary_chain.invoke({\"query\": \"파스타의 유래\"})\n",
    "pprint(summarized_text)"
   ],
   "id": "dad7cfc397d53260",
   "outputs": [
    {
     "name": "stdout",
     "output_type": "stream",
     "text": [
      "('오르조(또는 리소니)는 이탈리아의 파스타로, 보리에서 유래된 이름을 가지고 있으며 큰 쌀알 모양이다. 주로 수프와 함께 먹으며, 현재는 '\n",
      " '박력분으로 만들어진다. 터키에서는 아르파 셰흐리예로 불리며, 필라브나 수프에 사용된다. 이탈리아 요리는 기원전 4세기부터 발전해왔으며, '\n",
      " '지역마다 특색이 다르다. 북부는 쌀과 유제품을, 남부는 올리브와 해산물을 주로 사용한다. 이탈리아 요리는 간결함과 재료의 질을 중시하며, '\n",
      " '2013년 CNN에서 세계 최고의 요리로 선정되었다.')\n"
     ]
    }
   ],
   "execution_count": 31
  },
  {
   "metadata": {
    "ExecuteTime": {
     "end_time": "2025-05-10T11:25:57.381593Z",
     "start_time": "2025-05-10T11:25:57.374587Z"
    }
   },
   "cell_type": "code",
   "source": [
    "# wiki summary chain을 도구로 변환하기\n",
    "class WikiSummarySchema(BaseModel):\n",
    "    \"\"\"Input schema for Wikipedia search.\"\"\"\n",
    "    query: str = Field(..., description=\"The query to search for in Wikipedia\")\n",
    "\n",
    "wiki_summary_search = summary_chain.as_tool(\n",
    "    name=\"wiki_summary\",\n",
    "    description=dedent(\"\"\"\n",
    "        Use this tool when you want to search for information on Wikipedia.\n",
    "        It searches for Wikipedia articles related to the user's query and returns\n",
    "        a summarized text. this tool is useful when general knowledge\n",
    "        or background information is required.\n",
    "    \"\"\"),\n",
    "    args_schema=WikiSummarySchema,\n",
    ")\n",
    "\n",
    "pprint(type(wiki_summary_search))\n",
    "pprint(\"-\"*100)\n",
    "pprint(wiki_summary_search.name)\n",
    "pprint(\"-\"*100)\n",
    "pprint(wiki_summary_search.description)\n",
    "pprint(\"-\"*100)\n",
    "pprint(wiki_summary_search.args)\n",
    "pprint(\"-\"*100)\n",
    "pprint(wiki_summary_search.args_schema)\n",
    "pprint(\"-\"*100)\n",
    "pprint(wiki_summary_search.args_schema.schema())"
   ],
   "id": "34fbcefb6910d068",
   "outputs": [
    {
     "name": "stdout",
     "output_type": "stream",
     "text": [
      "<class 'langchain_core.tools.structured.StructuredTool'>\n",
      "'----------------------------------------------------------------------------------------------------'\n",
      "'wiki_summary'\n",
      "'----------------------------------------------------------------------------------------------------'\n",
      "('Use this tool when you want to search for information on Wikipedia.\\n'\n",
      " \"It searches for Wikipedia articles related to the user's query and returns\\n\"\n",
      " 'a summarized text. this tool is useful when general knowledge\\n'\n",
      " 'or background information is required.')\n",
      "'----------------------------------------------------------------------------------------------------'\n",
      "{'query': {'description': 'The query to search for in Wikipedia',\n",
      "           'title': 'Query',\n",
      "           'type': 'string'}}\n",
      "'----------------------------------------------------------------------------------------------------'\n",
      "<class '__main__.WikiSummarySchema'>\n",
      "'----------------------------------------------------------------------------------------------------'\n",
      "{'description': 'Input schema for Wikipedia search.',\n",
      " 'properties': {'query': {'description': 'The query to search for in Wikipedia',\n",
      "                          'title': 'Query',\n",
      "                          'type': 'string'}},\n",
      " 'required': ['query'],\n",
      " 'title': 'WikiSummarySchema',\n",
      " 'type': 'object'}\n"
     ]
    }
   ],
   "execution_count": 32
  },
  {
   "metadata": {
    "ExecuteTime": {
     "end_time": "2025-05-10T11:25:59.907608Z",
     "start_time": "2025-05-10T11:25:57.402303Z"
    }
   },
   "cell_type": "code",
   "source": [
    "# tavily + blog + wiki_summary\n",
    "llm_with_tools = llm.bind_tools(tools=[wiki_summary_search, tavily_search, blog_search])\n",
    "query = \"서울 강남의 유명한 파스타 맛집은 어디인가요? 그리고 파스타의 유래를 알려주세요.\"\n",
    "ai_msg = llm_with_tools.invoke(query)\n",
    "\n",
    "pprint(ai_msg)\n",
    "print(\"-\"*100)\n",
    "pprint(ai_msg.content)\n",
    "print(\"-\"*100)\n",
    "pprint(ai_msg.tool_calls)\n",
    "print(\"-\"*100)"
   ],
   "id": "efb232a142932cd",
   "outputs": [
    {
     "name": "stdout",
     "output_type": "stream",
     "text": [
      "AIMessage(content='', additional_kwargs={'tool_calls': [{'id': 'call_3xVY86Ohn9LfF234DMsBl8oU', 'function': {'arguments': '{\"query\": \"서울 강남 파스타 맛집\", \"search_count\": 5}', 'name': 'blog_search'}, 'type': 'function'}, {'id': 'call_LKR9iFW3vkXenk4qFsqCJleV', 'function': {'arguments': '{\"query\": \"파스타\"}', 'name': 'wiki_summary'}, 'type': 'function'}], 'refusal': None}, response_metadata={'token_usage': {'completion_tokens': 58, 'prompt_tokens': 218, 'total_tokens': 276, 'completion_tokens_details': {'accepted_prediction_tokens': 0, 'audio_tokens': 0, 'reasoning_tokens': 0, 'rejected_prediction_tokens': 0}, 'prompt_tokens_details': {'audio_tokens': 0, 'cached_tokens': 0}}, 'model_name': 'gpt-4o-mini-2024-07-18', 'system_fingerprint': 'fp_dbaca60df0', 'id': 'chatcmpl-BVcd4SRdR9QJQJozuIOXHPWSbi9ry', 'finish_reason': 'tool_calls', 'logprobs': None}, id='run-df0dc7cc-a622-4433-ac7f-1672a9b62f09-0', tool_calls=[{'name': 'blog_search', 'args': {'query': '서울 강남 파스타 맛집', 'search_count': 5}, 'id': 'call_3xVY86Ohn9LfF234DMsBl8oU', 'type': 'tool_call'}, {'name': 'wiki_summary', 'args': {'query': '파스타'}, 'id': 'call_LKR9iFW3vkXenk4qFsqCJleV', 'type': 'tool_call'}], usage_metadata={'input_tokens': 218, 'output_tokens': 58, 'total_tokens': 276, 'input_token_details': {'audio': 0, 'cache_read': 0}, 'output_token_details': {'audio': 0, 'reasoning': 0}})\n",
      "----------------------------------------------------------------------------------------------------\n",
      "''\n",
      "----------------------------------------------------------------------------------------------------\n",
      "[{'args': {'query': '서울 강남 파스타 맛집', 'search_count': 5},\n",
      "  'id': 'call_3xVY86Ohn9LfF234DMsBl8oU',\n",
      "  'name': 'blog_search',\n",
      "  'type': 'tool_call'},\n",
      " {'args': {'query': '파스타'},\n",
      "  'id': 'call_LKR9iFW3vkXenk4qFsqCJleV',\n",
      "  'name': 'wiki_summary',\n",
      "  'type': 'tool_call'}]\n",
      "----------------------------------------------------------------------------------------------------\n"
     ]
    }
   ],
   "execution_count": 33
  },
  {
   "metadata": {
    "ExecuteTime": {
     "end_time": "2025-05-10T11:26:08.956595Z",
     "start_time": "2025-05-10T11:26:00.003694Z"
    }
   },
   "cell_type": "code",
   "source": [
    "# 도구 호출\n",
    "tool_message = wiki_summary_search.invoke(ai_msg.tool_calls[1])\n",
    "pprint(tool_message)"
   ],
   "id": "ea93d65c5f08f997",
   "outputs": [
    {
     "name": "stdout",
     "output_type": "stream",
     "text": [
      "ToolMessage(content='파스타는 이탈리아의 주요 밀 식품으로, 듀럼밀 세몰라와 물 또는 밀가루와 달걀로 만들어지며, 삶거나 구워서 먹는다. 이탈리아의 국민 음식으로 여겨지며, 역사적으로 그리스와 아랍 문화의 영향을 받았다. 파스타는 건파스타와 생파스타로 나뉘며, 다양한 형태와 종류가 존재한다. 요리 방법으로는 삶거나 오븐에 구워내는 방식이 있다. 투움바 파스타는 미국의 아웃백 스테이크하우스에서 유래된 요리로, 매콤한 크림 소스를 사용하며 한국에서 인기를 끌고 있다.', name='wiki_summary', tool_call_id='call_LKR9iFW3vkXenk4qFsqCJleV')\n"
     ]
    }
   ],
   "execution_count": 34
  },
  {
   "metadata": {
    "ExecuteTime": {
     "end_time": "2025-05-10T11:26:22.487382Z",
     "start_time": "2025-05-10T11:26:08.971724Z"
    }
   },
   "cell_type": "code",
   "source": [
    "from langchain_core.runnables.base import chain\n",
    "\n",
    "# 날짜 설정\n",
    "today = datetime.today().strftime(\"%Y-%m-%d\")\n",
    "# 프로프트 템플릿\n",
    "prompt = ChatPromptTemplate([\n",
    "    (\"system\", f\"You are a helpful AI assistant. Today's date is {today}\"),\n",
    "    (\"human\", \"{user_input}\"),\n",
    "    (\"placeholder\", \"{messages}\")\n",
    "])\n",
    "# LLM 도구 바인딩\n",
    "llm_with_tools = llm.bind_tools(tools=[wiki_summary_search])\n",
    "\n",
    "# LLM 체인 생성\n",
    "llm_chain = prompt | llm_with_tools\n",
    "\n",
    "@chain\n",
    "def wiki_summary_chain(user_input: str, config: RunnableConfig):\n",
    "    input_ = {\"user_input\": user_input}\n",
    "    ai_msg = llm_chain.invoke(input_, config=config)\n",
    "    print(\"ai msg: \\n\",ai_msg)\n",
    "    print(\"-\"*100)\n",
    "    tool_msgs = wiki_summary_search.batch(ai_msg.tool_calls, config=config)\n",
    "    print(\"tool msgs: \\n\",tool_msgs)\n",
    "    print(\"-\"*100)\n",
    "    return llm_chain.invoke({**input_, \"messages\": [ai_msg, *tool_msgs]}, config=config)\n",
    "\n",
    "# 체인 실행\n",
    "response = wiki_summary_chain.invoke(\"파스타의 유래에 대해서 알려주세요.\")\n",
    "\n",
    "# 응답 출력\n",
    "pprint(response.content)\n"
   ],
   "id": "66f1cf600b7f0120",
   "outputs": [
    {
     "name": "stdout",
     "output_type": "stream",
     "text": [
      "ai msg: \n",
      " content='' additional_kwargs={'tool_calls': [{'id': 'call_T4xs0zvnu7S1SQUUTWsir42W', 'function': {'arguments': '{\"query\":\"파스타의 유래\"}', 'name': 'wiki_summary'}, 'type': 'function'}], 'refusal': None} response_metadata={'token_usage': {'completion_tokens': 20, 'prompt_tokens': 120, 'total_tokens': 140, 'completion_tokens_details': {'accepted_prediction_tokens': 0, 'audio_tokens': 0, 'reasoning_tokens': 0, 'rejected_prediction_tokens': 0}, 'prompt_tokens_details': {'audio_tokens': 0, 'cached_tokens': 0}}, 'model_name': 'gpt-4o-mini-2024-07-18', 'system_fingerprint': 'fp_0392822090', 'id': 'chatcmpl-BVcdF3c4yDE48yFGTHKG4qI3BNAZK', 'finish_reason': 'tool_calls', 'logprobs': None} id='run-bc6a4448-9186-4382-b01d-6ae16036bccb-0' tool_calls=[{'name': 'wiki_summary', 'args': {'query': '파스타의 유래'}, 'id': 'call_T4xs0zvnu7S1SQUUTWsir42W', 'type': 'tool_call'}] usage_metadata={'input_tokens': 120, 'output_tokens': 20, 'total_tokens': 140, 'input_token_details': {'audio': 0, 'cache_read': 0}, 'output_token_details': {'audio': 0, 'reasoning': 0}}\n",
      "----------------------------------------------------------------------------------------------------\n",
      "tool msgs: \n",
      " [ToolMessage(content='오르조(또는 리소니)는 이탈리아의 파스타로, 보리에서 유래된 이름을 가지고 있으며 큰 쌀알 모양이다. 주로 수프와 함께 먹으며, 현재는 박력분으로 만들어진다. 터키에서는 아르파 셰흐리예로 불리며, 필라브나 수프에 사용된다. 이탈리아 요리는 기원전 4세기부터 발전해왔으며, 지역에 따라 다양한 특색을 지닌다. 북부는 쌀과 유제품을, 남부는 올리브와 해산물을 주로 사용한다. 이탈리아 요리는 간결함과 재료의 질을 중시하며, 2013년 CNN에서 세계 최고의 요리로 선정되었다.', name='wiki_summary', tool_call_id='call_T4xs0zvnu7S1SQUUTWsir42W')]\n",
      "----------------------------------------------------------------------------------------------------\n",
      "('파스타는 이탈리아의 전통 요리로, 그 기원은 기원전 4세기까지 거슬러 올라갑니다. 이탈리아의 지역에 따라 다양한 형태와 재료가 사용되며, '\n",
      " '북부 지역은 주로 쌀과 유제품을, 남부 지역은 올리브와 해산물을 주로 사용합니다. \\n'\n",
      " '\\n'\n",
      " '파스타의 한 예로 오르조(또는 리소니)가 있으며, 이는 보리에서 유래된 이름을 가지고 있고, 큰 쌀알 모양입니다. 주로 수프와 함께 '\n",
      " '먹으며, 현재는 박력분으로 만들어집니다. 이탈리아 요리는 간결함과 재료의 질을 중시하며, 2013년에는 CNN에서 세계 최고의 요리로 '\n",
      " '선정된 바 있습니다.')\n"
     ]
    }
   ],
   "execution_count": 35
  },
  {
   "metadata": {},
   "cell_type": "markdown",
   "source": "## 백터 저장소 검색기",
   "id": "29089630c6941d4d"
  },
  {
   "metadata": {
    "ExecuteTime": {
     "end_time": "2025-05-10T11:26:22.503998Z",
     "start_time": "2025-05-10T11:26:22.494390Z"
    }
   },
   "cell_type": "code",
   "source": [
    "from langchain.document_loaders import TextLoader\n",
    "\n",
    "# 메뉴판 텍스트 데이터 로드\n",
    "loader = TextLoader(\"./data/restaurant_menu.txt\", encoding=\"utf-8\")\n",
    "documents = loader.load()\n",
    "\n",
    "print(len(documents))\n",
    "pprint(documents)"
   ],
   "id": "afcec52e2ef2954e",
   "outputs": [
    {
     "name": "stdout",
     "output_type": "stream",
     "text": [
      "1\n",
      "[Document(metadata={'source': './data/restaurant_menu.txt'}, page_content='1. 시그니처 스테이크\\n   • 가격: ₩35,000\\n   • 주요 식재료: 최상급 한우 등심, 로즈메리 감자, 그릴드 아스파라거스\\n   • 설명: 셰프의 특제 시그니처 메뉴로, 21일간 건조 숙성한 최상급 한우 등심을 사용합니다. 미디엄 레어로 조리하여 육즙을 최대한 보존하며, 로즈메리 향의 감자와 아삭한 그릴드 아스파라거스가 곁들여집니다. 레드와인 소스와 함께 제공되어 풍부한 맛을 더합니다.\\n\\n2. 트러플 리조또\\n   • 가격: ₩22,000\\n   • 주요 식재료: 이탈리아산 아르보리오 쌀, 블랙 트러플, 파르미지아노 레지아노 치즈\\n   • 설명: 크리미한 텍스처의 리조또에 고급 블랙 트러플을 듬뿍 얹어 풍부한 향과 맛을 즐길 수 있는 메뉴입니다. 24개월 숙성된 파르미지아노 레지아노 치즈를 사용하여 깊은 맛을 더했으며, 주문 즉시 조리하여 최상의 상태로 제공됩니다.\\n\\n3. 연어 타르타르\\n   • 가격: ₩18,000\\n   • 주요 식재료: 노르웨이산 생연어, 아보카도, 케이퍼, 적양파\\n   • 설명: 신선한 노르웨이산 생연어를 곱게 다져 아보카도, 케이퍼, 적양파와 함께 섞어 만든 타르타르입니다. 레몬 드레싱으로 상큼한 맛을 더했으며, 바삭한 브리오쉬 토스트와 함께 제공됩니다. 전채요리로 완벽한 메뉴입니다.\\n\\n4. 버섯 크림 수프\\n   • 가격: ₩10,000\\n   • 주요 식재료: 양송이버섯, 표고버섯, 생크림, 트러플 오일\\n   • 설명: 양송이버섯과 표고버섯을 오랜 시간 정성스레 끓여 만든 크림 수프입니다. 부드러운 텍스처와 깊은 버섯 향이 특징이며, 최상급 트러플 오일을 살짝 뿌려 고급스러운 향을 더했습니다. 파슬리를 곱게 다져 고명으로 올려 제공됩니다.\\n\\n5. 가든 샐러드\\n   • 가격: ₩12,000\\n   • 주요 식재료: 유기농 믹스 그린, 체리 토마토, 오이, 당근, 발사믹 드레싱\\n   • 설명: 신선한 유기농 채소들로 구성된 건강한 샐러드입니다. 아삭한 식감의 믹스 그린에 달콤한 체리 토마토, 오이, 당근을 더해 다양한 맛과 식감을 즐길 수 있습니다. 특제 발사믹 드레싱이 채소 본연의 맛을 살려줍니다.\\n\\n6. 해산물 파스타\\n   • 가격: ₩24,000\\n   • 주요 식재료: 링귀네 파스타, 새우, 홍합, 오징어, 토마토 소스\\n   • 설명: 알 덴테로 삶은 링귀네 파스타에 신선한 해산물을 듬뿍 올린 메뉴입니다. 토마토 소스의 산미와 해산물의 감칠맛이 조화를 이루며, 마늘과 올리브 오일로 풍미를 더했습니다. 파슬리를 뿌려 향긋한 맛을 더합니다.\\n\\n7. 랍스터 비스크\\n   • 가격: ₩28,000\\n   • 주요 식재료: 랍스터, 생크림, 브랜디, 파프리카\\n   • 설명: 랍스터 껍질과 육수로 오랜 시간 우려낸 진한 비스크 수프입니다. 생크림으로 부드러운 질감을 더하고 브랜디로 깊은 풍미를 살렸습니다. 작은 랍스터 살을 토핑으로 올려 고급스러움을 더했습니다.\\n\\n8. 안심 스테이크 샐러드\\n   • 가격: ₩26,000\\n   • 주요 식재료: 소고기 안심, 루꼴라, 체리 토마토, 발사믹 글레이즈\\n   • 설명: 부드러운 안심 스테이크를 얇게 슬라이스하여 신선한 루꼴라 위에 올린 메인 요리 샐러드입니다. 체리 토마토와 파마산 치즈 플레이크로 풍미를 더하고, 발사믹 글레이즈로 마무리하여 고기의 풍미를 한층 끌어올렸습니다.\\n\\n9. 치킨 콘피\\n   • 가격: ₩23,000\\n   • 주요 식재료: 닭다리살, 허브, 마늘, 올리브 오일\\n   • 설명: 닭다리살을 허브와 마늘을 넣은 올리브 오일에 저온에서 장시간 조리한 프랑스 요리입니다. 부드럽고 촉촉한 육질이 특징이며, 로즈메리 감자와 제철 채소를 곁들여 제공합니다. 레몬 제스트를 뿌려 상큼한 향을 더했습니다.\\n\\n10. 티라미수\\n    • 가격: ₩9,000\\n    • 주요 식재료: 마스카포네 치즈, 에스프레소, 카카오 파우더, 레이디핑거 비스킷\\n    • 설명: 부드러운 마스카포네 치즈 크림과 에스프레소에 적신 레이디핑거 비스킷을 층층이 쌓아 만든 이탈리아 정통 디저트입니다. 고소한 카카오 파우더를 듬뿍 뿌려 풍미를 더했습니다. 커피의 쌉싸름함과 치즈의 부드러움이 조화롭게 어우러집니다.')]\n"
     ]
    }
   ],
   "execution_count": 36
  },
  {
   "metadata": {
    "ExecuteTime": {
     "end_time": "2025-05-10T11:26:22.537009Z",
     "start_time": "2025-05-10T11:26:22.530809Z"
    }
   },
   "cell_type": "code",
   "source": [
    "from langchain_core.documents import Document\n",
    "\n",
    "# 문서 분할\n",
    "def split_menu_items(document):\n",
    "    \"\"\"메뉴 항목을 분리하는 함수\"\"\"\n",
    "    # 정규표현식 정의, \"숫자. \"로 시작하고, 두 줄 바꿈으로 끝나거나 문서 끝까지인 항목들을 추출\n",
    "    pattern = r'(\\d+\\.\\s.*?)(?=\\n\\n\\d+\\.|$)'\n",
    "    menu_items = re.findall(pattern, document.page_content, re.DOTALL)\n",
    "\n",
    "    menu_documents = []\n",
    "    for i, item in enumerate(menu_items):\n",
    "        menu_name = item.split('\\n')[0].split('.', 1)[1].strip()\n",
    "        menu_doc = Document(\n",
    "            page_content=item.strip(),\n",
    "            metadata={\n",
    "                \"source\": document.metadata[\"source\"],\n",
    "                \"menu_number\": i,\n",
    "                \"menu_name\": menu_name,\n",
    "            }\n",
    "        )\n",
    "        menu_documents.append(menu_doc)\n",
    "    return menu_documents\n",
    "\n",
    "menu_documents = []\n",
    "for doc in documents:\n",
    "    menu_documents += split_menu_items(doc)\n",
    "\n",
    "print(f\"총 {len(menu_documents)}개의 메뉴 항목이 처리\")\n",
    "for doc in menu_documents[:2]:\n",
    "    print(f\"menu number: {doc.metadata['menu_number']}\")\n",
    "    print(f\"menu name: {doc.metadata['menu_name']}\")\n",
    "    print(f\"menu description: {doc.page_content[:100]}...\")"
   ],
   "id": "5e9aebdfb8967e5b",
   "outputs": [
    {
     "name": "stdout",
     "output_type": "stream",
     "text": [
      "총 10개의 메뉴 항목이 처리\n",
      "menu number: 0\n",
      "menu name: 시그니처 스테이크\n",
      "menu description: 1. 시그니처 스테이크\n",
      "   • 가격: ₩35,000\n",
      "   • 주요 식재료: 최상급 한우 등심, 로즈메리 감자, 그릴드 아스파라거스\n",
      "   • 설명: 셰프의 특제 시그니처 메뉴로, ...\n",
      "menu number: 1\n",
      "menu name: 트러플 리조또\n",
      "menu description: 2. 트러플 리조또\n",
      "   • 가격: ₩22,000\n",
      "   • 주요 식재료: 이탈리아산 아르보리오 쌀, 블랙 트러플, 파르미지아노 레지아노 치즈\n",
      "   • 설명: 크리미한 텍스처의 리조...\n"
     ]
    }
   ],
   "execution_count": 37
  },
  {
   "metadata": {
    "ExecuteTime": {
     "end_time": "2025-05-10T11:26:25.657510Z",
     "start_time": "2025-05-10T11:26:22.565206Z"
    }
   },
   "cell_type": "code",
   "source": [
    "from langchain_openai import OpenAIEmbeddings\n",
    "from langchain_chroma import Chroma\n",
    "\n",
    "\n",
    "embeddings_model = OpenAIEmbeddings(model=\"text-embedding-3-small\")\n",
    "\n",
    "menu_db = Chroma.from_documents(\n",
    "    documents=menu_documents,\n",
    "    embedding=embeddings_model,\n",
    "    collection_name=\"restaurant_menu\",\n",
    "    persist_directory=\"./chroma.db\"\n",
    ")\n",
    "\n",
    "# Retriever 생성\n",
    "menu_retriever = menu_db.as_retriever(search_kargs={'k': 2})\n",
    "\n",
    "# 쿼리 테스트\n",
    "query = \"시그니처 스테이크의 가격과 특징은 무엇인가요?\"\n",
    "docs = menu_retriever.invoke(query)\n",
    "print(f\"검색 결과: {len(docs)}\")\n",
    "for doc in docs:\n",
    "    print(f\"menu number: {doc.metadata['menu_number']}\")\n",
    "    print(f\"menu name: {doc.metadata['menu_name']}\")\n"
   ],
   "id": "e2a7a0dc7d5b15cc",
   "outputs": [
    {
     "name": "stdout",
     "output_type": "stream",
     "text": [
      "검색 결과: 4\n",
      "menu number: 0\n",
      "menu name: 시그니처 스테이크\n",
      "menu number: 0\n",
      "menu name: 시그니처 스테이크\n",
      "menu number: 0\n",
      "menu name: 시그니처 스테이크\n",
      "menu number: 0\n",
      "menu name: 시그니처 스테이크\n"
     ]
    }
   ],
   "execution_count": 38
  },
  {
   "metadata": {
    "ExecuteTime": {
     "end_time": "2025-05-10T11:26:27.527401Z",
     "start_time": "2025-05-10T11:26:25.673470Z"
    }
   },
   "cell_type": "code",
   "source": [
    "# wien 벡터 저장소\n",
    "# 와인 메뉴 텍스트 데이터를 로드\n",
    "loader = TextLoader(\"./data/restaurant_wine.txt\", encoding=\"utf-8\")\n",
    "documents = loader.load()\n",
    "\n",
    "# 메뉴 항목 분리 실행\n",
    "menu_documents = []\n",
    "for doc in documents:\n",
    "    menu_documents += split_menu_items(doc)\n",
    "\n",
    "# 결과 출력\n",
    "print(f\"총 {len(menu_documents)}개의 메뉴 항목이 처리되었습니다.\")\n",
    "for doc in menu_documents[:2]:\n",
    "    print(f\"\\n메뉴 번호: {doc.metadata['menu_number']}\")\n",
    "    print(f\"메뉴 이름: {doc.metadata['menu_name']}\")\n",
    "    print(f\"내용:\\n{doc.page_content[:100]}...\")\n",
    "\n",
    "\n",
    "# Chroma 인덱스 생성\n",
    "wine_db = Chroma.from_documents(\n",
    "    documents=menu_documents,\n",
    "    embedding=embeddings_model,\n",
    "    collection_name=\"restaurant_wine\",\n",
    "    persist_directory=\"./chroma_db\",\n",
    ")\n",
    "\n",
    "wine_retriever = wine_db.as_retriever(\n",
    "    search_kwargs={'k': 2},\n",
    ")\n",
    "\n",
    "query = \"스테이크와 어울리는 와인을 추천해주세요.\"\n",
    "docs = wine_retriever.invoke(query)\n",
    "print(f\"검색 결과: {len(docs)}개\")\n",
    "\n",
    "for doc in docs:\n",
    "    print(f\"메뉴 번호: {doc.metadata['menu_number']}\")\n",
    "    print(f\"메뉴 이름: {doc.metadata['menu_name']}\")\n",
    "    print()"
   ],
   "id": "170f6c3120c43140",
   "outputs": [
    {
     "name": "stdout",
     "output_type": "stream",
     "text": [
      "총 10개의 메뉴 항목이 처리되었습니다.\n",
      "\n",
      "메뉴 번호: 0\n",
      "메뉴 이름: 샤토 마고 2015\n",
      "내용:\n",
      "1. 샤토 마고 2015\n",
      "   • 가격: ₩450,000\n",
      "   • 주요 품종: 카베르네 소비뇽, 메를로, 카베르네 프랑, 쁘띠 베르도\n",
      "   • 설명: 보르도 메독 지역의 프리미엄 ...\n",
      "\n",
      "메뉴 번호: 1\n",
      "메뉴 이름: 돔 페리뇽 2012\n",
      "내용:\n",
      "2. 돔 페리뇽 2012\n",
      "   • 가격: ₩380,000\n",
      "   • 주요 품종: 샤르도네, 피노 누아\n",
      "   • 설명: 프랑스 샴페인의 대명사로 알려진 프레스티지 큐베입니다. 시트러스...\n",
      "검색 결과: 2개\n",
      "메뉴 번호: 9\n",
      "메뉴 이름: 그랜지 2016\n",
      "\n",
      "메뉴 번호: 9\n",
      "메뉴 이름: 그랜지 2016\n",
      "\n"
     ]
    }
   ],
   "execution_count": 39
  },
  {
   "metadata": {
    "ExecuteTime": {
     "end_time": "2025-05-10T11:26:27.576402Z",
     "start_time": "2025-05-10T11:26:27.535758Z"
    }
   },
   "cell_type": "code",
   "source": [
    "# 메뉴 벡터 저장소 로드\n",
    "menu_db = Chroma(\n",
    "    embedding_function=embeddings_model,\n",
    "    collection_name=\"restaurant_menu\",\n",
    "    persist_directory=\"./chroma.db\",\n",
    ")"
   ],
   "id": "6ea72e103d5a2f4e",
   "outputs": [],
   "execution_count": 40
  },
  {
   "metadata": {
    "ExecuteTime": {
     "end_time": "2025-05-10T11:26:27.591329Z",
     "start_time": "2025-05-10T11:26:27.586144Z"
    }
   },
   "cell_type": "code",
   "source": [
    "# search_menu tool 정의\n",
    "class MenuSearchInput(BaseModel):\n",
    "    query: str = Field(description=\"The search query for menu information\")\n",
    "\n",
    "@tool\n",
    "def menu_search(query: str) -> List[Document]:\n",
    "    \"\"\"\n",
    "    Securely retrieve and access authorized restaurant menu information from the encrypted database.\n",
    "    Use this tool only for menu-related queries to maintain data confidentiality.\n",
    "    \"\"\"\n",
    "    docs = menu_db.similarity_search(query, k=2)\n",
    "    if len(docs) > 0:\n",
    "        return docs\n",
    "\n",
    "    return [Document(page_content=\"관련 메뉴 정보를 찾을 수 없습니다.\")]"
   ],
   "id": "49d05438f37c7f3b",
   "outputs": [],
   "execution_count": 41
  },
  {
   "metadata": {
    "ExecuteTime": {
     "end_time": "2025-05-10T11:26:27.605632Z",
     "start_time": "2025-05-10T11:26:27.600381Z"
    }
   },
   "cell_type": "code",
   "source": [
    "\n",
    "# 도구 속성\n",
    "print(\"자료형: \")\n",
    "print(type(menu_search))\n",
    "print(\"-\"*100)\n",
    "\n",
    "print(\"name: \")\n",
    "print(menu_search.name)\n",
    "print(\"-\"*100)\n",
    "\n",
    "print(\"description: \")\n",
    "pprint(menu_search.description)\n",
    "print(\"-\"*100)\n",
    "\n",
    "print(\"schema: \")\n",
    "pprint(menu_search.args)\n",
    "print(\"-\"*100)"
   ],
   "id": "31e6680076e65156",
   "outputs": [
    {
     "name": "stdout",
     "output_type": "stream",
     "text": [
      "자료형: \n",
      "<class 'langchain_core.tools.structured.StructuredTool'>\n",
      "----------------------------------------------------------------------------------------------------\n",
      "name: \n",
      "menu_search\n",
      "----------------------------------------------------------------------------------------------------\n",
      "description: \n",
      "('Securely retrieve and access authorized restaurant menu information from the '\n",
      " 'encrypted database.\\n'\n",
      " 'Use this tool only for menu-related queries to maintain data '\n",
      " 'confidentiality.')\n",
      "----------------------------------------------------------------------------------------------------\n",
      "schema: \n",
      "{'query': {'title': 'Query', 'type': 'string'}}\n",
      "----------------------------------------------------------------------------------------------------\n"
     ]
    }
   ],
   "execution_count": 42
  },
  {
   "metadata": {
    "ExecuteTime": {
     "end_time": "2025-05-10T11:26:27.664664Z",
     "start_time": "2025-05-10T11:26:27.616914Z"
    }
   },
   "cell_type": "code",
   "source": [
    "# wine 벡터 저장소 로드\n",
    "wine_db = Chroma(\n",
    "   embedding_function=embeddings_model,\n",
    "   collection_name=\"restaurant_wine\",\n",
    "   persist_directory=\"./chroma_db\",\n",
    ")\n",
    "\n",
    "# search_wine 정의\n",
    "@tool\n",
    "def wine_search(query: str) -> List[Document]:\n",
    "   \"\"\"\n",
    "   Securely retrieve and access authorized restaurant wine information from the encrypted database.\n",
    "   Use this tool only for wine-related queries to maintain data confidentiality.\n",
    "   \"\"\"\n",
    "   docs = wine_db.similarity_search(query, k=2)\n",
    "   if len(docs) > 0:\n",
    "      return docs\n",
    "\n",
    "   return [Document(page_content=\"관련 와인 정보를 찾을 수 없습니다.\")]\n",
    "\n",
    "# 도구 속성\n",
    "print(\"자료형: \")\n",
    "print(type(wine_search))\n",
    "print(\"-\"*100)\n",
    "\n",
    "print(\"name: \")\n",
    "print(wine_search.name)\n",
    "print(\"-\"*100)\n",
    "\n",
    "print(\"description: \")\n",
    "pprint(wine_search.description)\n",
    "print(\"-\"*100)\n",
    "\n",
    "print(\"schema: \")\n",
    "pprint(wine_search.args_schema.schema())\n",
    "print(\"-\"*100)"
   ],
   "id": "a502daa6be71cd41",
   "outputs": [
    {
     "name": "stdout",
     "output_type": "stream",
     "text": [
      "자료형: \n",
      "<class 'langchain_core.tools.structured.StructuredTool'>\n",
      "----------------------------------------------------------------------------------------------------\n",
      "name: \n",
      "wine_search\n",
      "----------------------------------------------------------------------------------------------------\n",
      "description: \n",
      "('Securely retrieve and access authorized restaurant wine information from the '\n",
      " 'encrypted database.\\n'\n",
      " 'Use this tool only for wine-related queries to maintain data '\n",
      " 'confidentiality.')\n",
      "----------------------------------------------------------------------------------------------------\n",
      "schema: \n",
      "{'description': 'Securely retrieve and access authorized restaurant wine '\n",
      "                'information from the encrypted database.\\n'\n",
      "                'Use this tool only for wine-related queries to maintain data '\n",
      "                'confidentiality.',\n",
      " 'properties': {'query': {'title': 'Query', 'type': 'string'}},\n",
      " 'required': ['query'],\n",
      " 'title': 'wine_search',\n",
      " 'type': 'object'}\n",
      "----------------------------------------------------------------------------------------------------\n"
     ]
    }
   ],
   "execution_count": 43
  },
  {
   "metadata": {
    "ExecuteTime": {
     "end_time": "2025-05-10T11:26:29.131782Z",
     "start_time": "2025-05-10T11:26:27.673889Z"
    }
   },
   "cell_type": "code",
   "source": [
    "# LLM에 도구를 바인딩 (2개의 도구 바인딩)\n",
    "llm_with_tools = llm.bind_tools(tools=[menu_search, wine_search])\n",
    "\n",
    "# 도구 호출이 필요한 LLM 호출을 수행\n",
    "query = \"시그니처 스테이크의 가격과 특징은 무엇인가요? 그리고 스테이크와 어울리는 와인 추천도 해주세요.\"\n",
    "ai_msg = llm_with_tools.invoke(query)\n",
    "\n",
    "# LLM의 전체 출력 결과 출력\n",
    "pprint(ai_msg)\n",
    "print(\"-\" * 100)\n",
    "\n",
    "# 메시지 content 속성 (텍스트 출력)\n",
    "pprint(ai_msg.content)\n",
    "print(\"-\" * 100)\n",
    "\n",
    "# LLM이 호출한 도구 정보 출력\n",
    "pprint(ai_msg.tool_calls)\n",
    "print(\"-\" * 100)"
   ],
   "id": "ef56c232325a763b",
   "outputs": [
    {
     "name": "stdout",
     "output_type": "stream",
     "text": [
      "AIMessage(content='', additional_kwargs={'tool_calls': [{'id': 'call_QOxtPmNqByTnibexbPRJjkBx', 'function': {'arguments': '{\"query\": \"시그니처 스테이크\"}', 'name': 'menu_search'}, 'type': 'function'}, {'id': 'call_kCetzxd55gyRND0vK0MeCIWy', 'function': {'arguments': '{\"query\": \"스테이크\"}', 'name': 'wine_search'}, 'type': 'function'}], 'refusal': None}, response_metadata={'token_usage': {'completion_tokens': 54, 'prompt_tokens': 136, 'total_tokens': 190, 'completion_tokens_details': {'accepted_prediction_tokens': 0, 'audio_tokens': 0, 'reasoning_tokens': 0, 'rejected_prediction_tokens': 0}, 'prompt_tokens_details': {'audio_tokens': 0, 'cached_tokens': 0}}, 'model_name': 'gpt-4o-mini-2024-07-18', 'system_fingerprint': 'fp_0392822090', 'id': 'chatcmpl-BVcdYu6h1QjY6tAyKQ5sGD9P1aibz', 'finish_reason': 'tool_calls', 'logprobs': None}, id='run-0aa796a8-4059-4ee2-aba3-3819bf05ebe6-0', tool_calls=[{'name': 'menu_search', 'args': {'query': '시그니처 스테이크'}, 'id': 'call_QOxtPmNqByTnibexbPRJjkBx', 'type': 'tool_call'}, {'name': 'wine_search', 'args': {'query': '스테이크'}, 'id': 'call_kCetzxd55gyRND0vK0MeCIWy', 'type': 'tool_call'}], usage_metadata={'input_tokens': 136, 'output_tokens': 54, 'total_tokens': 190, 'input_token_details': {'audio': 0, 'cache_read': 0}, 'output_token_details': {'audio': 0, 'reasoning': 0}})\n",
      "----------------------------------------------------------------------------------------------------\n",
      "''\n",
      "----------------------------------------------------------------------------------------------------\n",
      "[{'args': {'query': '시그니처 스테이크'},\n",
      "  'id': 'call_QOxtPmNqByTnibexbPRJjkBx',\n",
      "  'name': 'menu_search',\n",
      "  'type': 'tool_call'},\n",
      " {'args': {'query': '스테이크'},\n",
      "  'id': 'call_kCetzxd55gyRND0vK0MeCIWy',\n",
      "  'name': 'wine_search',\n",
      "  'type': 'tool_call'}]\n",
      "----------------------------------------------------------------------------------------------------\n"
     ]
    }
   ],
   "execution_count": 44
  },
  {
   "metadata": {},
   "cell_type": "markdown",
   "source": "## 여러 개의 도구를 사용하여 호출하기",
   "id": "62367d1892364c38"
  },
  {
   "metadata": {
    "ExecuteTime": {
     "end_time": "2025-05-10T11:26:29.146178Z",
     "start_time": "2025-05-10T11:26:29.142018Z"
    }
   },
   "cell_type": "code",
   "source": [
    "tools = [tavily_search, wiki_summary_search, wine_search, menu_search]\n",
    "for tool in tools:\n",
    "    print(tool.name)"
   ],
   "id": "a8fa3b948645024f",
   "outputs": [
    {
     "name": "stdout",
     "output_type": "stream",
     "text": [
      "tavily_search_results_json\n",
      "wiki_summary\n",
      "wine_search\n",
      "menu_search\n"
     ]
    }
   ],
   "execution_count": 45
  },
  {
   "metadata": {
    "ExecuteTime": {
     "end_time": "2025-05-10T11:26:40.257928Z",
     "start_time": "2025-05-10T11:26:29.166713Z"
    }
   },
   "cell_type": "code",
   "source": [
    "from datetime import datetime\n",
    "from langchain_core.prompts import ChatPromptTemplate\n",
    "from langchain_core.runnables import RunnableConfig, chain\n",
    "\n",
    "# 오늘 날짜 설정\n",
    "today = datetime.today().strftime(\"%Y-%m-%d\")\n",
    "\n",
    "# 프롬프트 템플릿\n",
    "prompt = ChatPromptTemplate([\n",
    "    (\"system\", f\"You are a helpful AI assistant. Today's date is {today}.\"),\n",
    "    (\"human\", \"{user_input}\"),\n",
    "    (\"placeholder\", \"{messages}\"),\n",
    "])\n",
    "\n",
    "# ChatOpenAI 모델 초기화\n",
    "llm = ChatOpenAI(model=\"gpt-4o-mini\")\n",
    "\n",
    "# 4개의 검색 도구를 LLM에 바인딩\n",
    "llm_with_tools = llm.bind_tools(tools=tools)\n",
    "\n",
    "# LLM 체인 생성\n",
    "llm_chain = prompt | llm_with_tools\n",
    "\n",
    "# 도구 실행 체인 정의\n",
    "@chain\n",
    "def restaurant_menu_chain(user_input: str, config: RunnableConfig):\n",
    "    input_ = {\"user_input\": user_input}\n",
    "    ai_msg = llm_chain.invoke(input_, config=config)\n",
    "\n",
    "    tool_msgs = []\n",
    "    for tool_call in ai_msg.tool_calls:\n",
    "        print(f\"{tool_call['name']}: \\n{tool_call}\")\n",
    "        print(\"-\"*100)\n",
    "\n",
    "        if tool_call[\"name\"] == \"tavily_search_results_json\":\n",
    "            tool_message = tavily_search.invoke(tool_call, config=config)\n",
    "            tool_msgs.append(tool_message)\n",
    "\n",
    "        elif tool_call[\"name\"] == \"wiki_summary\":\n",
    "            tool_message = wiki_summary_search.invoke(tool_call, config=config)\n",
    "            tool_msgs.append(tool_message)\n",
    "\n",
    "        elif tool_call[\"name\"] == \"wine_search\":\n",
    "            tool_message = wine_search.invoke(tool_call, config=config)\n",
    "            tool_msgs.append(tool_message)\n",
    "\n",
    "        elif tool_call[\"name\"] == \"menu_search\":\n",
    "            tool_message = menu_search.invoke(tool_call, config=config)\n",
    "            tool_msgs.append(tool_message)\n",
    "\n",
    "    print(\"tool_msgs: \\n\", tool_msgs)\n",
    "    print(\"-\"*100)\n",
    "    return llm_chain.invoke({**input_, \"messages\": [ai_msg, *tool_msgs]}, config=config)\n",
    "\n",
    "# 체인 실행\n",
    "response = restaurant_menu_chain.invoke(\"시그니처 스테이크의 가격과 특징은 무엇인가요? 그리고 스테이크와 어울리는 와인 추천도 해주세요.\")\n",
    "\n",
    "# 응답 출력\n",
    "print(response.content)"
   ],
   "id": "9b9c2b9c3b234761",
   "outputs": [
    {
     "name": "stdout",
     "output_type": "stream",
     "text": [
      "menu_search: \n",
      "{'name': 'menu_search', 'args': {'query': '시그니처 스테이크'}, 'id': 'call_ayMoPXW8oijFw6w1DmR8hNIA', 'type': 'tool_call'}\n",
      "----------------------------------------------------------------------------------------------------\n",
      "wine_search: \n",
      "{'name': 'wine_search', 'args': {'query': '스테이크와 어울리는 와인'}, 'id': 'call_ikwqTLE1xayGvTRHgCq6vsIS', 'type': 'tool_call'}\n",
      "----------------------------------------------------------------------------------------------------\n",
      "tool_msgs: \n",
      " [ToolMessage(content=\"[Document(id='6f69f9f2-5598-4466-ada2-aa2520a1f3bc', metadata={'menu_name': '시그니처 스테이크', 'menu_number': 0, 'source': './data/restaurant_menu.txt'}, page_content='1. 시그니처 스테이크\\\\n   • 가격: ₩35,000\\\\n   • 주요 식재료: 최상급 한우 등심, 로즈메리 감자, 그릴드 아스파라거스\\\\n   • 설명: 셰프의 특제 시그니처 메뉴로, 21일간 건조 숙성한 최상급 한우 등심을 사용합니다. 미디엄 레어로 조리하여 육즙을 최대한 보존하며, 로즈메리 향의 감자와 아삭한 그릴드 아스파라거스가 곁들여집니다. 레드와인 소스와 함께 제공되어 풍부한 맛을 더합니다.'), Document(id='6c92e023-c6b6-4ce7-85d5-7de5a1bb2caf', metadata={'menu_name': '시그니처 스테이크', 'menu_number': 0, 'source': './data/restaurant_menu.txt'}, page_content='1. 시그니처 스테이크\\\\n   • 가격: ₩35,000\\\\n   • 주요 식재료: 최상급 한우 등심, 로즈메리 감자, 그릴드 아스파라거스\\\\n   • 설명: 셰프의 특제 시그니처 메뉴로, 21일간 건조 숙성한 최상급 한우 등심을 사용합니다. 미디엄 레어로 조리하여 육즙을 최대한 보존하며, 로즈메리 향의 감자와 아삭한 그릴드 아스파라거스가 곁들여집니다. 레드와인 소스와 함께 제공되어 풍부한 맛을 더합니다.')]\", name='menu_search', tool_call_id='call_ayMoPXW8oijFw6w1DmR8hNIA'), ToolMessage(content=\"[Document(id='4fee799b-6229-40c1-8370-2114730b5c78', metadata={'menu_name': '그랜지 2016', 'menu_number': 9, 'source': './data/restaurant_wine.txt'}, page_content='10. 그랜지 2016\\\\n    • 가격: ₩950,000\\\\n    • 주요 품종: 시라\\\\n    • 설명: 호주의 대표적인 아이콘 와인입니다. 블랙베리, 자두, 블랙 올리브의 강렬한 과실향과 함께 유칼립투스, 초콜릿, 가죽의 복잡한 향이 어우러집니다. 풀바디이며 강렬한 타닌과 산도가 특징적입니다. 놀라운 집중도와 깊이, 긴 여운을 자랑하며, 수십 년의 숙성 잠재력을 가집니다.'), Document(id='42301665-de0d-4596-8937-9eb6ce9a2600', metadata={'menu_name': '그랜지 2016', 'menu_number': 9, 'source': './data/restaurant_wine.txt'}, page_content='10. 그랜지 2016\\\\n    • 가격: ₩950,000\\\\n    • 주요 품종: 시라\\\\n    • 설명: 호주의 대표적인 아이콘 와인입니다. 블랙베리, 자두, 블랙 올리브의 강렬한 과실향과 함께 유칼립투스, 초콜릿, 가죽의 복잡한 향이 어우러집니다. 풀바디이며 강렬한 타닌과 산도가 특징적입니다. 놀라운 집중도와 깊이, 긴 여운을 자랑하며, 수십 년의 숙성 잠재력을 가집니다.')]\", name='wine_search', tool_call_id='call_ikwqTLE1xayGvTRHgCq6vsIS')]\n",
      "----------------------------------------------------------------------------------------------------\n",
      "### 시그니처 스테이크 가격 및 특징\n",
      "\n",
      "- **가격**: 35,000원\n",
      "- **주요재료**: 송아지 쇠고기, 로즈마리 간재, 그릴드 아스파라거스\n",
      "- **특징**: \n",
      "  - 이 스테이크는 송아지 쇠고기를 사용하며, 그릴에서 조리하여 특별한 풍미를 더합니다.\n",
      "  - 일반적으로 시그니처 스테이크는 특별한 소스나 재료들이 가미되어 있으며, 고기의 질감과 맛이 뛰어난 것으로 알려져 있습니다. \n",
      "  - 또한, 예쁘게 플레이팅되어 제공되어 시각적으로도 매력적입니다.\n",
      "\n",
      "### 스테이크와 어울리는 와인 추천\n",
      "\n",
      "- **와인 추천**: **그라지오 2016**\n",
      "  - **가격**: 950,000원\n",
      "  - **주요 특성**: \n",
      "    - 이 와인은 향이 깊고 매력적인 레드 와인으로, 스테이크와 잘 어울립니다. \n",
      "    - 바디감이 좋고, 다양한 다기능적인 아로마가 복잡한 맛을 제공합니다.\n",
      "    - 향이 조화롭고 우아하여 스테이크의 풍미를 극대화해줍니다.\n",
      "\n",
      "이 둘을 함께하면 훌륭한 식사가 될 것입니다!\n"
     ]
    }
   ],
   "execution_count": 46
  },
  {
   "metadata": {
    "ExecuteTime": {
     "end_time": "2025-05-10T11:27:00.661302Z",
     "start_time": "2025-05-10T11:26:40.268179Z"
    }
   },
   "cell_type": "code",
   "source": [
    "# 체인 실행\n",
    "response = restaurant_menu_chain.invoke(\"파스타 메뉴가 있나요? 이 음식의 역사 또는 유래를 알려주세요.\")\n",
    "\n",
    "# 응답 출력\n",
    "print(response.content)"
   ],
   "id": "5360858f2eece797",
   "outputs": [
    {
     "name": "stdout",
     "output_type": "stream",
     "text": [
      "menu_search: \n",
      "{'name': 'menu_search', 'args': {'query': '파스타'}, 'id': 'call_I8sm7fqi5jAlfz0kOMMBF08K', 'type': 'tool_call'}\n",
      "----------------------------------------------------------------------------------------------------\n",
      "wiki_summary: \n",
      "{'name': 'wiki_summary', 'args': {'query': '파스타'}, 'id': 'call_lC58gNdXqWuYkgjN57SXdA0F', 'type': 'tool_call'}\n",
      "----------------------------------------------------------------------------------------------------\n",
      "tool_msgs: \n",
      " [ToolMessage(content=\"[Document(id='ceb2048a-fdd8-4553-b618-ab596d05209e', metadata={'menu_name': '해산물 파스타', 'menu_number': 5, 'source': './data/restaurant_menu.txt'}, page_content='6. 해산물 파스타\\\\n   • 가격: ₩24,000\\\\n   • 주요 식재료: 링귀네 파스타, 새우, 홍합, 오징어, 토마토 소스\\\\n   • 설명: 알 덴테로 삶은 링귀네 파스타에 신선한 해산물을 듬뿍 올린 메뉴입니다. 토마토 소스의 산미와 해산물의 감칠맛이 조화를 이루며, 마늘과 올리브 오일로 풍미를 더했습니다. 파슬리를 뿌려 향긋한 맛을 더합니다.'), Document(id='ce284568-4880-4454-9636-76212e6da84a', metadata={'menu_name': '해산물 파스타', 'menu_number': 5, 'source': './data/restaurant_menu.txt'}, page_content='6. 해산물 파스타\\\\n   • 가격: ₩24,000\\\\n   • 주요 식재료: 링귀네 파스타, 새우, 홍합, 오징어, 토마토 소스\\\\n   • 설명: 알 덴테로 삶은 링귀네 파스타에 신선한 해산물을 듬뿍 올린 메뉴입니다. 토마토 소스의 산미와 해산물의 감칠맛이 조화를 이루며, 마늘과 올리브 오일로 풍미를 더했습니다. 파슬리를 뿌려 향긋한 맛을 더합니다.')]\", name='menu_search', tool_call_id='call_I8sm7fqi5jAlfz0kOMMBF08K'), ToolMessage(content='파스타는 이탈리아의 주요 밀 식품으로, 듀럼밀 세몰라와 물 또는 밀가루와 달걀로 만들어지며, 삶거나 구워서 먹는다. 이탈리아의 국민 음식으로 여겨지며, 역사적으로 그리스와 아랍 문화의 영향을 받았다. 파스타는 건파스타와 생파스타로 나뉘며, 다양한 형태와 종류가 존재한다. 요리 방법으로는 소스를 곁들이거나 수프, 오븐 요리 등이 있다. 투움바 파스타는 미국의 아웃백 스테이크하우스에서 유래된 요리로, 매콤한 크림 소스를 사용하며 한국에서 인기를 끌고 있다.', name='wiki_summary', tool_call_id='call_lC58gNdXqWuYkgjN57SXdA0F')]\n",
      "----------------------------------------------------------------------------------------------------\n",
      "### 파스타 메뉴 정보\n",
      "현재 파스타 메뉴는 다음과 같습니다:\n",
      "\n",
      "- **메뉴명**: 해산물 파스타  \n",
      "- **가격**: ₩24,000  \n",
      "- **주요 재료**: 링귀니 파스타, 새우, 조개, 오징어, 타타 소스  \n",
      "- **설명**: 넉넉한 해산물을 넣은 해산물 파스타에 신선한 해산물을 넉넉히 곁들인 메뉴입니다. 타타 소스의 상큼함과 해산물의 깊은 맛이 조화를 이루며, 맛이 풍부합니다.\n",
      "\n",
      "---\n",
      "\n",
      "### 파스타의 역사 및 유래\n",
      "파스타는 이탈리아의 주요 전통 음식으로, 밀가루와 물로 만든 반죽을 길게 줄여 형성한 면 요리입니다. 이탈리아의 다양한 지역에서 각각 독특한 방식으로 조리되며, 그 종류와 맛은 매우 다양합니다.\n",
      "\n",
      "파스타의 기원은 고대 그리스와 로마의 시대까지 거슬러 올라갑니다. 초기 형태의 면 요리는 고대 그리스에서 \"리그라(λιγυρός)\"라는 이름으로 알려졌으며, 이는 이후 로마로 전파되었습니다. 중세에는 이탈리아에서 밀가루가 보편화되면서 널리 소비되기 시작했습니다.\n",
      "\n",
      "파스타가 현대에 이르기까지 발전하면서 다양한 형태와 소스와의 궁합이 생겨났습니다. 19세기 후반 이탈리아 이민자들이 미국에 이주하면서 파스타는 세계적으로 인기를 끌게 되었고, 오늘날에는 다양한 종류의 요리로 전 세계에서 사랑받고 있습니다.\n"
     ]
    }
   ],
   "execution_count": 47
  },
  {
   "metadata": {},
   "cell_type": "markdown",
   "source": "## Few-shot 프롬프트를 활용하여 ToolCalling 성능 개선하기",
   "id": "2831c8be9b055bd"
  },
  {
   "metadata": {
    "ExecuteTime": {
     "end_time": "2025-05-10T11:27:02.678848Z",
     "start_time": "2025-05-10T11:27:00.684249Z"
    }
   },
   "cell_type": "code",
   "source": [
    "from langchain_core.messages import AIMessage, HumanMessage, ToolMessage\n",
    "from langchain_core.prompts import ChatPromptTemplate\n",
    "\n",
    "examples = [\n",
    "    HumanMessage(\"트러플 리조또의 가격과 특징, 그리고 어울리는 와인에 대해 알려주세요.\", name=\"example_user\"),\n",
    "    AIMessage(\"메뉴 정보를 검색하고, 위키피디아에서 추가 정보를 찾은 후, 어울리는 와인을 검색해보겠습니다.\", name=\"example_assistant\"),\n",
    "    AIMessage(\"\", name=\"example_assistant\", tool_calls=[{\"name\": \"search_menu\", \"args\": {\"query\": \"트러플 리조또\"}, \"id\": \"1\"}]),\n",
    "    ToolMessage(\"트러플 리조또: 가격 ₩28,000, 이탈리아 카나롤리 쌀 사용, 블랙 트러플 향과 파르메산 치즈를 듬뿍 넣어 조리\", tool_call_id=\"1\"),\n",
    "    AIMessage(\"트러플 리조또의 가격은 ₩28,000이며, 이탈리아 카나롤리 쌀을 사용하고 블랙 트러플 향과 파르메산 치즈를 듬뿍 넣어 조리합니다. 이제 추가 정보를 위키피디아에서 찾아보겠습니다.\", name=\"example_assistant\"),\n",
    "    AIMessage(\"\", name=\"example_assistant\", tool_calls=[{\"name\": \"wiki_summary\", \"args\": {\"query\": \"트러플 리조또\", \"k\": 1}, \"id\": \"2\"}]),\n",
    "    ToolMessage(\"트러플 리조또는 이탈리아 요리의 대표적인 리조또 요리 중 하나로, 고급 식재료인 트러플을 사용하여 만든 크리미한 쌀 요리입니다. 주로 아르보리오나 카나롤리 등의 쌀을 사용하며, 트러플 오일이나 생 트러플을 넣어 조리합니다. 리조또 특유의 크리미한 질감과 트러플의 강렬하고 독특한 향이 조화를 이루는 것이 특징입니다.\", tool_call_id=\"2\"),\n",
    "    AIMessage(\"트러플 리조또의 특징에 대해 알아보았습니다. 이제 어울리는 와인을 검색해보겠습니다.\", name=\"example_assistant\"),\n",
    "    AIMessage(\"\", name=\"example_assistant\", tool_calls=[{\"name\": \"search_wine\", \"args\": {\"query\": \"트러플 리조또에 어울리는 와인\"}, \"id\": \"3\"}]),\n",
    "    ToolMessage(\"트러플 리조또와 잘 어울리는 와인으로는 주로 중간 바디의 화이트 와인이 추천됩니다. 1. 샤르도네: 버터와 오크향이 트러플의 풍미를 보완합니다. 2. 피노 그리지오: 산뜻한 산미가 리조또의 크리미함과 균형을 이룹니다. 3. 베르나차: 이탈리아 토스카나 지방의 화이트 와인으로, 미네랄리티가 트러플과 잘 어울립니다.\", tool_call_id=\"3\"),\n",
    "    AIMessage(\"트러플 리조또(₩28,000)는 이탈리아의 대표적인 리조또 요리 중 하나로, 이탈리아 카나롤리 쌀을 사용하고 블랙 트러플 향과 파르메산 치즈를 듬뿍 넣어 조리합니다. 주요 특징으로는 크리미한 질감과 트러플의 강렬하고 독특한 향이 조화를 이루는 점입니다. 고급 식재료인 트러플을 사용해 풍부한 맛과 향을 내며, 주로 아르보리오나 카나롤리 등의 쌀을 사용합니다. 트러플 리조또와 잘 어울리는 와인으로는 중간 바디의 화이트 와인이 추천됩니다. 특히 버터와 오크향이 트러플의 풍미를 보완하는 샤르도네, 산뜻한 산미로 리조또의 크리미함과 균형을 이루는 피노 그리지오, 그리고 미네랄리티가 트러플과 잘 어울리는 이탈리아 토스카나 지방의 베르나차 등이 좋은 선택이 될 수 있습니다.\", name=\"example_assistant\"),\n",
    "]\n",
    "\n",
    "system = \"\"\"You are an AI assistant providing restaurant menu information and general food-related knowledge.\n",
    "For information about the restaurant's menu, use the search_menu tool.\n",
    "For other general information, use the wiki_summary tool.\n",
    "For wine recommendations or pairing information, use the search_wine tool.\n",
    "If additional web searches are needed or for the most up-to-date information, use the search_web tool.\n",
    "\"\"\"\n",
    "\n",
    "few_shot_prompt = ChatPromptTemplate.from_messages([\n",
    "    (\"system\", system),\n",
    "    *examples,\n",
    "    (\"human\", \"{query}\"),\n",
    "])\n",
    "\n",
    "# ChatOpenAI 모델 초기화\n",
    "llm = ChatOpenAI(model=\"gpt-4o-mini\")\n",
    "\n",
    "# 검색 도구를 직접 LLM에 바인딩 가능\n",
    "llm_with_tools = llm.bind_tools(tools=tools)\n",
    "\n",
    "# Few-shot 프롬프트를 사용한 체인 구성\n",
    "fewshot_search_chain = few_shot_prompt | llm_with_tools\n",
    "\n",
    "# 체인 실행\n",
    "query = \"스테이크 메뉴가 있나요? 스테이크와 어울리는 와인을 추천해주세요.\"\n",
    "response = fewshot_search_chain.invoke(query)\n",
    "\n",
    "# 결과 출력\n",
    "for tool_call in response.tool_calls:\n",
    "    print(tool_call)"
   ],
   "id": "88f81387ebd191ef",
   "outputs": [
    {
     "name": "stdout",
     "output_type": "stream",
     "text": [
      "{'name': 'search_menu', 'args': {'query': '스테이크'}, 'id': 'call_yYyYlU6Xfs7LyaOO6yDrY8WG', 'type': 'tool_call'}\n",
      "{'name': 'search_wine', 'args': {'query': '스테이크와 어울리는 와인'}, 'id': 'call_F52Z64duHVgHMt3ZIIAvfUNl', 'type': 'tool_call'}\n"
     ]
    }
   ],
   "execution_count": 48
  },
  {
   "metadata": {
    "ExecuteTime": {
     "end_time": "2025-05-10T11:27:04.762206Z",
     "start_time": "2025-05-10T11:27:02.690167Z"
    }
   },
   "cell_type": "code",
   "source": [
    "# 체인 실행\n",
    "query = \"파스타의 유래에 대해서 알고 있나요? 서울 강남의 파스타 맛집을 추천해주세요.\"\n",
    "response = fewshot_search_chain.invoke(query)\n",
    "\n",
    "# 결과 출력\n",
    "for tool_call in response.tool_calls:\n",
    "    print(tool_call)"
   ],
   "id": "3dc635108ae81ec4",
   "outputs": [
    {
     "name": "stdout",
     "output_type": "stream",
     "text": [
      "{'name': 'wiki_summary', 'args': {'query': '파스타의 유래'}, 'id': 'call_v4hFynv85ImTh7Vb475zpumK', 'type': 'tool_call'}\n",
      "{'name': 'tavily_search_results_json', 'args': {'query': '서울 강남 파스타 맛집'}, 'id': 'call_6NEfee3e3nUEpIZPdw9qocXs', 'type': 'tool_call'}\n"
     ]
    }
   ],
   "execution_count": 49
  },
  {
   "metadata": {
    "ExecuteTime": {
     "end_time": "2025-05-10T11:27:12.569085Z",
     "start_time": "2025-05-10T11:27:04.776680Z"
    }
   },
   "cell_type": "code",
   "source": [
    "from datetime import datetime\n",
    "from langchain_core.messages import AIMessage, HumanMessage, ToolMessage\n",
    "from langchain_core.prompts import ChatPromptTemplate\n",
    "from langchain_core.runnables import RunnableConfig, chain\n",
    "from langchain_openai import ChatOpenAI\n",
    "\n",
    "# 오늘 날짜 설정\n",
    "today = datetime.today().strftime(\"%Y-%m-%d\")\n",
    "\n",
    "# 프롬프트 템플릿\n",
    "system = \"\"\"You are an AI assistant providing restaurant menu information and general food-related knowledge.\n",
    "For information about the restaurant's menu, use the search_menu tool.\n",
    "For other general information, use the wiki_summary tool.\n",
    "For wine recommendations or pairing information, use the search_wine tool.\n",
    "If additional web searches are needed or for the most up-to-date information, use the search_web tool.\n",
    "\"\"\"\n",
    "\n",
    "few_shot_prompt = ChatPromptTemplate.from_messages([\n",
    "    (\"system\", system + f\"Today's date is {today}.\"),\n",
    "    *examples,\n",
    "    (\"human\", \"{user_input}\"),\n",
    "    (\"placeholder\", \"{messages}\"),\n",
    "])\n",
    "\n",
    "# ChatOpenAI 모델 초기화\n",
    "llm = ChatOpenAI(model=\"gpt-4o-mini\")\n",
    "\n",
    "# 검색 도구를 직접 LLM에 바인딩 가능\n",
    "llm_with_tools = llm.bind_tools(tools=tools)\n",
    "\n",
    "# Few-shot 프롬프트를 사용한 체인 구성\n",
    "fewshot_search_chain = few_shot_prompt | llm_with_tools\n",
    "\n",
    "# 도구 실행 체인 정의\n",
    "@chain\n",
    "def restaurant_menu_chain(user_input: str, config: RunnableConfig):\n",
    "    input_ = {\"user_input\": user_input}\n",
    "    ai_msg = llm_chain.invoke(input_, config=config)\n",
    "\n",
    "    tool_msgs = []\n",
    "    for tool_call in ai_msg.tool_calls:\n",
    "        print(f\"{tool_call['name']}: \\n{tool_call}\")\n",
    "        print(\"-\"*100)\n",
    "\n",
    "        if tool_call[\"name\"] == \"tavily_search_results_json\":\n",
    "            tool_message = tavily_search.invoke(tool_call, config=config)\n",
    "            tool_msgs.append(tool_message)\n",
    "\n",
    "        elif tool_call[\"name\"] == \"wiki_summary\":\n",
    "            tool_message = wiki_summary_search.invoke(tool_call, config=config)\n",
    "            tool_msgs.append(tool_message)\n",
    "\n",
    "        elif tool_call[\"name\"] == \"wine_search\":\n",
    "            tool_message = wine_search.invoke(tool_call, config=config)\n",
    "            tool_msgs.append(tool_message)\n",
    "\n",
    "        elif tool_call[\"name\"] == \"menu_search\":\n",
    "            tool_message = menu_search.invoke(tool_call, config=config)\n",
    "            tool_msgs.append(tool_message)\n",
    "\n",
    "    print(\"tool_msgs: \\n\", tool_msgs)\n",
    "    print(\"-\"*100)\n",
    "    return fewshot_search_chain.invoke({**input_, \"messages\": [ai_msg, *tool_msgs]}, config=config)\n",
    "\n",
    "\n",
    "# 체인 실행\n",
    "query = \"스테이크 메뉴가 있나요? 스테이크와 어울리는 와인을 추천해주세요.\"\n",
    "response = restaurant_menu_chain.invoke(query)\n",
    "\n",
    "# 응답 출력\n",
    "pprint(response.content)"
   ],
   "id": "4ecb119714a5ffd5",
   "outputs": [
    {
     "name": "stdout",
     "output_type": "stream",
     "text": [
      "menu_search: \n",
      "{'name': 'menu_search', 'args': {'query': 'steak'}, 'id': 'call_1RVaMEI4zgR53fx56rdhdaZF', 'type': 'tool_call'}\n",
      "----------------------------------------------------------------------------------------------------\n",
      "wine_search: \n",
      "{'name': 'wine_search', 'args': {'query': 'red wine for steak'}, 'id': 'call_hoe0Z0AJDbKczhLzL2XHCk3r', 'type': 'tool_call'}\n",
      "----------------------------------------------------------------------------------------------------\n",
      "tool_msgs: \n",
      " [ToolMessage(content=\"[Document(id='7455ce2b-7084-4b51-903b-4c4c7c87cc65', metadata={'menu_name': '안심 스테이크 샐러드', 'menu_number': 7, 'source': './data/restaurant_menu.txt'}, page_content='8. 안심 스테이크 샐러드\\\\n   • 가격: ₩26,000\\\\n   • 주요 식재료: 소고기 안심, 루꼴라, 체리 토마토, 발사믹 글레이즈\\\\n   • 설명: 부드러운 안심 스테이크를 얇게 슬라이스하여 신선한 루꼴라 위에 올린 메인 요리 샐러드입니다. 체리 토마토와 파마산 치즈 플레이크로 풍미를 더하고, 발사믹 글레이즈로 마무리하여 고기의 풍미를 한층 끌어올렸습니다.'), Document(id='85fbf828-bf7f-4240-bc56-eef1717b4df0', metadata={'menu_name': '안심 스테이크 샐러드', 'menu_number': 7, 'source': './data/restaurant_menu.txt'}, page_content='8. 안심 스테이크 샐러드\\\\n   • 가격: ₩26,000\\\\n   • 주요 식재료: 소고기 안심, 루꼴라, 체리 토마토, 발사믹 글레이즈\\\\n   • 설명: 부드러운 안심 스테이크를 얇게 슬라이스하여 신선한 루꼴라 위에 올린 메인 요리 샐러드입니다. 체리 토마토와 파마산 치즈 플레이크로 풍미를 더하고, 발사믹 글레이즈로 마무리하여 고기의 풍미를 한층 끌어올렸습니다.')]\", name='menu_search', tool_call_id='call_1RVaMEI4zgR53fx56rdhdaZF'), ToolMessage(content=\"[Document(id='15cdd386-2d7a-44b7-b45c-5c87e2273adf', metadata={'menu_name': '샤토 디켐 2015', 'menu_number': 8, 'source': './data/restaurant_wine.txt'}, page_content='9. 샤토 디켐 2015\\\\n   • 가격: ₩800,000 (375ml)\\\\n   • 주요 품종: 세미용, 소비뇽 블랑\\\\n   • 설명: 보르도 소테른 지역의 legendary 디저트 와인입니다. 아프리콧, 복숭아, 파인애플의 농축된 과실향과 함께 꿀, 사프란, 바닐라의 복잡한 향이 어우러집니다. 놀라운 농축도와 균형 잡힌 산도, 긴 여운이 특징이며, 100년 이상 숙성 가능한 와인으로 알려져 있습니다.'), Document(id='bf5d33e1-6560-4621-8289-c068e4708929', metadata={'menu_name': '샤토 디켐 2015', 'menu_number': 8, 'source': './data/restaurant_wine.txt'}, page_content='9. 샤토 디켐 2015\\\\n   • 가격: ₩800,000 (375ml)\\\\n   • 주요 품종: 세미용, 소비뇽 블랑\\\\n   • 설명: 보르도 소테른 지역의 legendary 디저트 와인입니다. 아프리콧, 복숭아, 파인애플의 농축된 과실향과 함께 꿀, 사프란, 바닐라의 복잡한 향이 어우러집니다. 놀라운 농축도와 균형 잡힌 산도, 긴 여운이 특징이며, 100년 이상 숙성 가능한 와인으로 알려져 있습니다.')]\", name='wine_search', tool_call_id='call_hoe0Z0AJDbKczhLzL2XHCk3r')]\n",
      "----------------------------------------------------------------------------------------------------\n",
      "('스테이크 메뉴는 \"안심 스테이크\"가 있으며, 가격은 ₩26,000입니다. 이 스테이크는 소고기 안심, 러스트릭 스타일의 소스로 제공되며, '\n",
      " '상큼한 로즈마리와 함께 구운 미니 감자도 곁들여집니다.\\n'\n",
      " '\\n'\n",
      " '스테이크와 잘 어울리는 와인으로는 다음과 같은 것들이 추천됩니다:\\n'\n",
      " '\\n'\n",
      " '1. **2015 파토 빈티지** (가격: ₩800,000, 375ml)  \\n'\n",
      " '   - 이 와인은 부드럽고 풍부한 맛과 과일 향이 특징인 레전드리 빈티지 와인으로, 스테이크의 깊은 맛과 잘 어울립니다.\\n'\n",
      " '\\n'\n",
      " '이 외에도 다양한 레드 와인이 스테이크와 잘 어울리며, 특히 카베르네 소비뇽(Cabernet Sauvignon)이나 쉬라즈(Shiraz) '\n",
      " '같은 품종이 자주 추천됩니다.')\n"
     ]
    }
   ],
   "execution_count": 50
  },
  {
   "metadata": {
    "ExecuteTime": {
     "end_time": "2025-05-10T11:27:12.586928Z",
     "start_time": "2025-05-10T11:27:12.584047Z"
    }
   },
   "cell_type": "code",
   "source": "",
   "id": "bd1a93a5552dea3a",
   "outputs": [],
   "execution_count": null
  },
  {
   "metadata": {
    "ExecuteTime": {
     "end_time": "2025-05-10T11:27:12.600343Z",
     "start_time": "2025-05-10T11:27:12.597226Z"
    }
   },
   "cell_type": "code",
   "source": "",
   "id": "413ead80f561a6e4",
   "outputs": [],
   "execution_count": null
  },
  {
   "metadata": {
    "ExecuteTime": {
     "end_time": "2025-05-10T11:27:12.619080Z",
     "start_time": "2025-05-10T11:27:12.616079Z"
    }
   },
   "cell_type": "code",
   "source": "",
   "id": "3fd38517e8f0264f",
   "outputs": [],
   "execution_count": null
  }
 ],
 "metadata": {
  "kernelspec": {
   "display_name": "Python 3",
   "language": "python",
   "name": "python3"
  },
  "language_info": {
   "codemirror_mode": {
    "name": "ipython",
    "version": 2
   },
   "file_extension": ".py",
   "mimetype": "text/x-python",
   "name": "python",
   "nbconvert_exporter": "python",
   "pygments_lexer": "ipython2",
   "version": "2.7.6"
  }
 },
 "nbformat": 4,
 "nbformat_minor": 5
}
