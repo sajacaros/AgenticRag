{
 "cells": [
  {
   "metadata": {},
   "cell_type": "markdown",
   "source": [
    "# LangChain\n",
    "## ToolCalling\n",
    "- LLM이 외부 기능이나 데이터에 접근할 수 있게 해주는 매커니즘\n",
    "![](images/tool_call.png)"
   ],
   "id": "438b9c172910bdb2"
  },
  {
   "metadata": {
    "ExecuteTime": {
     "end_time": "2025-05-17T07:58:18.477822Z",
     "start_time": "2025-05-17T07:58:17.613679Z"
    }
   },
   "cell_type": "code",
   "source": [
    "import re\n",
    "import os, json\n",
    "import warnings\n",
    "from datetime import datetime\n",
    "from pprint import pprint\n",
    "from textwrap import dedent\n",
    "from dotenv import load_dotenv\n",
    "from langchain_community.document_loaders import WikipediaLoader\n",
    "from langchain_core.messages import ToolMessage\n",
    "from langchain_core.output_parsers import StrOutputParser\n",
    "from langchain_core.prompts import ChatPromptTemplate\n",
    "from langchain_core.runnables import RunnableConfig\n",
    "from sqlalchemy.orm.collections import collection\n",
    "from sqlalchemy.testing.suite.test_reflection import metadata\n",
    "\n",
    "warnings.filterwarnings(\"ignore\")\n",
    "load_dotenv()"
   ],
   "id": "9f5bf2194d41ef16",
   "outputs": [
    {
     "data": {
      "text/plain": [
       "True"
      ]
     },
     "execution_count": 1,
     "metadata": {},
     "output_type": "execute_result"
    }
   ],
   "execution_count": 1
  },
  {
   "metadata": {},
   "cell_type": "markdown",
   "source": [
    "## 랭체인 내장 도구\n",
    "- 랭체인은 검색, 코드 인터프리터, 생산성 도구 제공\n",
    "### Tavily 도구 직접 사용해보기\n",
    "- [docs](https://python.langchain.com/docs/integrations/tools/tavily_search/)"
   ],
   "id": "e5ca619b62841e31"
  },
  {
   "metadata": {
    "ExecuteTime": {
     "end_time": "2025-05-17T07:58:21.685545Z",
     "start_time": "2025-05-17T07:58:18.500974Z"
    }
   },
   "cell_type": "code",
   "source": [
    "from langchain_community.tools import TavilySearchResults\n",
    "\n",
    "query = \"최근 한 달 동안 나온 테슬라와 구글 CEO 관련 영문 기사들을 각각 자연스럽게 한국어로 요약해서 Bullet Point로 정리해줘\"\n",
    "\n",
    "tavily_search = TavilySearchResults(max_results=2)\n",
    "search_results = tavily_search.invoke(query)\n",
    "search_results"
   ],
   "id": "7bfd757e7119da70",
   "outputs": [
    {
     "data": {
      "text/plain": [
       "[{'title': '구글 CEO의 고백, 테슬라가 최고다! 이유는? 인터뷰 번역, 댄 아이브스 ...',\n",
       "  'url': 'https://www.youtube.com/watch?v=nu_9tQXlFBQ',\n",
       "  'content': '구글 CEO의 고백, 테슬라가 최고다! 이유는? 인터뷰 번역, 댄 아이브스 예상주가 $515 간다! 테슬라 음성 서비스 시작하나  ? \\n 오늘의 테슬라 뉴스 \\n 3369 likes \\n 57624 views \\n 16 Dec 2024 \\n ➤ 테슬라 구매하시나요? 추천링크 이동해서 33만원 할인을 받으세요.  ( 미국 $2천 달러 할인 )\\n      추천링크 https://ts.la/sung85917\\n\\n➤ 오늘의 테슬라 뉴스 트위터 https://twitter.com/TodayTeslanews\\n\\n➤ 오늘의 테슬라 뉴스 회원가입https://www.youtube.com/c/%EC%98%A4%EB%8A%98%EC%9D%98%ED%85%8C%EC%8A%AC%EB%9D%BC%EB%89%B4%EC%8A%A4/join\\n\\n➤ Surfshark + 오테뉴 이벤트 4개월 추가 제공과 최저가 해택 놓치지 마세요! \\n     https://surfshark.com/teslanews [...] ➤ 오늘의 테슬라 뉴스 광고 문의  todayteslanews@gmail.com\\n\\n➤욕설과 악플, 도배댓글, 타채널 홍보링크, 매너없는 글은 삭제/차단 합니다.\\n➤주가 예측 질문 (살까요, 팔까요) 댓글에는 답변하지 않습니다.\\n\\n#테슬라 #테슬라주식 #테슬라뉴스 #ARK #일론머스크 #모델3  #모델y #investing #투자 #elonmusk #TSLA #Tesla #오테뉴 #트위터 #스페이스X #Twitter #오늘의테슬라뉴스 #주식투자 #해외주식 \\n 235 comments',\n",
       "  'score': 0.59033114},\n",
       " {'title': '[시사영어 1일1문] 머스크의 테슬라 사면초가에 (NYT ... - YouTube',\n",
       "  'url': 'https://www.youtube.com/watch?v=IN1lZzNk2O8',\n",
       "  'content': \"that profit fail 71% in the first months of the year which could increase the pressure on Musk the chief toil his work for president Trump and spend more time managing the company. 테슬라는 말했다. 화요일에. 미국은 지금 화요일입니다. 이하라고. It's profit. 그 이익이 떨어졌다. 하락했다. 71% 올해 첫 3개월 동안 즉 1분기에 71%가 하락했다. 여기 위치는 앞에 나온 이런 상황을 봤습니다. 이것은 이런 상황은 그다마도 압력을 증가시킬 것이다. 일라 머스크에게. 일라 머스크는 누굽니까?이 이 자동차 제작사 테슬라의 CEO입니다. CEO인 일라모스케이. 어떤 압력입니까? toil his work for president. 그테일은 원래 테일 하면 자르다지요. 하면 짧게 이런 말입니다. 짧게 잘하다는 줄이답니다. 트럼프 대통령을 [...] [시사영어 1일1문] 머스크의 테슬라 사면초가에 (NYT) (최신영어뉴스로 영어공부)\\n상상영어\\n14800 subscribers\\n136 likes\\n1623 views\\n22 Apr 2025\\n출처: https://www.nytimes.com/2025/04/22/business/tesla-earnings-elon-musk.html\\n(긴 뉴스기사에서 필수적인 내용만을 추출하여 2~3 페이지로 구성했습니다. 완전한 전체 기사는 출처를 참고하시기 바랍니다.) [...] Mr. Musk has said the company’s future is in artificial intelligence technology that will allow Tesla vehicles to drive themselves without human intervention, enabling fleets of Tesla “Cybercabs” to make money ferrying customers.\\nBut Tesla has not yet perfected the technology and faces competition in that nascent business from several Chinese companies and Waymo, a unit of Alphabet, the parent company of Google.\",\n",
       "  'score': 0.5440511}]"
      ]
     },
     "execution_count": 2,
     "metadata": {},
     "output_type": "execute_result"
    }
   ],
   "execution_count": 2
  },
  {
   "metadata": {},
   "cell_type": "markdown",
   "source": [
    "### Tool의 구성 요소\n",
    "- name : 도구의 이름\n",
    "- description : 도구에 대한 설명\n",
    "- JSON schema : 도구 입력 정보\n",
    "- function : 실행할 함수??"
   ],
   "id": "90d0b0c0c6d97a81"
  },
  {
   "metadata": {
    "ExecuteTime": {
     "end_time": "2025-05-17T07:58:21.851022Z",
     "start_time": "2025-05-17T07:58:21.845233Z"
    }
   },
   "cell_type": "code",
   "source": [
    "TavilySearchResults # class 살펴보기\n",
    "type(tavily_search)"
   ],
   "id": "5625c6f4658a97e",
   "outputs": [
    {
     "data": {
      "text/plain": [
       "langchain_community.tools.tavily_search.tool.TavilySearchResults"
      ]
     },
     "execution_count": 3,
     "metadata": {},
     "output_type": "execute_result"
    }
   ],
   "execution_count": 3
  },
  {
   "metadata": {
    "ExecuteTime": {
     "end_time": "2025-05-17T07:58:21.868059Z",
     "start_time": "2025-05-17T07:58:21.864223Z"
    }
   },
   "cell_type": "code",
   "source": "tavily_search.name",
   "id": "fb798ccb905f06ea",
   "outputs": [
    {
     "data": {
      "text/plain": [
       "'tavily_search_results_json'"
      ]
     },
     "execution_count": 4,
     "metadata": {},
     "output_type": "execute_result"
    }
   ],
   "execution_count": 4
  },
  {
   "metadata": {
    "ExecuteTime": {
     "end_time": "2025-05-17T07:58:21.920973Z",
     "start_time": "2025-05-17T07:58:21.908467Z"
    }
   },
   "cell_type": "code",
   "source": "tavily_search.description",
   "id": "1a1041e20909bfa0",
   "outputs": [
    {
     "data": {
      "text/plain": [
       "'A search engine optimized for comprehensive, accurate, and trusted results. Useful for when you need to answer questions about current events. Input should be a search query.'"
      ]
     },
     "execution_count": 5,
     "metadata": {},
     "output_type": "execute_result"
    }
   ],
   "execution_count": 5
  },
  {
   "metadata": {
    "ExecuteTime": {
     "end_time": "2025-05-17T07:58:22.002908Z",
     "start_time": "2025-05-17T07:58:21.995406Z"
    }
   },
   "cell_type": "code",
   "source": "tavily_search.args",
   "id": "3320e958ca669e81",
   "outputs": [
    {
     "data": {
      "text/plain": [
       "{'query': {'description': 'search query to look up',\n",
       "  'title': 'Query',\n",
       "  'type': 'string'}}"
      ]
     },
     "execution_count": 6,
     "metadata": {},
     "output_type": "execute_result"
    }
   ],
   "execution_count": 6
  },
  {
   "metadata": {
    "ExecuteTime": {
     "end_time": "2025-05-17T07:58:22.063347Z",
     "start_time": "2025-05-17T07:58:22.057514Z"
    }
   },
   "cell_type": "code",
   "source": "tavily_search.args_schema",
   "id": "b7b5249e1214211e",
   "outputs": [
    {
     "data": {
      "text/plain": [
       "langchain_community.tools.tavily_search.tool.TavilyInput"
      ]
     },
     "execution_count": 7,
     "metadata": {},
     "output_type": "execute_result"
    }
   ],
   "execution_count": 7
  },
  {
   "metadata": {
    "ExecuteTime": {
     "end_time": "2025-05-17T07:58:22.100981Z",
     "start_time": "2025-05-17T07:58:22.087230Z"
    }
   },
   "cell_type": "code",
   "source": "tavily_search.args_schema.model_json_schema()",
   "id": "530db5a187ad4b1e",
   "outputs": [
    {
     "data": {
      "text/plain": [
       "{'description': 'Input for the Tavily tool.',\n",
       " 'properties': {'query': {'description': 'search query to look up',\n",
       "   'title': 'Query',\n",
       "   'type': 'string'}},\n",
       " 'required': ['query'],\n",
       " 'title': 'TavilyInput',\n",
       " 'type': 'object'}"
      ]
     },
     "execution_count": 8,
     "metadata": {},
     "output_type": "execute_result"
    }
   ],
   "execution_count": 8
  },
  {
   "metadata": {},
   "cell_type": "markdown",
   "source": "### LLM과 Tavily 도구 binding하기",
   "id": "d2e76c0a7c68fd1e"
  },
  {
   "metadata": {
    "ExecuteTime": {
     "end_time": "2025-05-17T07:58:23.584121Z",
     "start_time": "2025-05-17T07:58:22.137399Z"
    }
   },
   "cell_type": "code",
   "source": [
    "from langchain_openai import ChatOpenAI\n",
    "\n",
    "llm = ChatOpenAI(model=\"gpt-4o-mini\")\n",
    "llm_with_tools = llm.bind_tools(tools=[tavily_search])\n",
    "\n",
    "query"
   ],
   "id": "3a987aee061fecb4",
   "outputs": [
    {
     "data": {
      "text/plain": [
       "'최근 한 달 동안 나온 테슬라와 구글 CEO 관련 영문 기사들을 각각 자연스럽게 한국어로 요약해서 Bullet Point로 정리해줘'"
      ]
     },
     "execution_count": 9,
     "metadata": {},
     "output_type": "execute_result"
    }
   ],
   "execution_count": 9
  },
  {
   "metadata": {
    "ExecuteTime": {
     "end_time": "2025-05-17T07:58:25.659333Z",
     "start_time": "2025-05-17T07:58:23.595908Z"
    }
   },
   "cell_type": "code",
   "source": [
    "ai_msg = llm_with_tools.invoke(query)\n",
    "pprint(ai_msg)"
   ],
   "id": "84a10b5bc3600439",
   "outputs": [
    {
     "name": "stdout",
     "output_type": "stream",
     "text": [
      "AIMessage(content='', additional_kwargs={'tool_calls': [{'id': 'call_Q1phR7P5CxsOcEDVlwFFDkfx', 'function': {'arguments': '{\"query\": \"Tesla CEO news last month\"}', 'name': 'tavily_search_results_json'}, 'type': 'function'}, {'id': 'call_l0IleMec3VORXcHBotZIinMO', 'function': {'arguments': '{\"query\": \"Google CEO news last month\"}', 'name': 'tavily_search_results_json'}, 'type': 'function'}], 'refusal': None}, response_metadata={'token_usage': {'completion_tokens': 60, 'prompt_tokens': 113, 'total_tokens': 173, 'completion_tokens_details': {'accepted_prediction_tokens': 0, 'audio_tokens': 0, 'reasoning_tokens': 0, 'rejected_prediction_tokens': 0}, 'prompt_tokens_details': {'audio_tokens': 0, 'cached_tokens': 0}}, 'model_name': 'gpt-4o-mini-2024-07-18', 'system_fingerprint': 'fp_54eb4bd693', 'id': 'chatcmpl-BY6j1AK9ZZuo4Sbl4XtsuCfE0c9Kj', 'service_tier': 'default', 'finish_reason': 'tool_calls', 'logprobs': None}, id='run--5affac11-f75e-47d5-8c87-653b3718ce83-0', tool_calls=[{'name': 'tavily_search_results_json', 'args': {'query': 'Tesla CEO news last month'}, 'id': 'call_Q1phR7P5CxsOcEDVlwFFDkfx', 'type': 'tool_call'}, {'name': 'tavily_search_results_json', 'args': {'query': 'Google CEO news last month'}, 'id': 'call_l0IleMec3VORXcHBotZIinMO', 'type': 'tool_call'}], usage_metadata={'input_tokens': 113, 'output_tokens': 60, 'total_tokens': 173, 'input_token_details': {'audio': 0, 'cache_read': 0}, 'output_token_details': {'audio': 0, 'reasoning': 0}})\n"
     ]
    }
   ],
   "execution_count": 10
  },
  {
   "metadata": {
    "ExecuteTime": {
     "end_time": "2025-05-17T07:58:25.677236Z",
     "start_time": "2025-05-17T07:58:25.667508Z"
    }
   },
   "cell_type": "code",
   "source": "ai_msg.content",
   "id": "6593f85fee732368",
   "outputs": [
    {
     "data": {
      "text/plain": [
       "''"
      ]
     },
     "execution_count": 11,
     "metadata": {},
     "output_type": "execute_result"
    }
   ],
   "execution_count": 11
  },
  {
   "metadata": {
    "ExecuteTime": {
     "end_time": "2025-05-17T07:58:25.702939Z",
     "start_time": "2025-05-17T07:58:25.689127Z"
    }
   },
   "cell_type": "code",
   "source": "ai_msg.tool_calls",
   "id": "a5b410f1a6267287",
   "outputs": [
    {
     "data": {
      "text/plain": [
       "[{'name': 'tavily_search_results_json',\n",
       "  'args': {'query': 'Tesla CEO news last month'},\n",
       "  'id': 'call_Q1phR7P5CxsOcEDVlwFFDkfx',\n",
       "  'type': 'tool_call'},\n",
       " {'name': 'tavily_search_results_json',\n",
       "  'args': {'query': 'Google CEO news last month'},\n",
       "  'id': 'call_l0IleMec3VORXcHBotZIinMO',\n",
       "  'type': 'tool_call'}]"
      ]
     },
     "execution_count": 12,
     "metadata": {},
     "output_type": "execute_result"
    }
   ],
   "execution_count": 12
  },
  {
   "metadata": {},
   "cell_type": "markdown",
   "source": [
    "### LLM에서 응답으로 온 Tool 정보를 이용해 Tool 직접 실행하기\n",
    "- args 스키마 사용 -> list 형태로 나옴\n",
    "- tool_call 사용 -> ToolMessage 형태로 나옴"
   ],
   "id": "d696ba5cb24f589c"
  },
  {
   "metadata": {
    "ExecuteTime": {
     "end_time": "2025-05-17T07:58:28.739922Z",
     "start_time": "2025-05-17T07:58:25.735031Z"
    }
   },
   "cell_type": "code",
   "source": [
    "# args 스키마 사용\n",
    "tool_call = ai_msg.tool_calls[0]\n",
    "tool_output = tavily_search.invoke(tool_call['args'])\n",
    "pprint(type(tool_output))\n",
    "pprint(tool_output)"
   ],
   "id": "713876dfa6bd1593",
   "outputs": [
    {
     "name": "stdout",
     "output_type": "stream",
     "text": [
      "<class 'list'>\n",
      "[{'content': \"Tesla Inc.'s board of directors took steps toward finding Chief \"\n",
      "             \"Executive Elon Musk's successor earlier this month, as the EV \"\n",
      "             \"maker's stock\",\n",
      "  'score': 0.75027883,\n",
      "  'title': 'Tesla Board Opened Search for a CEO to Succeed Elon Musk - WSJ',\n",
      "  'url': 'https://www.wsj.com/business/autos/tesla-musk-ceo-search-board-0ce61af9'},\n",
      " {'content': 'The EV maker began looking last month for a new CEO to replace '\n",
      "             'Musk, the Wall Street Journal reported Monday.',\n",
      "  'score': 0.7368747,\n",
      "  'title': 'Elon Musk reportedly said last year he no longer wanted to be '\n",
      "           'Tesla ...',\n",
      "  'url': 'https://finance.yahoo.com/news/elon-musk-reportedly-said-last-111700409.html'}]\n"
     ]
    }
   ],
   "execution_count": 13
  },
  {
   "metadata": {
    "ExecuteTime": {
     "end_time": "2025-05-17T07:58:32.278928Z",
     "start_time": "2025-05-17T07:58:28.835469Z"
    }
   },
   "cell_type": "code",
   "source": [
    "# tool_call 사용\n",
    "tool_message = tavily_search.invoke(tool_call)\n",
    "pprint(type(tool_message))\n",
    "pprint(tool_message)"
   ],
   "id": "7f188b2101eceeb7",
   "outputs": [
    {
     "name": "stdout",
     "output_type": "stream",
     "text": [
      "<class 'langchain_core.messages.tool.ToolMessage'>\n",
      "ToolMessage(content='[{\"title\": \"Tesla Board Opened Search for a CEO to Succeed Elon Musk - WSJ\", \"url\": \"https://www.wsj.com/business/autos/tesla-musk-ceo-search-board-0ce61af9\", \"content\": \"Tesla Inc.\\'s board of directors took steps toward finding Chief Executive Elon Musk\\'s successor earlier this month, as the EV maker\\'s stock\", \"score\": 0.75027883}, {\"title\": \"Elon Musk reportedly said last year he no longer wanted to be Tesla ...\", \"url\": \"https://finance.yahoo.com/news/elon-musk-reportedly-said-last-111700409.html\", \"content\": \"The EV maker began looking last month for a new CEO to replace Musk, the Wall Street Journal reported Monday.\", \"score\": 0.7368747}]', name='tavily_search_results_json', tool_call_id='call_Q1phR7P5CxsOcEDVlwFFDkfx', artifact={'query': 'Tesla CEO news last month', 'follow_up_questions': None, 'answer': None, 'images': [], 'results': [{'url': 'https://www.wsj.com/business/autos/tesla-musk-ceo-search-board-0ce61af9', 'title': 'Tesla Board Opened Search for a CEO to Succeed Elon Musk - WSJ', 'content': \"Tesla Inc.'s board of directors took steps toward finding Chief Executive Elon Musk's successor earlier this month, as the EV maker's stock\", 'score': 0.75027883, 'raw_content': None}, {'url': 'https://finance.yahoo.com/news/elon-musk-reportedly-said-last-111700409.html', 'title': 'Elon Musk reportedly said last year he no longer wanted to be Tesla ...', 'content': 'The EV maker began looking last month for a new CEO to replace Musk, the Wall Street Journal reported Monday.', 'score': 0.7368747, 'raw_content': None}], 'response_time': 2.34})\n"
     ]
    }
   ],
   "execution_count": 14
  },
  {
   "metadata": {
    "ExecuteTime": {
     "end_time": "2025-05-17T07:58:32.304168Z",
     "start_time": "2025-05-17T07:58:32.289226Z"
    }
   },
   "cell_type": "code",
   "source": [
    "# tool_output으로 ToolMessage 만들기\n",
    "from langchain_core.messages.tool import ToolMessage\n",
    "\n",
    "tool_message = ToolMessage(\n",
    "    content=tool_output,\n",
    "    tool_call_id=tool_call[\"id\"],\n",
    "    name=tool_call[\"name\"]\n",
    ")\n",
    "pprint(type(tool_message))\n",
    "pprint(tool_message)"
   ],
   "id": "61f98b3f8846d2cb",
   "outputs": [
    {
     "name": "stdout",
     "output_type": "stream",
     "text": [
      "<class 'langchain_core.messages.tool.ToolMessage'>\n",
      "ToolMessage(content=[{'title': 'Tesla Board Opened Search for a CEO to Succeed Elon Musk - WSJ', 'url': 'https://www.wsj.com/business/autos/tesla-musk-ceo-search-board-0ce61af9', 'content': \"Tesla Inc.'s board of directors took steps toward finding Chief Executive Elon Musk's successor earlier this month, as the EV maker's stock\", 'score': 0.75027883}, {'title': 'Elon Musk reportedly said last year he no longer wanted to be Tesla ...', 'url': 'https://finance.yahoo.com/news/elon-musk-reportedly-said-last-111700409.html', 'content': 'The EV maker began looking last month for a new CEO to replace Musk, the Wall Street Journal reported Monday.', 'score': 0.7368747}], name='tavily_search_results_json', tool_call_id='call_Q1phR7P5CxsOcEDVlwFFDkfx')\n"
     ]
    }
   ],
   "execution_count": 15
  },
  {
   "metadata": {
    "ExecuteTime": {
     "end_time": "2025-05-17T07:58:32.324081Z",
     "start_time": "2025-05-17T07:58:32.317998Z"
    }
   },
   "cell_type": "code",
   "source": "tool_message.content",
   "id": "a0e15d0f9fa8c035",
   "outputs": [
    {
     "data": {
      "text/plain": [
       "[{'title': 'Tesla Board Opened Search for a CEO to Succeed Elon Musk - WSJ',\n",
       "  'url': 'https://www.wsj.com/business/autos/tesla-musk-ceo-search-board-0ce61af9',\n",
       "  'content': \"Tesla Inc.'s board of directors took steps toward finding Chief Executive Elon Musk's successor earlier this month, as the EV maker's stock\",\n",
       "  'score': 0.75027883},\n",
       " {'title': 'Elon Musk reportedly said last year he no longer wanted to be Tesla ...',\n",
       "  'url': 'https://finance.yahoo.com/news/elon-musk-reportedly-said-last-111700409.html',\n",
       "  'content': 'The EV maker began looking last month for a new CEO to replace Musk, the Wall Street Journal reported Monday.',\n",
       "  'score': 0.7368747}]"
      ]
     },
     "execution_count": 16,
     "metadata": {},
     "output_type": "execute_result"
    }
   ],
   "execution_count": 16
  },
  {
   "metadata": {},
   "cell_type": "markdown",
   "source": "### Tool의 결과를 LLM에 전달하여 최종 응답 생성하기",
   "id": "91b3f469b1e51119"
  },
  {
   "metadata": {
    "ExecuteTime": {
     "end_time": "2025-05-17T07:58:36.042761Z",
     "start_time": "2025-05-17T07:58:32.340032Z"
    }
   },
   "cell_type": "code",
   "source": [
    "from datetime import datetime\n",
    "\n",
    "today = datetime.today().strftime(\"%Y-%m-%d\")\n",
    "llm = ChatOpenAI(model=\"gpt-4o-mini\")\n",
    "prompt = f\"\"\"\n",
    "    You are a helpful AI assistant.\n",
    "    Today is {today}\n",
    "    {query}\n",
    "    {tool_message.content}\n",
    "\"\"\"\n",
    "result = llm.invoke(prompt)\n",
    "pprint(result)"
   ],
   "id": "c175ff25c8725c08",
   "outputs": [
    {
     "name": "stdout",
     "output_type": "stream",
     "text": [
      "AIMessage(content='### 테슬라 관련 기사 요약\\n- **테슬라, CEO 후임 검색 시작**: 테슬라 이사회는 일론 머스크의 후임 CEO를 찾기 위한 절차를 시작했다고 보도됨.\\n- **머스크, CEO 역할에 대한 피로감**: 머스크는 작년부터 테슬라 CEO 역할을 더 이상 원하지 않는다는 의사를 표시했다는 보고가 있음.\\n  \\n### 구글 관련 기사 요약\\n- 최근 한 달간 구글 CEO에 관한 기사는 확인되지 않았습니다.', additional_kwargs={'refusal': None}, response_metadata={'token_usage': {'completion_tokens': 116, 'prompt_tokens': 238, 'total_tokens': 354, 'completion_tokens_details': {'accepted_prediction_tokens': 0, 'audio_tokens': 0, 'reasoning_tokens': 0, 'rejected_prediction_tokens': 0}, 'prompt_tokens_details': {'audio_tokens': 0, 'cached_tokens': 0}}, 'model_name': 'gpt-4o-mini-2024-07-18', 'system_fingerprint': 'fp_dbaca60df0', 'id': 'chatcmpl-BY6jANs2zCWnosjI8NNZ3UofrfJhZ', 'service_tier': 'default', 'finish_reason': 'stop', 'logprobs': None}, id='run--73beeaa7-d2ca-4171-89fd-db2f7206169d-0', usage_metadata={'input_tokens': 238, 'output_tokens': 116, 'total_tokens': 354, 'input_token_details': {'audio': 0, 'cache_read': 0}, 'output_token_details': {'audio': 0, 'reasoning': 0}})\n"
     ]
    }
   ],
   "execution_count": 17
  },
  {
   "metadata": {},
   "cell_type": "markdown",
   "source": [
    "## 전체과정 정리 하기\n",
    "- LLM 체인 정의\n",
    "- LLM 체인에 ToolMessage 전달"
   ],
   "id": "e706be3f30c4f8ee"
  },
  {
   "metadata": {
    "ExecuteTime": {
     "end_time": "2025-05-17T07:58:36.480420Z",
     "start_time": "2025-05-17T07:58:36.048730Z"
    }
   },
   "cell_type": "code",
   "source": [
    "# LLM 체인 정의\n",
    "\n",
    "# 오늘 날짜 설정\n",
    "today = datetime.today().strftime(\"%Y-%m-%d\")\n",
    "\n",
    "# 프롬프트 템플릿\n",
    "prompt = ChatPromptTemplate([\n",
    "    (\"system\", f\"You are a helpful AI assistant\"),\n",
    "    (\"system\", f\"Today is {today}\"),\n",
    "    (\"human\", \"{user_input}\"),\n",
    "    (\"placeholder\", \"{messages}\")\n",
    "])\n",
    "\n",
    "# llm 정의\n",
    "llm = ChatOpenAI(model=\"gpt-4o-mini\")\n",
    "\n",
    "# 도구 바인딩\n",
    "llm_with_tools = llm.bind_tools(tools=[tavily_search])\n",
    "\n",
    "# LLM체인 생성\n",
    "llm_chain = prompt | llm_with_tools\n"
   ],
   "id": "5564bbade01240c7",
   "outputs": [],
   "execution_count": 18
  },
  {
   "metadata": {
    "ExecuteTime": {
     "end_time": "2025-05-17T07:58:48.512791Z",
     "start_time": "2025-05-17T07:58:36.487953Z"
    }
   },
   "cell_type": "code",
   "source": [
    "# LLM 체인에 ToolMessage 전달\n",
    "from langchain_core.runnables import chain\n",
    "\n",
    "@chain\n",
    "def web_search_chain(user_input: str, config: RunnableConfig):\n",
    "    input = {\"user_input\": user_input}\n",
    "    ai_msg = llm_chain.invoke(input, config=config)\n",
    "    tool_msgs = tavily_search.batch(ai_msg.tool_calls, config=config)\n",
    "    return llm_chain.invoke(\n",
    "        {**input, \"messages\": [ai_msg, *tool_msgs]},\n",
    "        config=config\n",
    "    )\n",
    "\n",
    "web_search_chain.invoke(query)"
   ],
   "id": "107ce509b68e5077",
   "outputs": [
    {
     "data": {
      "text/plain": [
       "AIMessage(content='### 테슬라 CEO 관련 최근 한 달간의 주요 뉴스 요약\\n- **CEO 후임 찾기**: 테슬라 이사회가 일론 머스크의 후임 CEO를 찾기 위한 절차를 진행 중임. (기사: [WSJ](https://www.wsj.com/business/autos/tesla-musk-ceo-search-board-0ce61af9))\\n- **인도 지사 헤드 사임**: 테슬라의 인도 지사장이 사임했으며, 이는 회사를 인도에 출시하기 위해 준비하고 있는 상황에서 발생함. (기사: [Reuters](https://www.reuters.com/business/elon-musk/))\\n\\n### 구글 CEO 관련 최근 한 달간의 주요 뉴스 요약\\n- **2025년의 중요성 강조**: 구글 CEO 순다르 피차이는 직원들에게 2025년이 중요하다고 언급하며, 경쟁과 규제의 압박이 커지고 있다고 경고함. (기사: [CNBC](https://www.cnbc.com/2024/12/27/google-ceo-pichai-tells-employees-the-stakes-are-high-for-2025.html))\\n- **임금 삭감 발표**: 피차이는 12,000명의 직원 해고 결정에 따라 상당한 임금 삭감을 받겠다고 발표했으며, 이는 시장 변화에 적응하기 위한 조치라고 설명함. (기사: [The Economic Times](https://economictimes.indiatimes.com/news/sundar-pichai))', additional_kwargs={'refusal': None}, response_metadata={'token_usage': {'completion_tokens': 330, 'prompt_tokens': 825, 'total_tokens': 1155, 'completion_tokens_details': {'accepted_prediction_tokens': 0, 'audio_tokens': 0, 'reasoning_tokens': 0, 'rejected_prediction_tokens': 0}, 'prompt_tokens_details': {'audio_tokens': 0, 'cached_tokens': 0}}, 'model_name': 'gpt-4o-mini-2024-07-18', 'system_fingerprint': 'fp_54eb4bd693', 'id': 'chatcmpl-BY6jJbXjTXcG7PyqSNXvDJpcl2mGF', 'service_tier': 'default', 'finish_reason': 'stop', 'logprobs': None}, id='run--243427b0-2adb-4690-92c4-babd10c46f92-0', usage_metadata={'input_tokens': 825, 'output_tokens': 330, 'total_tokens': 1155, 'input_token_details': {'audio': 0, 'cache_read': 0}, 'output_token_details': {'audio': 0, 'reasoning': 0}})"
      ]
     },
     "execution_count": 19,
     "metadata": {},
     "output_type": "execute_result"
    }
   ],
   "execution_count": 19
  },
  {
   "metadata": {},
   "cell_type": "markdown",
   "source": [
    "## 사용자 정의 도구(Tool)\n",
    "- @tool 데코레이터 사용"
   ],
   "id": "6fa3d8c7c9c6227a"
  },
  {
   "metadata": {
    "ExecuteTime": {
     "end_time": "2025-05-17T07:58:48.758724Z",
     "start_time": "2025-05-17T07:58:48.528023Z"
    }
   },
   "cell_type": "code",
   "source": [
    "from typing import Dict, List, Annotated\n",
    "import requests\n",
    "from langchain_core.tools import tool\n",
    "\n",
    "@tool\n",
    "def blog_search(query:  Annotated[str, \"질의\"], search_count: Annotated[int, \"검색수\"]=2) -> List[Dict]:\n",
    "    \"\"\"네이버 블로그 API에 검색 요청을 보냅니다.\"\"\"\n",
    "    url = \"https://openapi.naver.com/v1/search/blog.json\"\n",
    "    headers = {\n",
    "        \"X-Naver-Client-Id\": os.environ[\"NAVER_CLIENT_ID\"],\n",
    "        \"X-Naver-Client-Secret\": os.environ[\"NAVER_CLIENT_SECRET\"]\n",
    "    }\n",
    "    params = {\"query\": query, \"display\": 10, \"start\": 1}\n",
    "    response = requests.get(url, headers=headers, params=params)\n",
    "\n",
    "    if response.status_code == 200:\n",
    "        return response.json()['items']\n",
    "    else:\n",
    "        return []\n",
    "\n",
    "wine_query = \"블로그에 나와있는 스테이크와 어울리는 와인과 기분 좋은 노래를 추천해주세요.\"\n",
    "search_results = blog_search.invoke(wine_query)\n",
    "search_results"
   ],
   "id": "e2a8dcf2e34964c0",
   "outputs": [
    {
     "data": {
      "text/plain": [
       "[{'title': '파스타 또봄, <b>와인과</b> <b>어울리는</b> 프렌치 감성의 파스타와 <b>스테이크</b>',\n",
       "  'link': 'https://blog.naver.com/kohk94/223864934981',\n",
       "  'description': '파스타와 <b>스테이크</b>는 물론, <b>와인과</b> <b>어울리는</b> 특별한 메뉴가 있었어요 한옥과 프렌치 감성이... 파스타와 <b>스테이크</b> <b>와인</b>이 <b>있는</b> 세트메뉴가 <b>추천</b>이더라구요 연인들끼리 멋진 저녁이 될거 같죠 저희는 또봄... ',\n",
       "  'bloggername': '바늘마녀의 아뜨리에♡',\n",
       "  'bloggerlink': 'blog.naver.com/kohk94',\n",
       "  'postdate': '20250514'},\n",
       " {'title': '목동<b>와인</b> - 파인앨리 : 뽈뽀 <b>스테이크</b>, 감베리 풍기 알리오',\n",
       "  'link': 'https://blog.naver.com/offspring84/223860446265',\n",
       "  'description': '맛<b>있는</b> 파스타, <b>와인</b>도 한 잔 <b>추천</b>드립니다 술 안 마시는 친구랑 와도 좋고 연인과 즐거운 데이트 코스로도 <b>좋은</b> 곳! 목동<b>와인</b> - 파인앨리: 뽈뽀 <b>스테이크</b>, 감베리 풍기 알리오, 스몰카프레제, Veuve de Verndier <b>와인</b>',\n",
       "  'bloggername': '무한잡념',\n",
       "  'bloggerlink': 'blog.naver.com/offspring84',\n",
       "  'postdate': '20250509'},\n",
       " {'title': '이탈리아 피렌체 맛집 <b>추천</b> 티본<b>스테이크</b> 토스카나 와인 육회',\n",
       "  'link': 'https://blog.naver.com/lsh5755/223847077153',\n",
       "  'description': \"피렌체 인근 토스카나 지방은 질 <b>좋은</b> <b>와인</b>을 생산하기로 유명하다. <b>와인</b> 애호가들의 성지기도 한다.... 그냥 'T본 <b>스테이크</b>'라고 부르고, 그들도 알아듣는다. T자 뼈가 포함되어 <b>있는</b> 안심과 등심 부위를... \",\n",
       "  'bloggername': '천사는 여행중',\n",
       "  'bloggerlink': 'blog.naver.com/lsh5755',\n",
       "  'postdate': '20250426'},\n",
       " {'title': '한우 <b>스테이크</b>를 <b>와인과</b> 함께 즐길 수 <b>있는</b> 이도현 고깃집',\n",
       "  'link': 'https://blog.naver.com/commitv/223848860811',\n",
       "  'description': '총평 광교 <b>스테이크</b> 맛집 이도현 고깃집에서 <b>기분 좋은</b> 한 끼 식사를 마쳤습니다. 오후부터 밤 늦게까지 편안하고 아늑한 분위기에서 <b>와인</b>을 곁들인 식사를 즐길 수 <b>있는</b>, 투플러스 한우 <b>스테이크</b>가 너무... ',\n",
       "  'bloggername': '언제나 진행중(ing)',\n",
       "  'bloggerlink': 'blog.naver.com/commitv',\n",
       "  'postdate': '20250428'},\n",
       " {'title': '<b>스테이크와</b> 잘 <b>어울리는</b> 3만원대 이마트 레드 <b>와인</b> <b>추천</b>',\n",
       "  'link': 'https://blog.naver.com/dolmory9/223556006280',\n",
       "  'description': '상태 <b>좋은</b> 코르크 : 산 페드로 시데랄 2021 ▲ <b>와인</b> 색상 : 산 페드로 시데랄 2021 (마트 토마스 글래스) &lt;음식 페어링&gt; 메인 육류 요리 또는 버섯과 잘 <b>어울리는</b> 레드 <b>와인</b>입니다. 등심 <b>스테이크와</b> 함께... ',\n",
       "  'bloggername': '와인과 커피 엔지니어',\n",
       "  'bloggerlink': 'blog.naver.com/dolmory9',\n",
       "  'postdate': '20240821'},\n",
       " {'title': '맛집 데이트와 모임장소로 <b>어울리는</b> 고기집 까사생갈비 <b>와인</b> <b>추천</b>',\n",
       "  'link': 'https://blog.naver.com/kingpro_/223851064132',\n",
       "  'description': '같은 교회 자매들과 매달 한 번씩 하는 소모임이 <b>있는</b>데요. 이번엔 특별히 외부에서 식사하자는 의견이... 고기와 <b>어울리는</b> 레드부터 화이트까지 고르게 준비돼 있어 <b>와인</b> 한잔하며 <b>기분</b> 좋게 시작했죠. 이런... ',\n",
       "  'bloggername': '왕프로의 오피스 이야기',\n",
       "  'bloggerlink': 'blog.naver.com/kingpro_',\n",
       "  'postdate': '20250430'},\n",
       " {'title': '여수 <b>와인</b>바 학동 맛집 :: <b>스테이크</b> 파스타 다이닝 바 와캡... ',\n",
       "  'link': 'https://blog.naver.com/jhjoo20/223787083553',\n",
       "  'description': '화이트 <b>와인</b>을 고를 때 직원분이 페어링하기 <b>좋은</b> 사이드로 <b>추천 해</b>주셨어요. 근데 결과는 대성공! 푸아그라를 무스로 만들었다는게 넘 신기! 약간 느끼할수도 <b>있는</b> 푸아그라를 캐러맬라이즈드 양파로... ',\n",
       "  'bloggername': '아시아 요즘곳들 탐험일기',\n",
       "  'bloggerlink': 'blog.naver.com/jhjoo20',\n",
       "  'postdate': '20250307'},\n",
       " {'title': '<b>와인</b>소믈리에 자격증 취득하는 방법 및 호텔학교 후기',\n",
       "  'link': 'https://blog.naver.com/artist_juju/223864106112',\n",
       "  'description': '오랜만에 <b>기분 좋은</b> 나들이라서 그런지 상당히 힐링도 되고 이 시간을 좀 더 깊이 기억하며 분위기 내고 싶어 레드 <b>와인</b>까지 시켜서 <b>스테이크와</b> 먹었는데 정말 잘 어울린다는 걸 이번에 깨달았어요. 제가 솔직히... ',\n",
       "  'bloggername': 'Artist_juju',\n",
       "  'bloggerlink': 'blog.naver.com/artist_juju',\n",
       "  'postdate': '20250513'},\n",
       " {'title': '포항시청 앞 포항<b>와인</b>샵 비노빌라쥬에서 스승의 날 선물 구입',\n",
       "  'link': 'https://blog.naver.com/vix19/223861584858',\n",
       "  'description': '맞아 <b>좋은</b> 분께 드릴 선물을 구입했는데 친절했던 사장님 덕분에 <b>기분</b>이 좋아서 기록을 남겨본다.... 무알콜도 <b>있는</b>지 여쭤봤는데 로씨니라고 생과일 즙이 그대로 들어간 무알콜<b>와인</b>도 <b>추천해</b> 주셨다.... ',\n",
       "  'bloggername': '★밤별다락방★',\n",
       "  'bloggerlink': 'blog.naver.com/vix19',\n",
       "  'postdate': '20250511'},\n",
       " {'title': '을지로 <b>와인</b>바 가성비 <b>와인</b>, 데이트 소개팅 <b>추천</b>(+<b>와인</b>리스트)... ',\n",
       "  'link': 'https://blog.naver.com/u4778/223864730817',\n",
       "  'description': \"그렇게 날씨 탓을 하며 결국 들른 곳은 을지로에 숨어<b>있는</b> 분위기 <b>좋은</b> 을지로 <b>와인</b>바, '을지나른... <b>스테이크</b>처럼 칼로 썰어 먹는 재미도 있어서, <b>와인과</b> 함께 분위기 내기 딱 <b>좋은</b> 메뉴. [치폴로토 파스타] 사실... \",\n",
       "  'bloggername': '즐거운 내인생 :^) ☆',\n",
       "  'bloggerlink': 'blog.naver.com/u4778',\n",
       "  'postdate': '20250513'}]"
      ]
     },
     "execution_count": 20,
     "metadata": {},
     "output_type": "execute_result"
    }
   ],
   "execution_count": 20
  },
  {
   "metadata": {
    "ExecuteTime": {
     "end_time": "2025-05-17T07:58:48.771093Z",
     "start_time": "2025-05-17T07:58:48.764758Z"
    }
   },
   "cell_type": "code",
   "source": [
    "pprint(blog_search.name)\n",
    "pprint(blog_search.description)\n",
    "pprint(blog_search.args_schema)\n",
    "pprint(blog_search.args)"
   ],
   "id": "6713ba3d7aae7a2f",
   "outputs": [
    {
     "name": "stdout",
     "output_type": "stream",
     "text": [
      "'blog_search'\n",
      "'네이버 블로그 API에 검색 요청을 보냅니다.'\n",
      "<class 'langchain_core.utils.pydantic.blog_search'>\n",
      "{'query': {'description': '질의', 'title': 'Query', 'type': 'string'},\n",
      " 'search_count': {'default': 2,\n",
      "                  'description': '검색수',\n",
      "                  'title': 'Search Count',\n",
      "                  'type': 'integer'}}\n"
     ]
    }
   ],
   "execution_count": 21
  },
  {
   "metadata": {
    "ExecuteTime": {
     "end_time": "2025-05-17T07:58:48.788873Z",
     "start_time": "2025-05-17T07:58:48.783958Z"
    }
   },
   "cell_type": "code",
   "source": "blog_search",
   "id": "a17ba8a275902fb",
   "outputs": [
    {
     "data": {
      "text/plain": [
       "StructuredTool(name='blog_search', description='네이버 블로그 API에 검색 요청을 보냅니다.', args_schema=<class 'langchain_core.utils.pydantic.blog_search'>, func=<function blog_search at 0x000002B17F4EEE80>)"
      ]
     },
     "execution_count": 22,
     "metadata": {},
     "output_type": "execute_result"
    }
   ],
   "execution_count": 22
  },
  {
   "metadata": {
    "ExecuteTime": {
     "end_time": "2025-05-17T07:58:49.206063Z",
     "start_time": "2025-05-17T07:58:48.796048Z"
    }
   },
   "cell_type": "code",
   "source": [
    "# LLM binding\n",
    "llm = ChatOpenAI(model=\"gpt-4o-mini\")\n",
    "llm_with_blog = llm.bind_tools(tools=[tavily_search, blog_search])"
   ],
   "id": "1d3f96e8bf246b9f",
   "outputs": [],
   "execution_count": 23
  },
  {
   "metadata": {
    "ExecuteTime": {
     "end_time": "2025-05-17T07:58:50.852522Z",
     "start_time": "2025-05-17T07:58:49.211854Z"
    }
   },
   "cell_type": "code",
   "source": [
    "# LLM 실행하여 툴 추천 받기\n",
    "ai_msg = llm_with_blog.invoke(wine_query)\n",
    "ai_msg"
   ],
   "id": "3b761e4554704184",
   "outputs": [
    {
     "data": {
      "text/plain": [
       "AIMessage(content='', additional_kwargs={'tool_calls': [{'id': 'call_2GlyEPoAecNgDDLAPxhdK1e5', 'function': {'arguments': '{\"query\": \"스테이크와 어울리는 와인\"}', 'name': 'blog_search'}, 'type': 'function'}, {'id': 'call_Bj2uXa3TJFa0BYoBHogQo1kn', 'function': {'arguments': '{\"query\": \"스테이크와 어울리는 기분 좋은 노래\"}', 'name': 'blog_search'}, 'type': 'function'}], 'refusal': None}, response_metadata={'token_usage': {'completion_tokens': 63, 'prompt_tokens': 149, 'total_tokens': 212, 'completion_tokens_details': {'accepted_prediction_tokens': 0, 'audio_tokens': 0, 'reasoning_tokens': 0, 'rejected_prediction_tokens': 0}, 'prompt_tokens_details': {'audio_tokens': 0, 'cached_tokens': 0}}, 'model_name': 'gpt-4o-mini-2024-07-18', 'system_fingerprint': 'fp_54eb4bd693', 'id': 'chatcmpl-BY6jRnyKHHiVGhGE7sb6osXY2ZH2c', 'service_tier': 'default', 'finish_reason': 'tool_calls', 'logprobs': None}, id='run--ed1c312e-8271-4afb-80e7-ba44f94f6a9c-0', tool_calls=[{'name': 'blog_search', 'args': {'query': '스테이크와 어울리는 와인'}, 'id': 'call_2GlyEPoAecNgDDLAPxhdK1e5', 'type': 'tool_call'}, {'name': 'blog_search', 'args': {'query': '스테이크와 어울리는 기분 좋은 노래'}, 'id': 'call_Bj2uXa3TJFa0BYoBHogQo1kn', 'type': 'tool_call'}], usage_metadata={'input_tokens': 149, 'output_tokens': 63, 'total_tokens': 212, 'input_token_details': {'audio': 0, 'cache_read': 0}, 'output_token_details': {'audio': 0, 'reasoning': 0}})"
      ]
     },
     "execution_count": 24,
     "metadata": {},
     "output_type": "execute_result"
    }
   ],
   "execution_count": 24
  },
  {
   "metadata": {
    "ExecuteTime": {
     "end_time": "2025-05-17T07:58:50.872263Z",
     "start_time": "2025-05-17T07:58:50.866904Z"
    }
   },
   "cell_type": "code",
   "source": "ai_msg.tool_calls",
   "id": "d87aac358c2814ff",
   "outputs": [
    {
     "data": {
      "text/plain": [
       "[{'name': 'blog_search',\n",
       "  'args': {'query': '스테이크와 어울리는 와인'},\n",
       "  'id': 'call_2GlyEPoAecNgDDLAPxhdK1e5',\n",
       "  'type': 'tool_call'},\n",
       " {'name': 'blog_search',\n",
       "  'args': {'query': '스테이크와 어울리는 기분 좋은 노래'},\n",
       "  'id': 'call_Bj2uXa3TJFa0BYoBHogQo1kn',\n",
       "  'type': 'tool_call'}]"
      ]
     },
     "execution_count": 25,
     "metadata": {},
     "output_type": "execute_result"
    }
   ],
   "execution_count": 25
  },
  {
   "metadata": {
    "ExecuteTime": {
     "end_time": "2025-05-17T07:58:51.047706Z",
     "start_time": "2025-05-17T07:58:50.887042Z"
    }
   },
   "cell_type": "code",
   "source": [
    "# blog tool 실행\n",
    "blog_search.batch(ai_msg.tool_calls)"
   ],
   "id": "f8eb65abf2829414",
   "outputs": [
    {
     "data": {
      "text/plain": [
       "[ToolMessage(content='[{\"title\": \"스미스앤월렌스키 (<b>스테이크와 어울리는</b> 추천<b>와인</b>, 서울... \", \"link\": \"https://blog.naver.com/neotaboo/223758018557\", \"description\": \"해주셔서 <b>와인</b>과 함께 <b>스테이크</b> 먹기 너무 좋은 매장이었다. 식전빵이 나왔다. 로즈메리를 가득 뿌려... 잘 <b>어울리는</b> 수프였다. 꾸덕한 식감도 좋고, 풍부한 크림맛도 좋고. 입 짧은 나도 처음으로 접시 전체를... \", \"bloggername\": \"입 짧은 콩나물\", \"bloggerlink\": \"blog.naver.com/neotaboo\", \"postdate\": \"20250212\"}, {\"title\": \"파스타 또봄, <b>와인</b>과 <b>어울리는</b> 프렌치 감성의 파스타와 <b>스테이크</b>\", \"link\": \"https://blog.naver.com/kohk94/223864934981\", \"description\": \"파스타와 <b>스테이크</b>는 물론, <b>와인</b>과 <b>어울리는</b> 특별한 메뉴가 있었어요 한옥과 프렌치 감성이 느껴지는 제대로된 다이닝을 즐기고 싶다면 황리단길 속 보석같은 맛집 또봄을 소개합니다 멋스럽고 깔금한... \", \"bloggername\": \"바늘마녀의 아뜨리에♡\", \"bloggerlink\": \"blog.naver.com/kohk94\", \"postdate\": \"20250514\"}, {\"title\": \"<b>스테이크와 어울리는 와인</b> 추천과 종류\", \"link\": \"https://blog.naver.com/oipicle31/223708302326\", \"description\": \"Information <b>스테이크</b> <b>어울리는 와인</b> 추천 <b>스테이크와</b> <b>와인</b>, 이 둘의 조합은 마치 해변의 파도와 모래처럼 완벽하게 <b>어울리는</b> 궁합이라고 할 수 있죠. 오늘은 여러분의 저녁 식사를 더욱 특별하게 만들어줄... \", \"bloggername\": \"별난하루\", \"bloggerlink\": \"blog.naver.com/oipicle31\", \"postdate\": \"20241229\"}, {\"title\": \"[마곡 <b>와인</b> / 마곡 파스타] 마곡 <b>스테이크와</b> <b>와인</b>이 <b>어울리는</b>... \", \"link\": \"https://blog.naver.com/candytop100/223163377277\", \"description\": \"<b>와인</b>은 추천을 받아 레드 <b>와인</b> 중 너무 달지는 않은데, <b>스테이크와</b> 잘 <b>어울리는 와인</b>으로 추천을 받았어용~!! ALADA 라는 <b>와인</b>을 준비해주셨어용~ 기본 안주로 크래커도 같이 곁들여 준비해주셨어용!! 사장님께서... \", \"bloggername\": \"Interesting things\", \"bloggerlink\": \"blog.naver.com/candytop100\", \"postdate\": \"20230722\"}, {\"title\": \"경주 황리단길 파스타 벚꽃과 정말 잘 <b>어울리는</b> <b>스테이크</b> <b>와인</b>... \", \"link\": \"https://blog.naver.com/ljy213/223809691723\", \"description\": \"경주 황리단길 파스타 맛집 또봄은 이탈리아 음식점으로써 파스타와 <b>스테이크</b> 리조또 등의 메뉴가 주가 있었고, 다양한 <b>와인</b>이 있어서 그런지 메뉴판의 상당부분이 <b>와인</b>으로 가득 있었습니다. <b>와인</b>과 함께... \", \"bloggername\": \"TRAVEL MOVE\", \"bloggerlink\": \"blog.naver.com/ljy213\", \"postdate\": \"20250325\"}, {\"title\": \"내방역 블루리본 맛집 발사믹 <b>스테이크와 어울리는</b> 딸기 <b>와인</b>... \", \"link\": \"https://blog.naver.com/cktoa7/223295947189\", \"description\": \"마굿간 <b>와인</b> 리스트 오더 리스트 안심 발사믹 <b>스테이크</b> 56,000 단새우 비스크 트레네테 26,000 딸기 WINE GLASS 12,000 제로콜라 5,000 생수도 예쁜잔에 주심 식전빵이 두가지가 나옴 따뜻하게 오븐에 돌려서 주셨다... \", \"bloggername\": \"차차라트\", \"bloggerlink\": \"blog.naver.com/cktoa7\", \"postdate\": \"20231218\"}, {\"title\": \"<b>스테이크와 어울리는 와인</b>을 찾는다면, 카니버 와인!\", \"link\": \"https://blog.naver.com/rozi__/223190778787\", \"description\": \"어느덧 9월이 가까워진 요즘, <b>스테이크와 어울리는 와인</b> 소개 가지고 왔습니다. Meat was made for Carnivor... 잘 어울리는 느낌이었어요! Carnivor Cabernet Sauvignon 스테이크나 육류 요리를 좋아하신다면, 카니버 와인과... \", \"bloggername\": \"rozi부부 하루일과\", \"bloggerlink\": \"blog.naver.com/rozi__\", \"postdate\": \"20230822\"}, {\"title\": \"<b>스테이크와</b> 잘 <b>어울리는</b> 3만원대 이마트 레드 <b>와인</b>... \", \"link\": \"https://blog.naver.com/dolmory9/223556006280\", \"description\": \"잘 <b>어울리는</b> 레드 <b>와인</b>입니다. 등심 <b>스테이크와</b> 함께 즐겼습니다. 간장 소스에 쫄인 표고 버섯과도 잘 어울렸습니다. 스파이스와 허브 향이 좋아서 갈비찜과 같은 한식 육류 요리와도 잘 어울립니다.... \", \"bloggername\": \"와인과 커피 엔지니어\", \"bloggerlink\": \"blog.naver.com/dolmory9\", \"postdate\": \"20240821\"}, {\"title\": \"한우 <b>스테이크와</b> <b>와인</b>의 마리아주가 잘 <b>어울리는</b> 곳\", \"link\": \"https://blog.naver.com/cgeydc/223635848918\", \"description\": \"한우 <b>스테이크</b>가 맛있고, 좋은 사람, 좋은 친구들과 편안한 분위기 속에서 식사 할 수 있는 곳이라... 잘 <b>어울리는</b> 첫번째 마리아 주 -- 뉴질랜드 산 쇼비뇽블랑 화이트 <b>와인</b>입니다 영화 \\'섹스 인더 시티\\'에서... \", \"bloggername\": \"데니얼의 맛있는 세상이야기\", \"bloggerlink\": \"blog.naver.com/cgeydc\", \"postdate\": \"20241030\"}, {\"title\": \"[3만원대 레드<b>와인</b>추천] 부채살 <b>스테이크와 어울리는</b> 마츠 엘... \", \"link\": \"https://blog.naver.com/wine0105/223842383386\", \"description\": \"잘 <b>어울리는</b> 편이에요. 특히 마츠 엘 레시오에 사용된 티나 데 토로는 템프라니요의 클론 품종으로, 더... 전체적으로 <b>와인</b>의 풍미가 훨씬 조화로워졌어요.  <b>스테이크와</b> 찰떡궁합! 이 날은 <b>스테이크</b>랑 함께... \", \"bloggername\": \"Terroir&Trails\", \"bloggerlink\": \"blog.naver.com/wine0105\", \"postdate\": \"20250422\"}]', name='blog_search', tool_call_id='call_2GlyEPoAecNgDDLAPxhdK1e5'),\n",
       " ToolMessage(content='[{\"title\": \"대구 수성못 와인바 찹<b>스테이크</b> 맛있는 분위기 <b>좋은</b> 수성구... \", \"link\": \"https://blog.naver.com/gee0403/223324068178\", \"description\": \"찹<b>스테이크</b> 카프레제 갈릭버터새우 와인과 잘 <b>어울리는</b> 맛있는 메뉴와 샴페인, 와인, 위스키, 하이볼... <b>기분좋은 노래</b>가 흘러 나오고 안주까지 맛있으니 짠! ㅎㅎ 찹<b>스테이크</b> 3.0 찹<b>스테이크</b>는 먹기 <b>좋은</b>... \", \"bloggername\": \"하루의 끝\", \"bloggerlink\": \"blog.naver.com/gee0403\", \"postdate\": \"20240116\"}, {\"title\": \"이태원 <b>스테이크</b> 맛집 재즈바 썬데이쏠트 경리단길 데이트\", \"link\": \"https://blog.naver.com/g___one/223686668261\", \"description\": \"분위기<b>좋은</b>곳에서 <b>좋은노래</b>들으니까 최고다 정말 원래 재즈 좋아하는 사람으로써 너무 행복한 시간 연말이라고 캐롤도 한곡 뽑아주셨구&gt;&lt; <b>스테이크</b> 맛집 썬데이쏠트는 두 종류의 <b>스테이크</b>가... \", \"bloggername\": \"오래도록 은은하게\", \"bloggerlink\": \"blog.naver.com/g___one\", \"postdate\": \"20241208\"}, {\"title\": \"[와인11] 원주 단계동 데이트하기 <b>좋은</b> <b>스테이크</b> 맛집\", \"link\": \"https://blog.naver.com/2soju-/223755847578\", \"description\": \"녹아요(◍•ᴗ•◍) 준비된 와인과 파스타, <b>스테이크</b>로 오랜만에 <b>기분</b> 내고 왔어요. 아늑한 공간에서 뜻깊은 시간을 보낼 수 있게 해준 와인11. 원주에서 데이트하기 <b>좋은</b> <b>스테이크</b> 맛집으로 추천드려요❤️\", \"bloggername\": \"이소주\", \"bloggerlink\": \"blog.naver.com/2soju-\", \"postdate\": \"20250210\"}, {\"title\": \"부산 광안리 민락 분위기 <b>좋은</b> 뽈뽀 <b>스테이크</b> 데이트 음악... \", \"link\": \"https://blog.naver.com/busan-food-chaja/223231053022\", \"description\": \"맛있었어요 <b>스테이크</b> 맛있게 굽기 쉽지 않은데 여기 진짜 모두 제대로네요 찐 와인바가 나타났다❤️ <b>좋은 노래</b>와 맛있는 음식 모든게 정말 좋아서 엄마랑 <b>기분</b>좋게 옛날 이야기하며 추억 여행 하고 왔네요... \", \"bloggername\": \"Busan chaja\", \"bloggerlink\": \"blog.naver.com/busan-food-chaja\", \"postdate\": \"20231008\"}, {\"title\": \"송정 바닷가근처 레스토랑 “저스트칠링 비스트로”\", \"link\": \"https://blog.naver.com/jis055/223853757620\", \"description\": \"딱 <b>좋은</b> 곳 특히 금액도 아주 합리적이라 부담없이 방문 하기 좋았어요 코알라의 주문 메뉴는 치미추리<b>스테이크</b> 2.3 딸기샐러드 9.5 주문한 메뉴가 나왔어요 비쥬얼 무엇! 너무 예쁘게 담아 주셔서 <b>기분</b>좋게 식사... \", \"bloggername\": \"코알라 의 이야기와 맛집기행\", \"bloggerlink\": \"blog.naver.com/jis055\", \"postdate\": \"20250502\"}, {\"title\": \"의정부 <b>스테이크</b> 맛집 :: 바비쉐프 신랑도 반해버린맛!\", \"link\": \"https://blog.naver.com/jhbaby486/221079034405\", \"description\": \"좋다용 , <b>노래</b>도 <b>좋은노래</b> 나와서 자꾸자꾸 흥얼거리게 됨 ::)ㅋ 일반 <b>스테이크</b> 파스타 집이 아닌... ㅎㅎㅎ 너무나 만족하며 맛있게 먹고온 바비쉐프 ♥ 셋트메뉴로 <b>어울리는</b> 음식을 즐길수도 있지만... \", \"bloggername\": \"시크릿주댕:D\", \"bloggerlink\": \"blog.naver.com/jhbaby486\", \"postdate\": \"20170822\"}, {\"title\": \"서울맛집 연신내 데이트 연신내역 맛집   스테이165\", \"link\": \"https://blog.naver.com/runfriend/223473483603\", \"description\": \"공간 <b>좋은노래</b>와 분위기가 어디 외국 산장 놀러온느낌이에요 조명맛집 연신내 데이트 연신내역 맛집... 전 돌위에 올라간 <b>스테이크</b> 파스타는 전복오일파스타 그리고 <b>스테이크</b>에 <b>어울리는</b> 레드와인으로... \", \"bloggername\": \"져니 일상\", \"bloggerlink\": \"blog.naver.com/runfriend\", \"postdate\": \"20240609\"}, {\"title\": \"데이트코스 추천 맛있는 파스타가 있는곳 안산고잔동맛집 밀킥스\", \"link\": \"https://blog.naver.com/yurili/223491205971\", \"description\": \"또 브런치하기도 좋고 와인바도 있어서 다양한 와인들과 함께 <b>스테이크</b>썰기 <b>좋은</b> 안산맛집... <b>좋은</b> 조명과 편안한 분위기랑 <b>어울리는</b> <b>좋은 노래</b>에 취해 봅니다. 테이블위에는 냅킨도 있고 와인보틀도 행사중인... \", \"bloggername\": \"U:ree★A Midsummer Night\\'s dream\", \"bloggerlink\": \"blog.naver.com/yurili\", \"postdate\": \"20240625\"}, {\"title\": \"의성 푸드빌리지 <b>스테이크</b>하우스 / 의성 <b>스테이크</b>, 파스타 맛집... \", \"link\": \"https://blog.naver.com/haru9303/223705140120\", \"description\": \"분위기 <b>좋은 노래</b>도 함께 나왔어요! 컨트리 스타일의 인테리어로 바형식으로 된 테이블이 있는 것도... 식사 후 디저트 먹으러 방문하시기에 <b>좋은</b> 코스라 첨부합니다! #의성<b>스테이크</b>하우스 #의성데이트... \", \"bloggername\": \"오막집 소가이야기\", \"bloggerlink\": \"blog.naver.com/haru9303\", \"postdate\": \"20241225\"}, {\"title\": \"앞산맛집 크리스마스 데이트 대구 대명동 맛집 [잉글룸]\", \"link\": \"https://blog.naver.com/dlwngml5351/223269336390\", \"description\": \"보통 양식을 먹을 때에는 와인이 잘 <b>어울리는</b> 편인데, 앞산맛집 파스타는 맥주랑도 케미가 좋았어요. 연말을 제대로 즐길 수 있는 분위기와 크리스마스 <b>노래</b>들로 마음도 몽글몽글하게 만들어주더라고요. 연인... \", \"bloggername\": \"문별의 지구별여행\", \"bloggerlink\": \"blog.naver.com/dlwngml5351\", \"postdate\": \"20231122\"}]', name='blog_search', tool_call_id='call_Bj2uXa3TJFa0BYoBHogQo1kn')]"
      ]
     },
     "execution_count": 26,
     "metadata": {},
     "output_type": "execute_result"
    }
   ],
   "execution_count": 26
  },
  {
   "metadata": {},
   "cell_type": "markdown",
   "source": [
    "## Runnable 객체를 도구(tool) 변환\n",
    "* 무자열이나 dict 입력을 받는 Runnable을 도구로 변환\n",
    "* as_tool 메서드 사용"
   ],
   "id": "93d99ed6e62174a0"
  },
  {
   "metadata": {
    "ExecuteTime": {
     "end_time": "2025-05-17T07:58:51.076232Z",
     "start_time": "2025-05-17T07:58:51.069356Z"
    }
   },
   "cell_type": "code",
   "source": [
    "from langchain_core.runnables import RunnableLambda\n",
    "from pydantic import BaseModel, Field\n",
    "from langchain_core.documents import Document\n",
    "from langchain_community.document_loaders.wikipedia import WikipediaLoader\n",
    "\n",
    "class WikiSearchSchema(BaseModel):\n",
    "    \"\"\"Input schema for Wikipedia search.\"\"\"\n",
    "    query: str = Field(..., description=\"The query to search for in Wikipedia.\")\n",
    "    k: int = Field(2, description=\"The number of documents to return (default is 2\")\n",
    "\n",
    "def search_wiki(input_data: dict) -> List[Document]:\n",
    "    \"\"\"\n",
    "    Search Wikipedia documents based on user input (query) and return k documents\n",
    "    \"\"\"\n",
    "    query = input_data[\"query\"]\n",
    "    k = input_data.get(\"k\", 2)\n",
    "    wiki_loader = WikipediaLoader(query=query, load_max_docs=k, lang=\"ko\")\n",
    "    wiki_docs = wiki_loader.load()\n",
    "    return wiki_docs\n",
    "\n",
    "\n",
    "runnable = RunnableLambda(search_wiki)\n",
    "wiki_search = runnable.as_tool(\n",
    "    name=\"wiki_search\",\n",
    "    description=dedent(\"\"\"\n",
    "        Use this tool when you want to search for information on Wikipedia.\n",
    "        It searches for Wikipedia articles related to the user's query and returns\n",
    "        a specified number of documents. This tool is useful when general knowledge\n",
    "        or background information is required.\n",
    "    \"\"\"),\n",
    "    args_schema=WikiSearchSchema,\n",
    ")"
   ],
   "id": "af06bdc161e81240",
   "outputs": [],
   "execution_count": 27
  },
  {
   "metadata": {
    "ExecuteTime": {
     "end_time": "2025-05-17T07:58:51.091481Z",
     "start_time": "2025-05-17T07:58:51.085479Z"
    }
   },
   "cell_type": "code",
   "source": [
    "pprint(wiki_search)\n",
    "pprint(wiki_search.name)\n",
    "pprint(wiki_search.description)\n",
    "pprint(wiki_search.args)"
   ],
   "id": "912026f7d42b4503",
   "outputs": [
    {
     "name": "stdout",
     "output_type": "stream",
     "text": [
      "StructuredTool(name='wiki_search', description=\"Use this tool when you want to search for information on Wikipedia.\\nIt searches for Wikipedia articles related to the user's query and returns\\na specified number of documents. This tool is useful when general knowledge\\nor background information is required.\", args_schema=<class '__main__.WikiSearchSchema'>, func=<function convert_runnable_to_tool.<locals>.invoke_wrapper at 0x000002B17F4949A0>, coroutine=<function convert_runnable_to_tool.<locals>.ainvoke_wrapper at 0x000002B17F4956C0>)\n",
      "'wiki_search'\n",
      "('Use this tool when you want to search for information on Wikipedia.\\n'\n",
      " \"It searches for Wikipedia articles related to the user's query and returns\\n\"\n",
      " 'a specified number of documents. This tool is useful when general knowledge\\n'\n",
      " 'or background information is required.')\n",
      "{'k': {'default': 2,\n",
      "       'description': 'The number of documents to return (default is 2',\n",
      "       'title': 'K',\n",
      "       'type': 'integer'},\n",
      " 'query': {'description': 'The query to search for in Wikipedia.',\n",
      "           'title': 'Query',\n",
      "           'type': 'string'}}\n"
     ]
    }
   ],
   "execution_count": 28
  },
  {
   "metadata": {
    "ExecuteTime": {
     "end_time": "2025-05-17T07:58:57.307902Z",
     "start_time": "2025-05-17T07:58:51.099360Z"
    }
   },
   "cell_type": "code",
   "source": [
    "# 도구 호출\n",
    "query = \"파스타의 유래\"\n",
    "wiki_results = wiki_search.invoke({\"query\": query})\n",
    "\n",
    "for result in wiki_results:\n",
    "    pprint(result)"
   ],
   "id": "e7d5bbe730f54b62",
   "outputs": [
    {
     "name": "stdout",
     "output_type": "stream",
     "text": [
      "Document(metadata={'title': '오르조', 'summary': '오르조(이탈리아어: orzo) 또는 리소니(이탈리아어: risoni, 단수: risone 리소네[*])는 이탈리아의 파스타이다. \"오르조\"는 라틴어:hordeum에서 유래했으며 \"보리\"를 뜻한다. \"리소니\"는 \"큰 쌀\"이라는 뜻이다. 파스타의 일종으로 큰 쌀알의 모양을 하고 있으며 솔방울이나 잣보다는 좀 더 작다. 보통 라구 등 수프와 함께 먹는다. 원래는 보리로 만들었지만 요즘에는 박력분으로 만드는 것이 흔해졌다. 다른 이름으로는 kritharáki (\"little barley\") 혹은 manéstra(그리스 요리)로 부르며, lisān al-`uṣfūr (\"명금의 혀\")라고 아랍 요리에서 불린다. 오르조를 두고 이탈리아의 쌀이라고 부르기도 한다.\\n터키에서는 아르파 셰흐리예(arpa şehriye)로 불리며, 셰흐리예의 하나이다. 필라브를 만들거나 초르바(수프)에 넣어 먹는다.\\n\\n', 'source': 'https://ko.wikipedia.org/wiki/%EC%98%A4%EB%A5%B4%EC%A1%B0'}, page_content='오르조(이탈리아어: orzo) 또는 리소니(이탈리아어: risoni, 단수: risone 리소네[*])는 이탈리아의 파스타이다. \"오르조\"는 라틴어:hordeum에서 유래했으며 \"보리\"를 뜻한다. \"리소니\"는 \"큰 쌀\"이라는 뜻이다. 파스타의 일종으로 큰 쌀알의 모양을 하고 있으며 솔방울이나 잣보다는 좀 더 작다. 보통 라구 등 수프와 함께 먹는다. 원래는 보리로 만들었지만 요즘에는 박력분으로 만드는 것이 흔해졌다. 다른 이름으로는 kritharáki (\"little barley\") 혹은 manéstra(그리스 요리)로 부르며, lisān al-`uṣfūr (\"명금의 혀\")라고 아랍 요리에서 불린다. 오르조를 두고 이탈리아의 쌀이라고 부르기도 한다.\\n터키에서는 아르파 셰흐리예(arpa şehriye)로 불리며, 셰흐리예의 하나이다. 필라브를 만들거나 초르바(수프)에 넣어 먹는다.\\n\\n\\n== 같이 보기 ==\\n파스티나\\n셰흐리예\\n\\n\\n== 각주 ==')\n",
      "Document(metadata={'title': '이탈리아 요리', 'summary': '이탈리아 요리(Italia 料理, 이탈리아어: cucina italiana 쿠치나 이탈리아나[*])는 남유럽에 있는 이탈리아의 요리이다. 기원전 4세기부터 다양한 사회·정치 변화와 함께 발전해 왔다. 특히 유럽인들이 세계 각지로 진출한 이후 신대륙에서 감자, 토마토, 단고추, 옥수수 등의 다양한 식재료가 유입되면서 이탈리아 요리는 큰 변화를 겪었다. 이런 재료는 18세기 이전까지는 보급되지 않았다.\\n이탈리아 요리는 각 지역마다 고유한 특색이 있고 다양하지만 크게 북부와 남부로 구분한다. 다른 나라와 국경을 맞대던 북부는 산업화하여 호황을 누리면서 농업이 발달한 덕분에 쌀이나 유제품이 사용되는 요리가 많지만 경제적으로 침체됐던 남부는 지역 특산물인 올리브와 토마토, 모짜렐라 치즈나 해산물을 활용한 요리가 많다.\\n간결함으로 귀결되는 특징이 있어 많은 경우 4개~8개 정도의 재료로 조리되며 정교한 준비 과정보다는 재료의 질에 따라 맛이 좌우된다. 치즈와 포도주는 이탈리아 요리의 핵심을 차지하며 여러 종류가 존재하는데 식재료와 치즈의 차이는 파스타의 종류와 요리에 기본이 되는 수프, 소스의 차이를 뜻한다.\\n2013년 CNN은 세계 최고의 요리로 이탈리아 요리를 선정했다.\\n\\n', 'source': 'https://ko.wikipedia.org/wiki/%EC%9D%B4%ED%83%88%EB%A6%AC%EC%95%84_%EC%9A%94%EB%A6%AC'}, page_content=\"이탈리아 요리(Italia 料理, 이탈리아어: cucina italiana 쿠치나 이탈리아나[*])는 남유럽에 있는 이탈리아의 요리이다. 기원전 4세기부터 다양한 사회·정치 변화와 함께 발전해 왔다. 특히 유럽인들이 세계 각지로 진출한 이후 신대륙에서 감자, 토마토, 단고추, 옥수수 등의 다양한 식재료가 유입되면서 이탈리아 요리는 큰 변화를 겪었다. 이런 재료는 18세기 이전까지는 보급되지 않았다.\\n이탈리아 요리는 각 지역마다 고유한 특색이 있고 다양하지만 크게 북부와 남부로 구분한다. 다른 나라와 국경을 맞대던 북부는 산업화하여 호황을 누리면서 농업이 발달한 덕분에 쌀이나 유제품이 사용되는 요리가 많지만 경제적으로 침체됐던 남부는 지역 특산물인 올리브와 토마토, 모짜렐라 치즈나 해산물을 활용한 요리가 많다.\\n간결함으로 귀결되는 특징이 있어 많은 경우 4개~8개 정도의 재료로 조리되며 정교한 준비 과정보다는 재료의 질에 따라 맛이 좌우된다. 치즈와 포도주는 이탈리아 요리의 핵심을 차지하며 여러 종류가 존재하는데 식재료와 치즈의 차이는 파스타의 종류와 요리에 기본이 되는 수프, 소스의 차이를 뜻한다.\\n2013년 CNN은 세계 최고의 요리로 이탈리아 요리를 선정했다.\\n\\n\\n== 역사 ==\\n대략 기원전 4세기부터 시작되었다고 여겨진다. 여러 세기 동안 주변 지역과 정복자, 유명한 요리사, 정치 변동 및 신대륙의 발견 등 매우 다양한 요소가 이탈리아 요리의 형성에 영향을 끼쳤다.\\n\\n\\n=== 고대 ===\\n이탈리아 요리에 대해 최초의 저술을 남긴 사람은 그리스계 시칠리아 사람인 아케스트라투스이다. 기원전 4세기에 지금의 시라쿠사 지역에 살던 그는 “계절에 맞는 최상의 재료”를 사용하는 것에 대한 시를 남겼다. 그는 또한 향신료나 허브, 양념 따위를 사용한 음식과 그 중요성, 생선 요리 등에 대해 서술했다. 특정 양념이나 향신료가 지나쳐서는 안 된다는 것 또한 집필 내용에 포함됐지만 470가지의 요리법을 담은 책인 《데 레 코퀴나리아》(De re coquinaria《요리에 관하여》)를 출판하면서 이런 형태의 요리는 역사 속으로 사라졌다. 이 책은 생선의 비린내나 특정 재료의 맛을 숨기면서 다른 맛을 낼 수 있는 소스에 대해서 서술해 놓았다. 로마 사람들은 그리스 최고의 제빵사를 고용해서 빵을 만들었고 가장 뛰어난 재료로 알려져 있던 페코리니(pecorini)를 시칠리아에서 수입해 왔다고 한다. 로마인은 염소를 사육해 육식을 함과 동시에 여러 가지 식물도 재배한 것으로 알려져 있다.\\n\\n\\n=== 중세 ===\\n시칠리아 지방으로 로마와 아테네의 요리 문화가 유입됐고 섬 지형에 맞게 변형되고 다시 새로운 요리로 탈바꿈하게 됐다. 이탈리아 요리의 뿌리가 시칠리아에 기원한다고 볼 수 있는 셈이다.\\n\\n무슬림이 9세기까지 시칠리아를 침략하여 다스렸고 그 뒤에는 바이킹 세력이 남하하여 지중해 일대는 상당한 혼란기를 겪었다. 아랍인들은 시금치, 아몬드, 쌀 등을 도입했으며, 이러한 재료의 출현은 12세기 노르웨이의 왕이 시칠리아에 왔을 때 사람들이 기다란 면발을 만들어 먹었다는 것을 보았다고 기록한 것을 토대로 알 수 있다. 이 요리를 일부에서는 파스타의 첫 출현이라고 보고 있다. 당시에는 면을 단순히 밀가루와 물로 만들었다고 하는데, 사람들이 “아트리야”(atriya)라고 불렀다가 나중에는 “트리”(trii)로 굳어졌다고 한다. 트리(Trii)라는 이 낱말은 남부 이탈리아에서 스파게티의 다른 이름으로 쓰이기도 했다. 노르만 족들은 청어나 대구 따위를 절여 먹는 법도 들여왔으며, 이 방법은 아직까지도 이탈리아에서 사용되고 있다.\\n냉장고가 없던 시절에 음식 저장법은 매우 중요했으며, 그 방법은 물리적이면서 화학적이기도 했다. 육류나 생선은 훈제하거나 얼음 위에 보관했고 아니면 건조시켰다. 소금물이나 소금에 식재료를 절여 두는 것은 청어나 돼지고기, 피클 따위를 보관하는 방법으로 유용하게 쓰였으며, 식초나 기름 등을 함께 넣어 동물성 단백질이 변질되지 않도록 했는데, 이는 지금의 방부제와 유사한 효과를 냈다. 과일 보관에는 술이나 꿀, 설탕이 쓰였다.\\n\\n이탈리아 반도 북부 지방에서는 독일 요리의 특징과 고대 로마식 요리의 특징이 서로 겹치는 현상이 나타났으며, 남쪽에는 아랍 문화에 토대한 식사 형태가 뿌리내려 지중해 일대로 널리 퍼져 갔다. 가장 오래된 이탈리아의 요리책은 13세기 나폴리에서 집필됐다고 전해지는 《리베르 데 코퀴나》(Liber de Coquina)로서 한국어로는 말 그대로 《요리책》이다. 이 책에는 로마식 배추 요리나 작은 잎을 잘라서 요리한 음식인 라바냐 파이(Lavagna pie)를 비롯해서 지금도 볼 수 있는 생선 요리도 많이 소개되어 있다.\\n15세기에는 바티칸의 요리사로 근무한 마르티노가 《리브로 데 아르테 코퀴나리아》(Libro de Arte Coquinaria, 《요리법》)라는 원고를 써서 그때까지 소개된 책과는 아주 다른 고품격 음식을 다루었다. 그 중 한 가지는 “마카로니 시칠리아니”(Maccaroni Siciliani, 시실리풍 마카로니)인데 얇은 철제 기구에 밀가루 반죽을 덮어서 햇빛에 말려 먹는 요리였다. 주재료인 마카로니는 갓 잡은 수탉과 함께 요리하였고 사프란을 첨가했다. 그는 이 요리가 아랍 문화의 영향을 받았다고 적어 놓았다. 로마인의 요리법으로 포함된 것 중에는 양배추로 요리한 음식과 “코피에테”(coppiette)가 있었다. 그가 선보인 피렌체 풍 음식으로는 달걀로 요리한 볼로네즈 토르타(Bolognese Torta, 볼로냐풍 케이크)와 시에니즈 토르타(Sienese torta, 시에나풍 케이크)가 있었는데 제노바 풍 마카로니 요리, 호박, 버섯, 시금치를 이용해 만들었던 파이 등도 함께 다뤘다.\\n마르티노의 요리는 1475년 베네치아에서 바르톨로미오 플라티나가 출판한 《참된 즐거움과 건강에 대하여》(De honesta voluptate et valetudine)에도 소개되었다. 마르티노의 원고를 참고해서 지역에 따라 분류하고 정리했으며, 마조레 호수의 농어나 가르다 호수의 정어리 등 인근에서 가져다가 사용한 식재료와 해당 음식을 자세히 설명하였다.\\n\\n\\n=== 근대 초 ===\\n이탈리아의 정통 요리는 피렌체와 로마, 베네치아, 페라라의 궁중에서 요리 문화가 꽃피운 이후 본격화하였다. 그중에서도 페라라의 에스테 궁전이 요리 문화의 선두 주자가 됐다. 1549년 이폴리토 데스테의 집사였던 크리스토포로 메시스부고(Christoforo Messisbugo)가 《Banchetti Composizioni di Vivande》를 출판하면서 이탈리아의 파이나 타르트를 소개했다. 그 책에서는 동양이나 동부 지방에서 유입된 재료, 124종의 다양한 양념에 대해서도 설명해 놓았다.\\n\\n1570년 교황 비오 5세의 개인 요리사였던 바르톨미오 스카피가 책 《오페라》(Opera)를 써냈다. 다섯 권으로 구성된 이 책은 요리하는 방법을 천 가지 이상 설명해 놓았을 뿐만 아니라 정찬에서 어떤 형태로 음식이 나가고 식단이 결정됐는지, 조리 기구나 요리하는 모습도 상세히 다뤘다. 다른 궁중에서 전해졌던 책과 이 책이 특별히 다른 점은 가금류를 요리하는 법이다. 인근의 동물이나 새를 잡아서 어떤 식으로 다듬고 깨끗하게 잘라내는지가 나와 있다. 혀나 머리, 어깨뼈 부위를 손질하는 방법도 다뤘다. 제3권에서는 생선이나 사순절에 먹는 음식을 설명했다. 생선 요리는 구워 먹거나 탕류, 찜으로 먹었으므로 상당히 간단했다. 제5권에서는 나폴리풍 피자 요리법이 등장하는데 당시 이탈리아에는 토마토가 존재하지 않았으므로 피자가 지금의 맛이 아니라 달거나 짭짜름한 맛이었다. 옥수수나 칠면조 역시 없었으므로 현대인이 생각하는 음식 문화와는 상당히 달랐다. 이외에 타라트나 파이, 얇게 썬 과일 튀김에 대해서도 썼다.\\n1600년대 잔자코모 카스텔베트로(Giangiacomo Castelvetro)는 《모든 종류의 채소와 허브, 과일》(Brieve Racconto di Tutte le Radici di Tutte l'Herbe et di Tutti i Frutti)이라는 책을 썼다. 모데나 태생인 카스텔베르트로는 개신교도였기에 영국으로 건너갔다. 이 책은 이탈리아의 채소와 과일,\")\n"
     ]
    }
   ],
   "execution_count": 29
  },
  {
   "metadata": {
    "ExecuteTime": {
     "end_time": "2025-05-17T07:58:59.533437Z",
     "start_time": "2025-05-17T07:58:57.336362Z"
    }
   },
   "cell_type": "code",
   "source": [
    "# LLM에 도구 바인딩\n",
    "llm_with_tools = llm.bind_tools(tools=[wiki_search, tavily_search, blog_search])\n",
    "\n",
    "query = \"서울 강남의 유명한 파스타 맛집은 어디인가요? 그리고 파스타의 유래를 위키피디아에서 찾아주세요.\"\n",
    "ai_msg = llm_with_tools.invoke(query)\n",
    "\n",
    "pprint(ai_msg)\n",
    "pprint(\"-\" * 100)\n",
    "\n",
    "pprint(ai_msg.content)\n",
    "pprint(\"-\" * 100)\n",
    "\n",
    "pprint(ai_msg.tool_calls)"
   ],
   "id": "785f4c8ca7e8ba9b",
   "outputs": [
    {
     "name": "stdout",
     "output_type": "stream",
     "text": [
      "AIMessage(content='', additional_kwargs={'tool_calls': [{'id': 'call_KZI6kgFEe9J1QD90aIc0jzaX', 'function': {'arguments': '{\"query\": \"서울 강남 유명한 파스타 맛집\", \"search_count\": 5}', 'name': 'blog_search'}, 'type': 'function'}, {'id': 'call_1O1Z9QEgikdBf0PTMMmLZsGS', 'function': {'arguments': '{\"query\": \"파스타\"}', 'name': 'wiki_search'}, 'type': 'function'}], 'refusal': None}, response_metadata={'token_usage': {'completion_tokens': 59, 'prompt_tokens': 248, 'total_tokens': 307, 'completion_tokens_details': {'accepted_prediction_tokens': 0, 'audio_tokens': 0, 'reasoning_tokens': 0, 'rejected_prediction_tokens': 0}, 'prompt_tokens_details': {'audio_tokens': 0, 'cached_tokens': 0}}, 'model_name': 'gpt-4o-mini-2024-07-18', 'system_fingerprint': 'fp_129a36352a', 'id': 'chatcmpl-BY6jZZU8G4m6D2liqDI1Z6f9uSjHz', 'service_tier': 'default', 'finish_reason': 'tool_calls', 'logprobs': None}, id='run--36fd4eff-eded-45cb-b179-7ff39c26c84d-0', tool_calls=[{'name': 'blog_search', 'args': {'query': '서울 강남 유명한 파스타 맛집', 'search_count': 5}, 'id': 'call_KZI6kgFEe9J1QD90aIc0jzaX', 'type': 'tool_call'}, {'name': 'wiki_search', 'args': {'query': '파스타'}, 'id': 'call_1O1Z9QEgikdBf0PTMMmLZsGS', 'type': 'tool_call'}], usage_metadata={'input_tokens': 248, 'output_tokens': 59, 'total_tokens': 307, 'input_token_details': {'audio': 0, 'cache_read': 0}, 'output_token_details': {'audio': 0, 'reasoning': 0}})\n",
      "'----------------------------------------------------------------------------------------------------'\n",
      "''\n",
      "'----------------------------------------------------------------------------------------------------'\n",
      "[{'args': {'query': '서울 강남 유명한 파스타 맛집', 'search_count': 5},\n",
      "  'id': 'call_KZI6kgFEe9J1QD90aIc0jzaX',\n",
      "  'name': 'blog_search',\n",
      "  'type': 'tool_call'},\n",
      " {'args': {'query': '파스타'},\n",
      "  'id': 'call_1O1Z9QEgikdBf0PTMMmLZsGS',\n",
      "  'name': 'wiki_search',\n",
      "  'type': 'tool_call'}]\n"
     ]
    }
   ],
   "execution_count": 30
  },
  {
   "metadata": {},
   "cell_type": "markdown",
   "source": "## LCEL 체인을 도구로 변환하기",
   "id": "6fb3037e09ebf598"
  },
  {
   "metadata": {
    "ExecuteTime": {
     "end_time": "2025-05-17T07:59:09.495046Z",
     "start_time": "2025-05-17T07:58:59.551358Z"
    }
   },
   "cell_type": "code",
   "source": [
    "def wiki_search_and_summarize(input_data: dict):\n",
    "    wiki_loader = WikipediaLoader(query=input_data[\"query\"], load_max_docs=2, lang=\"ko\")\n",
    "    wiki_docs = wiki_loader.load()\n",
    "\n",
    "    formatted_docs = [\n",
    "        f'<Document source=\"{doc.metadata[\"source\"]}\">\\n{doc.page_content}\\n</Document>'\n",
    "        for doc in wiki_docs\n",
    "    ]\n",
    "    return formatted_docs\n",
    "\n",
    "summary_prompt = ChatPromptTemplate.from_template(\n",
    "    \"Summarize the following text in a concise manner:\\n\\n{context}\\n\\nSummary:\"\n",
    ")\n",
    "\n",
    "llm = ChatOpenAI(model=\"gpt-4o-mini\", temperature=0)\n",
    "summary_chain = (\n",
    "    {\"context\": RunnableLambda(wiki_search_and_summarize)}\n",
    "    | summary_prompt | llm | StrOutputParser()\n",
    ")\n",
    "\n",
    "summarized_text = summary_chain.invoke({\"query\": \"파스타의 유래\"})\n",
    "pprint(summarized_text)"
   ],
   "id": "dad7cfc397d53260",
   "outputs": [
    {
     "name": "stdout",
     "output_type": "stream",
     "text": [
      "('오르조(또는 리소니)는 이탈리아의 파스타로, 보리에서 유래한 이름을 가지고 있으며 큰 쌀알 모양이다. 주로 수프와 함께 먹으며, 현재는 '\n",
      " '박력분으로 만들어진다. 터키에서는 아르파 셰흐리예로 불리며, 필라브나 수프에 사용된다. 이탈리아 요리는 기원전 4세기부터 발전해왔으며, '\n",
      " '지역마다 특색이 다르다. 북부는 쌀과 유제품을, 남부는 올리브와 해산물을 주로 사용한다. 이탈리아 요리는 간결함과 재료의 질을 중시하며, '\n",
      " '2013년 CNN에서 세계 최고의 요리로 선정되었다.')\n"
     ]
    }
   ],
   "execution_count": 31
  },
  {
   "metadata": {
    "ExecuteTime": {
     "end_time": "2025-05-17T07:59:09.509012Z",
     "start_time": "2025-05-17T07:59:09.501968Z"
    }
   },
   "cell_type": "code",
   "source": [
    "# wiki summary chain을 도구로 변환하기\n",
    "class WikiSummarySchema(BaseModel):\n",
    "    \"\"\"Input schema for Wikipedia search.\"\"\"\n",
    "    query: str = Field(..., description=\"The query to search for in Wikipedia\")\n",
    "\n",
    "wiki_summary_search = summary_chain.as_tool(\n",
    "    name=\"wiki_summary\",\n",
    "    description=dedent(\"\"\"\n",
    "        Use this tool when you want to search for information on Wikipedia.\n",
    "        It searches for Wikipedia articles related to the user's query and returns\n",
    "        a summarized text. this tool is useful when general knowledge\n",
    "        or background information is required.\n",
    "    \"\"\"),\n",
    "    args_schema=WikiSummarySchema,\n",
    ")\n",
    "\n",
    "pprint(type(wiki_summary_search))\n",
    "pprint(\"-\"*100)\n",
    "pprint(wiki_summary_search.name)\n",
    "pprint(\"-\"*100)\n",
    "pprint(wiki_summary_search.description)\n",
    "pprint(\"-\"*100)\n",
    "pprint(wiki_summary_search.args)\n",
    "pprint(\"-\"*100)\n",
    "pprint(wiki_summary_search.args_schema)\n",
    "pprint(\"-\"*100)\n",
    "pprint(wiki_summary_search.args_schema.schema())"
   ],
   "id": "34fbcefb6910d068",
   "outputs": [
    {
     "name": "stdout",
     "output_type": "stream",
     "text": [
      "<class 'langchain_core.tools.structured.StructuredTool'>\n",
      "'----------------------------------------------------------------------------------------------------'\n",
      "'wiki_summary'\n",
      "'----------------------------------------------------------------------------------------------------'\n",
      "('Use this tool when you want to search for information on Wikipedia.\\n'\n",
      " \"It searches for Wikipedia articles related to the user's query and returns\\n\"\n",
      " 'a summarized text. this tool is useful when general knowledge\\n'\n",
      " 'or background information is required.')\n",
      "'----------------------------------------------------------------------------------------------------'\n",
      "{'query': {'description': 'The query to search for in Wikipedia',\n",
      "           'title': 'Query',\n",
      "           'type': 'string'}}\n",
      "'----------------------------------------------------------------------------------------------------'\n",
      "<class '__main__.WikiSummarySchema'>\n",
      "'----------------------------------------------------------------------------------------------------'\n",
      "{'description': 'Input schema for Wikipedia search.',\n",
      " 'properties': {'query': {'description': 'The query to search for in Wikipedia',\n",
      "                          'title': 'Query',\n",
      "                          'type': 'string'}},\n",
      " 'required': ['query'],\n",
      " 'title': 'WikiSummarySchema',\n",
      " 'type': 'object'}\n"
     ]
    }
   ],
   "execution_count": 32
  },
  {
   "metadata": {
    "ExecuteTime": {
     "end_time": "2025-05-17T07:59:11.232795Z",
     "start_time": "2025-05-17T07:59:09.517140Z"
    }
   },
   "cell_type": "code",
   "source": [
    "# tavily + blog + wiki_summary\n",
    "llm_with_tools = llm.bind_tools(tools=[wiki_summary_search, tavily_search, blog_search])\n",
    "query = \"서울 강남의 유명한 파스타 맛집은 어디인가요? 그리고 파스타의 유래를 알려주세요.\"\n",
    "ai_msg = llm_with_tools.invoke(query)\n",
    "\n",
    "pprint(ai_msg)\n",
    "print(\"-\"*100)\n",
    "pprint(ai_msg.content)\n",
    "print(\"-\"*100)\n",
    "pprint(ai_msg.tool_calls)\n",
    "print(\"-\"*100)"
   ],
   "id": "efb232a142932cd",
   "outputs": [
    {
     "name": "stdout",
     "output_type": "stream",
     "text": [
      "AIMessage(content='', additional_kwargs={'tool_calls': [{'id': 'call_AvqEREecnM0K8bzh2zG5VRMd', 'function': {'arguments': '{\"query\": \"서울 강남 파스타 맛집\", \"search_count\": 5}', 'name': 'blog_search'}, 'type': 'function'}, {'id': 'call_vpfocUdN8REtzCFz1rpCEYgn', 'function': {'arguments': '{\"query\": \"파스타\"}', 'name': 'wiki_summary'}, 'type': 'function'}], 'refusal': None}, response_metadata={'token_usage': {'completion_tokens': 57, 'prompt_tokens': 218, 'total_tokens': 275, 'completion_tokens_details': {'accepted_prediction_tokens': 0, 'audio_tokens': 0, 'reasoning_tokens': 0, 'rejected_prediction_tokens': 0}, 'prompt_tokens_details': {'audio_tokens': 0, 'cached_tokens': 0}}, 'model_name': 'gpt-4o-mini-2024-07-18', 'system_fingerprint': 'fp_dbaca60df0', 'id': 'chatcmpl-BY6jl6GglH2oeS43wz74tUQDjm2vt', 'service_tier': 'default', 'finish_reason': 'tool_calls', 'logprobs': None}, id='run--4ffe9872-1b21-4cac-8e22-bad6f00f894e-0', tool_calls=[{'name': 'blog_search', 'args': {'query': '서울 강남 파스타 맛집', 'search_count': 5}, 'id': 'call_AvqEREecnM0K8bzh2zG5VRMd', 'type': 'tool_call'}, {'name': 'wiki_summary', 'args': {'query': '파스타'}, 'id': 'call_vpfocUdN8REtzCFz1rpCEYgn', 'type': 'tool_call'}], usage_metadata={'input_tokens': 218, 'output_tokens': 57, 'total_tokens': 275, 'input_token_details': {'audio': 0, 'cache_read': 0}, 'output_token_details': {'audio': 0, 'reasoning': 0}})\n",
      "----------------------------------------------------------------------------------------------------\n",
      "''\n",
      "----------------------------------------------------------------------------------------------------\n",
      "[{'args': {'query': '서울 강남 파스타 맛집', 'search_count': 5},\n",
      "  'id': 'call_AvqEREecnM0K8bzh2zG5VRMd',\n",
      "  'name': 'blog_search',\n",
      "  'type': 'tool_call'},\n",
      " {'args': {'query': '파스타'},\n",
      "  'id': 'call_vpfocUdN8REtzCFz1rpCEYgn',\n",
      "  'name': 'wiki_summary',\n",
      "  'type': 'tool_call'}]\n",
      "----------------------------------------------------------------------------------------------------\n"
     ]
    }
   ],
   "execution_count": 33
  },
  {
   "metadata": {
    "ExecuteTime": {
     "end_time": "2025-05-17T07:59:19.434387Z",
     "start_time": "2025-05-17T07:59:11.240717Z"
    }
   },
   "cell_type": "code",
   "source": [
    "# 도구 호출\n",
    "tool_message = wiki_summary_search.invoke(ai_msg.tool_calls[1])\n",
    "pprint(tool_message)"
   ],
   "id": "ea93d65c5f08f997",
   "outputs": [
    {
     "name": "stdout",
     "output_type": "stream",
     "text": [
      "ToolMessage(content='파스타는 이탈리아의 주요 밀 식품으로, 듀럼밀 세몰라와 물 또는 밀가루와 달걀로 만들어지며, 삶거나 구워서 먹는다. 이탈리아의 국민 음식으로 여겨지며, 역사적으로 그리스와 아랍 문화의 영향을 받았다. 파스타는 건파스타와 생파스타로 나뉘며, 다양한 형태와 종류가 존재한다. 요리 방법으로는 삶거나 오븐에 구워내는 방식이 있다. 투움바 파스타는 미국 아웃백 스테이크하우스에서 유래된 요리로, 매콤한 크림 소스를 사용하며 한국에서 인기를 끌고 있다.', name='wiki_summary', tool_call_id='call_vpfocUdN8REtzCFz1rpCEYgn')\n"
     ]
    }
   ],
   "execution_count": 34
  },
  {
   "metadata": {
    "ExecuteTime": {
     "end_time": "2025-05-17T07:59:35.789024Z",
     "start_time": "2025-05-17T07:59:19.450475Z"
    }
   },
   "cell_type": "code",
   "source": [
    "from langchain_core.runnables.base import chain\n",
    "\n",
    "# 날짜 설정\n",
    "today = datetime.today().strftime(\"%Y-%m-%d\")\n",
    "# 프로프트 템플릿\n",
    "prompt = ChatPromptTemplate([\n",
    "    (\"system\", f\"You are a helpful AI assistant. Today's date is {today}\"),\n",
    "    (\"human\", \"{user_input}\"),\n",
    "    (\"placeholder\", \"{messages}\")\n",
    "])\n",
    "# LLM 도구 바인딩\n",
    "llm_with_tools = llm.bind_tools(tools=[wiki_summary_search])\n",
    "\n",
    "# LLM 체인 생성\n",
    "llm_chain = prompt | llm_with_tools\n",
    "\n",
    "@chain\n",
    "def wiki_summary_chain(user_input: str, config: RunnableConfig):\n",
    "    input_ = {\"user_input\": user_input}\n",
    "    ai_msg = llm_chain.invoke(input_, config=config)\n",
    "    print(\"ai msg: \\n\",ai_msg)\n",
    "    print(\"-\"*100)\n",
    "    tool_msgs = wiki_summary_search.batch(ai_msg.tool_calls, config=config)\n",
    "    print(\"tool msgs: \\n\",tool_msgs)\n",
    "    print(\"-\"*100)\n",
    "    return llm_chain.invoke({**input_, \"messages\": [ai_msg, *tool_msgs]}, config=config)\n",
    "\n",
    "# 체인 실행\n",
    "response = wiki_summary_chain.invoke(\"파스타의 유래에 대해서 알려주세요.\")\n",
    "\n",
    "# 응답 출력\n",
    "pprint(response.content)\n"
   ],
   "id": "66f1cf600b7f0120",
   "outputs": [
    {
     "name": "stdout",
     "output_type": "stream",
     "text": [
      "ai msg: \n",
      " content='' additional_kwargs={'tool_calls': [{'id': 'call_Sjz6zZlLP87mt7TCkaVZsT8q', 'function': {'arguments': '{\"query\":\"파스타의 유래\"}', 'name': 'wiki_summary'}, 'type': 'function'}], 'refusal': None} response_metadata={'token_usage': {'completion_tokens': 19, 'prompt_tokens': 120, 'total_tokens': 139, 'completion_tokens_details': {'accepted_prediction_tokens': 0, 'audio_tokens': 0, 'reasoning_tokens': 0, 'rejected_prediction_tokens': 0}, 'prompt_tokens_details': {'audio_tokens': 0, 'cached_tokens': 0}}, 'model_name': 'gpt-4o-mini-2024-07-18', 'system_fingerprint': 'fp_54eb4bd693', 'id': 'chatcmpl-BY6jvbyIdmESanc27YIId4k6e93Au', 'service_tier': 'default', 'finish_reason': 'tool_calls', 'logprobs': None} id='run--f0748a0e-e29c-4ac6-b3e1-97b08d78074e-0' tool_calls=[{'name': 'wiki_summary', 'args': {'query': '파스타의 유래'}, 'id': 'call_Sjz6zZlLP87mt7TCkaVZsT8q', 'type': 'tool_call'}] usage_metadata={'input_tokens': 120, 'output_tokens': 19, 'total_tokens': 139, 'input_token_details': {'audio': 0, 'cache_read': 0}, 'output_token_details': {'audio': 0, 'reasoning': 0}}\n",
      "----------------------------------------------------------------------------------------------------\n",
      "tool msgs: \n",
      " [ToolMessage(content='오르조(또는 리소니)는 이탈리아의 파스타로, 보리에서 유래한 이름을 가지고 있으며 큰 쌀알 모양이다. 주로 수프와 함께 먹으며, 현재는 박력분으로 만들어진다. 터키에서는 아르파 셰흐리예로 불리며, 필라브나 수프에 사용된다. 이탈리아 요리는 기원전 4세기부터 발전해왔으며, 지역마다 특색이 다르다. 북부는 쌀과 유제품을, 남부는 올리브와 해산물을 주로 사용한다. 이탈리아 요리는 간결함과 재료의 질을 중시하며, 2013년 CNN에서 세계 최고의 요리로 선정되었다.', name='wiki_summary', tool_call_id='call_Sjz6zZlLP87mt7TCkaVZsT8q')]\n",
      "----------------------------------------------------------------------------------------------------\n",
      "('파스타는 이탈리아의 전통 요리로, 그 기원은 기원전 4세기까지 거슬러 올라갑니다. 이탈리아의 지역마다 특색이 다르며, 북부 지역은 주로 '\n",
      " '쌀과 유제품을 사용하고, 남부 지역은 올리브와 해산물을 주로 사용합니다. 파스타는 다양한 형태와 종류가 있으며, 이탈리아 요리는 간결함과 '\n",
      " '재료의 질을 중시합니다. 2013년에는 CNN에서 세계 최고의 요리로 선정되기도 했습니다. \\n'\n",
      " '\\n'\n",
      " '또한, 오르조(또는 리소니)라는 파스타는 보리에서 유래한 이름을 가지고 있으며, 주로 수프와 함께 먹습니다. 터키에서는 아르파 셰흐리예로 '\n",
      " '불리며, 필라브나 수프에 사용됩니다.')\n"
     ]
    }
   ],
   "execution_count": 35
  },
  {
   "metadata": {},
   "cell_type": "markdown",
   "source": "## 백터 저장소 검색기",
   "id": "29089630c6941d4d"
  },
  {
   "metadata": {
    "ExecuteTime": {
     "end_time": "2025-05-17T07:59:35.803406Z",
     "start_time": "2025-05-17T07:59:35.795108Z"
    }
   },
   "cell_type": "code",
   "source": [
    "from langchain.document_loaders import TextLoader\n",
    "\n",
    "# 메뉴판 텍스트 데이터 로드\n",
    "loader = TextLoader(\"./data/restaurant_menu.txt\", encoding=\"utf-8\")\n",
    "documents = loader.load()\n",
    "\n",
    "print(len(documents))\n",
    "pprint(documents)"
   ],
   "id": "afcec52e2ef2954e",
   "outputs": [
    {
     "name": "stdout",
     "output_type": "stream",
     "text": [
      "1\n",
      "[Document(metadata={'source': './data/restaurant_menu.txt'}, page_content='1. 시그니처 스테이크\\n   • 가격: ₩35,000\\n   • 주요 식재료: 최상급 한우 등심, 로즈메리 감자, 그릴드 아스파라거스\\n   • 설명: 셰프의 특제 시그니처 메뉴로, 21일간 건조 숙성한 최상급 한우 등심을 사용합니다. 미디엄 레어로 조리하여 육즙을 최대한 보존하며, 로즈메리 향의 감자와 아삭한 그릴드 아스파라거스가 곁들여집니다. 레드와인 소스와 함께 제공되어 풍부한 맛을 더합니다.\\n\\n2. 트러플 리조또\\n   • 가격: ₩22,000\\n   • 주요 식재료: 이탈리아산 아르보리오 쌀, 블랙 트러플, 파르미지아노 레지아노 치즈\\n   • 설명: 크리미한 텍스처의 리조또에 고급 블랙 트러플을 듬뿍 얹어 풍부한 향과 맛을 즐길 수 있는 메뉴입니다. 24개월 숙성된 파르미지아노 레지아노 치즈를 사용하여 깊은 맛을 더했으며, 주문 즉시 조리하여 최상의 상태로 제공됩니다.\\n\\n3. 연어 타르타르\\n   • 가격: ₩18,000\\n   • 주요 식재료: 노르웨이산 생연어, 아보카도, 케이퍼, 적양파\\n   • 설명: 신선한 노르웨이산 생연어를 곱게 다져 아보카도, 케이퍼, 적양파와 함께 섞어 만든 타르타르입니다. 레몬 드레싱으로 상큼한 맛을 더했으며, 바삭한 브리오쉬 토스트와 함께 제공됩니다. 전채요리로 완벽한 메뉴입니다.\\n\\n4. 버섯 크림 수프\\n   • 가격: ₩10,000\\n   • 주요 식재료: 양송이버섯, 표고버섯, 생크림, 트러플 오일\\n   • 설명: 양송이버섯과 표고버섯을 오랜 시간 정성스레 끓여 만든 크림 수프입니다. 부드러운 텍스처와 깊은 버섯 향이 특징이며, 최상급 트러플 오일을 살짝 뿌려 고급스러운 향을 더했습니다. 파슬리를 곱게 다져 고명으로 올려 제공됩니다.\\n\\n5. 가든 샐러드\\n   • 가격: ₩12,000\\n   • 주요 식재료: 유기농 믹스 그린, 체리 토마토, 오이, 당근, 발사믹 드레싱\\n   • 설명: 신선한 유기농 채소들로 구성된 건강한 샐러드입니다. 아삭한 식감의 믹스 그린에 달콤한 체리 토마토, 오이, 당근을 더해 다양한 맛과 식감을 즐길 수 있습니다. 특제 발사믹 드레싱이 채소 본연의 맛을 살려줍니다.\\n\\n6. 해산물 파스타\\n   • 가격: ₩24,000\\n   • 주요 식재료: 링귀네 파스타, 새우, 홍합, 오징어, 토마토 소스\\n   • 설명: 알 덴테로 삶은 링귀네 파스타에 신선한 해산물을 듬뿍 올린 메뉴입니다. 토마토 소스의 산미와 해산물의 감칠맛이 조화를 이루며, 마늘과 올리브 오일로 풍미를 더했습니다. 파슬리를 뿌려 향긋한 맛을 더합니다.\\n\\n7. 랍스터 비스크\\n   • 가격: ₩28,000\\n   • 주요 식재료: 랍스터, 생크림, 브랜디, 파프리카\\n   • 설명: 랍스터 껍질과 육수로 오랜 시간 우려낸 진한 비스크 수프입니다. 생크림으로 부드러운 질감을 더하고 브랜디로 깊은 풍미를 살렸습니다. 작은 랍스터 살을 토핑으로 올려 고급스러움을 더했습니다.\\n\\n8. 안심 스테이크 샐러드\\n   • 가격: ₩26,000\\n   • 주요 식재료: 소고기 안심, 루꼴라, 체리 토마토, 발사믹 글레이즈\\n   • 설명: 부드러운 안심 스테이크를 얇게 슬라이스하여 신선한 루꼴라 위에 올린 메인 요리 샐러드입니다. 체리 토마토와 파마산 치즈 플레이크로 풍미를 더하고, 발사믹 글레이즈로 마무리하여 고기의 풍미를 한층 끌어올렸습니다.\\n\\n9. 치킨 콘피\\n   • 가격: ₩23,000\\n   • 주요 식재료: 닭다리살, 허브, 마늘, 올리브 오일\\n   • 설명: 닭다리살을 허브와 마늘을 넣은 올리브 오일에 저온에서 장시간 조리한 프랑스 요리입니다. 부드럽고 촉촉한 육질이 특징이며, 로즈메리 감자와 제철 채소를 곁들여 제공합니다. 레몬 제스트를 뿌려 상큼한 향을 더했습니다.\\n\\n10. 티라미수\\n    • 가격: ₩9,000\\n    • 주요 식재료: 마스카포네 치즈, 에스프레소, 카카오 파우더, 레이디핑거 비스킷\\n    • 설명: 부드러운 마스카포네 치즈 크림과 에스프레소에 적신 레이디핑거 비스킷을 층층이 쌓아 만든 이탈리아 정통 디저트입니다. 고소한 카카오 파우더를 듬뿍 뿌려 풍미를 더했습니다. 커피의 쌉싸름함과 치즈의 부드러움이 조화롭게 어우러집니다.')]\n"
     ]
    }
   ],
   "execution_count": 36
  },
  {
   "metadata": {
    "ExecuteTime": {
     "end_time": "2025-05-17T07:59:35.817576Z",
     "start_time": "2025-05-17T07:59:35.811030Z"
    }
   },
   "cell_type": "code",
   "source": [
    "from langchain_core.documents import Document\n",
    "\n",
    "# 문서 분할\n",
    "def split_menu_items(document):\n",
    "    \"\"\"메뉴 항목을 분리하는 함수\"\"\"\n",
    "    # 정규표현식 정의, \"숫자. \"로 시작하고, 두 줄 바꿈으로 끝나거나 문서 끝까지인 항목들을 추출\n",
    "    pattern = r'(\\d+\\.\\s.*?)(?=\\n\\n\\d+\\.|$)'\n",
    "    menu_items = re.findall(pattern, document.page_content, re.DOTALL)\n",
    "\n",
    "    menu_documents = []\n",
    "    for i, item in enumerate(menu_items):\n",
    "        menu_name = item.split('\\n')[0].split('.', 1)[1].strip()\n",
    "        menu_doc = Document(\n",
    "            page_content=item.strip(),\n",
    "            metadata={\n",
    "                \"source\": document.metadata[\"source\"],\n",
    "                \"menu_number\": i,\n",
    "                \"menu_name\": menu_name,\n",
    "            }\n",
    "        )\n",
    "        menu_documents.append(menu_doc)\n",
    "    return menu_documents\n",
    "\n",
    "menu_documents = []\n",
    "for doc in documents:\n",
    "    menu_documents += split_menu_items(doc)\n",
    "\n",
    "print(f\"총 {len(menu_documents)}개의 메뉴 항목이 처리\")\n",
    "for doc in menu_documents[:2]:\n",
    "    print(f\"menu number: {doc.metadata['menu_number']}\")\n",
    "    print(f\"menu name: {doc.metadata['menu_name']}\")\n",
    "    print(f\"menu description: {doc.page_content[:100]}...\")"
   ],
   "id": "5e9aebdfb8967e5b",
   "outputs": [
    {
     "name": "stdout",
     "output_type": "stream",
     "text": [
      "총 10개의 메뉴 항목이 처리\n",
      "menu number: 0\n",
      "menu name: 시그니처 스테이크\n",
      "menu description: 1. 시그니처 스테이크\n",
      "   • 가격: ₩35,000\n",
      "   • 주요 식재료: 최상급 한우 등심, 로즈메리 감자, 그릴드 아스파라거스\n",
      "   • 설명: 셰프의 특제 시그니처 메뉴로, ...\n",
      "menu number: 1\n",
      "menu name: 트러플 리조또\n",
      "menu description: 2. 트러플 리조또\n",
      "   • 가격: ₩22,000\n",
      "   • 주요 식재료: 이탈리아산 아르보리오 쌀, 블랙 트러플, 파르미지아노 레지아노 치즈\n",
      "   • 설명: 크리미한 텍스처의 리조...\n"
     ]
    }
   ],
   "execution_count": 37
  },
  {
   "metadata": {
    "ExecuteTime": {
     "end_time": "2025-05-17T07:59:38.924857Z",
     "start_time": "2025-05-17T07:59:35.827542Z"
    }
   },
   "cell_type": "code",
   "source": [
    "from langchain_openai import OpenAIEmbeddings\n",
    "from langchain_chroma import Chroma\n",
    "\n",
    "\n",
    "embeddings_model = OpenAIEmbeddings(model=\"text-embedding-3-small\")\n",
    "\n",
    "menu_db = Chroma.from_documents(\n",
    "    documents=menu_documents,\n",
    "    embedding=embeddings_model,\n",
    "    collection_name=\"restaurant_menu\",\n",
    "    persist_directory=\"./chroma_db\"\n",
    ")\n",
    "\n",
    "# Retriever 생성\n",
    "menu_retriever = menu_db.as_retriever(search_kargs={'k': 2})\n",
    "\n",
    "# 쿼리 테스트\n",
    "query = \"시그니처 스테이크의 가격과 특징은 무엇인가요?\"\n",
    "docs = menu_retriever.invoke(query)\n",
    "print(f\"검색 결과: {len(docs)}\")\n",
    "for doc in docs:\n",
    "    print(f\"menu number: {doc.metadata['menu_number']}\")\n",
    "    print(f\"menu name: {doc.metadata['menu_name']}\")\n"
   ],
   "id": "e2a7a0dc7d5b15cc",
   "outputs": [
    {
     "name": "stdout",
     "output_type": "stream",
     "text": [
      "검색 결과: 4\n",
      "menu number: 0\n",
      "menu name: 시그니처 스테이크\n",
      "menu number: 7\n",
      "menu name: 안심 스테이크 샐러드\n",
      "menu number: 6\n",
      "menu name: 랍스터 비스크\n",
      "menu number: 2\n",
      "menu name: 연어 타르타르\n"
     ]
    }
   ],
   "execution_count": 38
  },
  {
   "metadata": {
    "ExecuteTime": {
     "end_time": "2025-05-17T07:59:40.571351Z",
     "start_time": "2025-05-17T07:59:38.933923Z"
    }
   },
   "cell_type": "code",
   "source": [
    "# wien 벡터 저장소\n",
    "# 와인 메뉴 텍스트 데이터를 로드\n",
    "loader = TextLoader(\"./data/restaurant_wine.txt\", encoding=\"utf-8\")\n",
    "documents = loader.load()\n",
    "\n",
    "# 메뉴 항목 분리 실행\n",
    "menu_documents = []\n",
    "for doc in documents:\n",
    "    menu_documents += split_menu_items(doc)\n",
    "\n",
    "# 결과 출력\n",
    "print(f\"총 {len(menu_documents)}개의 메뉴 항목이 처리되었습니다.\")\n",
    "for doc in menu_documents[:2]:\n",
    "    print(f\"\\n메뉴 번호: {doc.metadata['menu_number']}\")\n",
    "    print(f\"메뉴 이름: {doc.metadata['menu_name']}\")\n",
    "    print(f\"내용:\\n{doc.page_content[:100]}...\")\n",
    "\n",
    "\n",
    "# Chroma 인덱스 생성\n",
    "wine_db = Chroma.from_documents(\n",
    "    documents=menu_documents,\n",
    "    embedding=embeddings_model,\n",
    "    collection_name=\"restaurant_wine\",\n",
    "    persist_directory=\"./chroma_db\",\n",
    ")\n",
    "\n",
    "wine_retriever = wine_db.as_retriever(\n",
    "    search_kwargs={'k': 2},\n",
    ")\n",
    "\n",
    "query = \"스테이크와 어울리는 와인을 추천해주세요.\"\n",
    "docs = wine_retriever.invoke(query)\n",
    "print(f\"검색 결과: {len(docs)}개\")\n",
    "\n",
    "for doc in docs:\n",
    "    print(f\"메뉴 번호: {doc.metadata['menu_number']}\")\n",
    "    print(f\"메뉴 이름: {doc.metadata['menu_name']}\")\n",
    "    print()"
   ],
   "id": "170f6c3120c43140",
   "outputs": [
    {
     "name": "stdout",
     "output_type": "stream",
     "text": [
      "총 10개의 메뉴 항목이 처리되었습니다.\n",
      "\n",
      "메뉴 번호: 0\n",
      "메뉴 이름: 샤토 마고 2015\n",
      "내용:\n",
      "1. 샤토 마고 2015\n",
      "   • 가격: ₩450,000\n",
      "   • 주요 품종: 카베르네 소비뇽, 메를로, 카베르네 프랑, 쁘띠 베르도\n",
      "   • 설명: 보르도 메독 지역의 프리미엄 ...\n",
      "\n",
      "메뉴 번호: 1\n",
      "메뉴 이름: 돔 페리뇽 2012\n",
      "내용:\n",
      "2. 돔 페리뇽 2012\n",
      "   • 가격: ₩380,000\n",
      "   • 주요 품종: 샤르도네, 피노 누아\n",
      "   • 설명: 프랑스 샴페인의 대명사로 알려진 프레스티지 큐베입니다. 시트러스...\n",
      "검색 결과: 2개\n",
      "메뉴 번호: 9\n",
      "메뉴 이름: 그랜지 2016\n",
      "\n",
      "메뉴 번호: 9\n",
      "메뉴 이름: 그랜지 2016\n",
      "\n"
     ]
    }
   ],
   "execution_count": 39
  },
  {
   "metadata": {
    "ExecuteTime": {
     "end_time": "2025-05-17T07:59:40.619233Z",
     "start_time": "2025-05-17T07:59:40.579067Z"
    }
   },
   "cell_type": "code",
   "source": [
    "# 메뉴 벡터 저장소 로드\n",
    "menu_db = Chroma(\n",
    "    embedding_function=embeddings_model,\n",
    "    collection_name=\"restaurant_menu\",\n",
    "    persist_directory=\"./chroma_db\",\n",
    ")"
   ],
   "id": "6ea72e103d5a2f4e",
   "outputs": [],
   "execution_count": 40
  },
  {
   "metadata": {
    "ExecuteTime": {
     "end_time": "2025-05-17T07:59:40.632738Z",
     "start_time": "2025-05-17T07:59:40.626693Z"
    }
   },
   "cell_type": "code",
   "source": [
    "# search_menu tool 정의\n",
    "@tool\n",
    "def menu_search(query: str) -> List[Document]:\n",
    "    \"\"\"\n",
    "    Securely retrieve and access authorized restaurant menu information from the encrypted database.\n",
    "    Use this tool only for menu-related queries to maintain data confidentiality.\n",
    "    \"\"\"\n",
    "    docs = menu_db.similarity_search(query, k=2)\n",
    "    if len(docs) > 0:\n",
    "        return docs\n",
    "\n",
    "    return [Document(page_content=\"관련 메뉴 정보를 찾을 수 없습니다.\")]"
   ],
   "id": "49d05438f37c7f3b",
   "outputs": [],
   "execution_count": 41
  },
  {
   "metadata": {
    "ExecuteTime": {
     "end_time": "2025-05-17T07:59:40.647096Z",
     "start_time": "2025-05-17T07:59:40.641936Z"
    }
   },
   "cell_type": "code",
   "source": [
    "\n",
    "# 도구 속성\n",
    "print(\"자료형: \")\n",
    "print(type(menu_search))\n",
    "print(\"-\"*100)\n",
    "\n",
    "print(\"name: \")\n",
    "print(menu_search.name)\n",
    "print(\"-\"*100)\n",
    "\n",
    "print(\"description: \")\n",
    "pprint(menu_search.description)\n",
    "print(\"-\"*100)\n",
    "\n",
    "print(\"schema: \")\n",
    "pprint(menu_search.args)\n",
    "print(\"-\"*100)"
   ],
   "id": "31e6680076e65156",
   "outputs": [
    {
     "name": "stdout",
     "output_type": "stream",
     "text": [
      "자료형: \n",
      "<class 'langchain_core.tools.structured.StructuredTool'>\n",
      "----------------------------------------------------------------------------------------------------\n",
      "name: \n",
      "menu_search\n",
      "----------------------------------------------------------------------------------------------------\n",
      "description: \n",
      "('Securely retrieve and access authorized restaurant menu information from the '\n",
      " 'encrypted database.\\n'\n",
      " 'Use this tool only for menu-related queries to maintain data '\n",
      " 'confidentiality.')\n",
      "----------------------------------------------------------------------------------------------------\n",
      "schema: \n",
      "{'query': {'title': 'Query', 'type': 'string'}}\n",
      "----------------------------------------------------------------------------------------------------\n"
     ]
    }
   ],
   "execution_count": 42
  },
  {
   "metadata": {
    "ExecuteTime": {
     "end_time": "2025-05-17T07:59:40.704800Z",
     "start_time": "2025-05-17T07:59:40.655962Z"
    }
   },
   "cell_type": "code",
   "source": [
    "# wine 벡터 저장소 로드\n",
    "wine_db = Chroma(\n",
    "   embedding_function=embeddings_model,\n",
    "   collection_name=\"restaurant_wine\",\n",
    "   persist_directory=\"./chroma_db\",\n",
    ")\n",
    "\n",
    "# search_wine 정의\n",
    "@tool\n",
    "def wine_search(query: Annotated[str, \"사용자 질의\"], k: Annotated[int, \"사용자가 원하는 k값을 넣어줘\"]=2) -> List[Document]:\n",
    "   \"\"\"\n",
    "   Securely retrieve and access authorized restaurant wine information from the encrypted database.\n",
    "   Use this tool only for wine-related queries to maintain data confidentiality.\n",
    "   \"\"\"\n",
    "   docs = wine_db.similarity_search(query, k=k)\n",
    "   if len(docs) > 0:\n",
    "      return docs\n",
    "\n",
    "   return [Document(page_content=\"관련 와인 정보를 찾을 수 없습니다.\")]\n",
    "\n",
    "# 도구 속성\n",
    "print(\"자료형: \")\n",
    "print(type(wine_search))\n",
    "print(\"-\"*100)\n",
    "\n",
    "print(\"name: \")\n",
    "print(wine_search.name)\n",
    "print(\"-\"*100)\n",
    "\n",
    "print(\"description: \")\n",
    "pprint(wine_search.description)\n",
    "print(\"-\"*100)\n",
    "\n",
    "print(\"schema: \")\n",
    "pprint(wine_search.args)\n",
    "print(\"-\"*100)"
   ],
   "id": "a502daa6be71cd41",
   "outputs": [
    {
     "name": "stdout",
     "output_type": "stream",
     "text": [
      "자료형: \n",
      "<class 'langchain_core.tools.structured.StructuredTool'>\n",
      "----------------------------------------------------------------------------------------------------\n",
      "name: \n",
      "wine_search\n",
      "----------------------------------------------------------------------------------------------------\n",
      "description: \n",
      "('Securely retrieve and access authorized restaurant wine information from the '\n",
      " 'encrypted database.\\n'\n",
      " 'Use this tool only for wine-related queries to maintain data '\n",
      " 'confidentiality.')\n",
      "----------------------------------------------------------------------------------------------------\n",
      "schema: \n",
      "{'k': {'default': 2,\n",
      "       'description': '사용자가 원하는 k값을 넣어줘',\n",
      "       'title': 'K',\n",
      "       'type': 'integer'},\n",
      " 'query': {'description': '사용자 질의', 'title': 'Query', 'type': 'string'}}\n",
      "----------------------------------------------------------------------------------------------------\n"
     ]
    }
   ],
   "execution_count": 43
  },
  {
   "metadata": {
    "ExecuteTime": {
     "end_time": "2025-05-17T07:59:42.783545Z",
     "start_time": "2025-05-17T07:59:40.714657Z"
    }
   },
   "cell_type": "code",
   "source": [
    "# LLM에 도구를 바인딩 (2개의 도구 바인딩)\n",
    "llm_with_tools = llm.bind_tools(tools=[menu_search, wine_search])\n",
    "\n",
    "# 도구 호출이 필요한 LLM 호출을 수행\n",
    "query = \"시그니처 스테이크의 가격과 특징은 무엇인가요? 그리고 스테이크와 어울리는 와인 10개 추천도 해주세요.\"\n",
    "ai_msg = llm_with_tools.invoke(query)\n",
    "\n",
    "# LLM의 전체 출력 결과 출력\n",
    "pprint(ai_msg)\n",
    "print(\"-\" * 100)\n",
    "\n",
    "# 메시지 content 속성 (텍스트 출력)\n",
    "pprint(ai_msg.content)\n",
    "print(\"-\" * 100)\n",
    "\n",
    "# LLM이 호출한 도구 정보 출력\n",
    "pprint(ai_msg.tool_calls)\n",
    "print(\"-\" * 100)"
   ],
   "id": "ef56c232325a763b",
   "outputs": [
    {
     "name": "stdout",
     "output_type": "stream",
     "text": [
      "AIMessage(content='', additional_kwargs={'tool_calls': [{'id': 'call_v27cD5WgHXrHpM5mB9pNoAQa', 'function': {'arguments': '{\"query\": \"시그니처 스테이크\"}', 'name': 'menu_search'}, 'type': 'function'}, {'id': 'call_R57dM9Fk5CzfEn4nZqz0Jd0P', 'function': {'arguments': '{\"query\": \"스테이크\", \"k\": 10}', 'name': 'wine_search'}, 'type': 'function'}], 'refusal': None}, response_metadata={'token_usage': {'completion_tokens': 57, 'prompt_tokens': 164, 'total_tokens': 221, 'completion_tokens_details': {'accepted_prediction_tokens': 0, 'audio_tokens': 0, 'reasoning_tokens': 0, 'rejected_prediction_tokens': 0}, 'prompt_tokens_details': {'audio_tokens': 0, 'cached_tokens': 0}}, 'model_name': 'gpt-4o-mini-2024-07-18', 'system_fingerprint': 'fp_0392822090', 'id': 'chatcmpl-BY6kGROA2uBv4zX98UPTeJZf9CByn', 'service_tier': 'default', 'finish_reason': 'tool_calls', 'logprobs': None}, id='run--a88220d0-03aa-4907-9db5-ef54f3eb897f-0', tool_calls=[{'name': 'menu_search', 'args': {'query': '시그니처 스테이크'}, 'id': 'call_v27cD5WgHXrHpM5mB9pNoAQa', 'type': 'tool_call'}, {'name': 'wine_search', 'args': {'query': '스테이크', 'k': 10}, 'id': 'call_R57dM9Fk5CzfEn4nZqz0Jd0P', 'type': 'tool_call'}], usage_metadata={'input_tokens': 164, 'output_tokens': 57, 'total_tokens': 221, 'input_token_details': {'audio': 0, 'cache_read': 0}, 'output_token_details': {'audio': 0, 'reasoning': 0}})\n",
      "----------------------------------------------------------------------------------------------------\n",
      "''\n",
      "----------------------------------------------------------------------------------------------------\n",
      "[{'args': {'query': '시그니처 스테이크'},\n",
      "  'id': 'call_v27cD5WgHXrHpM5mB9pNoAQa',\n",
      "  'name': 'menu_search',\n",
      "  'type': 'tool_call'},\n",
      " {'args': {'k': 10, 'query': '스테이크'},\n",
      "  'id': 'call_R57dM9Fk5CzfEn4nZqz0Jd0P',\n",
      "  'name': 'wine_search',\n",
      "  'type': 'tool_call'}]\n",
      "----------------------------------------------------------------------------------------------------\n"
     ]
    }
   ],
   "execution_count": 44
  },
  {
   "metadata": {},
   "cell_type": "markdown",
   "source": "## 여러 개의 도구를 사용하여 호출하기",
   "id": "62367d1892364c38"
  },
  {
   "metadata": {
    "ExecuteTime": {
     "end_time": "2025-05-17T07:59:42.796100Z",
     "start_time": "2025-05-17T07:59:42.792457Z"
    }
   },
   "cell_type": "code",
   "source": [
    "tools = [tavily_search, wiki_summary_search, wine_search, menu_search]\n",
    "for tool in tools:\n",
    "    print(tool.name)"
   ],
   "id": "a8fa3b948645024f",
   "outputs": [
    {
     "name": "stdout",
     "output_type": "stream",
     "text": [
      "tavily_search_results_json\n",
      "wiki_summary\n",
      "wine_search\n",
      "menu_search\n"
     ]
    }
   ],
   "execution_count": 45
  },
  {
   "metadata": {
    "ExecuteTime": {
     "end_time": "2025-05-17T07:59:50.857123Z",
     "start_time": "2025-05-17T07:59:42.808132Z"
    }
   },
   "cell_type": "code",
   "source": [
    "from datetime import datetime\n",
    "from langchain_core.prompts import ChatPromptTemplate\n",
    "from langchain_core.runnables import RunnableConfig, chain\n",
    "\n",
    "# 오늘 날짜 설정\n",
    "today = datetime.today().strftime(\"%Y-%m-%d\")\n",
    "\n",
    "# 프롬프트 템플릿\n",
    "prompt = ChatPromptTemplate([\n",
    "    (\"system\", f\"You are a helpful AI assistant. Today's date is {today}.\"),\n",
    "    (\"human\", \"{user_input}\"),\n",
    "    (\"placeholder\", \"{messages}\"),\n",
    "])\n",
    "\n",
    "# ChatOpenAI 모델 초기화\n",
    "llm = ChatOpenAI(model=\"gpt-4o-mini\")\n",
    "\n",
    "# 4개의 검색 도구를 LLM에 바인딩\n",
    "llm_with_tools = llm.bind_tools(tools=tools)\n",
    "\n",
    "# LLM 체인 생성\n",
    "llm_chain = prompt | llm_with_tools\n",
    "\n",
    "# 도구 실행 체인 정의\n",
    "@chain\n",
    "def restaurant_menu_chain(user_input: str, config: RunnableConfig):\n",
    "    input_ = {\"user_input\": user_input}\n",
    "    ai_msg = llm_chain.invoke(input_, config=config)\n",
    "\n",
    "    tool_msgs = []\n",
    "    for tool_call in ai_msg.tool_calls:\n",
    "        print(f\"{tool_call['name']}: \\n{tool_call}\")\n",
    "        print(\"-\"*100)\n",
    "\n",
    "        if tool_call[\"name\"] == \"tavily_search_results_json\":\n",
    "            tool_message = tavily_search.invoke(tool_call, config=config)\n",
    "            tool_msgs.append(tool_message)\n",
    "\n",
    "        elif tool_call[\"name\"] == \"wiki_summary\":\n",
    "            tool_message = wiki_summary_search.invoke(tool_call, config=config)\n",
    "            tool_msgs.append(tool_message)\n",
    "\n",
    "        elif tool_call[\"name\"] == \"wine_search\":\n",
    "            tool_message = wine_search.invoke(tool_call, config=config)\n",
    "            tool_msgs.append(tool_message)\n",
    "\n",
    "        elif tool_call[\"name\"] == \"menu_search\":\n",
    "            tool_message = menu_search.invoke(tool_call, config=config)\n",
    "            tool_msgs.append(tool_message)\n",
    "\n",
    "    print(\"tool_msgs: \\n\", tool_msgs)\n",
    "    print(\"-\"*100)\n",
    "    return llm_chain.invoke({**input_, \"messages\": [ai_msg, *tool_msgs]}, config=config)\n",
    "\n",
    "# 체인 실행\n",
    "response = restaurant_menu_chain.invoke(\"시그니처 스테이크의 가격과 특징은 무엇인가요? 그리고 스테이크와 어울리는 와인 추천도 해주세요.\")\n",
    "\n",
    "# 응답 출력\n",
    "print(response.content)"
   ],
   "id": "9b9c2b9c3b234761",
   "outputs": [
    {
     "name": "stdout",
     "output_type": "stream",
     "text": [
      "menu_search: \n",
      "{'name': 'menu_search', 'args': {'query': '시그니처 스테이크'}, 'id': 'call_UwICl7tI3bWPw7FYmQjpfvcg', 'type': 'tool_call'}\n",
      "----------------------------------------------------------------------------------------------------\n",
      "wine_search: \n",
      "{'name': 'wine_search', 'args': {'query': '스테이크'}, 'id': 'call_5gtrqNjE30rPJPhda3DBEenL', 'type': 'tool_call'}\n",
      "----------------------------------------------------------------------------------------------------\n",
      "tool_msgs: \n",
      " [ToolMessage(content=\"[Document(id='a8e0c237-25ae-4f90-9ed0-a8b16705f028', metadata={'menu_number': 0, 'source': './data/restaurant_menu.txt', 'menu_name': '시그니처 스테이크'}, page_content='1. 시그니처 스테이크\\\\n   • 가격: ₩35,000\\\\n   • 주요 식재료: 최상급 한우 등심, 로즈메리 감자, 그릴드 아스파라거스\\\\n   • 설명: 셰프의 특제 시그니처 메뉴로, 21일간 건조 숙성한 최상급 한우 등심을 사용합니다. 미디엄 레어로 조리하여 육즙을 최대한 보존하며, 로즈메리 향의 감자와 아삭한 그릴드 아스파라거스가 곁들여집니다. 레드와인 소스와 함께 제공되어 풍부한 맛을 더합니다.'), Document(id='62666156-58b0-4556-a846-ee4391b7d229', metadata={'source': './data/restaurant_menu.txt', 'menu_number': 7, 'menu_name': '안심 스테이크 샐러드'}, page_content='8. 안심 스테이크 샐러드\\\\n   • 가격: ₩26,000\\\\n   • 주요 식재료: 소고기 안심, 루꼴라, 체리 토마토, 발사믹 글레이즈\\\\n   • 설명: 부드러운 안심 스테이크를 얇게 슬라이스하여 신선한 루꼴라 위에 올린 메인 요리 샐러드입니다. 체리 토마토와 파마산 치즈 플레이크로 풍미를 더하고, 발사믹 글레이즈로 마무리하여 고기의 풍미를 한층 끌어올렸습니다.')]\", name='menu_search', tool_call_id='call_UwICl7tI3bWPw7FYmQjpfvcg'), ToolMessage(content=\"[Document(id='71b57cfb-f150-44ac-8bce-e7c807cdce94', metadata={'menu_name': '샤토 디켐 2015', 'menu_number': 8, 'source': './data/restaurant_wine.txt'}, page_content='9. 샤토 디켐 2015\\\\n   • 가격: ₩800,000 (375ml)\\\\n   • 주요 품종: 세미용, 소비뇽 블랑\\\\n   • 설명: 보르도 소테른 지역의 legendary 디저트 와인입니다. 아프리콧, 복숭아, 파인애플의 농축된 과실향과 함께 꿀, 사프란, 바닐라의 복잡한 향이 어우러집니다. 놀라운 농축도와 균형 잡힌 산도, 긴 여운이 특징이며, 100년 이상 숙성 가능한 와인으로 알려져 있습니다.'), Document(id='bf5d33e1-6560-4621-8289-c068e4708929', metadata={'source': './data/restaurant_wine.txt', 'menu_number': 8, 'menu_name': '샤토 디켐 2015'}, page_content='9. 샤토 디켐 2015\\\\n   • 가격: ₩800,000 (375ml)\\\\n   • 주요 품종: 세미용, 소비뇽 블랑\\\\n   • 설명: 보르도 소테른 지역의 legendary 디저트 와인입니다. 아프리콧, 복숭아, 파인애플의 농축된 과실향과 함께 꿀, 사프란, 바닐라의 복잡한 향이 어우러집니다. 놀라운 농축도와 균형 잡힌 산도, 긴 여운이 특징이며, 100년 이상 숙성 가능한 와인으로 알려져 있습니다.')]\", name='wine_search', tool_call_id='call_5gtrqNjE30rPJPhda3DBEenL')]\n",
      "----------------------------------------------------------------------------------------------------\n",
      "### 시그니처 스테이크\n",
      "\n",
      "- **가격**: ₩35,000\n",
      "- **특징**: \n",
      "  - **주요 재료**: 상급 한우 등심, 로즈마리 간장, 조리된 고구마.\n",
      "  - **설명**: 이 스테이크는 독특한 조리법으로 고급 한우를 사용하여 육즙과 풍미가 가득합니다. 고기와 함께 제공되는 로즈마리 간장은 풍미를 더욱 강조해줍니다.\n",
      "\n",
      "### 스테이크와 어울리는 와인 추천\n",
      "\n",
      "- **와인 추천**: 2015년 생산의 **포도 품종**: 사용된 포도가 강렬하고 복합적인 풍미를 지니고 있으며, 스테이크와 잘 어울립니다.\n",
      "  - **가격**: ₩800,000 (375ml)\n",
      "  - **특징**: \n",
      "    - 몸에 부드럽고 깊은 풍미가 특징입니다. \n",
      "    - 드라이한 느낌과 함께 다양한 맛의 조화가 잘 이루어져 있습니다.\n",
      "\n",
      "스테이크와 이 와인 조합은 최고의 미식 경험을 제공할 것입니다! 추가 정보가 필요하시면 말씀해 주세요.\n"
     ]
    }
   ],
   "execution_count": 46
  },
  {
   "metadata": {
    "ExecuteTime": {
     "end_time": "2025-05-17T08:00:11.443806Z",
     "start_time": "2025-05-17T07:59:50.865944Z"
    }
   },
   "cell_type": "code",
   "source": [
    "# 체인 실행\n",
    "response = restaurant_menu_chain.invoke(\"파스타 메뉴가 있나요? 이 음식의 역사 또는 유래를 알려주세요.\")\n",
    "\n",
    "# 응답 출력\n",
    "print(response.content)"
   ],
   "id": "5360858f2eece797",
   "outputs": [
    {
     "name": "stdout",
     "output_type": "stream",
     "text": [
      "menu_search: \n",
      "{'name': 'menu_search', 'args': {'query': '파스타'}, 'id': 'call_fk4bg9TcZPBeSvhIWFrM9C2s', 'type': 'tool_call'}\n",
      "----------------------------------------------------------------------------------------------------\n",
      "wiki_summary: \n",
      "{'name': 'wiki_summary', 'args': {'query': '파스타'}, 'id': 'call_mfrSwGuZqMERaGGxkI6NhrwG', 'type': 'tool_call'}\n",
      "----------------------------------------------------------------------------------------------------\n",
      "tool_msgs: \n",
      " [ToolMessage(content=\"[Document(id='cc615dbb-e8d6-44ff-b3d5-699ffcc0c8a0', metadata={'source': './data/restaurant_menu.txt', 'menu_number': 5, 'menu_name': '해산물 파스타'}, page_content='6. 해산물 파스타\\\\n   • 가격: ₩24,000\\\\n   • 주요 식재료: 링귀네 파스타, 새우, 홍합, 오징어, 토마토 소스\\\\n   • 설명: 알 덴테로 삶은 링귀네 파스타에 신선한 해산물을 듬뿍 올린 메뉴입니다. 토마토 소스의 산미와 해산물의 감칠맛이 조화를 이루며, 마늘과 올리브 오일로 풍미를 더했습니다. 파슬리를 뿌려 향긋한 맛을 더합니다.'), Document(id='89eec7aa-e5a8-43a9-ac13-8279b5b7f909', metadata={'source': './data/restaurant_menu.txt', 'menu_number': 2, 'menu_name': '연어 타르타르'}, page_content='3. 연어 타르타르\\\\n   • 가격: ₩18,000\\\\n   • 주요 식재료: 노르웨이산 생연어, 아보카도, 케이퍼, 적양파\\\\n   • 설명: 신선한 노르웨이산 생연어를 곱게 다져 아보카도, 케이퍼, 적양파와 함께 섞어 만든 타르타르입니다. 레몬 드레싱으로 상큼한 맛을 더했으며, 바삭한 브리오쉬 토스트와 함께 제공됩니다. 전채요리로 완벽한 메뉴입니다.')]\", name='menu_search', tool_call_id='call_fk4bg9TcZPBeSvhIWFrM9C2s'), ToolMessage(content='파스타는 이탈리아의 주요 밀 식품으로, 듀럼밀 세몰라와 물 또는 밀가루와 달걀로 만들어지며, 삶거나 구워서 먹는다. 이탈리아의 국민 음식으로 여겨지며, 역사적으로 그리스와 아랍 문화의 영향을 받았다. 파스타는 건파스타와 생파스타로 나뉘며, 다양한 형태와 종류가 존재한다. 요리 방법으로는 삶거나 오븐에 구워내는 방식이 있다. 투움바 파스타는 미국 아웃백 스테이크하우스에서 유래된 요리로, 매콤한 크림 소스를 사용하며 한국에서 인기를 끌고 있다.', name='wiki_summary', tool_call_id='call_mfrSwGuZqMERaGGxkI6NhrwG')]\n",
      "----------------------------------------------------------------------------------------------------\n",
      "### 파스타 메뉴\n",
      "\n",
      "현재 레스토랑에서 제공하는 **파스타** 메뉴는 다음과 같습니다:\n",
      "\n",
      "1. **해산물 파스타**\n",
      "   - 가격: ₩24,000\n",
      "   - 주요 재료: 링귀니 파스타, 새우, 홍합, 오징어, 토마토 소스\n",
      "   - 설명: 신선한 해산물을 넣은 해산물 파스타로, 토마토 소스의 깊은 맛이 일품입니다.\n",
      "\n",
      "2. **일본식 파스타**\n",
      "   - 가격: ₩18,000\n",
      "   - 주요 재료: 나가하마산 식당소면, 아보카도, 크림, 족발파\n",
      "   - 설명: 일본 특유의 재료를 사용하여 특이한 일본식 풍미를 살린 파스타입니다.\n",
      "\n",
      "### 파스타의 역사 또는 유래\n",
      "\n",
      "파스타는 이탈리아의 전통 음식으로, 다양한 형태와 요리법이 있어 세계적으로 인기 있는 요리입니다. 파스타의 기원은 고대 그리스와 로마 시대까지 거슬러 올라갈 수 있으며, 밀가루와 물로 반죽하여 만든 기본적인 형태가 그때부터 존재했습니다. 이탈리아에서는 약 12세기 경부터 파스타가 본격적으로 발전하며, 19세기 중반에는 현재와 같은 다양한 형태의 파스타가 등장하게 됩니다.\n",
      "\n",
      "전통적인 파스타는 이탈리아의 여러 지역에서 서로 다른 방식으로 만들어지며, 각 지역의 특색이 있어 흥미로운 요리가 됩니다. 파스타는 여러 종류의 소스와 잘 어울려 다양한 맛을 낼 수 있는 장점이 있어, 오늘날에는 전 세계적으로 사랑받는 음식으로 자리 잡고 있습니다.\n",
      "\n",
      "### 요약\n",
      "- 파스타는 이탈리아의 코드 음식을 대표하며, 다양한 형태와 소스와 함께 즐길 수 있습니다.\n",
      "- 그 역사는 고대 그리스와 로마 시대까지 거슬러 올라가며, 이탈리아 문화의 중요한 부분으로 발전해왔습니다.\n",
      "\n",
      "더 궁금한 사항이 있으면 언제든지 질문해 주세요!\n"
     ]
    }
   ],
   "execution_count": 47
  },
  {
   "metadata": {},
   "cell_type": "markdown",
   "source": "## Few-shot 프롬프트를 활용하여 ToolCalling 성능 개선하기",
   "id": "2831c8be9b055bd"
  },
  {
   "metadata": {
    "ExecuteTime": {
     "end_time": "2025-05-17T08:00:13.870643Z",
     "start_time": "2025-05-17T08:00:11.453352Z"
    }
   },
   "cell_type": "code",
   "source": [
    "from langchain_core.messages import AIMessage, HumanMessage, ToolMessage\n",
    "from langchain_core.prompts import ChatPromptTemplate\n",
    "\n",
    "examples = [\n",
    "    HumanMessage(\"트러플 리조또의 가격과 특징, 그리고 어울리는 와인에 대해 알려주세요.\", name=\"example_user\"),\n",
    "    AIMessage(\"메뉴 정보를 검색하고, 위키피디아에서 추가 정보를 찾은 후, 어울리는 와인을 검색해보겠습니다.\", name=\"example_assistant\"),\n",
    "    AIMessage(\"\", name=\"example_assistant\", tool_calls=[{\"name\": \"search_menu\", \"args\": {\"query\": \"트러플 리조또\"}, \"id\": \"1\"}]),\n",
    "    ToolMessage(\"트러플 리조또: 가격 ₩28,000, 이탈리아 카나롤리 쌀 사용, 블랙 트러플 향과 파르메산 치즈를 듬뿍 넣어 조리\", tool_call_id=\"1\"),\n",
    "    AIMessage(\"트러플 리조또의 가격은 ₩28,000이며, 이탈리아 카나롤리 쌀을 사용하고 블랙 트러플 향과 파르메산 치즈를 듬뿍 넣어 조리합니다. 이제 추가 정보를 위키피디아에서 찾아보겠습니다.\", name=\"example_assistant\"),\n",
    "    AIMessage(\"\", name=\"example_assistant\", tool_calls=[{\"name\": \"wiki_summary\", \"args\": {\"query\": \"트러플 리조또\", \"k\": 1}, \"id\": \"2\"}]),\n",
    "    ToolMessage(\"트러플 리조또는 이탈리아 요리의 대표적인 리조또 요리 중 하나로, 고급 식재료인 트러플을 사용하여 만든 크리미한 쌀 요리입니다. 주로 아르보리오나 카나롤리 등의 쌀을 사용하며, 트러플 오일이나 생 트러플을 넣어 조리합니다. 리조또 특유의 크리미한 질감과 트러플의 강렬하고 독특한 향이 조화를 이루는 것이 특징입니다.\", tool_call_id=\"2\"),\n",
    "    AIMessage(\"트러플 리조또의 특징에 대해 알아보았습니다. 이제 어울리는 와인을 검색해보겠습니다.\", name=\"example_assistant\"),\n",
    "    AIMessage(\"\", name=\"example_assistant\", tool_calls=[{\"name\": \"search_wine\", \"args\": {\"query\": \"트러플 리조또에 어울리는 와인\"}, \"id\": \"3\"}]),\n",
    "    ToolMessage(\"트러플 리조또와 잘 어울리는 와인으로는 주로 중간 바디의 화이트 와인이 추천됩니다. 1. 샤르도네: 버터와 오크향이 트러플의 풍미를 보완합니다. 2. 피노 그리지오: 산뜻한 산미가 리조또의 크리미함과 균형을 이룹니다. 3. 베르나차: 이탈리아 토스카나 지방의 화이트 와인으로, 미네랄리티가 트러플과 잘 어울립니다.\", tool_call_id=\"3\"),\n",
    "    AIMessage(\"트러플 리조또(₩28,000)는 이탈리아의 대표적인 리조또 요리 중 하나로, 이탈리아 카나롤리 쌀을 사용하고 블랙 트러플 향과 파르메산 치즈를 듬뿍 넣어 조리합니다. 주요 특징으로는 크리미한 질감과 트러플의 강렬하고 독특한 향이 조화를 이루는 점입니다. 고급 식재료인 트러플을 사용해 풍부한 맛과 향을 내며, 주로 아르보리오나 카나롤리 등의 쌀을 사용합니다. 트러플 리조또와 잘 어울리는 와인으로는 중간 바디의 화이트 와인이 추천됩니다. 특히 버터와 오크향이 트러플의 풍미를 보완하는 샤르도네, 산뜻한 산미로 리조또의 크리미함과 균형을 이루는 피노 그리지오, 그리고 미네랄리티가 트러플과 잘 어울리는 이탈리아 토스카나 지방의 베르나차 등이 좋은 선택이 될 수 있습니다.\", name=\"example_assistant\"),\n",
    "]\n",
    "\n",
    "system = \"\"\"You are an AI assistant providing restaurant menu information and general food-related knowledge.\n",
    "For information about the restaurant's menu, use the search_menu tool.\n",
    "For other general information, use the wiki_summary tool.\n",
    "For wine recommendations or pairing information, use the search_wine tool.\n",
    "If additional web searches are needed or for the most up-to-date information, use the search_web tool.\n",
    "\"\"\"\n",
    "\n",
    "few_shot_prompt = ChatPromptTemplate.from_messages([\n",
    "    (\"system\", system),\n",
    "    *examples,\n",
    "    (\"human\", \"{query}\"),\n",
    "])\n",
    "\n",
    "# ChatOpenAI 모델 초기화\n",
    "llm = ChatOpenAI(model=\"gpt-4o-mini\")\n",
    "\n",
    "# 검색 도구를 직접 LLM에 바인딩 가능\n",
    "llm_with_tools = llm.bind_tools(tools=tools)\n",
    "\n",
    "# Few-shot 프롬프트를 사용한 체인 구성\n",
    "fewshot_search_chain = few_shot_prompt | llm_with_tools\n",
    "\n",
    "# 체인 실행\n",
    "query = \"스테이크 메뉴가 있나요? 스테이크와 어울리는 와인을 추천해주세요.\"\n",
    "response = fewshot_search_chain.invoke(query)\n",
    "\n",
    "# 결과 출력\n",
    "for tool_call in response.tool_calls:\n",
    "    print(tool_call)"
   ],
   "id": "88f81387ebd191ef",
   "outputs": [
    {
     "name": "stdout",
     "output_type": "stream",
     "text": [
      "{'name': 'search_menu', 'args': {'query': '스테이크'}, 'id': 'call_pJT9xBxo08LgX8IpkOVDuZP1', 'type': 'tool_call'}\n",
      "{'name': 'search_wine', 'args': {'query': '스테이크에 어울리는 와인'}, 'id': 'call_oDDjAEOHhYjwx0SegRfoasim', 'type': 'tool_call'}\n"
     ]
    }
   ],
   "execution_count": 48
  },
  {
   "metadata": {
    "ExecuteTime": {
     "end_time": "2025-05-17T08:00:15.563787Z",
     "start_time": "2025-05-17T08:00:13.884363Z"
    }
   },
   "cell_type": "code",
   "source": [
    "# 체인 실행\n",
    "query = \"파스타의 유래에 대해서 알고 있나요? 서울 강남의 파스타 맛집을 추천해주세요.\"\n",
    "response = fewshot_search_chain.invoke(query)\n",
    "\n",
    "# 결과 출력\n",
    "for tool_call in response.tool_calls:\n",
    "    print(tool_call)"
   ],
   "id": "3dc635108ae81ec4",
   "outputs": [
    {
     "name": "stdout",
     "output_type": "stream",
     "text": [
      "{'name': 'wiki_summary', 'args': {'query': '파스타', 'k': 1}, 'id': 'call_W3jNirKK3vPnBpSpCqzhLIgP', 'type': 'tool_call'}\n",
      "{'name': 'tavily_search_results_json', 'args': {'query': '서울 강남 파스타 맛집'}, 'id': 'call_gVbtUkeV9dL63VsEhIuJnuc9', 'type': 'tool_call'}\n"
     ]
    }
   ],
   "execution_count": 49
  },
  {
   "metadata": {
    "ExecuteTime": {
     "end_time": "2025-05-17T08:00:25.600615Z",
     "start_time": "2025-05-17T08:00:15.573909Z"
    }
   },
   "cell_type": "code",
   "source": [
    "from datetime import datetime\n",
    "from langchain_core.messages import AIMessage, HumanMessage, ToolMessage\n",
    "from langchain_core.prompts import ChatPromptTemplate\n",
    "from langchain_core.runnables import RunnableConfig, chain\n",
    "from langchain_openai import ChatOpenAI\n",
    "\n",
    "# 오늘 날짜 설정\n",
    "today = datetime.today().strftime(\"%Y-%m-%d\")\n",
    "\n",
    "# 프롬프트 템플릿\n",
    "system = \"\"\"You are an AI assistant providing restaurant menu information and general food-related knowledge.\n",
    "For information about the restaurant's menu, use the search_menu tool.\n",
    "For other general information, use the wiki_summary tool.\n",
    "For wine recommendations or pairing information, use the search_wine tool.\n",
    "If additional web searches are needed or for the most up-to-date information, use the search_web tool.\n",
    "\"\"\"\n",
    "\n",
    "few_shot_prompt = ChatPromptTemplate.from_messages([\n",
    "    (\"system\", system + f\"Today's date is {today}.\"),\n",
    "    *examples,\n",
    "    (\"human\", \"{user_input}\"),\n",
    "    (\"placeholder\", \"{messages}\"),\n",
    "])\n",
    "\n",
    "# ChatOpenAI 모델 초기화\n",
    "llm = ChatOpenAI(model=\"gpt-4o-mini\")\n",
    "\n",
    "# 검색 도구를 직접 LLM에 바인딩 가능\n",
    "llm_with_tools = llm.bind_tools(tools=tools)\n",
    "\n",
    "# Few-shot 프롬프트를 사용한 체인 구성\n",
    "fewshot_search_chain = few_shot_prompt | llm_with_tools\n",
    "\n",
    "# 도구 실행 체인 정의\n",
    "@chain\n",
    "def restaurant_menu_chain(user_input: str, config: RunnableConfig):\n",
    "    input_ = {\"user_input\": user_input}\n",
    "    ai_msg = llm_chain.invoke(input_, config=config)\n",
    "\n",
    "    tool_msgs = []\n",
    "    for tool_call in ai_msg.tool_calls:\n",
    "        print(f\"{tool_call['name']}: \\n{tool_call}\")\n",
    "        print(\"-\"*100)\n",
    "\n",
    "        if tool_call[\"name\"] == \"tavily_search_results_json\":\n",
    "            tool_message = tavily_search.invoke(tool_call, config=config)\n",
    "            tool_msgs.append(tool_message)\n",
    "\n",
    "        elif tool_call[\"name\"] == \"wiki_summary\":\n",
    "            tool_message = wiki_summary_search.invoke(tool_call, config=config)\n",
    "            tool_msgs.append(tool_message)\n",
    "\n",
    "        elif tool_call[\"name\"] == \"wine_search\":\n",
    "            tool_message = wine_search.invoke(tool_call, config=config)\n",
    "            tool_msgs.append(tool_message)\n",
    "\n",
    "        elif tool_call[\"name\"] == \"menu_search\":\n",
    "            tool_message = menu_search.invoke(tool_call, config=config)\n",
    "            tool_msgs.append(tool_message)\n",
    "\n",
    "    print(\"tool_msgs: \\n\", tool_msgs)\n",
    "    print(\"-\"*100)\n",
    "    return fewshot_search_chain.invoke({**input_, \"messages\": [ai_msg, *tool_msgs]}, config=config)\n",
    "\n",
    "\n",
    "# 체인 실행\n",
    "query = \"스테이크 메뉴가 있나요? 스테이크와 어울리는 와인을 추천해주세요.\"\n",
    "response = restaurant_menu_chain.invoke(query)\n",
    "\n",
    "# 응답 출력\n",
    "pprint(response.content)"
   ],
   "id": "4ecb119714a5ffd5",
   "outputs": [
    {
     "name": "stdout",
     "output_type": "stream",
     "text": [
      "menu_search: \n",
      "{'name': 'menu_search', 'args': {'query': 'steak'}, 'id': 'call_ZuReAsDy5qFNqjEiqbTco5JW', 'type': 'tool_call'}\n",
      "----------------------------------------------------------------------------------------------------\n",
      "wine_search: \n",
      "{'name': 'wine_search', 'args': {'query': 'wine pairing with steak'}, 'id': 'call_waCvBupn5aNv2PUAflJQs6XY', 'type': 'tool_call'}\n",
      "----------------------------------------------------------------------------------------------------\n",
      "tool_msgs: \n",
      " [ToolMessage(content=\"[Document(id='62666156-58b0-4556-a846-ee4391b7d229', metadata={'menu_number': 7, 'menu_name': '안심 스테이크 샐러드', 'source': './data/restaurant_menu.txt'}, page_content='8. 안심 스테이크 샐러드\\\\n   • 가격: ₩26,000\\\\n   • 주요 식재료: 소고기 안심, 루꼴라, 체리 토마토, 발사믹 글레이즈\\\\n   • 설명: 부드러운 안심 스테이크를 얇게 슬라이스하여 신선한 루꼴라 위에 올린 메인 요리 샐러드입니다. 체리 토마토와 파마산 치즈 플레이크로 풍미를 더하고, 발사믹 글레이즈로 마무리하여 고기의 풍미를 한층 끌어올렸습니다.'), Document(id='a8e0c237-25ae-4f90-9ed0-a8b16705f028', metadata={'source': './data/restaurant_menu.txt', 'menu_number': 0, 'menu_name': '시그니처 스테이크'}, page_content='1. 시그니처 스테이크\\\\n   • 가격: ₩35,000\\\\n   • 주요 식재료: 최상급 한우 등심, 로즈메리 감자, 그릴드 아스파라거스\\\\n   • 설명: 셰프의 특제 시그니처 메뉴로, 21일간 건조 숙성한 최상급 한우 등심을 사용합니다. 미디엄 레어로 조리하여 육즙을 최대한 보존하며, 로즈메리 향의 감자와 아삭한 그릴드 아스파라거스가 곁들여집니다. 레드와인 소스와 함께 제공되어 풍부한 맛을 더합니다.')]\", name='menu_search', tool_call_id='call_ZuReAsDy5qFNqjEiqbTco5JW'), ToolMessage(content=\"[Document(id='15cdd386-2d7a-44b7-b45c-5c87e2273adf', metadata={'source': './data/restaurant_wine.txt', 'menu_number': 8, 'menu_name': '샤토 디켐 2015'}, page_content='9. 샤토 디켐 2015\\\\n   • 가격: ₩800,000 (375ml)\\\\n   • 주요 품종: 세미용, 소비뇽 블랑\\\\n   • 설명: 보르도 소테른 지역의 legendary 디저트 와인입니다. 아프리콧, 복숭아, 파인애플의 농축된 과실향과 함께 꿀, 사프란, 바닐라의 복잡한 향이 어우러집니다. 놀라운 농축도와 균형 잡힌 산도, 긴 여운이 특징이며, 100년 이상 숙성 가능한 와인으로 알려져 있습니다.'), Document(id='c0a64bea-0c3b-4d94-a02d-748e9c70c459', metadata={'source': './data/restaurant_wine.txt', 'menu_number': 8, 'menu_name': '샤토 디켐 2015'}, page_content='9. 샤토 디켐 2015\\\\n   • 가격: ₩800,000 (375ml)\\\\n   • 주요 품종: 세미용, 소비뇽 블랑\\\\n   • 설명: 보르도 소테른 지역의 legendary 디저트 와인입니다. 아프리콧, 복숭아, 파인애플의 농축된 과실향과 함께 꿀, 사프란, 바닐라의 복잡한 향이 어우러집니다. 놀라운 농축도와 균형 잡힌 산도, 긴 여운이 특징이며, 100년 이상 숙성 가능한 와인으로 알려져 있습니다.')]\", name='wine_search', tool_call_id='call_waCvBupn5aNv2PUAflJQs6XY')]\n",
      "----------------------------------------------------------------------------------------------------\n",
      "('레스토랑에서는 두 가지 스테이크 메뉴를 제공하고 있습니다:\\n'\n",
      " '\\n'\n",
      " '1. **안심 스테이크**\\n'\n",
      " '   - 가격: ₩26,000\\n'\n",
      " '   - 설명: 수액육 국내산, 러프레, 체리 토마토, 발사믹 양념이 곁들여진 부드러운 안심 스테이크입니다.\\n'\n",
      " '\\n'\n",
      " '2. **스프리치 스테이크**\\n'\n",
      " '   - 가격: ₩35,000\\n'\n",
      " '   - 설명: 최상급 한우 립아이, 롱밀리 장아찌, 그릴드 아스파라거스입니다. 꼭 드셔보시길 추천드립니다.\\n'\n",
      " '\\n'\n",
      " '스테이크와 잘 어울리는 와인으로는 다음과 같이 추천드립니다:\\n'\n",
      " '\\n'\n",
      " '1. **카베르네 소비뇽**: 진한 과일향과 부드러운 탄닌이 스테이크의 풍미를 잘 보완합니다.\\n'\n",
      " '2. **시라즈**: 스테이크의 육즙과 어우러지는 스파이시한 맛을 제공합니다.\\n'\n",
      " '3. **말벡**: 풍부한 바디감과 과일 향이 스테이크에 또 다른 풍미를 더해줍니다.\\n'\n",
      " '\\n'\n",
      " '스테이크와 함께 즐기시면 좋을 것입니다!')\n"
     ]
    }
   ],
   "execution_count": 50
  },
  {
   "metadata": {
    "ExecuteTime": {
     "end_time": "2025-05-17T08:00:25.616543Z",
     "start_time": "2025-05-17T08:00:25.613504Z"
    }
   },
   "cell_type": "code",
   "source": "",
   "id": "bd1a93a5552dea3a",
   "outputs": [],
   "execution_count": null
  },
  {
   "metadata": {
    "ExecuteTime": {
     "end_time": "2025-05-17T08:00:25.629545Z",
     "start_time": "2025-05-17T08:00:25.627455Z"
    }
   },
   "cell_type": "code",
   "source": "",
   "id": "413ead80f561a6e4",
   "outputs": [],
   "execution_count": null
  },
  {
   "metadata": {
    "ExecuteTime": {
     "end_time": "2025-05-17T08:00:25.643733Z",
     "start_time": "2025-05-17T08:00:25.640337Z"
    }
   },
   "cell_type": "code",
   "source": "",
   "id": "3fd38517e8f0264f",
   "outputs": [],
   "execution_count": null
  }
 ],
 "metadata": {
  "kernelspec": {
   "display_name": "Python 3",
   "language": "python",
   "name": "python3"
  },
  "language_info": {
   "codemirror_mode": {
    "name": "ipython",
    "version": 2
   },
   "file_extension": ".py",
   "mimetype": "text/x-python",
   "name": "python",
   "nbconvert_exporter": "python",
   "pygments_lexer": "ipython2",
   "version": "2.7.6"
  }
 },
 "nbformat": 4,
 "nbformat_minor": 5
}
